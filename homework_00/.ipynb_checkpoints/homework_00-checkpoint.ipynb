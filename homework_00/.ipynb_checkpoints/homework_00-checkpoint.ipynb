{
 "cells": [
  {
   "cell_type": "markdown",
   "id": "e746da0e",
   "metadata": {},
   "source": [
    "# STAT 207 Homework 0 [5 points]\n",
    "\n",
    "## Course Tools"
   ]
  },
  {
   "cell_type": "markdown",
   "id": "6fef820a",
   "metadata": {},
   "source": [
    "Due: Thursday, January 23 by end of day (11:59 pm) CT*\n",
    "\n",
    "*Late Submissions: accepted until Tuesday, February 4 at 11:59 pm\n",
    "<hr>"
   ]
  },
  {
   "cell_type": "markdown",
   "id": "369258e7",
   "metadata": {},
   "source": [
    "## Purpose:\n",
    "\n",
    "The purpose of this individual homework assignment is to verify that you have successfully installed and set up all of the necessary data science tools that we will be using this semester.  "
   ]
  },
  {
   "cell_type": "markdown",
   "id": "c4d94493",
   "metadata": {},
   "source": [
    "## <u>Instructions</u>:\n",
    "\n",
    "### Part 1: Course Tools [2.5 points]\n",
    "\n",
    "For this first part, you will get credit for working through the Start Up Guide for STAT 207, which is linked on the homepage of Canvas.\n",
    "\n",
    "This will give you instructions on how to download our software (python through jupyter notebooks and git), set up your GitHub account to access and submit our course assignments, and connect your computer to our course GitHub.\n",
    "\n",
    "After ensuring that you have worked through the steps on Canvas, run the following code.  You should be able to do this by clicking anywhere inside the cell to select it and then hitting the 'Run' button in the menu at the top of this page or with the keyboard shortcuts 'shift' + 'enter'.\n",
    "\n",
    "This will confirm that you have correctly set up your computer for completing assignments."
   ]
  },
  {
   "cell_type": "code",
   "execution_count": 1,
   "id": "adce7588",
   "metadata": {},
   "outputs": [],
   "source": [
    "import pandas as pd                    # imports pandas and calls the imported version 'pd'\n",
    "import matplotlib.pyplot as plt        # imports the package and calls it 'plt'\n",
    "import seaborn as sns                  # imports the seaborn package with the imported name 'sns'\n",
    "sns.set()                              # sets the default plotting style\n",
    "import statsmodels.formula.api as smf\n",
    "import warnings \n",
    "warnings.simplefilter('ignore')"
   ]
  },
  {
   "cell_type": "code",
   "execution_count": 2,
   "id": "0aca8040",
   "metadata": {},
   "outputs": [
    {
     "data": {
      "text/html": [
       "<div>\n",
       "<style scoped>\n",
       "    .dataframe tbody tr th:only-of-type {\n",
       "        vertical-align: middle;\n",
       "    }\n",
       "\n",
       "    .dataframe tbody tr th {\n",
       "        vertical-align: top;\n",
       "    }\n",
       "\n",
       "    .dataframe thead th {\n",
       "        text-align: right;\n",
       "    }\n",
       "</style>\n",
       "<table border=\"1\" class=\"dataframe\">\n",
       "  <thead>\n",
       "    <tr style=\"text-align: right;\">\n",
       "      <th></th>\n",
       "      <th>course</th>\n",
       "      <th>fa_enroll</th>\n",
       "      <th>sp_enroll</th>\n",
       "    </tr>\n",
       "  </thead>\n",
       "  <tbody>\n",
       "    <tr>\n",
       "      <th>0</th>\n",
       "      <td>cs105</td>\n",
       "      <td>431</td>\n",
       "      <td>361</td>\n",
       "    </tr>\n",
       "    <tr>\n",
       "      <th>1</th>\n",
       "      <td>stat107</td>\n",
       "      <td>1006</td>\n",
       "      <td>600</td>\n",
       "    </tr>\n",
       "    <tr>\n",
       "      <th>2</th>\n",
       "      <td>stat207</td>\n",
       "      <td>208</td>\n",
       "      <td>398</td>\n",
       "    </tr>\n",
       "    <tr>\n",
       "      <th>3</th>\n",
       "      <td>math227</td>\n",
       "      <td>0</td>\n",
       "      <td>360</td>\n",
       "    </tr>\n",
       "    <tr>\n",
       "      <th>4</th>\n",
       "      <td>cs307</td>\n",
       "      <td>84</td>\n",
       "      <td>31</td>\n",
       "    </tr>\n",
       "    <tr>\n",
       "      <th>5</th>\n",
       "      <td>is357</td>\n",
       "      <td>29</td>\n",
       "      <td>25</td>\n",
       "    </tr>\n",
       "    <tr>\n",
       "      <th>6</th>\n",
       "      <td>adv307</td>\n",
       "      <td>83</td>\n",
       "      <td>79</td>\n",
       "    </tr>\n",
       "    <tr>\n",
       "      <th>7</th>\n",
       "      <td>is407</td>\n",
       "      <td>51</td>\n",
       "      <td>45</td>\n",
       "    </tr>\n",
       "    <tr>\n",
       "      <th>8</th>\n",
       "      <td>hist407</td>\n",
       "      <td>17</td>\n",
       "      <td>14</td>\n",
       "    </tr>\n",
       "  </tbody>\n",
       "</table>\n",
       "</div>"
      ],
      "text/plain": [
       "    course  fa_enroll  sp_enroll\n",
       "0    cs105        431        361\n",
       "1  stat107       1006        600\n",
       "2  stat207        208        398\n",
       "3  math227          0        360\n",
       "4    cs307         84         31\n",
       "5    is357         29         25\n",
       "6   adv307         83         79\n",
       "7    is407         51         45\n",
       "8  hist407         17         14"
      ]
     },
     "execution_count": 2,
     "metadata": {},
     "output_type": "execute_result"
    }
   ],
   "source": [
    "courses = ['cs105', 'stat107', 'stat207', 'math227', 'cs307', 'is357', 'adv307', 'is407', 'hist407']\n",
    "fa_enrollment = [431, 1006, 208, 0, 84, 29, 83, 51, 17]\n",
    "sp_enrollment = [361, 600, 398, 360, 31, 25, 79, 45, 14]\n",
    "course_dictionary = {'course':courses, 'fa_enroll':fa_enrollment, 'sp_enroll':sp_enrollment}\n",
    "littledf = pd.DataFrame(course_dictionary)\n",
    "littledf"
   ]
  },
  {
   "cell_type": "code",
   "execution_count": 3,
   "id": "b0327d61",
   "metadata": {},
   "outputs": [
    {
     "data": {
      "text/html": [
       "<table class=\"simpletable\">\n",
       "<caption>OLS Regression Results</caption>\n",
       "<tr>\n",
       "  <th>Dep. Variable:</th>        <td>sp_enroll</td>    <th>  R-squared:         </th> <td>   0.617</td>\n",
       "</tr>\n",
       "<tr>\n",
       "  <th>Model:</th>                   <td>OLS</td>       <th>  Adj. R-squared:    </th> <td>   0.563</td>\n",
       "</tr>\n",
       "<tr>\n",
       "  <th>Method:</th>             <td>Least Squares</td>  <th>  F-statistic:       </th> <td>   11.30</td>\n",
       "</tr>\n",
       "<tr>\n",
       "  <th>Date:</th>             <td>Tue, 21 Jan 2025</td> <th>  Prob (F-statistic):</th>  <td>0.0121</td> \n",
       "</tr>\n",
       "<tr>\n",
       "  <th>Time:</th>                 <td>16:43:16</td>     <th>  Log-Likelihood:    </th> <td> -56.395</td>\n",
       "</tr>\n",
       "<tr>\n",
       "  <th>No. Observations:</th>      <td>     9</td>      <th>  AIC:               </th> <td>   116.8</td>\n",
       "</tr>\n",
       "<tr>\n",
       "  <th>Df Residuals:</th>          <td>     7</td>      <th>  BIC:               </th> <td>   117.2</td>\n",
       "</tr>\n",
       "<tr>\n",
       "  <th>Df Model:</th>              <td>     1</td>      <th>                     </th>     <td> </td>   \n",
       "</tr>\n",
       "<tr>\n",
       "  <th>Covariance Type:</th>      <td>nonrobust</td>    <th>                     </th>     <td> </td>   \n",
       "</tr>\n",
       "</table>\n",
       "<table class=\"simpletable\">\n",
       "<tr>\n",
       "      <td></td>         <th>coef</th>     <th>std err</th>      <th>t</th>      <th>P>|t|</th>  <th>[0.025</th>    <th>0.975]</th>  \n",
       "</tr>\n",
       "<tr>\n",
       "  <th>Intercept</th> <td>  101.1049</td> <td>   58.457</td> <td>    1.730</td> <td> 0.127</td> <td>  -37.124</td> <td>  239.334</td>\n",
       "</tr>\n",
       "<tr>\n",
       "  <th>fa_enroll</th> <td>    0.5254</td> <td>    0.156</td> <td>    3.361</td> <td> 0.012</td> <td>    0.156</td> <td>    0.895</td>\n",
       "</tr>\n",
       "</table>\n",
       "<table class=\"simpletable\">\n",
       "<tr>\n",
       "  <th>Omnibus:</th>       <td> 3.475</td> <th>  Durbin-Watson:     </th> <td>   1.350</td>\n",
       "</tr>\n",
       "<tr>\n",
       "  <th>Prob(Omnibus):</th> <td> 0.176</td> <th>  Jarque-Bera (JB):  </th> <td>   1.794</td>\n",
       "</tr>\n",
       "<tr>\n",
       "  <th>Skew:</th>          <td> 1.074</td> <th>  Prob(JB):          </th> <td>   0.408</td>\n",
       "</tr>\n",
       "<tr>\n",
       "  <th>Kurtosis:</th>      <td> 2.585</td> <th>  Cond. No.          </th> <td>    454.</td>\n",
       "</tr>\n",
       "</table><br/><br/>Notes:<br/>[1] Standard Errors assume that the covariance matrix of the errors is correctly specified."
      ],
      "text/latex": [
       "\\begin{center}\n",
       "\\begin{tabular}{lclc}\n",
       "\\toprule\n",
       "\\textbf{Dep. Variable:}    &    sp\\_enroll    & \\textbf{  R-squared:         } &     0.617   \\\\\n",
       "\\textbf{Model:}            &       OLS        & \\textbf{  Adj. R-squared:    } &     0.563   \\\\\n",
       "\\textbf{Method:}           &  Least Squares   & \\textbf{  F-statistic:       } &     11.30   \\\\\n",
       "\\textbf{Date:}             & Tue, 21 Jan 2025 & \\textbf{  Prob (F-statistic):} &   0.0121    \\\\\n",
       "\\textbf{Time:}             &     16:43:16     & \\textbf{  Log-Likelihood:    } &   -56.395   \\\\\n",
       "\\textbf{No. Observations:} &           9      & \\textbf{  AIC:               } &     116.8   \\\\\n",
       "\\textbf{Df Residuals:}     &           7      & \\textbf{  BIC:               } &     117.2   \\\\\n",
       "\\textbf{Df Model:}         &           1      & \\textbf{                     } &             \\\\\n",
       "\\textbf{Covariance Type:}  &    nonrobust     & \\textbf{                     } &             \\\\\n",
       "\\bottomrule\n",
       "\\end{tabular}\n",
       "\\begin{tabular}{lcccccc}\n",
       "                    & \\textbf{coef} & \\textbf{std err} & \\textbf{t} & \\textbf{P$> |$t$|$} & \\textbf{[0.025} & \\textbf{0.975]}  \\\\\n",
       "\\midrule\n",
       "\\textbf{Intercept}  &     101.1049  &       58.457     &     1.730  &         0.127        &      -37.124    &      239.334     \\\\\n",
       "\\textbf{fa\\_enroll} &       0.5254  &        0.156     &     3.361  &         0.012        &        0.156    &        0.895     \\\\\n",
       "\\bottomrule\n",
       "\\end{tabular}\n",
       "\\begin{tabular}{lclc}\n",
       "\\textbf{Omnibus:}       &  3.475 & \\textbf{  Durbin-Watson:     } &    1.350  \\\\\n",
       "\\textbf{Prob(Omnibus):} &  0.176 & \\textbf{  Jarque-Bera (JB):  } &    1.794  \\\\\n",
       "\\textbf{Skew:}          &  1.074 & \\textbf{  Prob(JB):          } &    0.408  \\\\\n",
       "\\textbf{Kurtosis:}      &  2.585 & \\textbf{  Cond. No.          } &     454.  \\\\\n",
       "\\bottomrule\n",
       "\\end{tabular}\n",
       "%\\caption{OLS Regression Results}\n",
       "\\end{center}\n",
       "\n",
       "Notes: \\newline\n",
       " [1] Standard Errors assume that the covariance matrix of the errors is correctly specified."
      ],
      "text/plain": [
       "<class 'statsmodels.iolib.summary.Summary'>\n",
       "\"\"\"\n",
       "                            OLS Regression Results                            \n",
       "==============================================================================\n",
       "Dep. Variable:              sp_enroll   R-squared:                       0.617\n",
       "Model:                            OLS   Adj. R-squared:                  0.563\n",
       "Method:                 Least Squares   F-statistic:                     11.30\n",
       "Date:                Tue, 21 Jan 2025   Prob (F-statistic):             0.0121\n",
       "Time:                        16:43:16   Log-Likelihood:                -56.395\n",
       "No. Observations:                   9   AIC:                             116.8\n",
       "Df Residuals:                       7   BIC:                             117.2\n",
       "Df Model:                           1                                         \n",
       "Covariance Type:            nonrobust                                         \n",
       "==============================================================================\n",
       "                 coef    std err          t      P>|t|      [0.025      0.975]\n",
       "------------------------------------------------------------------------------\n",
       "Intercept    101.1049     58.457      1.730      0.127     -37.124     239.334\n",
       "fa_enroll      0.5254      0.156      3.361      0.012       0.156       0.895\n",
       "==============================================================================\n",
       "Omnibus:                        3.475   Durbin-Watson:                   1.350\n",
       "Prob(Omnibus):                  0.176   Jarque-Bera (JB):                1.794\n",
       "Skew:                           1.074   Prob(JB):                        0.408\n",
       "Kurtosis:                       2.585   Cond. No.                         454.\n",
       "==============================================================================\n",
       "\n",
       "Notes:\n",
       "[1] Standard Errors assume that the covariance matrix of the errors is correctly specified.\n",
       "\"\"\""
      ]
     },
     "execution_count": 3,
     "metadata": {},
     "output_type": "execute_result"
    }
   ],
   "source": [
    "results = smf.ols('sp_enroll ~ fa_enroll', data = littledf).fit()\n",
    "results.summary()"
   ]
  },
  {
   "cell_type": "code",
   "execution_count": 4,
   "id": "945cad52",
   "metadata": {},
   "outputs": [
    {
     "data": {
      "image/png": "[encoded data removed]",
      "text/plain": [
       "<Figure size 640x480 with 1 Axes>"
      ]
     },
     "metadata": {},
     "output_type": "display_data"
    }
   ],
   "source": [
    "littledf['fa_enroll'].hist()\n",
    "plt.title('Histogram of Fall Enrollments')\n",
    "plt.xlabel('Number of Students Enrolled')\n",
    "plt.show()"
   ]
  },
  {
   "cell_type": "markdown",
   "id": "95a40eb0",
   "metadata": {},
   "source": [
    "### Part 2: Gradescope Assignment [2.5 points]\n",
    "\n",
    "Complete the Homework 0 assignment in Gradescope, which is linked from the Homework 0 assignment and the Home Page on Canvas.\n",
    "\n",
    "The Gradescope assignment allows you to practice with the tool and the types of questions that will appear on future Gradescope assignments."
   ]
  },
  {
   "cell_type": "markdown",
   "id": "6c3dbbe3",
   "metadata": {},
   "source": [
    "### Part 3: Submit Your Homework\n",
    "\n",
    "Remember to keep all your cells and hit the save icon above periodically to checkpoint (save) your results on your local computer. Once you are satisified with your results restart the kernel and run all. **Be sure that output appears, and make sure nothing has changed**. Checkpoint and exit. \n",
    "\n",
    "Submit your homework to your personal GitHub repository.  You can find these instructions on Canvas in the Homework 0 assignment."
   ]
  }
 ],
 "metadata": {
  "kernelspec": {
   "display_name": "Python 3 (ipykernel)",
   "language": "python",
   "name": "python3"
  },
  "language_info": {
   "codemirror_mode": {
    "name": "ipython",
    "version": 3
   },
   "file_extension": ".py",
   "mimetype": "text/x-python",
   "name": "python",
   "nbconvert_exporter": "python",
   "pygments_lexer": "ipython3",
   "version": "3.11.5"
  }
 },
 "nbformat": 4,
 "nbformat_minor": 5
}

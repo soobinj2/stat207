{
 "cells": [
  {
   "cell_type": "markdown",
   "id": "e746da0e",
   "metadata": {},
   "source": [
    "# STAT 207 Homework 1 [25 points]\n",
    "\n",
    "## Understanding Data and Asking Questions"
   ]
  },
  {
   "cell_type": "markdown",
   "id": "6fef820a",
   "metadata": {},
   "source": [
    "Due: Tuesday, January 28, end of day (11:59 pm CT)*\n",
    "\n",
    "*Late Submissions: accepted until Tuesday, February 4 at 11:59 pm\n",
    "<hr>"
   ]
  },
  {
   "cell_type": "markdown",
   "id": "c4d94493",
   "metadata": {},
   "source": [
    "## Set Up the Data\n",
    "\n",
    "First, we'll set up the file so that we can complete our data analysis.  We'll import Python packages including pandas, which helps when analyzing a dataset, and visualization packages.  We'll also load in our data and save it as `df` for later analysis."
   ]
  },
  {
   "cell_type": "code",
   "execution_count": 29,
   "id": "25c92b96",
   "metadata": {},
   "outputs": [],
   "source": [
    "import pandas as pd\n",
    "import matplotlib.pyplot as plt\n",
    "import seaborn as sns\n",
    "sns.set()"
   ]
  },
  {
   "cell_type": "code",
   "execution_count": 31,
   "id": "4d76075c",
   "metadata": {},
   "outputs": [],
   "source": [
    "df = pd.read_csv('Billionaires.csv')"
   ]
  },
  {
   "cell_type": "markdown",
   "id": "ac088395",
   "metadata": {},
   "source": [
    "We'll work with a data set about the world's billionaires from 2024 (https://www.forbes.com/billionaires/).  This data has been scraped from Forbes and prepared for you (https://www.kaggle.com/datasets/vincentcampanaro/forbes-worlds-billionaires-list-2024) and is contained in the \"Billionaires.csv\" file located in the same folder.\n",
    "\n",
    "We've read this data in above."
   ]
  },
  {
   "cell_type": "markdown",
   "id": "f4baf91a",
   "metadata": {},
   "source": [
    "## 1. Understanding the Billionaires Data [1 point]\n",
    "\n",
    "Display the first several lines of the data frame."
   ]
  },
  {
   "cell_type": "code",
   "execution_count": 33,
   "id": "ad953733",
   "metadata": {},
   "outputs": [
    {
     "data": {
      "text/html": [
       "<div>\n",
       "<style scoped>\n",
       "    .dataframe tbody tr th:only-of-type {\n",
       "        vertical-align: middle;\n",
       "    }\n",
       "\n",
       "    .dataframe tbody tr th {\n",
       "        vertical-align: top;\n",
       "    }\n",
       "\n",
       "    .dataframe thead th {\n",
       "        text-align: right;\n",
       "    }\n",
       "</style>\n",
       "<table border=\"1\" class=\"dataframe\">\n",
       "  <thead>\n",
       "    <tr style=\"text-align: right;\">\n",
       "      <th></th>\n",
       "      <th>Name</th>\n",
       "      <th>Age</th>\n",
       "      <th>2024 Net Worth</th>\n",
       "      <th>Industry</th>\n",
       "      <th>Source of Wealth</th>\n",
       "      <th>Self-Made</th>\n",
       "      <th>Residence</th>\n",
       "      <th>Citizenship</th>\n",
       "      <th>Gender</th>\n",
       "      <th>Marital Status</th>\n",
       "      <th>Children</th>\n",
       "    </tr>\n",
       "  </thead>\n",
       "  <tbody>\n",
       "    <tr>\n",
       "      <th>0</th>\n",
       "      <td>Bernard Arnault &amp; family</td>\n",
       "      <td>75.0</td>\n",
       "      <td>$233B</td>\n",
       "      <td>Fashion &amp; Retail</td>\n",
       "      <td>LVMH</td>\n",
       "      <td>False</td>\n",
       "      <td>Paris, France</td>\n",
       "      <td>France</td>\n",
       "      <td>M</td>\n",
       "      <td>Married</td>\n",
       "      <td>5.0</td>\n",
       "    </tr>\n",
       "    <tr>\n",
       "      <th>1</th>\n",
       "      <td>Elon Musk</td>\n",
       "      <td>52.0</td>\n",
       "      <td>$195B</td>\n",
       "      <td>Automotive</td>\n",
       "      <td>Tesla, SpaceX</td>\n",
       "      <td>True</td>\n",
       "      <td>Austin, Texas</td>\n",
       "      <td>United States</td>\n",
       "      <td>M</td>\n",
       "      <td>Single</td>\n",
       "      <td>11.0</td>\n",
       "    </tr>\n",
       "    <tr>\n",
       "      <th>2</th>\n",
       "      <td>Jeff Bezos</td>\n",
       "      <td>60.0</td>\n",
       "      <td>$194B</td>\n",
       "      <td>Technology</td>\n",
       "      <td>Amazon</td>\n",
       "      <td>True</td>\n",
       "      <td>Miami, Florida</td>\n",
       "      <td>United States</td>\n",
       "      <td>M</td>\n",
       "      <td>Engaged</td>\n",
       "      <td>4.0</td>\n",
       "    </tr>\n",
       "    <tr>\n",
       "      <th>3</th>\n",
       "      <td>Mark Zuckerberg</td>\n",
       "      <td>39.0</td>\n",
       "      <td>$177B</td>\n",
       "      <td>Technology</td>\n",
       "      <td>Facebook</td>\n",
       "      <td>True</td>\n",
       "      <td>Palo Alto, California</td>\n",
       "      <td>United States</td>\n",
       "      <td>M</td>\n",
       "      <td>Married</td>\n",
       "      <td>3.0</td>\n",
       "    </tr>\n",
       "    <tr>\n",
       "      <th>4</th>\n",
       "      <td>Larry Ellison</td>\n",
       "      <td>79.0</td>\n",
       "      <td>$141B</td>\n",
       "      <td>Technology</td>\n",
       "      <td>Oracle</td>\n",
       "      <td>True</td>\n",
       "      <td>Woodside, California</td>\n",
       "      <td>United States</td>\n",
       "      <td>M</td>\n",
       "      <td>In Relationship</td>\n",
       "      <td>4.0</td>\n",
       "    </tr>\n",
       "  </tbody>\n",
       "</table>\n",
       "</div>"
      ],
      "text/plain": [
       "                       Name   Age 2024 Net Worth          Industry  \\\n",
       "0  Bernard Arnault & family  75.0          $233B  Fashion & Retail   \n",
       "1                 Elon Musk  52.0          $195B        Automotive   \n",
       "2                Jeff Bezos  60.0          $194B        Technology   \n",
       "3           Mark Zuckerberg  39.0          $177B        Technology   \n",
       "4             Larry Ellison  79.0          $141B        Technology   \n",
       "\n",
       "  Source of Wealth  Self-Made              Residence    Citizenship Gender  \\\n",
       "0             LVMH      False          Paris, France         France      M   \n",
       "1    Tesla, SpaceX       True          Austin, Texas  United States      M   \n",
       "2           Amazon       True         Miami, Florida  United States      M   \n",
       "3         Facebook       True  Palo Alto, California  United States      M   \n",
       "4           Oracle       True   Woodside, California  United States      M   \n",
       "\n",
       "    Marital Status  Children  \n",
       "0          Married       5.0  \n",
       "1           Single      11.0  \n",
       "2          Engaged       4.0  \n",
       "3          Married       3.0  \n",
       "4  In Relationship       4.0  "
      ]
     },
     "execution_count": 33,
     "metadata": {},
     "output_type": "execute_result"
    }
   ],
   "source": [
    "df.head()"
   ]
  },
  {
   "cell_type": "markdown",
   "id": "3dc0ca6c",
   "metadata": {},
   "source": [
    "## 2. Billionaires Data Basics [1 point]\n",
    "\n",
    "Use Python to report the dimensions of the data."
   ]
  },
  {
   "cell_type": "code",
   "execution_count": 35,
   "id": "7dfafc62",
   "metadata": {},
   "outputs": [
    {
     "data": {
      "text/plain": [
       "(2781, 11)"
      ]
     },
     "execution_count": 35,
     "metadata": {},
     "output_type": "execute_result"
    }
   ],
   "source": [
    "df.shape"
   ]
  },
  {
   "cell_type": "code",
   "execution_count": 37,
   "id": "2bdac9d2-5ad0-45f5-ab61-61af88241261",
   "metadata": {},
   "outputs": [
    {
     "data": {
      "text/plain": [
       "30591"
      ]
     },
     "execution_count": 37,
     "metadata": {},
     "output_type": "execute_result"
    }
   ],
   "source": [
    "df.size"
   ]
  },
  {
   "cell_type": "code",
   "execution_count": 39,
   "id": "99293d18-5736-4eb4-98cf-8ce177e9d5fc",
   "metadata": {},
   "outputs": [
    {
     "name": "stdout",
     "output_type": "stream",
     "text": [
      "Number of numeric variables: 2\n"
     ]
    }
   ],
   "source": [
    "# select numerical columns\n",
    "numeric_columns = df.select_dtypes(include=['number']).columns\n",
    "\n",
    "# number of numerical variables\n",
    "num_numeric_variables = len(numeric_columns)\n",
    "\n",
    "# output\n",
    "print(f\"Number of numeric variables: {num_numeric_variables}\")"
   ]
  },
  {
   "cell_type": "code",
   "execution_count": 41,
   "id": "dc3d87b4-6e21-4eba-b8ee-01f9842b71f4",
   "metadata": {},
   "outputs": [
    {
     "name": "stdout",
     "output_type": "stream",
     "text": [
      "Number of rows with numeric input: 1701\n"
     ]
    }
   ],
   "source": [
    "# select numerical columns\n",
    "numeric_columns = df.select_dtypes(include=['number']).columns\n",
    "\n",
    "# check each row has numerical values\n",
    "numeric_rows = df[numeric_columns].notna().all(axis=1)\n",
    "\n",
    "# sum the rows which has numerical values\n",
    "num_numeric_rows = numeric_rows.sum()\n",
    "\n",
    "# output\n",
    "print(f\"Number of rows with numeric input: {num_numeric_rows}\")"
   ]
  },
  {
   "cell_type": "markdown",
   "id": "baf91551",
   "metadata": {},
   "source": [
    "## 3. Variable Types [1 point]"
   ]
  },
  {
   "cell_type": "markdown",
   "id": "d134ac25",
   "metadata": {},
   "source": [
    "What is the variable type as recorded in Python for each variable in the Billionaire data?"
   ]
  },
  {
   "cell_type": "code",
   "execution_count": 43,
   "id": "1b0879c2",
   "metadata": {},
   "outputs": [
    {
     "data": {
      "text/plain": [
       "Name                 object\n",
       "Age                 float64\n",
       "2024 Net Worth       object\n",
       "Industry             object\n",
       "Source of Wealth     object\n",
       "Self-Made              bool\n",
       "Residence            object\n",
       "Citizenship          object\n",
       "Gender               object\n",
       "Marital Status       object\n",
       "Children            float64\n",
       "dtype: object"
      ]
     },
     "execution_count": 43,
     "metadata": {},
     "output_type": "execute_result"
    }
   ],
   "source": [
    "df.dtypes"
   ]
  },
  {
   "cell_type": "markdown",
   "id": "dae4d8a6",
   "metadata": {},
   "source": [
    "## 4. Asking and Answering Questions [1 point]\n",
    "\n",
    "You will pose a question that you can answer using the available data.  Below, use Python to answer your question, using numerical summaries, graphical visualizations, or both.  You will also upload your code and output to Gradescope as either a file upload or pasting your code and output from below."
   ]
  },
  {
   "cell_type": "markdown",
   "id": "0c4d8b50-e310-4edf-8884-e3870d48a750",
   "metadata": {},
   "source": [
    "### Question : What is the average age of Billionaires? And show the age distribution through plot."
   ]
  },
  {
   "cell_type": "code",
   "execution_count": 46,
   "id": "207466d4",
   "metadata": {},
   "outputs": [
    {
     "name": "stdout",
     "output_type": "stream",
     "text": [
      "Average age of Billionaires is 65.7\n"
     ]
    }
   ],
   "source": [
    "# Average age of Billionaires (numerical summary)\n",
    "avg_age = df['Age'].mean()\n",
    "print(f\"Average age of Billionaires is {avg_age:.1f}\")"
   ]
  },
  {
   "cell_type": "code",
   "execution_count": 48,
   "id": "16fee98c-11d5-4e84-8f9c-c0520ceac20c",
   "metadata": {},
   "outputs": [
    {
     "data": {
      "image/png": "[encoded data removed]",
      "text/plain": [
       "<Figure size 1000x600 with 1 Axes>"
      ]
     },
     "metadata": {},
     "output_type": "display_data"
    }
   ],
   "source": [
    "# Visualization of average age(plot)\n",
    "\n",
    "plt.figure(figsize=(10,6))\n",
    "plt.hist(df['Age'].dropna(), bins=20, color='green', edgecolor='black')\n",
    "plt.title('Age Distribution of Billionaires')\n",
    "plt.xlabel('Age')\n",
    "plt.ylabel('Frequency')\n",
    "plt.show()"
   ]
  },
  {
   "cell_type": "markdown",
   "id": "f02327ec",
   "metadata": {},
   "source": [
    "Remember to keep all your cells and hit the save icon above periodically to checkpoint (save) your results on your local computer. Once you are satisified with your results restart the kernel and run all (Kernel -> Restart & Run All). **Make sure nothing has changed**. Checkpoint and exit (File -> Save and Checkpoint + File -> Close and Halt). Follow the instructions on the Homework 1 Canvas Assignment to submit your notebook to GitHub.  Be sure to also complete the Gradescope component of this assignment."
   ]
  }
 ],
 "metadata": {
  "kernelspec": {
   "display_name": "Python [conda env:base] *",
   "language": "python",
   "name": "conda-base-py"
  },
  "language_info": {
   "codemirror_mode": {
    "name": "ipython",
    "version": 3
   },
   "file_extension": ".py",
   "mimetype": "text/x-python",
   "name": "python",
   "nbconvert_exporter": "python",
   "pygments_lexer": "ipython3",
   "version": "3.11.5"
  }
 },
 "nbformat": 4,
 "nbformat_minor": 5
}

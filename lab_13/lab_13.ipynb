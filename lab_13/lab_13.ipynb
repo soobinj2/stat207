{
 "cells": [
  {
   "cell_type": "markdown",
   "metadata": {},
   "source": [
    "# STAT 207 Group Lab Assignment 13 - [10 total points]\n",
    "\n",
    "## Measuring Model Performance & Model Searching"
   ]
  },
  {
   "cell_type": "markdown",
   "metadata": {},
   "source": [
    "<hr>"
   ]
  },
  {
   "cell_type": "markdown",
   "metadata": {},
   "source": [
    "## <u>Lab Grading</u>:\n",
    "\n",
    "Should we grade your submission?  If not, write the netID of the submission to be graded.  (Note: We will only grade one assignment per group, and we'll pick the first one that says we should grade that submission.  We will assign the same grade to all team members.)\n",
    "\n",
    "*For example*, you might respond: **grade this submission** or **my submission is under netID jdeeke**"
   ]
  },
  {
   "cell_type": "markdown",
   "metadata": {},
   "source": [
    "grade this submission"
   ]
  },
  {
   "cell_type": "markdown",
   "metadata": {},
   "source": [
    "If you said **my submission is under netID** above, we will not read any more of your lab submission.\n",
    "\n",
    "If you said **grade this submission** above, who worked with you on this submission?  Write both their **names** and **netIDs**.  \n",
    "\n",
    "Also, discuss and record if you've ever been on a cruise before."
   ]
  },
  {
   "cell_type": "markdown",
   "metadata": {},
   "source": [
    "Joonwoo Ha(ha47): No\n",
    "Soobin Jang(soobinj2): No"
   ]
  },
  {
   "cell_type": "markdown",
   "metadata": {},
   "source": [
    "## <u>Purpose</u>:\n",
    "You should work in groups of 2-3 on this report (not working in groups without permission will result in a point deduction). The purpose of this group lab assignment is to assess model fit and overfitting through model searching.\n",
    "<hr>"
   ]
  },
  {
   "cell_type": "markdown",
   "metadata": {},
   "source": [
    "### Group Roles\n",
    "\n",
    "Suggested and specified roles are provided below: \n",
    "\n",
    "#### Groups of 2\n",
    "\n",
    "* **Driver**: This student will type the report.  While typing the report, you may be the one who is selecting the functions to apply to the data.\n",
    "* **Navigator**: This student will guide the process of answering the question.  Specific ways to help may include: outlining the general steps needed to solve a question (providing the overview), locating examples within the course notes, and reviewing each line of code as it is typed.\n",
    "\n",
    "#### Groups of 3\n",
    "\n",
    "* **Driver**: This student will type the report.  They may also be the one to select the functions to apply to the data.\n",
    "* **Navigator**: This student will guide the process of answering the question.  They may select the general approach to answering the question and/or a few steps to be completed along the way. \n",
    "* **Communicator**: This student will review the report (as it is typed) to ensure that it is clear and concise.  This student may also locate relevant examples within the course notes that may help complete the assignment.\n",
    "\n",
    "<hr>\n",
    "\n",
    "### Imports"
   ]
  },
  {
   "cell_type": "code",
   "execution_count": 1,
   "metadata": {},
   "outputs": [],
   "source": [
    "#Run this\n",
    "import pandas as pd                    # imports pandas and calls the imported version 'pd'\n",
    "import matplotlib.pyplot as plt        # imports the package and calls it 'plt'\n",
    "import seaborn as sns                  # imports the seaborn package with the imported name 'sns'\n",
    "sns.set()  \n",
    "from sklearn.linear_model import LinearRegression\n",
    "import statsmodels.formula.api as smf\n",
    "from sklearn.model_selection import train_test_split"
   ]
  },
  {
   "cell_type": "markdown",
   "metadata": {},
   "source": [
    "## Case Study: Crew Size on Cruise Ships\n",
    "\n",
    "We will look at data collected about the size of a crew (in hundreds) on cruise ships.  In particular, we would like to be able to predict the size of the crew needed for a cruise ship from other characteristics about that ship.  The original data can be found here: https://github.com/bot13956/ML_Model_for_Predicting_Ships_Crew_Size/blob/master/cruise_ship_info.csv.\n",
    "\n",
    "For this case study, we will consider the following variables:\n",
    "\n",
    "- **Age**: the age of the ship (years)\n",
    "- **Tonnage**: the amount of water the ship displaces\n",
    "- **passengers**: the max number of passengers the ship can hold (in 100s)\n",
    "- **length**: the length of the ship (in hundrds of feet)\n",
    "- **cabins**: the number of cabins (in 100s)\n",
    "- **passenger_density**: a space ratio for how much space is on board per passenger\n",
    "- **crew**: the number of crew members on the ship (in 100s)\n",
    "\n",
    "The code cell below will read in the data for you and create a test and training set.  Be sure to run the cell. "
   ]
  },
  {
   "cell_type": "code",
   "execution_count": 2,
   "metadata": {},
   "outputs": [
    {
     "data": {
      "text/html": [
       "<div>\n",
       "<style scoped>\n",
       "    .dataframe tbody tr th:only-of-type {\n",
       "        vertical-align: middle;\n",
       "    }\n",
       "\n",
       "    .dataframe tbody tr th {\n",
       "        vertical-align: top;\n",
       "    }\n",
       "\n",
       "    .dataframe thead th {\n",
       "        text-align: right;\n",
       "    }\n",
       "</style>\n",
       "<table border=\"1\" class=\"dataframe\">\n",
       "  <thead>\n",
       "    <tr style=\"text-align: right;\">\n",
       "      <th></th>\n",
       "      <th>Ship_name</th>\n",
       "      <th>Cruise_line</th>\n",
       "      <th>Age</th>\n",
       "      <th>Tonnage</th>\n",
       "      <th>passengers</th>\n",
       "      <th>length</th>\n",
       "      <th>cabins</th>\n",
       "      <th>passenger_density</th>\n",
       "      <th>crew</th>\n",
       "    </tr>\n",
       "  </thead>\n",
       "  <tbody>\n",
       "    <tr>\n",
       "      <th>0</th>\n",
       "      <td>Journey</td>\n",
       "      <td>Azamara</td>\n",
       "      <td>6</td>\n",
       "      <td>30.277</td>\n",
       "      <td>6.94</td>\n",
       "      <td>5.94</td>\n",
       "      <td>3.55</td>\n",
       "      <td>42.64</td>\n",
       "      <td>3.55</td>\n",
       "    </tr>\n",
       "    <tr>\n",
       "      <th>1</th>\n",
       "      <td>Quest</td>\n",
       "      <td>Azamara</td>\n",
       "      <td>6</td>\n",
       "      <td>30.277</td>\n",
       "      <td>6.94</td>\n",
       "      <td>5.94</td>\n",
       "      <td>3.55</td>\n",
       "      <td>42.64</td>\n",
       "      <td>3.55</td>\n",
       "    </tr>\n",
       "    <tr>\n",
       "      <th>2</th>\n",
       "      <td>Celebration</td>\n",
       "      <td>Carnival</td>\n",
       "      <td>26</td>\n",
       "      <td>47.262</td>\n",
       "      <td>14.86</td>\n",
       "      <td>7.22</td>\n",
       "      <td>7.43</td>\n",
       "      <td>31.80</td>\n",
       "      <td>6.70</td>\n",
       "    </tr>\n",
       "    <tr>\n",
       "      <th>3</th>\n",
       "      <td>Conquest</td>\n",
       "      <td>Carnival</td>\n",
       "      <td>11</td>\n",
       "      <td>110.000</td>\n",
       "      <td>29.74</td>\n",
       "      <td>9.53</td>\n",
       "      <td>14.88</td>\n",
       "      <td>36.99</td>\n",
       "      <td>19.10</td>\n",
       "    </tr>\n",
       "    <tr>\n",
       "      <th>4</th>\n",
       "      <td>Destiny</td>\n",
       "      <td>Carnival</td>\n",
       "      <td>17</td>\n",
       "      <td>101.353</td>\n",
       "      <td>26.42</td>\n",
       "      <td>8.92</td>\n",
       "      <td>13.21</td>\n",
       "      <td>38.36</td>\n",
       "      <td>10.00</td>\n",
       "    </tr>\n",
       "    <tr>\n",
       "      <th>...</th>\n",
       "      <td>...</td>\n",
       "      <td>...</td>\n",
       "      <td>...</td>\n",
       "      <td>...</td>\n",
       "      <td>...</td>\n",
       "      <td>...</td>\n",
       "      <td>...</td>\n",
       "      <td>...</td>\n",
       "      <td>...</td>\n",
       "    </tr>\n",
       "    <tr>\n",
       "      <th>153</th>\n",
       "      <td>Taurus</td>\n",
       "      <td>Star</td>\n",
       "      <td>22</td>\n",
       "      <td>3.341</td>\n",
       "      <td>0.66</td>\n",
       "      <td>2.79</td>\n",
       "      <td>0.33</td>\n",
       "      <td>50.62</td>\n",
       "      <td>0.59</td>\n",
       "    </tr>\n",
       "    <tr>\n",
       "      <th>154</th>\n",
       "      <td>Virgo</td>\n",
       "      <td>Star</td>\n",
       "      <td>14</td>\n",
       "      <td>76.800</td>\n",
       "      <td>19.60</td>\n",
       "      <td>8.79</td>\n",
       "      <td>9.67</td>\n",
       "      <td>39.18</td>\n",
       "      <td>12.00</td>\n",
       "    </tr>\n",
       "    <tr>\n",
       "      <th>155</th>\n",
       "      <td>Spirit</td>\n",
       "      <td>Windstar</td>\n",
       "      <td>25</td>\n",
       "      <td>5.350</td>\n",
       "      <td>1.58</td>\n",
       "      <td>4.40</td>\n",
       "      <td>0.74</td>\n",
       "      <td>33.86</td>\n",
       "      <td>0.88</td>\n",
       "    </tr>\n",
       "    <tr>\n",
       "      <th>156</th>\n",
       "      <td>Star</td>\n",
       "      <td>Windstar</td>\n",
       "      <td>27</td>\n",
       "      <td>5.350</td>\n",
       "      <td>1.67</td>\n",
       "      <td>4.40</td>\n",
       "      <td>0.74</td>\n",
       "      <td>32.04</td>\n",
       "      <td>0.88</td>\n",
       "    </tr>\n",
       "    <tr>\n",
       "      <th>157</th>\n",
       "      <td>Surf</td>\n",
       "      <td>Windstar</td>\n",
       "      <td>23</td>\n",
       "      <td>14.745</td>\n",
       "      <td>3.08</td>\n",
       "      <td>6.17</td>\n",
       "      <td>1.56</td>\n",
       "      <td>47.87</td>\n",
       "      <td>1.80</td>\n",
       "    </tr>\n",
       "  </tbody>\n",
       "</table>\n",
       "<p>158 rows × 9 columns</p>\n",
       "</div>"
      ],
      "text/plain": [
       "       Ship_name Cruise_line  Age  Tonnage  passengers  length  cabins  \\\n",
       "0        Journey     Azamara    6   30.277        6.94    5.94    3.55   \n",
       "1          Quest     Azamara    6   30.277        6.94    5.94    3.55   \n",
       "2    Celebration    Carnival   26   47.262       14.86    7.22    7.43   \n",
       "3       Conquest    Carnival   11  110.000       29.74    9.53   14.88   \n",
       "4        Destiny    Carnival   17  101.353       26.42    8.92   13.21   \n",
       "..           ...         ...  ...      ...         ...     ...     ...   \n",
       "153       Taurus        Star   22    3.341        0.66    2.79    0.33   \n",
       "154        Virgo        Star   14   76.800       19.60    8.79    9.67   \n",
       "155       Spirit    Windstar   25    5.350        1.58    4.40    0.74   \n",
       "156         Star    Windstar   27    5.350        1.67    4.40    0.74   \n",
       "157         Surf    Windstar   23   14.745        3.08    6.17    1.56   \n",
       "\n",
       "     passenger_density   crew  \n",
       "0                42.64   3.55  \n",
       "1                42.64   3.55  \n",
       "2                31.80   6.70  \n",
       "3                36.99  19.10  \n",
       "4                38.36  10.00  \n",
       "..                 ...    ...  \n",
       "153              50.62   0.59  \n",
       "154              39.18  12.00  \n",
       "155              33.86   0.88  \n",
       "156              32.04   0.88  \n",
       "157              47.87   1.80  \n",
       "\n",
       "[158 rows x 9 columns]"
      ]
     },
     "execution_count": 2,
     "metadata": {},
     "output_type": "execute_result"
    }
   ],
   "source": [
    "df = pd.read_csv('cruise_ship_info.csv')\n",
    "df_train, df_test = train_test_split(df, test_size = 0.2, random_state = 425)\n",
    "\n",
    "df"
   ]
  },
  {
   "cell_type": "markdown",
   "metadata": {},
   "source": [
    "### 1. [4 points] Searching for a Good Model\n",
    "\n",
    "**a)** Perform forward selection using the adjusted $R^2$ ($R^2_\\text{adj}$) as your metric on your training data."
   ]
  },
  {
   "cell_type": "code",
   "execution_count": 6,
   "metadata": {},
   "outputs": [
    {
     "name": "stdout",
     "output_type": "stream",
     "text": [
      "Original Adjusted R²:  0.9311734227038804\n"
     ]
    }
   ],
   "source": [
    "formula = 'crew ~ Age + Tonnage + passengers + length + cabins + passenger_density'\n",
    "model = smf.ols(formula, data=df_train).fit()\n",
    "print('Original Adjusted R²: ', model.rsquared_adj)"
   ]
  },
  {
   "cell_type": "code",
   "execution_count": 5,
   "metadata": {},
   "outputs": [
    {
     "name": "stdout",
     "output_type": "stream",
     "text": [
      "Removed Age → Adjusted R2: 0.9315866129723882\n"
     ]
    }
   ],
   "source": [
    "# ROUND 1 - remove age\n",
    "\n",
    "model1 = smf.ols('crew ~ Tonnage + passengers + length + cabins + passenger_density', data=df_train).fit()\n",
    "print('Removed Age → Adjusted R2:', model1.rsquared_adj)"
   ]
  },
  {
   "cell_type": "code",
   "execution_count": 7,
   "metadata": {},
   "outputs": [
    {
     "name": "stdout",
     "output_type": "stream",
     "text": [
      "Removed Age, length → Adjusted R2: 0.9283207384888144\n"
     ]
    }
   ],
   "source": [
    "# ROUND 2 - remove Age & length \n",
    "\n",
    "model2 = smf.ols('crew ~ Tonnage + passengers + cabins + passenger_density', data=df_train).fit()\n",
    "print('Removed Age, length → Adjusted R2:', model2.rsquared_adj)"
   ]
  },
  {
   "cell_type": "code",
   "execution_count": 9,
   "metadata": {},
   "outputs": [
    {
     "name": "stdout",
     "output_type": "stream",
     "text": [
      "Removed Tonnage → Adjusted R2: 0.9315028318845173\n"
     ]
    }
   ],
   "source": [
    "# ROUND 3 - remove Tonnage\n",
    "\n",
    "model3 = smf.ols('crew ~ passengers + length + cabins + passenger_density', data=df_train).fit()\n",
    "print('Removed Tonnage → Adjusted R2:', model3.rsquared_adj)"
   ]
  },
  {
   "cell_type": "code",
   "execution_count": 10,
   "metadata": {},
   "outputs": [
    {
     "name": "stdout",
     "output_type": "stream",
     "text": [
      "Removed passengers → Adjusted R2: 0.928793034526106\n"
     ]
    }
   ],
   "source": [
    "# ROUND 4 - remove passengers\n",
    "\n",
    "model4 = smf.ols('crew ~ Tonnage + length + cabins + passenger_density', data=df_train).fit()\n",
    "print('Removed passengers → Adjusted R2:', model4.rsquared_adj)"
   ]
  },
  {
   "cell_type": "code",
   "execution_count": 12,
   "metadata": {},
   "outputs": [
    {
     "name": "stdout",
     "output_type": "stream",
     "text": [
      "Removed cabins → Adjusted R2: 0.8871632842490768\n"
     ]
    }
   ],
   "source": [
    "# ROUND 5 - remove cabins\n",
    "\n",
    "model5 = smf.ols('crew ~ Tonnage + passengers + length + passenger_density', data=df_train).fit()\n",
    "print('Removed cabins → Adjusted R2:', model5.rsquared_adj)"
   ]
  },
  {
   "cell_type": "code",
   "execution_count": 14,
   "metadata": {},
   "outputs": [
    {
     "name": "stdout",
     "output_type": "stream",
     "text": [
      "Removed passenger_density → Adjusted R2: 0.9321283752390105\n"
     ]
    }
   ],
   "source": [
    "# ROUND 6 - remove passenger_density\n",
    "\n",
    "model6 = smf.ols('crew ~ Tonnage + passengers + length + cabins', data=df_train).fit()\n",
    "print('Removed passenger_density → Adjusted R2:', model6.rsquared_adj)"
   ]
  },
  {
   "cell_type": "markdown",
   "metadata": {},
   "source": [
    "**b)** Briefly summarize the results of this selection process.  Be sure to answer:\n",
    "- What was your starting model?\n",
    "- What was the most important initial variable to add to the model?\n",
    "- What was your final model?\n",
    "- What was the $R^2_\\text{adj}$ of your final model?"
   ]
  },
  {
   "cell_type": "markdown",
   "metadata": {},
   "source": [
    "We began with a full model including all six predictors: `Age`, `Tonnage`, `passengers`, `length`, `cabins`, and `passenger_density`. Using adjusted R^2 as the selection metric, we evaluated how removing each variable would affect the model's performance.\n",
    "\n",
    "We found that removing `Age` improved the adjusted R^2, increasing it from 0.9312 to 0.9316. This indicated that `Age` did not contribute positively to the model and was the least important variable.\n",
    "\n",
    "Final model predictors: Tonnage, passengers, length, cabins, passenger_density.\n",
    "\n",
    "Adjusted R^2 of the final model: **0.9316**"
   ]
  },
  {
   "cell_type": "markdown",
   "metadata": {},
   "source": [
    "### 2. [2.5 points]  Check for Multicollinearity\n",
    "\n",
    "**a)** Now, check your model that you selected in Question 1 after forward selection for multicollinearity.  You may use either a visualization or summary statistics to check."
   ]
  },
  {
   "cell_type": "code",
   "execution_count": 15,
   "metadata": {},
   "outputs": [
    {
     "data": {
      "image/png": "[encoded data removed]",
      "text/plain": [
       "<Figure size 800x600 with 2 Axes>"
      ]
     },
     "metadata": {},
     "output_type": "display_data"
    }
   ],
   "source": [
    "import seaborn as sns\n",
    "import matplotlib.pyplot as plt\n",
    "\n",
    "selected_vars = ['Tonnage', 'passengers', 'length', 'cabins', 'passenger_density']\n",
    "corr_matrix = df_train[selected_vars].corr()\n",
    "\n",
    "plt.figure(figsize=(8, 6))\n",
    "sns.heatmap(corr_matrix, annot=True, cmap='coolwarm', fmt=\".2f\")\n",
    "plt.title(\"Correlation Matrix of Selected Predictors\")\n",
    "plt.show()\n"
   ]
  },
  {
   "cell_type": "markdown",
   "metadata": {},
   "source": [
    "**b)** Based on what you see from part a, which variables (if any) would you like to remove from your model to reduce multicollinearity?  Briefly explain how you selected your variables that you wanted to remove.  Then, fit a new model to the training data using your reduced set of selected predictors.\n",
    "\n",
    "*Note*: If you are satisfied with your current model for multicollinearity, pick the least important predictor to remove from the model, and fit an updated model to the training data with your selected predictors.  Be sure to explain why you did not want to remove any variables.\n",
    "\n",
    "*Second note*: there is not a single correct answer here.  We are hoping that you make a reasonable choice based on your current understanding of the data."
   ]
  },
  {
   "cell_type": "markdown",
   "metadata": {},
   "source": [
    "From the correlation heatmap, we observed strong multicollinearity among several predictors. In particular, the variables `Tonnage`, `passengers`, and `cabins` had very high pairwise correlations (≥ 0.95), indicating that they likely contain redundant information.\n",
    "\n",
    "To reduce multicollinearity, I decided to remove **`cabins`**, which showed the strongest correlation with `passengers` (0.98). I chose to keep `passengers` since it has a more direct and interpretable relationship with crew size.\n",
    "\n",
    "The updated model includes the following predictors:`Tonnage`, `passengers`, `length`, `passenger_density`\n",
    "\n",
    "I then fit a new linear regression model to the training data using this reduced set of predictors.\n"
   ]
  },
  {
   "cell_type": "code",
   "execution_count": 16,
   "metadata": {},
   "outputs": [
    {
     "name": "stdout",
     "output_type": "stream",
     "text": [
      "                            OLS Regression Results                            \n",
      "==============================================================================\n",
      "Dep. Variable:                   crew   R-squared:                       0.891\n",
      "Model:                            OLS   Adj. R-squared:                  0.887\n",
      "Method:                 Least Squares   F-statistic:                     246.7\n",
      "Date:                Wed, 23 Apr 2025   Prob (F-statistic):           3.62e-57\n",
      "Time:                        20:46:02   Log-Likelihood:                -198.98\n",
      "No. Observations:                 126   AIC:                             408.0\n",
      "Df Residuals:                     121   BIC:                             422.1\n",
      "Df Model:                           4                                         \n",
      "Covariance Type:            nonrobust                                         \n",
      "=====================================================================================\n",
      "                        coef    std err          t      P>|t|      [0.025      0.975]\n",
      "-------------------------------------------------------------------------------------\n",
      "Intercept            -0.2251      1.237     -0.182      0.856      -2.673       2.223\n",
      "Tonnage               0.0396      0.016      2.550      0.012       0.009       0.070\n",
      "passengers            0.1166      0.056      2.099      0.038       0.007       0.227\n",
      "length                0.4205      0.155      2.720      0.007       0.114       0.727\n",
      "passenger_density    -0.0103      0.022     -0.472      0.638      -0.053       0.033\n",
      "==============================================================================\n",
      "Omnibus:                       80.609   Durbin-Watson:                   1.918\n",
      "Prob(Omnibus):                  0.000   Jarque-Bera (JB):             1567.238\n",
      "Skew:                           1.666   Prob(JB):                         0.00\n",
      "Kurtosis:                      19.953   Cond. No.                     1.07e+03\n",
      "==============================================================================\n",
      "\n",
      "Notes:\n",
      "[1] Standard Errors assume that the covariance matrix of the errors is correctly specified.\n",
      "[2] The condition number is large, 1.07e+03. This might indicate that there are\n",
      "strong multicollinearity or other numerical problems.\n"
     ]
    }
   ],
   "source": [
    "model_reduced = smf.ols('crew ~ Tonnage + passengers + length + passenger_density', data=df_train).fit()\n",
    "print(model_reduced.summary())"
   ]
  },
  {
   "cell_type": "markdown",
   "metadata": {},
   "source": [
    "### 3. [3.5 points] Comparing Our Two Models for Overfitting\n",
    "\n",
    "We now have two candidate models: our model from forward selection in Question 1 and our reduced model from Question 2.  In this question, we'll aim to identify which model performs better on *new* data."
   ]
  },
  {
   "cell_type": "code",
   "execution_count": 19,
   "metadata": {},
   "outputs": [],
   "source": [
    "from sklearn.metrics import r2_score, mean_squared_error\n",
    "\n",
    "y_test = df_test['crew']\n",
    "\n",
    "model1 = smf.ols('crew ~ Tonnage + passengers + length + cabins + passenger_density', data=df_train).fit()\n",
    "y_pred1 = model1.predict(df_test)\n",
    "r2_model1 = r2_score(y_test, y_pred1)\n",
    "rmse_model1 = mean_squared_error(y_test, y_pred1, squared=False)\n",
    "\n",
    "y_pred2 = model_reduced.predict(df_test)\n",
    "r2_model2 = r2_score(y_test, y_pred2)\n",
    "rmse_model2 = mean_squared_error(y_test, y_pred2, squared=False)"
   ]
  },
  {
   "cell_type": "markdown",
   "metadata": {},
   "source": [
    "**a)** Calculate the RMSE for each of our two models on each of our two data sets: the training and the test set.  Be sure that you use the same original model for both calculations (that is, you don't need to re-fit a second version of your model to your test data)."
   ]
  },
  {
   "cell_type": "code",
   "execution_count": 18,
   "metadata": {},
   "outputs": [
    {
     "name": "stdout",
     "output_type": "stream",
     "text": [
      "Model 1 (with cabins) - Train RMSE: 0.9102\n",
      "Model 2 (without cabins) - Train RMSE: 1.1738\n"
     ]
    }
   ],
   "source": [
    "y_train = df_train['crew']\n",
    "\n",
    "y_train_pred1 = model1.predict(df_train)\n",
    "train_rmse_model1 = mean_squared_error(y_train, y_train_pred1, squared=False)\n",
    "\n",
    "y_train_pred2 = model_reduced.predict(df_train)\n",
    "train_rmse_model2 = mean_squared_error(y_train, y_train_pred2, squared=False)\n",
    "\n",
    "print(f\"Model 1 (with cabins) - Train RMSE: {train_rmse_model1:.4f}\")\n",
    "print(f\"Model 2 (without cabins) - Train RMSE: {train_rmse_model2:.4f}\")\n"
   ]
  },
  {
   "cell_type": "code",
   "execution_count": 20,
   "metadata": {},
   "outputs": [
    {
     "name": "stdout",
     "output_type": "stream",
     "text": [
      "Model 1 (with cabins) - R²: 0.8697, RMSE: 1.1665\n",
      "Model 2 (without cabins) - R²: 0.8474, RMSE: 1.2625\n"
     ]
    }
   ],
   "source": [
    "print(f\"Model 1 (with cabins) - R²: {r2_model1:.4f}, RMSE: {rmse_model1:.4f}\")\n",
    "print(f\"Model 2 (without cabins) - R²: {r2_model2:.4f}, RMSE: {rmse_model2:.4f}\")"
   ]
  },
  {
   "cell_type": "markdown",
   "metadata": {},
   "source": [
    "**b)** Based on these results, which model would you prefer?  Briefly explain how you picked your preferred model."
   ]
  },
  {
   "cell_type": "markdown",
   "metadata": {},
   "source": [
    "Based on the RMSE values, **Model 1 (with cabins)** has better performance on both the training and test sets:\n",
    "\n",
    "- **Train RMSE**: 0.9102 (Model 1) vs. 1.1738 (Model 2)\n",
    "- **Test RMSE**: 1.1665 (Model 1) vs. 1.2625 (Model 2)\n",
    "\n",
    "Although Model 2 reduces multicollinearity by removing a highly correlated variable (`cabins`), it also loses some predictive power. Since Model 1 performs better on both the training and test sets and does not show signs of severe overfitting (small RMSE gap between train and test), I would prefer **Model 1**.\n"
   ]
  },
  {
   "cell_type": "code",
   "execution_count": null,
   "metadata": {},
   "outputs": [],
   "source": []
  },
  {
   "cell_type": "markdown",
   "metadata": {},
   "source": [
    "**c)** Do your results from Question 1 (forward searching) and Question 3 (RMSE) suggest using the same model?  \n",
    "\n",
    "What characteristic of a model is prioritized by each of the metrics used in Questions 1 ($R^2_\\text{adj})$, 2 (multicollinearity), and 3 (RMSE)?  \n",
    "\n",
    "*Note:* You should have one answer for each of the three metrics."
   ]
  },
  {
   "cell_type": "markdown",
   "metadata": {},
   "source": [
    "The results from Question 1 and Question 3 both suggest using **Model 1**:\n",
    "- In Question 1, Model 1 had the highest adjusted R^2 value (0.9316) after forward selection.\n",
    "- In Question 3, Model 1 had the lowest RMSE on both training and test data, indicating better predictive performance.\n",
    "\n",
    "Each metric prioritizes different characteristics of model quality.\n",
    "\n",
    "- **Adjusted R^2** (Q1): prioritizes **model fit**, while penalizing for unnecessary predictors. It helps avoid overfitting by adjusting for the number of variables.\n",
    "- **Multicollinearity Check** (Q2): prioritizes **model stability and interpretability**, ensuring that predictors are not linearly dependent on each other.\n",
    "- **RMSE** (Q3): prioritizes **predictive accuracy**, measuring how well the model performs on unseen data.\n",
    "\n",
    "In conclusion, even though multicollinearity exists in Model 1, it performs better overall in terms of both model fit and predictive accuracy. Therefore, it is reasonable to select Model 1."
   ]
  }
 ],
 "metadata": {
  "kernelspec": {
   "display_name": "base",
   "language": "python",
   "name": "python3"
  },
  "language_info": {
   "codemirror_mode": {
    "name": "ipython",
    "version": 3
   },
   "file_extension": ".py",
   "mimetype": "text/x-python",
   "name": "python",
   "nbconvert_exporter": "python",
   "pygments_lexer": "ipython3",
   "version": "3.11.5"
  }
 },
 "nbformat": 4,
 "nbformat_minor": 2
}

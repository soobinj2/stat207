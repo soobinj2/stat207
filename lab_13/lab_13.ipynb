{
 "cells": [
  {
   "cell_type": "markdown",
   "metadata": {},
   "source": [
    "# STAT 207 Group Lab Assignment 13 - [10 total points]\n",
    "\n",
    "## Measuring Model Performance & Model Searching"
   ]
  },
  {
   "cell_type": "markdown",
   "metadata": {},
   "source": [
    "<hr>"
   ]
  },
  {
   "cell_type": "markdown",
   "metadata": {},
   "source": [
    "## <u>Lab Grading</u>:\n",
    "\n",
    "Should we grade your submission?  If not, write the netID of the submission to be graded.  (Note: We will only grade one assignment per group, and we'll pick the first one that says we should grade that submission.  We will assign the same grade to all team members.)\n",
    "\n",
    "*For example*, you might respond: **grade this submission** or **my submission is under netID jdeeke**"
   ]
  },
  {
   "cell_type": "markdown",
   "metadata": {},
   "source": []
  },
  {
   "cell_type": "markdown",
   "metadata": {},
   "source": [
    "If you said **my submission is under netID** above, we will not read any more of your lab submission.\n",
    "\n",
    "If you said **grade this submission** above, who worked with you on this submission?  Write both their **names** and **netIDs**.  \n",
    "\n",
    "Also, discuss and record if you've ever been on a cruise before."
   ]
  },
  {
   "cell_type": "markdown",
   "metadata": {},
   "source": []
  },
  {
   "cell_type": "markdown",
   "metadata": {},
   "source": [
    "## <u>Purpose</u>:\n",
    "You should work in groups of 2-3 on this report (not working in groups without permission will result in a point deduction). The purpose of this group lab assignment is to assess model fit and overfitting through model searching.\n",
    "<hr>"
   ]
  },
  {
   "cell_type": "markdown",
   "metadata": {},
   "source": [
    "### Group Roles\n",
    "\n",
    "Suggested and specified roles are provided below: \n",
    "\n",
    "#### Groups of 2\n",
    "\n",
    "* **Driver**: This student will type the report.  While typing the report, you may be the one who is selecting the functions to apply to the data.\n",
    "* **Navigator**: This student will guide the process of answering the question.  Specific ways to help may include: outlining the general steps needed to solve a question (providing the overview), locating examples within the course notes, and reviewing each line of code as it is typed.\n",
    "\n",
    "#### Groups of 3\n",
    "\n",
    "* **Driver**: This student will type the report.  They may also be the one to select the functions to apply to the data.\n",
    "* **Navigator**: This student will guide the process of answering the question.  They may select the general approach to answering the question and/or a few steps to be completed along the way. \n",
    "* **Communicator**: This student will review the report (as it is typed) to ensure that it is clear and concise.  This student may also locate relevant examples within the course notes that may help complete the assignment.\n",
    "\n",
    "<hr>\n",
    "\n",
    "### Imports"
   ]
  },
  {
   "cell_type": "code",
   "execution_count": null,
   "metadata": {},
   "outputs": [],
   "source": [
    "#Run this\n",
    "import pandas as pd                    # imports pandas and calls the imported version 'pd'\n",
    "import matplotlib.pyplot as plt        # imports the package and calls it 'plt'\n",
    "import seaborn as sns                  # imports the seaborn package with the imported name 'sns'\n",
    "sns.set()  \n",
    "from sklearn.linear_model import LinearRegression\n",
    "import statsmodels.formula.api as smf\n",
    "from sklearn.model_selection import train_test_split"
   ]
  },
  {
   "cell_type": "markdown",
   "metadata": {},
   "source": [
    "## Case Study: Crew Size on Cruise Ships\n",
    "\n",
    "We will look at data collected about the size of a crew (in hundreds) on cruise ships.  In particular, we would like to be able to predict the size of the crew needed for a cruise ship from other characteristics about that ship.  The original data can be found here: https://github.com/bot13956/ML_Model_for_Predicting_Ships_Crew_Size/blob/master/cruise_ship_info.csv.\n",
    "\n",
    "For this case study, we will consider the following variables:\n",
    "\n",
    "- **Age**: the age of the ship (years)\n",
    "- **Tonnage**: the amount of water the ship displaces\n",
    "- **passengers**: the max number of passengers the ship can hold (in 100s)\n",
    "- **length**: the length of the ship (in hundrds of feet)\n",
    "- **cabins**: the number of cabins (in 100s)\n",
    "- **passenger_density**: a space ratio for how much space is on board per passenger\n",
    "- **crew**: the number of crew members on the ship (in 100s)\n",
    "\n",
    "The code cell below will read in the data for you and create a test and training set.  Be sure to run the cell. "
   ]
  },
  {
   "cell_type": "code",
   "execution_count": null,
   "metadata": {},
   "outputs": [],
   "source": [
    "df = pd.read_csv('cruise_ship_info.csv')\n",
    "df_train, df_test = train_test_split(df, test_size = 0.2, random_state = 425)"
   ]
  },
  {
   "cell_type": "markdown",
   "metadata": {},
   "source": [
    "### 1. [4 points] Searching for a Good Model\n",
    "\n",
    "**a)** Perform forward selection using the adjusted $R^2$ ($R^2_\\text{adj}$) as your metric on your training data."
   ]
  },
  {
   "cell_type": "code",
   "execution_count": null,
   "metadata": {},
   "outputs": [],
   "source": []
  },
  {
   "cell_type": "code",
   "execution_count": null,
   "metadata": {},
   "outputs": [],
   "source": []
  },
  {
   "cell_type": "code",
   "execution_count": null,
   "metadata": {},
   "outputs": [],
   "source": []
  },
  {
   "cell_type": "code",
   "execution_count": null,
   "metadata": {},
   "outputs": [],
   "source": []
  },
  {
   "cell_type": "code",
   "execution_count": null,
   "metadata": {},
   "outputs": [],
   "source": []
  },
  {
   "cell_type": "code",
   "execution_count": null,
   "metadata": {},
   "outputs": [],
   "source": []
  },
  {
   "cell_type": "code",
   "execution_count": null,
   "metadata": {},
   "outputs": [],
   "source": []
  },
  {
   "cell_type": "code",
   "execution_count": null,
   "metadata": {},
   "outputs": [],
   "source": []
  },
  {
   "cell_type": "code",
   "execution_count": null,
   "metadata": {},
   "outputs": [],
   "source": []
  },
  {
   "cell_type": "code",
   "execution_count": null,
   "metadata": {},
   "outputs": [],
   "source": []
  },
  {
   "cell_type": "code",
   "execution_count": null,
   "metadata": {},
   "outputs": [],
   "source": []
  },
  {
   "cell_type": "code",
   "execution_count": null,
   "metadata": {},
   "outputs": [],
   "source": []
  },
  {
   "cell_type": "code",
   "execution_count": null,
   "metadata": {},
   "outputs": [],
   "source": []
  },
  {
   "cell_type": "markdown",
   "metadata": {},
   "source": [
    "**b)** Briefly summarize the results of this selection process.  Be sure to answer:\n",
    "- What was your starting model?\n",
    "- What was the most important initial variable to add to the model?\n",
    "- What was your final model?\n",
    "- What was the $R^2_\\text{adj}$ of your final model?"
   ]
  },
  {
   "cell_type": "markdown",
   "metadata": {},
   "source": []
  },
  {
   "cell_type": "markdown",
   "metadata": {},
   "source": [
    "### 2. [2.5 points]  Check for Multicollinearity\n",
    "\n",
    "**a)** Now, check your model that you selected in Question 1 after forward selection for multicollinearity.  You may use either a visualization or summary statistics to check."
   ]
  },
  {
   "cell_type": "code",
   "execution_count": null,
   "metadata": {},
   "outputs": [],
   "source": []
  },
  {
   "cell_type": "markdown",
   "metadata": {},
   "source": [
    "**b)** Based on what you see from part a, which variables (if any) would you like to remove from your model to reduce multicollinearity?  Briefly explain how you selected your variables that you wanted to remove.  Then, fit a new model to the training data using your reduced set of selected predictors.\n",
    "\n",
    "*Note*: If you are satisfied with your current model for multicollinearity, pick the least important predictor to remove from the model, and fit an updated model to the training data with your selected predictors.  Be sure to explain why you did not want to remove any variables.\n",
    "\n",
    "*Second note*: there is not a single correct answer here.  We are hoping that you make a reasonable choice based on your current understanding of the data."
   ]
  },
  {
   "cell_type": "markdown",
   "metadata": {},
   "source": []
  },
  {
   "cell_type": "code",
   "execution_count": null,
   "metadata": {},
   "outputs": [],
   "source": []
  },
  {
   "cell_type": "markdown",
   "metadata": {},
   "source": [
    "### 3. [3.5 points] Comparing Our Two Models for Overfitting\n",
    "\n",
    "We now have two candidate models: our model from forward selection in Question 1 and our reduced model from Question 2.  In this question, we'll aim to identify which model performs better on *new* data."
   ]
  },
  {
   "cell_type": "markdown",
   "metadata": {},
   "source": [
    "**a)** Calculate the RMSE for each of our two models on each of our two data sets: the training and the test set.  Be sure that you use the same original model for both calculations (that is, you don't need to re-fit a second version of your model to your test data)."
   ]
  },
  {
   "cell_type": "code",
   "execution_count": null,
   "metadata": {},
   "outputs": [],
   "source": []
  },
  {
   "cell_type": "code",
   "execution_count": null,
   "metadata": {},
   "outputs": [],
   "source": []
  },
  {
   "cell_type": "markdown",
   "metadata": {},
   "source": [
    "**b)** Based on these results, which model would you prefer?  Briefly explain how you picked your preferred model."
   ]
  },
  {
   "cell_type": "markdown",
   "metadata": {},
   "source": []
  },
  {
   "cell_type": "markdown",
   "metadata": {},
   "source": [
    "**c)** Do your results from Question 1 (forward searching) and Question 3 (RMSE) suggest using the same model?  \n",
    "\n",
    "What characteristic of a model is prioritized by each of the metrics used in Questions 1 ($R^2_\\text{adj})$, 2 (multicollinearity), and 3 (RMSE)?  \n",
    "\n",
    "*Note:* You should have one answer for each of the three metrics."
   ]
  },
  {
   "cell_type": "markdown",
   "metadata": {},
   "source": []
  }
 ],
 "metadata": {
  "kernelspec": {
   "display_name": "Python 3 (ipykernel)",
   "language": "python",
   "name": "python3"
  },
  "language_info": {
   "codemirror_mode": {
    "name": "ipython",
    "version": 3
   },
   "file_extension": ".py",
   "mimetype": "text/x-python",
   "name": "python",
   "nbconvert_exporter": "python",
   "pygments_lexer": "ipython3",
   "version": "3.8.11"
  }
 },
 "nbformat": 4,
 "nbformat_minor": 2
}

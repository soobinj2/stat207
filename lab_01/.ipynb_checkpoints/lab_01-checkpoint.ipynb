{
 "cells": [
  {
   "cell_type": "markdown",
   "metadata": {},
   "source": [
    "# STAT 207 Group Lab Assignment 1 - [10 total points]\n",
    "\n",
    "## Exploring your own dataset!"
   ]
  },
  {
   "cell_type": "markdown",
   "metadata": {},
   "source": [
    "<hr>"
   ]
  },
  {
   "cell_type": "markdown",
   "metadata": {},
   "source": [
    "## <u>Lab Grading</u>:\n",
    "\n",
    "This lab grading prompt will be provided at the beginning of each lab assignment this semester.\n",
    "\n",
    "Should we grade your submission?  If not, write the netID of the submission to be graded.  (Note: We will only grade one assignment per group, and we'll pick the first one that says we should grade that submission.)\n",
    "\n",
    "*For example*, you might respond: **grade this submission** or **my submission is under netID jdeeke**"
   ]
  },
  {
   "cell_type": "markdown",
   "metadata": {},
   "source": []
  },
  {
   "cell_type": "markdown",
   "metadata": {},
   "source": [
    "### 1. [1 point] Group Members\n",
    "\n",
    "If you said **my submission is under netID** above, we will not read any more of your lab submission.\n",
    "\n",
    "If you said **grade this submission** above, who worked with you on this submission?  Write both their **names** and **netIDs**.  \n",
    "\n",
    "Also, discuss and record something fun that you did over our most recent break.\n",
    "\n",
    "*For example:*\n",
    "\n",
    "<i>1. John Smith (smith92) slept</i>\n",
    "\n",
    "<i>2. Jane Doe (doe105) ate something cool</i>"
   ]
  },
  {
   "cell_type": "markdown",
   "metadata": {},
   "source": [
    "<i>Stacy Yang(stacyy2)<i>\n",
    "    \n",
    "<i>Soobin Jang(soobinj2)<i>"
   ]
  },
  {
   "cell_type": "markdown",
   "metadata": {},
   "source": [
    "## <u>Purpose</u>:\n",
    "You should work in groups of 2-3 on this report. The purpose of this group lab assignment is to download your own dataset that you find interesting and perform some preliminary descriptive analytics on this dataset. Also, you can take this opportunity to get to know some of your classmates! \n",
    "<hr>"
   ]
  },
  {
   "cell_type": "markdown",
   "metadata": {},
   "source": [
    "## <u>Assignment Instructions</u>:"
   ]
  },
  {
   "cell_type": "markdown",
   "metadata": {},
   "source": [
    "### Group Roles\n",
    "\n",
    "You are expected to work in groups of 2-3 on this report.  Since you are working in groups, you may find it helpful to have specified roles.  These roles will likely be helpful in later labs.  Below, I provide roles that can be used for groups of 2 and for groups of 3.  I encourage you to switch roles within this lab report, as possible.  I also encourage you to switch roles for each subsequent lab, as possible, based on your group membership.  \n",
    "\n",
    "#### Groups of 2\n",
    "\n",
    "* **Driver**: This student will type the report.  While typing the report, you may be the one who is selecting the functions to apply to the data.\n",
    "* **Navigator**: This student will guide the process of answering the question.  Specific ways to help may include: outlining the general steps needed to solve a question (providing the overview), locating examples within the course notes, and reviewing each line of code as it is typed.\n",
    "\n",
    "#### Groups of 3\n",
    "\n",
    "* **Driver**: This student will type the report.  They may also be the one to select the functions to apply to the data.\n",
    "* **Navigator**: This student will guide the process of answering the question.  They may select the general approach to answering the question and/or a few steps to be completed along the way. \n",
    "* **Communicator**: This student will review the report (as it is typed) to ensure that it is clear and concise.  This student may also locate relevant examples within the course notes that may help complete the assignment.\n",
    "\n",
    "<hr>\n",
    "\n",
    "### Imports"
   ]
  },
  {
   "cell_type": "code",
   "execution_count": 2,
   "metadata": {},
   "outputs": [],
   "source": [
    "#Run this\n",
    "import pandas as pd                    # imports pandas and calls the imported version 'pd'\n",
    "import matplotlib.pyplot as plt        # imports the package and calls it 'plt'\n",
    "import seaborn as sns                  # imports the seaborn package with the imported name 'sns'\n",
    "sns.set()"
   ]
  },
  {
   "cell_type": "markdown",
   "metadata": {},
   "source": [
    "<hr>\n",
    "\n",
    "## Initial Dataset Analysis\n",
    "\n",
    "### 1. [3 points] Load an Interesting Dataset\n",
    "\n",
    "1. Go to https://www.kaggle.com/datasets?fileType=csv&sizeStart=0%2CKB&sizeEnd=100%2CKB&minUsabilityRating=10.00. Browse through the available datasets and find one that you think is interesting *that has at least one categorical variable* and *at least one quantitative variable*.\n",
    "2. Once you have selected a dataset you'd like to explore, select \"Download\" to download the csv file.\n",
    "3. On your desktop, move this csv into the same folder that this Jupyter notebook is located in.\n",
    "4. Finally, read this csv file into a pandas dataframe and display the first five rows."
   ]
  },
  {
   "cell_type": "code",
   "execution_count": 6,
   "metadata": {},
   "outputs": [
    {
     "data": {
      "text/html": [
       "<div>\n",
       "<style scoped>\n",
       "    .dataframe tbody tr th:only-of-type {\n",
       "        vertical-align: middle;\n",
       "    }\n",
       "\n",
       "    .dataframe tbody tr th {\n",
       "        vertical-align: top;\n",
       "    }\n",
       "\n",
       "    .dataframe thead th {\n",
       "        text-align: right;\n",
       "    }\n",
       "</style>\n",
       "<table border=\"1\" class=\"dataframe\">\n",
       "  <thead>\n",
       "    <tr style=\"text-align: right;\">\n",
       "      <th></th>\n",
       "      <th>Unique ID</th>\n",
       "      <th>Marriage Duration (Years)</th>\n",
       "      <th>Age at Marriage</th>\n",
       "      <th>Marriage Type</th>\n",
       "      <th>Education Level</th>\n",
       "      <th>Income Level (INR per month)</th>\n",
       "      <th>Caste/Religion</th>\n",
       "      <th>Urban/Rural</th>\n",
       "      <th>Family Involvement</th>\n",
       "      <th>Children</th>\n",
       "      <th>Divorce Status</th>\n",
       "    </tr>\n",
       "  </thead>\n",
       "  <tbody>\n",
       "    <tr>\n",
       "      <th>0</th>\n",
       "      <td>MD1</td>\n",
       "      <td>39</td>\n",
       "      <td>29</td>\n",
       "      <td>Love</td>\n",
       "      <td>Secondary</td>\n",
       "      <td>113464</td>\n",
       "      <td>Hindu</td>\n",
       "      <td>Rural</td>\n",
       "      <td>Moderate</td>\n",
       "      <td>2</td>\n",
       "      <td>No</td>\n",
       "    </tr>\n",
       "    <tr>\n",
       "      <th>1</th>\n",
       "      <td>MD2</td>\n",
       "      <td>29</td>\n",
       "      <td>34</td>\n",
       "      <td>Arranged</td>\n",
       "      <td>No Education</td>\n",
       "      <td>18682</td>\n",
       "      <td>Jain</td>\n",
       "      <td>Rural</td>\n",
       "      <td>Moderate</td>\n",
       "      <td>0</td>\n",
       "      <td>Yes</td>\n",
       "    </tr>\n",
       "    <tr>\n",
       "      <th>2</th>\n",
       "      <td>MD3</td>\n",
       "      <td>15</td>\n",
       "      <td>34</td>\n",
       "      <td>Love</td>\n",
       "      <td>No Education</td>\n",
       "      <td>159455</td>\n",
       "      <td>Muslim</td>\n",
       "      <td>Urban</td>\n",
       "      <td>Moderate</td>\n",
       "      <td>4</td>\n",
       "      <td>Yes</td>\n",
       "    </tr>\n",
       "    <tr>\n",
       "      <th>3</th>\n",
       "      <td>MD4</td>\n",
       "      <td>8</td>\n",
       "      <td>27</td>\n",
       "      <td>Arranged</td>\n",
       "      <td>Postgraduate</td>\n",
       "      <td>63160</td>\n",
       "      <td>Jain</td>\n",
       "      <td>Urban</td>\n",
       "      <td>High</td>\n",
       "      <td>1</td>\n",
       "      <td>Yes</td>\n",
       "    </tr>\n",
       "    <tr>\n",
       "      <th>4</th>\n",
       "      <td>MD5</td>\n",
       "      <td>21</td>\n",
       "      <td>34</td>\n",
       "      <td>Love</td>\n",
       "      <td>Secondary</td>\n",
       "      <td>28666</td>\n",
       "      <td>Jain</td>\n",
       "      <td>Urban</td>\n",
       "      <td>High</td>\n",
       "      <td>1</td>\n",
       "      <td>Yes</td>\n",
       "    </tr>\n",
       "  </tbody>\n",
       "</table>\n",
       "</div>"
      ],
      "text/plain": [
       "  Unique ID  Marriage Duration (Years)  Age at Marriage Marriage Type  \\\n",
       "0       MD1                         39               29          Love   \n",
       "1       MD2                         29               34      Arranged   \n",
       "2       MD3                         15               34          Love   \n",
       "3       MD4                          8               27      Arranged   \n",
       "4       MD5                         21               34          Love   \n",
       "\n",
       "  Education Level  Income Level (INR per month) Caste/Religion Urban/Rural  \\\n",
       "0       Secondary                        113464          Hindu       Rural   \n",
       "1    No Education                         18682           Jain       Rural   \n",
       "2    No Education                        159455         Muslim       Urban   \n",
       "3    Postgraduate                         63160           Jain       Urban   \n",
       "4       Secondary                         28666           Jain       Urban   \n",
       "\n",
       "  Family Involvement  Children Divorce Status  \n",
       "0           Moderate         2             No  \n",
       "1           Moderate         0            Yes  \n",
       "2           Moderate         4            Yes  \n",
       "3               High         1            Yes  \n",
       "4               High         1            Yes  "
      ]
     },
     "execution_count": 6,
     "metadata": {},
     "output_type": "execute_result"
    }
   ],
   "source": [
    "pd.read_csv('marriage_divorce_india_with_id.csv').head()"
   ]
  },
  {
   "cell_type": "markdown",
   "metadata": {},
   "source": [
    "### 2. [3 points] Dataset Description\n",
    "\n",
    "**a)** Give the link for the dataset that you downloaded."
   ]
  },
  {
   "cell_type": "markdown",
   "metadata": {},
   "source": [
    "https://www.kaggle.com/datasets/ashaychoudhary/indian-marriage-and-divorce-dataset?resource=download"
   ]
  },
  {
   "cell_type": "markdown",
   "metadata": {},
   "source": [
    "**b)** How many rows and how many columns are in the dataset?"
   ]
  },
  {
   "cell_type": "markdown",
   "metadata": {},
   "source": [
    "11 columns, 1201 rows"
   ]
  },
  {
   "cell_type": "markdown",
   "metadata": {},
   "source": [
    "**c)** What is the unit of observation for this dataset?  In other words, each row contains variables recorded for an observation.  How would you define a general observation?"
   ]
  },
  {
   "cell_type": "markdown",
   "metadata": {},
   "source": [
    "years, age, type, level, INR per month, Caste/Religion, Urban/Rural, Family Involvement, Number of Children, Divorce Status"
   ]
  },
  {
   "cell_type": "markdown",
   "metadata": {},
   "source": [
    "### 3. [3 points] Descriptive Summaries\n",
    "\n",
    "**a)** Define a question.\n",
    "\n",
    "Considering the available data, ask a question that can be addressed with the data.  "
   ]
  },
  {
   "cell_type": "markdown",
   "metadata": {},
   "source": [
    "- What is the average marriage age?"
   ]
  },
  {
   "cell_type": "markdown",
   "metadata": {},
   "source": [
    "**b)** Answer your question.\n",
    "\n",
    "Now, generate a descriptive summary that addresses at least some part of your question from 3a.  You don't need to completely answer or address your question if you pose a complicated question, but your analysis should relate to the original question.\n",
    "\n",
    "pd.read_csv('marriage_divorce_india_with_id.csv')Your descriptive summary should include at least one of a numerical summary measure or a visualization (graph)."
   ]
  },
  {
   "cell_type": "code",
   "execution_count": 3,
   "metadata": {},
   "outputs": [
    {
     "name": "stdout",
     "output_type": "stream",
     "text": [
      "26.055\n"
     ]
    }
   ],
   "source": [
    "a = pd.read_csv('marriage_divorce_india_with_id.csv')\n",
    "\n",
    "df = pd.DataFrame(a)\n",
    "\n",
    "#print(df)\n",
    "\n",
    "df.rename(columns = {\"Age at Marriage\":\"Marriage_age\"}, inplace = True)\n",
    "\n",
    "avg = df['Marriage_age'].mean()\n",
    "\n",
    "print(avg)"
   ]
  }
 ],
 "metadata": {
  "kernelspec": {
   "display_name": "Python 3 (ipykernel)",
   "language": "python",
   "name": "python3"
  },
  "language_info": {
   "codemirror_mode": {
    "name": "ipython",
    "version": 3
   },
   "file_extension": ".py",
   "mimetype": "text/x-python",
   "name": "python",
   "nbconvert_exporter": "python",
   "pygments_lexer": "ipython3",
   "version": "3.11.5"
  }
 },
 "nbformat": 4,
 "nbformat_minor": 2
}

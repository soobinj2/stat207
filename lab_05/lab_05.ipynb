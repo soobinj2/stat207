{
 "cells": [
  {
   "cell_type": "markdown",
   "metadata": {},
   "source": [
    "# STAT 207 Group Lab Assignment 5 - [10 total points]\n",
    "\n",
    "## Sampling Distributions"
   ]
  },
  {
   "cell_type": "markdown",
   "metadata": {},
   "source": [
    "<hr>"
   ]
  },
  {
   "cell_type": "markdown",
   "metadata": {},
   "source": [
    "## <u>Lab Grading</u>:\n",
    "\n",
    "Should we grade your submission?  If not, write the netID of the submission to be graded.  (Note: We will only grade one assignment per group, and we'll pick the first one that says we should grade that submission.  We will assign the same grade to all team members.)\n",
    "\n",
    "*For example*, you might respond: **grade this submission** or **my submission is under netID jdeeke**"
   ]
  },
  {
   "cell_type": "markdown",
   "metadata": {},
   "source": []
  },
  {
   "cell_type": "markdown",
   "metadata": {},
   "source": [
    "If you said **my submission is under netID** above, we will not read any more of your lab submission.\n",
    "\n",
    "If you said **grade this submission** above, who worked with you on this submission?  Write both their **names** and **netIDs**.  \n",
    "\n",
    "Also, report the proportion of members of your group that haved played Pokemon."
   ]
  },
  {
   "cell_type": "markdown",
   "metadata": {},
   "source": []
  },
  {
   "cell_type": "markdown",
   "metadata": {},
   "source": [
    "<hr>\n",
    "\n",
    "## <u>Purpose</u>:\n",
    "You should work in groups of 2-3 on this report (not working in groups without permission will result in a point deduction). The purpose of this group lab assignment is to simulate sampling distributions and observe their properties.  \n",
    "<hr>"
   ]
  },
  {
   "cell_type": "markdown",
   "metadata": {},
   "source": [
    "## <u>Assignment Instructions</u>:"
   ]
  },
  {
   "cell_type": "markdown",
   "metadata": {},
   "source": [
    "### Group Roles\n",
    "\n",
    "Suggested and specified roles are provided below: \n",
    "\n",
    "#### Groups of 2\n",
    "\n",
    "* **Driver**: This student will type the report.  While typing the report, you may be the one who is selecting the functions to apply to the data.\n",
    "* **Navigator**: This student will guide the process of answering the question.  Specific ways to help may include: outlining the general steps needed to solve a question (providing the overview), locating examples within the course notes, and reviewing each line of code as it is typed.\n",
    "\n",
    "#### Groups of 3\n",
    "\n",
    "* **Driver**: This student will type the report.  They may also be the one to select the functions to apply to the data.\n",
    "* **Navigator**: This student will guide the process of answering the question.  They may select the general approach to answering the question and/or a few steps to be completed along the way. \n",
    "* **Communicator**: This student will review the report (as it is typed) to ensure that it is clear and concise.  This student may also locate relevant examples within the course notes that may help complete the assignment.\n",
    "\n",
    "<hr>\n",
    "\n",
    "### Imports"
   ]
  },
  {
   "cell_type": "code",
   "execution_count": null,
   "metadata": {},
   "outputs": [],
   "source": [
    "#Run this\n",
    "import pandas as pd                    # imports pandas and calls the imported version 'pd'\n",
    "import matplotlib.pyplot as plt        # imports the package and calls it 'plt'\n",
    "import seaborn as sns                  # imports the seaborn package with the imported name 'sns'\n",
    "sns.set()  "
   ]
  },
  {
   "cell_type": "markdown",
   "metadata": {},
   "source": [
    "## Case Study: Pokemon\n",
    "\n",
    "The following dataset contains information about all current Pokemon, including those recently released in Generation 9 (2023).  6 Pokemon cards can be used in many battles, and we'd like to better understand characteristics of these six cards.\n",
    "\n",
    "The variables in the data include:\n",
    "\n",
    "- **Height**: height (m)\n",
    "- **Weight**: weight (kg)\n",
    "- **Type1**: the primary type of the Pokemon\n",
    "- **Ability1**: the primary ability of the Pokemon\n",
    "- **Ability_Hidden**: the hidden ability of the Pokemon, if one is present\n",
    "- **Get_Rate**: the rate at which the Pokemon can be captured (higher = easier to capture)\n",
    "- **HP**: the hit point, which is how much damage a Pokemon can sustain before fainting\n",
    "- **Attack**: the damage a Pokemon can inflict with a physical move\n",
    "- **Defense**: the damage a Pokemon receives when hit with a physical move\n",
    "- **SP_Attack**: the damage a Pokemon can inflict with a special move\n",
    "- **SP_Defense**: the damage a Pokemon receives when hit with a special move\n",
    "- **Speed**: speed, which determines the order in which Pokemon can move\n",
    "- **Total**: the sum of each of the base statistics (HP, Attack, Defense, SP_Attack, SP_Defense, and Speed).\n",
    "\n",
    "There are other variables in the data, which you are allowed to use if you understand their provided values.  More information about this dataset can be found at https://www.kaggle.com/datasets/takamasakato/pokemon-all-status-data.\n",
    "\n",
    "Run the code in the cell below to read in the data for this document.  The data is saved as `df` with this code.  "
   ]
  },
  {
   "cell_type": "code",
   "execution_count": null,
   "metadata": {},
   "outputs": [],
   "source": [
    "df = pd.read_csv('Pokedex_Ver9.csv')"
   ]
  },
  {
   "cell_type": "markdown",
   "metadata": {},
   "source": [
    "## 1. [5.5 points] Understanding a Typical Set of Pokemon for Battle\n",
    "\n",
    "In this first question, we will generate a sampling distribution for 6 Pokemon that could currently be used in a single battle.\n",
    "\n",
    "**a)** To start, does the full data represent a population or a sample?"
   ]
  },
  {
   "cell_type": "markdown",
   "metadata": {},
   "source": []
  },
  {
   "cell_type": "markdown",
   "metadata": {},
   "source": [
    "**b)** Select one variable from this data and generate a visualization to examine the distribution of this variable. "
   ]
  },
  {
   "cell_type": "code",
   "execution_count": null,
   "metadata": {},
   "outputs": [],
   "source": []
  },
  {
   "cell_type": "markdown",
   "metadata": {},
   "source": [
    "**c)** Generate one random sample of size 6 from the population.  Visualize this distribution.  Does it look similar to the distribution from part **b**?"
   ]
  },
  {
   "cell_type": "code",
   "execution_count": null,
   "metadata": {},
   "outputs": [],
   "source": []
  },
  {
   "cell_type": "markdown",
   "metadata": {},
   "source": []
  },
  {
   "cell_type": "markdown",
   "metadata": {},
   "source": [
    "**d)** Now, pick one summary measure other than a mean to summarize your variable of interest.  Calculate this value for both the whole distribution from part **b** and the sample you got in part **c**."
   ]
  },
  {
   "cell_type": "markdown",
   "metadata": {},
   "source": []
  },
  {
   "cell_type": "code",
   "execution_count": null,
   "metadata": {},
   "outputs": [],
   "source": []
  },
  {
   "cell_type": "code",
   "execution_count": null,
   "metadata": {},
   "outputs": [],
   "source": []
  },
  {
   "cell_type": "markdown",
   "metadata": {},
   "source": [
    "**e)** Now, generate repeated random samples of size 6 from the data and calculate your statistic of interest for each sample.  Record that statistic of interest for each sample, in the process creating a sampling distribution for your statistic of interest.\n",
    "\n",
    "*Hint:* How many repetitions should you use?  This question is vague and allows you to select a number.  Be sure that you use *enough* so that your distribution doesn't look substantially different if you change/increase the number of repetitions.  "
   ]
  },
  {
   "cell_type": "code",
   "execution_count": null,
   "metadata": {},
   "outputs": [],
   "source": []
  },
  {
   "cell_type": "markdown",
   "metadata": {},
   "source": [
    "**f)** Generate a histogram and describe the distribution for your sampling distribution from **1e**."
   ]
  },
  {
   "cell_type": "code",
   "execution_count": null,
   "metadata": {},
   "outputs": [],
   "source": []
  },
  {
   "cell_type": "markdown",
   "metadata": {},
   "source": []
  },
  {
   "cell_type": "markdown",
   "metadata": {},
   "source": [
    "**g)** Calculate summary statistics for your sampling distribution, including at least the mean and standard deviation."
   ]
  },
  {
   "cell_type": "code",
   "execution_count": null,
   "metadata": {},
   "outputs": [],
   "source": []
  },
  {
   "cell_type": "markdown",
   "metadata": {},
   "source": [
    "## 2. [4.5 points] Considering a Rule Change\n",
    "\n",
    "Suppose that you are a data scientist working with Pokemon.  The team is considering updating the game rules so that a different number of Pokemon are allowed to be used in battle.  They would like to explore how the statistic identified in **1d** will vary with these different sample sizes.\n",
    "\n",
    "You have been tasked with presenting this information to the team to use in determining any changes in rules.\n",
    "\n",
    "**a)** First, identify at least 3 different sample sizes to explore.  Be sure that your sample sizes are different enough that the largest sample size minus the smallest sample size is at least 30.  Report these 3 sample sizes below.\n",
    "\n",
    "These different sample sizes represent different numbers of Pokemon that can be used in a battle."
   ]
  },
  {
   "cell_type": "markdown",
   "metadata": {},
   "source": []
  },
  {
   "cell_type": "markdown",
   "metadata": {},
   "source": [
    "**b)** Repeat the process from **1e** (generating the sampling distribution) for the 3 sample sizes for Pokemon to be allowed in battle that you selected in **2a**."
   ]
  },
  {
   "cell_type": "code",
   "execution_count": null,
   "metadata": {},
   "outputs": [],
   "source": []
  },
  {
   "cell_type": "markdown",
   "metadata": {},
   "source": [
    "**c)** Calculate summary statistics for each of your additional sampling distributions, including at least the mean and standard deviation.  Compare these values to those from **1g**."
   ]
  },
  {
   "cell_type": "code",
   "execution_count": null,
   "metadata": {},
   "outputs": [],
   "source": []
  },
  {
   "cell_type": "markdown",
   "metadata": {},
   "source": []
  },
  {
   "cell_type": "markdown",
   "metadata": {},
   "source": [
    "**d)** Describe how your sampling distributions from **2b** and **1e** change as the number of Pokemon allowed in battle increases."
   ]
  },
  {
   "cell_type": "markdown",
   "metadata": {},
   "source": []
  }
 ],
 "metadata": {
  "kernelspec": {
   "display_name": "Python 3 (ipykernel)",
   "language": "python",
   "name": "python3"
  },
  "language_info": {
   "codemirror_mode": {
    "name": "ipython",
    "version": 3
   },
   "file_extension": ".py",
   "mimetype": "text/x-python",
   "name": "python",
   "nbconvert_exporter": "python",
   "pygments_lexer": "ipython3",
   "version": "3.8.11"
  }
 },
 "nbformat": 4,
 "nbformat_minor": 2
}

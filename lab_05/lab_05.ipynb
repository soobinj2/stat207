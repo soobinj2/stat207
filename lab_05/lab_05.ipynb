{
 "cells": [
  {
   "cell_type": "markdown",
   "metadata": {},
   "source": [
    "# STAT 207 Group Lab Assignment 5 - [10 total points]\n",
    "\n",
    "## Sampling Distributions"
   ]
  },
  {
   "cell_type": "markdown",
   "metadata": {},
   "source": [
    "<hr>"
   ]
  },
  {
   "cell_type": "markdown",
   "metadata": {},
   "source": [
    "## <u>Lab Grading</u>:\n",
    "\n",
    "Should we grade your submission?  If not, write the netID of the submission to be graded.  (Note: We will only grade one assignment per group, and we'll pick the first one that says we should grade that submission.  We will assign the same grade to all team members.)\n",
    "\n",
    "*For example*, you might respond: **grade this submission** or **my submission is under netID jdeeke**"
   ]
  },
  {
   "cell_type": "markdown",
   "metadata": {},
   "source": [
    "**grade this submission**"
   ]
  },
  {
   "cell_type": "markdown",
   "metadata": {},
   "source": [
    "If you said **my submission is under netID** above, we will not read any more of your lab submission.\n",
    "\n",
    "If you said **grade this submission** above, who worked with you on this submission?  Write both their **names** and **netIDs**.  \n",
    "\n",
    "Also, report the proportion of members of your group that haved played Pokemon."
   ]
  },
  {
   "cell_type": "markdown",
   "metadata": {},
   "source": []
  },
  {
   "cell_type": "markdown",
   "metadata": {},
   "source": [
    "<hr>\n",
    "\n",
    "## <u>Purpose</u>:\n",
    "You should work in groups of 2-3 on this report (not working in groups without permission will result in a point deduction). The purpose of this group lab assignment is to simulate sampling distributions and observe their properties.  \n",
    "<hr>"
   ]
  },
  {
   "cell_type": "markdown",
   "metadata": {},
   "source": [
    "## <u>Assignment Instructions</u>:"
   ]
  },
  {
   "cell_type": "markdown",
   "metadata": {},
   "source": [
    "### Group Roles\n",
    "\n",
    "Suggested and specified roles are provided below: \n",
    "\n",
    "#### Groups of 2\n",
    "\n",
    "* **Driver**: This student will type the report.  While typing the report, you may be the one who is selecting the functions to apply to the data.\n",
    "* **Navigator**: This student will guide the process of answering the question.  Specific ways to help may include: outlining the general steps needed to solve a question (providing the overview), locating examples within the course notes, and reviewing each line of code as it is typed.\n",
    "\n",
    "#### Groups of 3\n",
    "\n",
    "* **Driver**: This student will type the report.  They may also be the one to select the functions to apply to the data.\n",
    "* **Navigator**: This student will guide the process of answering the question.  They may select the general approach to answering the question and/or a few steps to be completed along the way. \n",
    "* **Communicator**: This student will review the report (as it is typed) to ensure that it is clear and concise.  This student may also locate relevant examples within the course notes that may help complete the assignment.\n",
    "\n",
    "<hr>\n",
    "\n",
    "### Imports"
   ]
  },
  {
   "cell_type": "code",
   "execution_count": 1,
   "metadata": {},
   "outputs": [],
   "source": [
    "#Run this\n",
    "import pandas as pd                    # imports pandas and calls the imported version 'pd'\n",
    "import matplotlib.pyplot as plt        # imports the package and calls it 'plt'\n",
    "import seaborn as sns                  # imports the seaborn package with the imported name 'sns'\n",
    "sns.set()  "
   ]
  },
  {
   "cell_type": "markdown",
   "metadata": {},
   "source": [
    "## Case Study: Pokemon\n",
    "\n",
    "The following dataset contains information about all current Pokemon, including those recently released in Generation 9 (2023).  6 Pokemon cards can be used in many battles, and we'd like to better understand characteristics of these six cards.\n",
    "\n",
    "The variables in the data include:\n",
    "\n",
    "- **Height**: height (m)\n",
    "- **Weight**: weight (kg)\n",
    "- **Type1**: the primary type of the Pokemon\n",
    "- **Ability1**: the primary ability of the Pokemon\n",
    "- **Ability_Hidden**: the hidden ability of the Pokemon, if one is present\n",
    "- **Get_Rate**: the rate at which the Pokemon can be captured (higher = easier to capture)\n",
    "- **HP**: the hit point, which is how much damage a Pokemon can sustain before fainting\n",
    "- **Attack**: the damage a Pokemon can inflict with a physical move\n",
    "- **Defense**: the damage a Pokemon receives when hit with a physical move\n",
    "- **SP_Attack**: the damage a Pokemon can inflict with a special move\n",
    "- **SP_Defense**: the damage a Pokemon receives when hit with a special move\n",
    "- **Speed**: speed, which determines the order in which Pokemon can move\n",
    "- **Total**: the sum of each of the base statistics (HP, Attack, Defense, SP_Attack, SP_Defense, and Speed).\n",
    "\n",
    "There are other variables in the data, which you are allowed to use if you understand their provided values.  More information about this dataset can be found at https://www.kaggle.com/datasets/takamasakato/pokemon-all-status-data.\n",
    "\n",
    "Run the code in the cell below to read in the data for this document.  The data is saved as `df` with this code.  "
   ]
  },
  {
   "cell_type": "code",
   "execution_count": 3,
   "metadata": {},
   "outputs": [
    {
     "data": {
      "text/html": [
       "<div>\n",
       "<style scoped>\n",
       "    .dataframe tbody tr th:only-of-type {\n",
       "        vertical-align: middle;\n",
       "    }\n",
       "\n",
       "    .dataframe tbody tr th {\n",
       "        vertical-align: top;\n",
       "    }\n",
       "\n",
       "    .dataframe thead th {\n",
       "        text-align: right;\n",
       "    }\n",
       "</style>\n",
       "<table border=\"1\" class=\"dataframe\">\n",
       "  <thead>\n",
       "    <tr style=\"text-align: right;\">\n",
       "      <th></th>\n",
       "      <th>No</th>\n",
       "      <th>Branch_Code</th>\n",
       "      <th>Original_Name</th>\n",
       "      <th>Name</th>\n",
       "      <th>Generation</th>\n",
       "      <th>Height</th>\n",
       "      <th>Weight</th>\n",
       "      <th>Type1</th>\n",
       "      <th>Type2</th>\n",
       "      <th>Ability1</th>\n",
       "      <th>...</th>\n",
       "      <th>SP_Attack</th>\n",
       "      <th>SP_Defense</th>\n",
       "      <th>Speed</th>\n",
       "      <th>Total</th>\n",
       "      <th>E_HP</th>\n",
       "      <th>E_Attack</th>\n",
       "      <th>E_Defense</th>\n",
       "      <th>E_SP_Attack</th>\n",
       "      <th>E_SP_Defense</th>\n",
       "      <th>E_Speed</th>\n",
       "    </tr>\n",
       "  </thead>\n",
       "  <tbody>\n",
       "    <tr>\n",
       "      <th>0</th>\n",
       "      <td>1</td>\n",
       "      <td>1_0</td>\n",
       "      <td>Bulbasaur</td>\n",
       "      <td>Bulbasaur</td>\n",
       "      <td>1</td>\n",
       "      <td>0.7</td>\n",
       "      <td>6.9</td>\n",
       "      <td>Grass</td>\n",
       "      <td>Poison</td>\n",
       "      <td>Overgrow</td>\n",
       "      <td>...</td>\n",
       "      <td>65</td>\n",
       "      <td>65</td>\n",
       "      <td>45</td>\n",
       "      <td>318</td>\n",
       "      <td>0</td>\n",
       "      <td>0</td>\n",
       "      <td>0</td>\n",
       "      <td>1</td>\n",
       "      <td>0</td>\n",
       "      <td>0</td>\n",
       "    </tr>\n",
       "    <tr>\n",
       "      <th>1</th>\n",
       "      <td>2</td>\n",
       "      <td>2_0</td>\n",
       "      <td>Ivysaur</td>\n",
       "      <td>Ivysaur</td>\n",
       "      <td>1</td>\n",
       "      <td>1.0</td>\n",
       "      <td>13.0</td>\n",
       "      <td>Grass</td>\n",
       "      <td>Poison</td>\n",
       "      <td>Overgrow</td>\n",
       "      <td>...</td>\n",
       "      <td>80</td>\n",
       "      <td>80</td>\n",
       "      <td>60</td>\n",
       "      <td>405</td>\n",
       "      <td>0</td>\n",
       "      <td>0</td>\n",
       "      <td>0</td>\n",
       "      <td>1</td>\n",
       "      <td>1</td>\n",
       "      <td>0</td>\n",
       "    </tr>\n",
       "    <tr>\n",
       "      <th>2</th>\n",
       "      <td>3</td>\n",
       "      <td>3_0</td>\n",
       "      <td>Venusaur</td>\n",
       "      <td>Venusaur</td>\n",
       "      <td>1</td>\n",
       "      <td>2.0</td>\n",
       "      <td>100.0</td>\n",
       "      <td>Grass</td>\n",
       "      <td>Poison</td>\n",
       "      <td>Overgrow</td>\n",
       "      <td>...</td>\n",
       "      <td>100</td>\n",
       "      <td>100</td>\n",
       "      <td>80</td>\n",
       "      <td>525</td>\n",
       "      <td>0</td>\n",
       "      <td>0</td>\n",
       "      <td>0</td>\n",
       "      <td>2</td>\n",
       "      <td>1</td>\n",
       "      <td>0</td>\n",
       "    </tr>\n",
       "    <tr>\n",
       "      <th>3</th>\n",
       "      <td>3</td>\n",
       "      <td>3_1</td>\n",
       "      <td>Venusaur</td>\n",
       "      <td>Mega Venusaur</td>\n",
       "      <td>1</td>\n",
       "      <td>2.4</td>\n",
       "      <td>155.5</td>\n",
       "      <td>Grass</td>\n",
       "      <td>Poison</td>\n",
       "      <td>Thick Fat</td>\n",
       "      <td>...</td>\n",
       "      <td>122</td>\n",
       "      <td>120</td>\n",
       "      <td>80</td>\n",
       "      <td>625</td>\n",
       "      <td>0</td>\n",
       "      <td>0</td>\n",
       "      <td>0</td>\n",
       "      <td>2</td>\n",
       "      <td>1</td>\n",
       "      <td>0</td>\n",
       "    </tr>\n",
       "    <tr>\n",
       "      <th>4</th>\n",
       "      <td>4</td>\n",
       "      <td>4_0</td>\n",
       "      <td>Charmander</td>\n",
       "      <td>Charmander</td>\n",
       "      <td>1</td>\n",
       "      <td>0.6</td>\n",
       "      <td>8.5</td>\n",
       "      <td>Fire</td>\n",
       "      <td>NaN</td>\n",
       "      <td>Blaze</td>\n",
       "      <td>...</td>\n",
       "      <td>60</td>\n",
       "      <td>50</td>\n",
       "      <td>65</td>\n",
       "      <td>309</td>\n",
       "      <td>0</td>\n",
       "      <td>0</td>\n",
       "      <td>0</td>\n",
       "      <td>0</td>\n",
       "      <td>0</td>\n",
       "      <td>1</td>\n",
       "    </tr>\n",
       "    <tr>\n",
       "      <th>...</th>\n",
       "      <td>...</td>\n",
       "      <td>...</td>\n",
       "      <td>...</td>\n",
       "      <td>...</td>\n",
       "      <td>...</td>\n",
       "      <td>...</td>\n",
       "      <td>...</td>\n",
       "      <td>...</td>\n",
       "      <td>...</td>\n",
       "      <td>...</td>\n",
       "      <td>...</td>\n",
       "      <td>...</td>\n",
       "      <td>...</td>\n",
       "      <td>...</td>\n",
       "      <td>...</td>\n",
       "      <td>...</td>\n",
       "      <td>...</td>\n",
       "      <td>...</td>\n",
       "      <td>...</td>\n",
       "      <td>...</td>\n",
       "      <td>...</td>\n",
       "    </tr>\n",
       "    <tr>\n",
       "      <th>1198</th>\n",
       "      <td>1006</td>\n",
       "      <td>1006_0</td>\n",
       "      <td>Iron Valiant</td>\n",
       "      <td>Iron Valiant</td>\n",
       "      <td>9</td>\n",
       "      <td>1.4</td>\n",
       "      <td>35.0</td>\n",
       "      <td>Fairy</td>\n",
       "      <td>Fighting</td>\n",
       "      <td>Quark Drive</td>\n",
       "      <td>...</td>\n",
       "      <td>120</td>\n",
       "      <td>60</td>\n",
       "      <td>116</td>\n",
       "      <td>590</td>\n",
       "      <td>0</td>\n",
       "      <td>3</td>\n",
       "      <td>0</td>\n",
       "      <td>0</td>\n",
       "      <td>0</td>\n",
       "      <td>0</td>\n",
       "    </tr>\n",
       "    <tr>\n",
       "      <th>1199</th>\n",
       "      <td>1007</td>\n",
       "      <td>1007_0</td>\n",
       "      <td>Koraidon</td>\n",
       "      <td>Koraidon</td>\n",
       "      <td>9</td>\n",
       "      <td>2.5</td>\n",
       "      <td>303.0</td>\n",
       "      <td>Fighting</td>\n",
       "      <td>Dragon</td>\n",
       "      <td>Orichalcum Pulse</td>\n",
       "      <td>...</td>\n",
       "      <td>85</td>\n",
       "      <td>100</td>\n",
       "      <td>135</td>\n",
       "      <td>670</td>\n",
       "      <td>0</td>\n",
       "      <td>3</td>\n",
       "      <td>0</td>\n",
       "      <td>0</td>\n",
       "      <td>0</td>\n",
       "      <td>0</td>\n",
       "    </tr>\n",
       "    <tr>\n",
       "      <th>1200</th>\n",
       "      <td>1008</td>\n",
       "      <td>1008_0</td>\n",
       "      <td>Miraidon</td>\n",
       "      <td>Miraidon</td>\n",
       "      <td>9</td>\n",
       "      <td>3.5</td>\n",
       "      <td>240.0</td>\n",
       "      <td>Electric</td>\n",
       "      <td>Dragon</td>\n",
       "      <td>Hadron Engine</td>\n",
       "      <td>...</td>\n",
       "      <td>135</td>\n",
       "      <td>115</td>\n",
       "      <td>135</td>\n",
       "      <td>670</td>\n",
       "      <td>0</td>\n",
       "      <td>0</td>\n",
       "      <td>0</td>\n",
       "      <td>3</td>\n",
       "      <td>0</td>\n",
       "      <td>0</td>\n",
       "    </tr>\n",
       "    <tr>\n",
       "      <th>1201</th>\n",
       "      <td>1009</td>\n",
       "      <td>1009_0</td>\n",
       "      <td>Walking Wake</td>\n",
       "      <td>Walking Wake</td>\n",
       "      <td>9</td>\n",
       "      <td>3.5</td>\n",
       "      <td>280.0</td>\n",
       "      <td>Water</td>\n",
       "      <td>Dragon</td>\n",
       "      <td>Protosynthesis</td>\n",
       "      <td>...</td>\n",
       "      <td>125</td>\n",
       "      <td>83</td>\n",
       "      <td>109</td>\n",
       "      <td>590</td>\n",
       "      <td>0</td>\n",
       "      <td>0</td>\n",
       "      <td>0</td>\n",
       "      <td>3</td>\n",
       "      <td>0</td>\n",
       "      <td>0</td>\n",
       "    </tr>\n",
       "    <tr>\n",
       "      <th>1202</th>\n",
       "      <td>1010</td>\n",
       "      <td>1010_0</td>\n",
       "      <td>Iron Leaves</td>\n",
       "      <td>Iron Leaves</td>\n",
       "      <td>9</td>\n",
       "      <td>1.5</td>\n",
       "      <td>125.0</td>\n",
       "      <td>Grass</td>\n",
       "      <td>Psychic</td>\n",
       "      <td>Quark Drive</td>\n",
       "      <td>...</td>\n",
       "      <td>70</td>\n",
       "      <td>108</td>\n",
       "      <td>104</td>\n",
       "      <td>590</td>\n",
       "      <td>0</td>\n",
       "      <td>3</td>\n",
       "      <td>0</td>\n",
       "      <td>0</td>\n",
       "      <td>0</td>\n",
       "      <td>0</td>\n",
       "    </tr>\n",
       "  </tbody>\n",
       "</table>\n",
       "<p>1203 rows × 38 columns</p>\n",
       "</div>"
      ],
      "text/plain": [
       "        No Branch_Code Original_Name           Name  Generation  Height  \\\n",
       "0        1         1_0     Bulbasaur      Bulbasaur           1     0.7   \n",
       "1        2         2_0       Ivysaur        Ivysaur           1     1.0   \n",
       "2        3         3_0      Venusaur       Venusaur           1     2.0   \n",
       "3        3         3_1      Venusaur  Mega Venusaur           1     2.4   \n",
       "4        4         4_0    Charmander     Charmander           1     0.6   \n",
       "...    ...         ...           ...            ...         ...     ...   \n",
       "1198  1006      1006_0  Iron Valiant   Iron Valiant           9     1.4   \n",
       "1199  1007      1007_0      Koraidon       Koraidon           9     2.5   \n",
       "1200  1008      1008_0      Miraidon       Miraidon           9     3.5   \n",
       "1201  1009      1009_0  Walking Wake   Walking Wake           9     3.5   \n",
       "1202  1010      1010_0   Iron Leaves    Iron Leaves           9     1.5   \n",
       "\n",
       "      Weight     Type1     Type2          Ability1  ... SP_Attack SP_Defense  \\\n",
       "0        6.9     Grass    Poison          Overgrow  ...        65         65   \n",
       "1       13.0     Grass    Poison          Overgrow  ...        80         80   \n",
       "2      100.0     Grass    Poison          Overgrow  ...       100        100   \n",
       "3      155.5     Grass    Poison         Thick Fat  ...       122        120   \n",
       "4        8.5      Fire       NaN             Blaze  ...        60         50   \n",
       "...      ...       ...       ...               ...  ...       ...        ...   \n",
       "1198    35.0     Fairy  Fighting       Quark Drive  ...       120         60   \n",
       "1199   303.0  Fighting    Dragon  Orichalcum Pulse  ...        85        100   \n",
       "1200   240.0  Electric    Dragon     Hadron Engine  ...       135        115   \n",
       "1201   280.0     Water    Dragon    Protosynthesis  ...       125         83   \n",
       "1202   125.0     Grass   Psychic       Quark Drive  ...        70        108   \n",
       "\n",
       "     Speed  Total  E_HP  E_Attack  E_Defense E_SP_Attack E_SP_Defense  E_Speed  \n",
       "0       45    318     0         0          0           1            0        0  \n",
       "1       60    405     0         0          0           1            1        0  \n",
       "2       80    525     0         0          0           2            1        0  \n",
       "3       80    625     0         0          0           2            1        0  \n",
       "4       65    309     0         0          0           0            0        1  \n",
       "...    ...    ...   ...       ...        ...         ...          ...      ...  \n",
       "1198   116    590     0         3          0           0            0        0  \n",
       "1199   135    670     0         3          0           0            0        0  \n",
       "1200   135    670     0         0          0           3            0        0  \n",
       "1201   109    590     0         0          0           3            0        0  \n",
       "1202   104    590     0         3          0           0            0        0  \n",
       "\n",
       "[1203 rows x 38 columns]"
      ]
     },
     "execution_count": 3,
     "metadata": {},
     "output_type": "execute_result"
    }
   ],
   "source": [
    "df = pd.read_csv('Pokedex_Ver9.csv')\n",
    "df"
   ]
  },
  {
   "cell_type": "markdown",
   "metadata": {},
   "source": [
    "## 1. [5.5 points] Understanding a Typical Set of Pokemon for Battle\n",
    "\n",
    "In this first question, we will generate a sampling distribution for 6 Pokemon that could currently be used in a single battle.\n",
    "\n",
    "**a)** To start, does the full data represent a population or a sample?"
   ]
  },
  {
   "cell_type": "markdown",
   "metadata": {},
   "source": [
    "This is population because this dataset included all current Pokemon, so we can tell this is population."
   ]
  },
  {
   "cell_type": "markdown",
   "metadata": {},
   "source": [
    "**b)** Select one variable from this data and generate a visualization to examine the distribution of this variable. "
   ]
  },
  {
   "cell_type": "code",
   "execution_count": 12,
   "metadata": {},
   "outputs": [
    {
     "data": {
      "text/plain": [
       "<Axes: xlabel='SP_Attack', ylabel='Count'>"
      ]
     },
     "execution_count": 12,
     "metadata": {},
     "output_type": "execute_result"
    },
    {
     "data": {
      "image/png": "[encoded data removed]",
      "text/plain": [
       "<Figure size 640x480 with 1 Axes>"
      ]
     },
     "metadata": {},
     "output_type": "display_data"
    }
   ],
   "source": [
    "sns.histplot(df, x= 'SP_Attack')"
   ]
  },
  {
   "cell_type": "markdown",
   "metadata": {},
   "source": [
    "**c)** Generate one random sample of size 6 from the population.  Visualize this distribution.  Does it look similar to the distribution from part **b**?"
   ]
  },
  {
   "cell_type": "code",
   "execution_count": 13,
   "metadata": {},
   "outputs": [
    {
     "data": {
      "image/png": "[encoded data removed]",
      "text/plain": [
       "<Figure size 1000x600 with 1 Axes>"
      ]
     },
     "metadata": {},
     "output_type": "display_data"
    }
   ],
   "source": [
    "random_sample = df.sample(n=6)\n",
    "plt.figure(figsize=(10, 6))\n",
    "sns.histplot(x='SP_Attack', data=random_sample)\n",
    "plt.xticks(rotation=45) \n",
    "plt.title('Distribution of SP_Attack from sample data')\n",
    "plt.xlabel('SP_Attack')\n",
    "plt.ylabel('Counts')\n",
    "plt.show()"
   ]
  },
  {
   "cell_type": "code",
   "execution_count": null,
   "metadata": {},
   "outputs": [],
   "source": []
  },
  {
   "cell_type": "markdown",
   "metadata": {},
   "source": [
    "It looks different from part b. Part b shows right-skewed histogram, but the sample one shows symmetric form of histogram."
   ]
  },
  {
   "cell_type": "markdown",
   "metadata": {},
   "source": [
    "**d)** Now, pick one summary measure other than a mean to summarize your variable of interest.  Calculate this value for both the whole distribution from part **b** and the sample you got in part **c**."
   ]
  },
  {
   "cell_type": "markdown",
   "metadata": {},
   "source": []
  },
  {
   "cell_type": "code",
   "execution_count": 16,
   "metadata": {},
   "outputs": [
    {
     "name": "stdout",
     "output_type": "stream",
     "text": [
      "Median SP_Attack of population: 65.0\n",
      "\n",
      "Entire Population:\n",
      "count    1203.000000\n",
      "mean       72.985037\n",
      "std        32.657015\n",
      "min        10.000000\n",
      "25%        50.000000\n",
      "50%        65.000000\n",
      "75%        95.000000\n",
      "max       194.000000\n",
      "Name: SP_Attack, dtype: float64\n"
     ]
    }
   ],
   "source": [
    "population_median = df['SP_Attack'].median()\n",
    "\n",
    "print(f\"Median SP_Attack of population: {population_median}\")\n",
    "\n",
    "print(\"\\nEntire Population:\")\n",
    "print(df['SP_Attack'].describe())"
   ]
  },
  {
   "cell_type": "code",
   "execution_count": 17,
   "metadata": {},
   "outputs": [
    {
     "name": "stdout",
     "output_type": "stream",
     "text": [
      "Median SP_Attack of random sample: 70.0\n",
      "\n",
      "Random Sample:\n",
      "count      6.000000\n",
      "mean      64.666667\n",
      "std       30.884732\n",
      "min       21.000000\n",
      "25%       43.750000\n",
      "50%       70.000000\n",
      "75%       86.500000\n",
      "max      100.000000\n",
      "Name: SP_Attack, dtype: float64\n"
     ]
    }
   ],
   "source": [
    "sample_median = random_sample['SP_Attack'].median()\n",
    "\n",
    "print(f\"Median SP_Attack of random sample: {sample_median}\")\n",
    "\n",
    "print(\"\\nRandom Sample:\")\n",
    "print(random_sample['SP_Attack'].describe())"
   ]
  },
  {
   "cell_type": "markdown",
   "metadata": {},
   "source": [
    "**e)** Now, generate repeated random samples of size 6 from the data and calculate your statistic of interest for each sample.  Record that statistic of interest for each sample, in the process creating a sampling distribution for your statistic of interest.\n",
    "\n",
    "*Hint:* How many repetitions should you use?  This question is vague and allows you to select a number.  Be sure that you use *enough* so that your distribution doesn't look substantially different if you change/increase the number of repetitions.  "
   ]
  },
  {
   "cell_type": "code",
   "execution_count": 37,
   "metadata": {},
   "outputs": [
    {
     "data": {
      "text/html": [
       "<div>\n",
       "<style scoped>\n",
       "    .dataframe tbody tr th:only-of-type {\n",
       "        vertical-align: middle;\n",
       "    }\n",
       "\n",
       "    .dataframe tbody tr th {\n",
       "        vertical-align: top;\n",
       "    }\n",
       "\n",
       "    .dataframe thead th {\n",
       "        text-align: right;\n",
       "    }\n",
       "</style>\n",
       "<table border=\"1\" class=\"dataframe\">\n",
       "  <thead>\n",
       "    <tr style=\"text-align: right;\">\n",
       "      <th></th>\n",
       "      <th>medians</th>\n",
       "    </tr>\n",
       "  </thead>\n",
       "  <tbody>\n",
       "    <tr>\n",
       "      <th>0</th>\n",
       "      <td>65.0</td>\n",
       "    </tr>\n",
       "    <tr>\n",
       "      <th>1</th>\n",
       "      <td>50.0</td>\n",
       "    </tr>\n",
       "    <tr>\n",
       "      <th>2</th>\n",
       "      <td>62.5</td>\n",
       "    </tr>\n",
       "    <tr>\n",
       "      <th>3</th>\n",
       "      <td>64.5</td>\n",
       "    </tr>\n",
       "    <tr>\n",
       "      <th>4</th>\n",
       "      <td>60.0</td>\n",
       "    </tr>\n",
       "    <tr>\n",
       "      <th>...</th>\n",
       "      <td>...</td>\n",
       "    </tr>\n",
       "    <tr>\n",
       "      <th>995</th>\n",
       "      <td>63.0</td>\n",
       "    </tr>\n",
       "    <tr>\n",
       "      <th>996</th>\n",
       "      <td>55.0</td>\n",
       "    </tr>\n",
       "    <tr>\n",
       "      <th>997</th>\n",
       "      <td>46.0</td>\n",
       "    </tr>\n",
       "    <tr>\n",
       "      <th>998</th>\n",
       "      <td>52.5</td>\n",
       "    </tr>\n",
       "    <tr>\n",
       "      <th>999</th>\n",
       "      <td>85.5</td>\n",
       "    </tr>\n",
       "  </tbody>\n",
       "</table>\n",
       "<p>1000 rows × 1 columns</p>\n",
       "</div>"
      ],
      "text/plain": [
       "     medians\n",
       "0       65.0\n",
       "1       50.0\n",
       "2       62.5\n",
       "3       64.5\n",
       "4       60.0\n",
       "..       ...\n",
       "995     63.0\n",
       "996     55.0\n",
       "997     46.0\n",
       "998     52.5\n",
       "999     85.5\n",
       "\n",
       "[1000 rows x 1 columns]"
      ]
     },
     "execution_count": 37,
     "metadata": {},
     "output_type": "execute_result"
    }
   ],
   "source": [
    "medians = []\n",
    "for _ in range(1000):\n",
    "    sample = df.sample(n=6)\n",
    "    sample_median = sample['SP_Attack'].median()\n",
    "    medians.append(sample_median)\n",
    "    df_median = pd.DataFrame({'medians': medians})\n",
    "\n",
    "df_median"
   ]
  },
  {
   "cell_type": "markdown",
   "metadata": {},
   "source": [
    "**f)** Generate a histogram and describe the distribution for your sampling distribution from **1e**."
   ]
  },
  {
   "cell_type": "code",
   "execution_count": 38,
   "metadata": {},
   "outputs": [
    {
     "name": "stderr",
     "output_type": "stream",
     "text": [
      "No artists with labels found to put in legend.  Note that artists whose label start with an underscore are ignored when legend() is called with no argument.\n"
     ]
    },
    {
     "data": {
      "image/png": "[encoded data removed]",
      "text/plain": [
       "<Figure size 1000x600 with 1 Axes>"
      ]
     },
     "metadata": {},
     "output_type": "display_data"
    }
   ],
   "source": [
    "plt.figure(figsize=(10, 6))\n",
    "sns.histplot(df_median, x = 'medians', bins=30)\n",
    "plt.title('Sampling Distribution of Median SP_Attack')\n",
    "plt.xlabel('Median SP_Attack')\n",
    "plt.ylabel('Frequency')\n",
    "\n",
    "population_median = df['SP_Attack'].median()\n",
    "plt.legend()\n",
    "\n",
    "plt.show()"
   ]
  },
  {
   "cell_type": "markdown",
   "metadata": {},
   "source": []
  },
  {
   "cell_type": "markdown",
   "metadata": {},
   "source": [
    "**g)** Calculate summary statistics for your sampling distribution, including at least the mean and standard deviation."
   ]
  },
  {
   "cell_type": "code",
   "execution_count": 40,
   "metadata": {},
   "outputs": [
    {
     "name": "stdout",
     "output_type": "stream",
     "text": [
      "Sampling Distribution Summary of sampling distribution:\n"
     ]
    },
    {
     "data": {
      "text/html": [
       "<div>\n",
       "<style scoped>\n",
       "    .dataframe tbody tr th:only-of-type {\n",
       "        vertical-align: middle;\n",
       "    }\n",
       "\n",
       "    .dataframe tbody tr th {\n",
       "        vertical-align: top;\n",
       "    }\n",
       "\n",
       "    .dataframe thead th {\n",
       "        text-align: right;\n",
       "    }\n",
       "</style>\n",
       "<table border=\"1\" class=\"dataframe\">\n",
       "  <thead>\n",
       "    <tr style=\"text-align: right;\">\n",
       "      <th></th>\n",
       "      <th>medians</th>\n",
       "    </tr>\n",
       "  </thead>\n",
       "  <tbody>\n",
       "    <tr>\n",
       "      <th>count</th>\n",
       "      <td>1000.000000</td>\n",
       "    </tr>\n",
       "    <tr>\n",
       "      <th>mean</th>\n",
       "      <td>68.737500</td>\n",
       "    </tr>\n",
       "    <tr>\n",
       "      <th>std</th>\n",
       "      <td>15.685339</td>\n",
       "    </tr>\n",
       "    <tr>\n",
       "      <th>min</th>\n",
       "      <td>32.500000</td>\n",
       "    </tr>\n",
       "    <tr>\n",
       "      <th>25%</th>\n",
       "      <td>57.375000</td>\n",
       "    </tr>\n",
       "    <tr>\n",
       "      <th>50%</th>\n",
       "      <td>67.000000</td>\n",
       "    </tr>\n",
       "    <tr>\n",
       "      <th>75%</th>\n",
       "      <td>79.000000</td>\n",
       "    </tr>\n",
       "    <tr>\n",
       "      <th>max</th>\n",
       "      <td>127.500000</td>\n",
       "    </tr>\n",
       "  </tbody>\n",
       "</table>\n",
       "</div>"
      ],
      "text/plain": [
       "           medians\n",
       "count  1000.000000\n",
       "mean     68.737500\n",
       "std      15.685339\n",
       "min      32.500000\n",
       "25%      57.375000\n",
       "50%      67.000000\n",
       "75%      79.000000\n",
       "max     127.500000"
      ]
     },
     "execution_count": 40,
     "metadata": {},
     "output_type": "execute_result"
    }
   ],
   "source": [
    "print(\"Sampling Distribution Summary of sampling distribution:\")\n",
    "df_median.describe()"
   ]
  },
  {
   "cell_type": "markdown",
   "metadata": {},
   "source": [
    "## 2. [4.5 points] Considering a Rule Change\n",
    "\n",
    "Suppose that you are a data scientist working with Pokemon.  The team is considering updating the game rules so that a different number of Pokemon are allowed to be used in battle.  They would like to explore how the statistic identified in **1d** will vary with these different sample sizes.\n",
    "\n",
    "You have been tasked with presenting this information to the team to use in determining any changes in rules.\n",
    "\n",
    "**a)** First, identify at least 3 different sample sizes to explore.  Be sure that your sample sizes are different enough that the largest sample size minus the smallest sample size is at least 30.  Report these 3 sample sizes below.\n",
    "\n",
    "These different sample sizes represent different numbers of Pokemon that can be used in a battle."
   ]
  },
  {
   "cell_type": "markdown",
   "metadata": {},
   "source": [
    "I will use different size (30, 100, 150) for sampling"
   ]
  },
  {
   "cell_type": "markdown",
   "metadata": {},
   "source": [
    "**b)** Repeat the process from **1e** (generating the sampling distribution) for the 3 sample sizes for Pokemon to be allowed in battle that you selected in **2a**."
   ]
  },
  {
   "cell_type": "code",
   "execution_count": 59,
   "metadata": {},
   "outputs": [],
   "source": [
    "medians_1 = []\n",
    "for _ in range(1000):\n",
    "    sample = df.sample(n=30)\n",
    "    sample_median1 = sample['SP_Attack'].median()\n",
    "    medians_1.append(sample_median1)\n",
    "    df_median1 = pd.DataFrame({'medians_1': medians_1})\n"
   ]
  },
  {
   "cell_type": "code",
   "execution_count": 60,
   "metadata": {},
   "outputs": [],
   "source": [
    "medians_2 = []\n",
    "for _ in range(1000):\n",
    "    sample = df.sample(n=100)\n",
    "    sample_median2 = sample['SP_Attack'].median()\n",
    "    medians_2.append(sample_median2)\n",
    "    df_median2 = pd.DataFrame({'medians_2': medians_2})"
   ]
  },
  {
   "cell_type": "code",
   "execution_count": 61,
   "metadata": {},
   "outputs": [],
   "source": [
    "medians_3 = []\n",
    "for _ in range(1000):\n",
    "    sample = df.sample(n=150)\n",
    "    sample_median3 = sample['SP_Attack'].median()\n",
    "    medians_3.append(sample_median3)\n",
    "    df_median3 = pd.DataFrame({'medians_3': medians_3})"
   ]
  },
  {
   "cell_type": "markdown",
   "metadata": {},
   "source": [
    "**c)** Calculate summary statistics for each of your additional sampling distributions, including at least the mean and standard deviation.  Compare these values to those from **1g**."
   ]
  },
  {
   "cell_type": "code",
   "execution_count": 62,
   "metadata": {},
   "outputs": [
    {
     "name": "stdout",
     "output_type": "stream",
     "text": [
      "Sampling Distribution Summary from each sample:\n"
     ]
    },
    {
     "data": {
      "text/html": [
       "<div>\n",
       "<style scoped>\n",
       "    .dataframe tbody tr th:only-of-type {\n",
       "        vertical-align: middle;\n",
       "    }\n",
       "\n",
       "    .dataframe tbody tr th {\n",
       "        vertical-align: top;\n",
       "    }\n",
       "\n",
       "    .dataframe thead th {\n",
       "        text-align: right;\n",
       "    }\n",
       "</style>\n",
       "<table border=\"1\" class=\"dataframe\">\n",
       "  <thead>\n",
       "    <tr style=\"text-align: right;\">\n",
       "      <th></th>\n",
       "      <th>medians_1</th>\n",
       "    </tr>\n",
       "  </thead>\n",
       "  <tbody>\n",
       "    <tr>\n",
       "      <th>count</th>\n",
       "      <td>1000.000000</td>\n",
       "    </tr>\n",
       "    <tr>\n",
       "      <th>mean</th>\n",
       "      <td>67.394000</td>\n",
       "    </tr>\n",
       "    <tr>\n",
       "      <th>std</th>\n",
       "      <td>7.921522</td>\n",
       "    </tr>\n",
       "    <tr>\n",
       "      <th>min</th>\n",
       "      <td>45.000000</td>\n",
       "    </tr>\n",
       "    <tr>\n",
       "      <th>25%</th>\n",
       "      <td>62.000000</td>\n",
       "    </tr>\n",
       "    <tr>\n",
       "      <th>50%</th>\n",
       "      <td>66.000000</td>\n",
       "    </tr>\n",
       "    <tr>\n",
       "      <th>75%</th>\n",
       "      <td>71.500000</td>\n",
       "    </tr>\n",
       "    <tr>\n",
       "      <th>max</th>\n",
       "      <td>95.000000</td>\n",
       "    </tr>\n",
       "  </tbody>\n",
       "</table>\n",
       "</div>"
      ],
      "text/plain": [
       "         medians_1\n",
       "count  1000.000000\n",
       "mean     67.394000\n",
       "std       7.921522\n",
       "min      45.000000\n",
       "25%      62.000000\n",
       "50%      66.000000\n",
       "75%      71.500000\n",
       "max      95.000000"
      ]
     },
     "execution_count": 62,
     "metadata": {},
     "output_type": "execute_result"
    }
   ],
   "source": [
    "print(\"Sampling Distribution Summary from each sample:\")\n",
    "df_median1.describe()"
   ]
  },
  {
   "cell_type": "code",
   "execution_count": 63,
   "metadata": {},
   "outputs": [
    {
     "name": "stdout",
     "output_type": "stream",
     "text": [
      "Sampling Distribution Summary from each sample:\n"
     ]
    },
    {
     "data": {
      "text/html": [
       "<div>\n",
       "<style scoped>\n",
       "    .dataframe tbody tr th:only-of-type {\n",
       "        vertical-align: middle;\n",
       "    }\n",
       "\n",
       "    .dataframe tbody tr th {\n",
       "        vertical-align: top;\n",
       "    }\n",
       "\n",
       "    .dataframe thead th {\n",
       "        text-align: right;\n",
       "    }\n",
       "</style>\n",
       "<table border=\"1\" class=\"dataframe\">\n",
       "  <thead>\n",
       "    <tr style=\"text-align: right;\">\n",
       "      <th></th>\n",
       "      <th>medians_2</th>\n",
       "    </tr>\n",
       "  </thead>\n",
       "  <tbody>\n",
       "    <tr>\n",
       "      <th>count</th>\n",
       "      <td>1000.000000</td>\n",
       "    </tr>\n",
       "    <tr>\n",
       "      <th>mean</th>\n",
       "      <td>66.972000</td>\n",
       "    </tr>\n",
       "    <tr>\n",
       "      <th>std</th>\n",
       "      <td>4.455622</td>\n",
       "    </tr>\n",
       "    <tr>\n",
       "      <th>min</th>\n",
       "      <td>55.000000</td>\n",
       "    </tr>\n",
       "    <tr>\n",
       "      <th>25%</th>\n",
       "      <td>65.000000</td>\n",
       "    </tr>\n",
       "    <tr>\n",
       "      <th>50%</th>\n",
       "      <td>65.000000</td>\n",
       "    </tr>\n",
       "    <tr>\n",
       "      <th>75%</th>\n",
       "      <td>70.000000</td>\n",
       "    </tr>\n",
       "    <tr>\n",
       "      <th>max</th>\n",
       "      <td>82.000000</td>\n",
       "    </tr>\n",
       "  </tbody>\n",
       "</table>\n",
       "</div>"
      ],
      "text/plain": [
       "         medians_2\n",
       "count  1000.000000\n",
       "mean     66.972000\n",
       "std       4.455622\n",
       "min      55.000000\n",
       "25%      65.000000\n",
       "50%      65.000000\n",
       "75%      70.000000\n",
       "max      82.000000"
      ]
     },
     "execution_count": 63,
     "metadata": {},
     "output_type": "execute_result"
    }
   ],
   "source": [
    "print(\"Sampling Distribution Summary from each sample:\")\n",
    "df_median2.describe()"
   ]
  },
  {
   "cell_type": "code",
   "execution_count": 64,
   "metadata": {},
   "outputs": [
    {
     "name": "stdout",
     "output_type": "stream",
     "text": [
      "Sampling Distribution Summary from each sample:\n"
     ]
    },
    {
     "data": {
      "text/html": [
       "<div>\n",
       "<style scoped>\n",
       "    .dataframe tbody tr th:only-of-type {\n",
       "        vertical-align: middle;\n",
       "    }\n",
       "\n",
       "    .dataframe tbody tr th {\n",
       "        vertical-align: top;\n",
       "    }\n",
       "\n",
       "    .dataframe thead th {\n",
       "        text-align: right;\n",
       "    }\n",
       "</style>\n",
       "<table border=\"1\" class=\"dataframe\">\n",
       "  <thead>\n",
       "    <tr style=\"text-align: right;\">\n",
       "      <th></th>\n",
       "      <th>medians_3</th>\n",
       "    </tr>\n",
       "  </thead>\n",
       "  <tbody>\n",
       "    <tr>\n",
       "      <th>count</th>\n",
       "      <td>1000.000000</td>\n",
       "    </tr>\n",
       "    <tr>\n",
       "      <th>mean</th>\n",
       "      <td>66.726000</td>\n",
       "    </tr>\n",
       "    <tr>\n",
       "      <th>std</th>\n",
       "      <td>3.440096</td>\n",
       "    </tr>\n",
       "    <tr>\n",
       "      <th>min</th>\n",
       "      <td>60.000000</td>\n",
       "    </tr>\n",
       "    <tr>\n",
       "      <th>25%</th>\n",
       "      <td>65.000000</td>\n",
       "    </tr>\n",
       "    <tr>\n",
       "      <th>50%</th>\n",
       "      <td>65.000000</td>\n",
       "    </tr>\n",
       "    <tr>\n",
       "      <th>75%</th>\n",
       "      <td>70.000000</td>\n",
       "    </tr>\n",
       "    <tr>\n",
       "      <th>max</th>\n",
       "      <td>80.000000</td>\n",
       "    </tr>\n",
       "  </tbody>\n",
       "</table>\n",
       "</div>"
      ],
      "text/plain": [
       "         medians_3\n",
       "count  1000.000000\n",
       "mean     66.726000\n",
       "std       3.440096\n",
       "min      60.000000\n",
       "25%      65.000000\n",
       "50%      65.000000\n",
       "75%      70.000000\n",
       "max      80.000000"
      ]
     },
     "execution_count": 64,
     "metadata": {},
     "output_type": "execute_result"
    }
   ],
   "source": [
    "print(\"Sampling Distribution Summary from each sample:\")\n",
    "df_median3.describe()"
   ]
  },
  {
   "cell_type": "markdown",
   "metadata": {},
   "source": [
    "The summary statistics from 1g (n=6) compared to the new sample sizes show:\n",
    "Sample size 6 (from 1g):\n",
    "\n",
    "Mean: 68.74\n",
    "Standard deviation: 15.69\n",
    "\n",
    "New sampling distributions:\n",
    "\n",
    "n=30:\n",
    "Mean: 67.39\n",
    "Standard deviation: 7.92\n",
    "\n",
    "\n",
    "n=100:\n",
    "Mean: 66.97\n",
    "Standard deviation: 4.46\n",
    "\n",
    "\n",
    "n=150:\n",
    "Mean: 66.73\n",
    "Standard deviation: 3.44"
   ]
  },
  {
   "cell_type": "markdown",
   "metadata": {},
   "source": [
    "**d)** Describe how your sampling distributions from **2b** and **1e** change as the number of Pokemon allowed in battle increases."
   ]
  },
  {
   "cell_type": "markdown",
   "metadata": {},
   "source": [
    "**Decrease in Standard Deviation**\n",
    "The largest standard deviation (15.69) is observed when n=6\n",
    "Standard deviation significantly decreases as sample size increases (reaching 3.44 at n=150)\n",
    "This indicates more stable estimates with larger sample sizes\n",
    "\n",
    "\n",
    "**Stabilization of Mean**\n",
    "Mean values gradually stabilize and converge to around 66-67\n",
    "Smaller samples (n=6) show greater fluctuations, while larger samples show more consistent values\n",
    "\n",
    "\n",
    "**Distribution Shape**\n",
    "As sample size increases, the distributions become narrower and more bell-shaped\n",
    "The impact of extreme values decreases, leading to more predictable patterns\n",
    "\n",
    "These changes align with the Central Limit Theorem and demonstrate that using more Pokemon in battle leads to more stable and reliable estimates of the SP_Attack median."
   ]
  }
 ],
 "metadata": {
  "kernelspec": {
   "display_name": "base",
   "language": "python",
   "name": "python3"
  },
  "language_info": {
   "codemirror_mode": {
    "name": "ipython",
    "version": 3
   },
   "file_extension": ".py",
   "mimetype": "text/x-python",
   "name": "python",
   "nbconvert_exporter": "python",
   "pygments_lexer": "ipython3",
   "version": "3.11.5"
  }
 },
 "nbformat": 4,
 "nbformat_minor": 2
}

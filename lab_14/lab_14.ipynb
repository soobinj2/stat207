{
 "cells": [
  {
   "cell_type": "markdown",
   "metadata": {},
   "source": [
    "# STAT 207 Group Lab Assignment 14 - [10 total points]\n",
    "\n",
    "## Regularization Models & Selecting a Tuning Parameter"
   ]
  },
  {
   "cell_type": "markdown",
   "metadata": {},
   "source": [
    "<hr>"
   ]
  },
  {
   "cell_type": "markdown",
   "metadata": {},
   "source": [
    "## <u>Lab Grading</u>:\n",
    "\n",
    "Should we grade your submission?  If not, write the netID of the submission to be graded.  (Note: We will only grade one assignment per group, and we'll pick the first one that says we should grade that submission.  We will assign the same grade to all team members.)\n",
    "\n",
    "*For example*, you might respond: **grade this submission** or **my submission is under netID jdeeke**"
   ]
  },
  {
   "cell_type": "markdown",
   "metadata": {},
   "source": [
    "grade this submission"
   ]
  },
  {
   "cell_type": "markdown",
   "metadata": {},
   "source": [
    "If you said **my submission is under netID** above, we will not read any more of your lab submission.\n",
    "\n",
    "If you said **grade this submission** above, who worked with you on this submission?  Write both their **names** and **netIDs**.  \n",
    "\n",
    "Also, discuss and record your summer plans."
   ]
  },
  {
   "cell_type": "markdown",
   "metadata": {},
   "source": [
    "JoonWoo Ha (ha47) -> go back to Korea\n",
    "\n",
    "Soobin Jang (soobinj2) -> also go back to Korea"
   ]
  },
  {
   "cell_type": "markdown",
   "metadata": {},
   "source": [
    "## <u>Purpose</u>:\n",
    "You should work in groups of 2-3 on this report (not working in groups without permission will result in a point deduction). The purpose of this group lab assignment is to fit a regularized model and assess its performance on new data.\n",
    "<hr>"
   ]
  },
  {
   "cell_type": "markdown",
   "metadata": {},
   "source": [
    "## <u>Assignment Instructions</u>:"
   ]
  },
  {
   "cell_type": "markdown",
   "metadata": {},
   "source": [
    "### Group Roles\n",
    "\n",
    "Suggested and specified roles are provided below: \n",
    "\n",
    "#### Groups of 2\n",
    "\n",
    "* **Driver**: This student will type the report.  While typing the report, you may be the one who is selecting the functions to apply to the data.\n",
    "* **Navigator**: This student will guide the process of answering the question.  Specific ways to help may include: outlining the general steps needed to solve a question (providing the overview), locating examples within the course notes, and reviewing each line of code as it is typed.\n",
    "\n",
    "#### Groups of 3\n",
    "\n",
    "* **Driver**: This student will type the report.  They may also be the one to select the functions to apply to the data.\n",
    "* **Navigator**: This student will guide the process of answering the question.  They may select the general approach to answering the question and/or a few steps to be completed along the way. \n",
    "* **Communicator**: This student will review the report (as it is typed) to ensure that it is clear and concise.  This student may also locate relevant examples within the course notes that may help complete the assignment.\n",
    "\n",
    "<hr>\n",
    "\n",
    "### Imports"
   ]
  },
  {
   "cell_type": "code",
   "execution_count": 1,
   "metadata": {},
   "outputs": [],
   "source": [
    "#Run this\n",
    "import pandas as pd                    # imports pandas and calls the imported version 'pd'\n",
    "import matplotlib.pyplot as plt        # imports the package and calls it 'plt'\n",
    "import seaborn as sns                  # imports the seaborn package with the imported name 'sns'\n",
    "sns.set()  "
   ]
  },
  {
   "cell_type": "markdown",
   "metadata": {},
   "source": [
    "## Case Study: Avoiding Underwater Weighing\n",
    "\n",
    "We will look at data collected on 252 males in 1985.  In particular, we will consider a measure of the percent of body fat in these males, as measured by Siri's equation (`siri`).  This particular measure is obtained through an underwater weighing technique and is quite extensive and resource-intensive.  We would like to consider alternative (and easier to capture information) to get roughly the same information that the `siri` variable currently contains.  We have other body measures for these males available, including:\n",
    "\n",
    "- **age**: Age (yrs)\n",
    "- **weight**: Weight (lbs)\n",
    "- **height**: Height (inches)\n",
    "- **adipos**: BMI index\n",
    "- **neck**: Neck circumference (cm)\n",
    "- **chest**: Chest circumference (cm)\n",
    "- **abdom**: Abdomen circumference (cm)\n",
    "- **hip**: Hip circumference (cm)\n",
    "- **dthigh**: Thigh circumference (cm)\n",
    "- **knee**: Knee circumference (cm)\n",
    "- **ankle**: Ankle circumference (cm)\n",
    "- **biceps**: Extended bicepts circumference (cm)\n",
    "- **forearm**: Forearm circumference (cm)\n",
    "- **wrist**: Wrist circumference (cm)\n",
    "\n",
    "**We will use all variables in the data as predictors except for the siri, brozek, density, and free (fat free weight) variables**, since these four variables are challenging measurements to obtain and therefore might not be available for a different male that is not included in our current data.\n",
    "\n",
    "The code cell below will read in the data for you.  Be sure to run the cell. "
   ]
  },
  {
   "cell_type": "code",
   "execution_count": 2,
   "metadata": {},
   "outputs": [
    {
     "data": {
      "text/html": [
       "<div>\n",
       "<style scoped>\n",
       "    .dataframe tbody tr th:only-of-type {\n",
       "        vertical-align: middle;\n",
       "    }\n",
       "\n",
       "    .dataframe tbody tr th {\n",
       "        vertical-align: top;\n",
       "    }\n",
       "\n",
       "    .dataframe thead th {\n",
       "        text-align: right;\n",
       "    }\n",
       "</style>\n",
       "<table border=\"1\" class=\"dataframe\">\n",
       "  <thead>\n",
       "    <tr style=\"text-align: right;\">\n",
       "      <th></th>\n",
       "      <th>brozek</th>\n",
       "      <th>siri</th>\n",
       "      <th>density</th>\n",
       "      <th>age</th>\n",
       "      <th>weight</th>\n",
       "      <th>height</th>\n",
       "      <th>adipos</th>\n",
       "      <th>free</th>\n",
       "      <th>neck</th>\n",
       "      <th>chest</th>\n",
       "      <th>abdom</th>\n",
       "      <th>hip</th>\n",
       "      <th>thigh</th>\n",
       "      <th>knee</th>\n",
       "      <th>ankle</th>\n",
       "      <th>biceps</th>\n",
       "      <th>forearm</th>\n",
       "      <th>wrist</th>\n",
       "    </tr>\n",
       "  </thead>\n",
       "  <tbody>\n",
       "    <tr>\n",
       "      <th>0</th>\n",
       "      <td>12.6</td>\n",
       "      <td>12.3</td>\n",
       "      <td>1.0708</td>\n",
       "      <td>23</td>\n",
       "      <td>154.25</td>\n",
       "      <td>67.75</td>\n",
       "      <td>23.7</td>\n",
       "      <td>134.9</td>\n",
       "      <td>36.2</td>\n",
       "      <td>93.1</td>\n",
       "      <td>85.2</td>\n",
       "      <td>94.5</td>\n",
       "      <td>59.0</td>\n",
       "      <td>37.3</td>\n",
       "      <td>21.9</td>\n",
       "      <td>32.0</td>\n",
       "      <td>27.4</td>\n",
       "      <td>17.1</td>\n",
       "    </tr>\n",
       "    <tr>\n",
       "      <th>1</th>\n",
       "      <td>6.9</td>\n",
       "      <td>6.1</td>\n",
       "      <td>1.0853</td>\n",
       "      <td>22</td>\n",
       "      <td>173.25</td>\n",
       "      <td>72.25</td>\n",
       "      <td>23.4</td>\n",
       "      <td>161.3</td>\n",
       "      <td>38.5</td>\n",
       "      <td>93.6</td>\n",
       "      <td>83.0</td>\n",
       "      <td>98.7</td>\n",
       "      <td>58.7</td>\n",
       "      <td>37.3</td>\n",
       "      <td>23.4</td>\n",
       "      <td>30.5</td>\n",
       "      <td>28.9</td>\n",
       "      <td>18.2</td>\n",
       "    </tr>\n",
       "    <tr>\n",
       "      <th>2</th>\n",
       "      <td>24.6</td>\n",
       "      <td>25.3</td>\n",
       "      <td>1.0414</td>\n",
       "      <td>22</td>\n",
       "      <td>154.00</td>\n",
       "      <td>66.25</td>\n",
       "      <td>24.7</td>\n",
       "      <td>116.0</td>\n",
       "      <td>34.0</td>\n",
       "      <td>95.8</td>\n",
       "      <td>87.9</td>\n",
       "      <td>99.2</td>\n",
       "      <td>59.6</td>\n",
       "      <td>38.9</td>\n",
       "      <td>24.0</td>\n",
       "      <td>28.8</td>\n",
       "      <td>25.2</td>\n",
       "      <td>16.6</td>\n",
       "    </tr>\n",
       "    <tr>\n",
       "      <th>3</th>\n",
       "      <td>10.9</td>\n",
       "      <td>10.4</td>\n",
       "      <td>1.0751</td>\n",
       "      <td>26</td>\n",
       "      <td>184.75</td>\n",
       "      <td>72.25</td>\n",
       "      <td>24.9</td>\n",
       "      <td>164.7</td>\n",
       "      <td>37.4</td>\n",
       "      <td>101.8</td>\n",
       "      <td>86.4</td>\n",
       "      <td>101.2</td>\n",
       "      <td>60.1</td>\n",
       "      <td>37.3</td>\n",
       "      <td>22.8</td>\n",
       "      <td>32.4</td>\n",
       "      <td>29.4</td>\n",
       "      <td>18.2</td>\n",
       "    </tr>\n",
       "    <tr>\n",
       "      <th>4</th>\n",
       "      <td>27.8</td>\n",
       "      <td>28.7</td>\n",
       "      <td>1.0340</td>\n",
       "      <td>24</td>\n",
       "      <td>184.25</td>\n",
       "      <td>71.25</td>\n",
       "      <td>25.6</td>\n",
       "      <td>133.1</td>\n",
       "      <td>34.4</td>\n",
       "      <td>97.3</td>\n",
       "      <td>100.0</td>\n",
       "      <td>101.9</td>\n",
       "      <td>63.2</td>\n",
       "      <td>42.2</td>\n",
       "      <td>24.0</td>\n",
       "      <td>32.2</td>\n",
       "      <td>27.7</td>\n",
       "      <td>17.7</td>\n",
       "    </tr>\n",
       "    <tr>\n",
       "      <th>...</th>\n",
       "      <td>...</td>\n",
       "      <td>...</td>\n",
       "      <td>...</td>\n",
       "      <td>...</td>\n",
       "      <td>...</td>\n",
       "      <td>...</td>\n",
       "      <td>...</td>\n",
       "      <td>...</td>\n",
       "      <td>...</td>\n",
       "      <td>...</td>\n",
       "      <td>...</td>\n",
       "      <td>...</td>\n",
       "      <td>...</td>\n",
       "      <td>...</td>\n",
       "      <td>...</td>\n",
       "      <td>...</td>\n",
       "      <td>...</td>\n",
       "      <td>...</td>\n",
       "    </tr>\n",
       "    <tr>\n",
       "      <th>247</th>\n",
       "      <td>11.5</td>\n",
       "      <td>11.0</td>\n",
       "      <td>1.0736</td>\n",
       "      <td>70</td>\n",
       "      <td>134.25</td>\n",
       "      <td>67.00</td>\n",
       "      <td>21.1</td>\n",
       "      <td>118.9</td>\n",
       "      <td>34.9</td>\n",
       "      <td>89.2</td>\n",
       "      <td>83.6</td>\n",
       "      <td>88.8</td>\n",
       "      <td>49.6</td>\n",
       "      <td>34.8</td>\n",
       "      <td>21.5</td>\n",
       "      <td>25.6</td>\n",
       "      <td>25.7</td>\n",
       "      <td>18.5</td>\n",
       "    </tr>\n",
       "    <tr>\n",
       "      <th>248</th>\n",
       "      <td>32.3</td>\n",
       "      <td>33.6</td>\n",
       "      <td>1.0236</td>\n",
       "      <td>72</td>\n",
       "      <td>201.00</td>\n",
       "      <td>69.75</td>\n",
       "      <td>29.1</td>\n",
       "      <td>136.1</td>\n",
       "      <td>40.9</td>\n",
       "      <td>108.5</td>\n",
       "      <td>105.0</td>\n",
       "      <td>104.5</td>\n",
       "      <td>59.6</td>\n",
       "      <td>40.8</td>\n",
       "      <td>23.2</td>\n",
       "      <td>35.2</td>\n",
       "      <td>28.6</td>\n",
       "      <td>20.1</td>\n",
       "    </tr>\n",
       "    <tr>\n",
       "      <th>249</th>\n",
       "      <td>28.3</td>\n",
       "      <td>29.3</td>\n",
       "      <td>1.0328</td>\n",
       "      <td>72</td>\n",
       "      <td>186.75</td>\n",
       "      <td>66.00</td>\n",
       "      <td>30.2</td>\n",
       "      <td>133.9</td>\n",
       "      <td>38.9</td>\n",
       "      <td>111.1</td>\n",
       "      <td>111.5</td>\n",
       "      <td>101.7</td>\n",
       "      <td>60.3</td>\n",
       "      <td>37.3</td>\n",
       "      <td>21.5</td>\n",
       "      <td>31.3</td>\n",
       "      <td>27.2</td>\n",
       "      <td>18.0</td>\n",
       "    </tr>\n",
       "    <tr>\n",
       "      <th>250</th>\n",
       "      <td>25.3</td>\n",
       "      <td>26.0</td>\n",
       "      <td>1.0399</td>\n",
       "      <td>72</td>\n",
       "      <td>190.75</td>\n",
       "      <td>70.50</td>\n",
       "      <td>27.0</td>\n",
       "      <td>142.6</td>\n",
       "      <td>38.9</td>\n",
       "      <td>108.3</td>\n",
       "      <td>101.3</td>\n",
       "      <td>97.8</td>\n",
       "      <td>56.0</td>\n",
       "      <td>41.6</td>\n",
       "      <td>22.7</td>\n",
       "      <td>30.5</td>\n",
       "      <td>29.4</td>\n",
       "      <td>19.8</td>\n",
       "    </tr>\n",
       "    <tr>\n",
       "      <th>251</th>\n",
       "      <td>30.7</td>\n",
       "      <td>31.9</td>\n",
       "      <td>1.0271</td>\n",
       "      <td>74</td>\n",
       "      <td>207.50</td>\n",
       "      <td>70.00</td>\n",
       "      <td>29.8</td>\n",
       "      <td>143.7</td>\n",
       "      <td>40.8</td>\n",
       "      <td>112.4</td>\n",
       "      <td>108.5</td>\n",
       "      <td>107.1</td>\n",
       "      <td>59.3</td>\n",
       "      <td>42.2</td>\n",
       "      <td>24.6</td>\n",
       "      <td>33.7</td>\n",
       "      <td>30.0</td>\n",
       "      <td>20.9</td>\n",
       "    </tr>\n",
       "  </tbody>\n",
       "</table>\n",
       "<p>252 rows × 18 columns</p>\n",
       "</div>"
      ],
      "text/plain": [
       "     brozek  siri  density  age  weight  height  adipos   free  neck  chest  \\\n",
       "0      12.6  12.3   1.0708   23  154.25   67.75    23.7  134.9  36.2   93.1   \n",
       "1       6.9   6.1   1.0853   22  173.25   72.25    23.4  161.3  38.5   93.6   \n",
       "2      24.6  25.3   1.0414   22  154.00   66.25    24.7  116.0  34.0   95.8   \n",
       "3      10.9  10.4   1.0751   26  184.75   72.25    24.9  164.7  37.4  101.8   \n",
       "4      27.8  28.7   1.0340   24  184.25   71.25    25.6  133.1  34.4   97.3   \n",
       "..      ...   ...      ...  ...     ...     ...     ...    ...   ...    ...   \n",
       "247    11.5  11.0   1.0736   70  134.25   67.00    21.1  118.9  34.9   89.2   \n",
       "248    32.3  33.6   1.0236   72  201.00   69.75    29.1  136.1  40.9  108.5   \n",
       "249    28.3  29.3   1.0328   72  186.75   66.00    30.2  133.9  38.9  111.1   \n",
       "250    25.3  26.0   1.0399   72  190.75   70.50    27.0  142.6  38.9  108.3   \n",
       "251    30.7  31.9   1.0271   74  207.50   70.00    29.8  143.7  40.8  112.4   \n",
       "\n",
       "     abdom    hip  thigh  knee  ankle  biceps  forearm  wrist  \n",
       "0     85.2   94.5   59.0  37.3   21.9    32.0     27.4   17.1  \n",
       "1     83.0   98.7   58.7  37.3   23.4    30.5     28.9   18.2  \n",
       "2     87.9   99.2   59.6  38.9   24.0    28.8     25.2   16.6  \n",
       "3     86.4  101.2   60.1  37.3   22.8    32.4     29.4   18.2  \n",
       "4    100.0  101.9   63.2  42.2   24.0    32.2     27.7   17.7  \n",
       "..     ...    ...    ...   ...    ...     ...      ...    ...  \n",
       "247   83.6   88.8   49.6  34.8   21.5    25.6     25.7   18.5  \n",
       "248  105.0  104.5   59.6  40.8   23.2    35.2     28.6   20.1  \n",
       "249  111.5  101.7   60.3  37.3   21.5    31.3     27.2   18.0  \n",
       "250  101.3   97.8   56.0  41.6   22.7    30.5     29.4   19.8  \n",
       "251  108.5  107.1   59.3  42.2   24.6    33.7     30.0   20.9  \n",
       "\n",
       "[252 rows x 18 columns]"
      ]
     },
     "execution_count": 2,
     "metadata": {},
     "output_type": "execute_result"
    }
   ],
   "source": [
    "df = pd.read_csv('fat.csv')\n",
    "\n",
    "df"
   ]
  },
  {
   "cell_type": "markdown",
   "metadata": {},
   "source": [
    "### 1. [1 point] Select a Regularization Technique \n",
    "\n",
    "We work for a company that is measuring the proportion of body fat for customers in order to design suits that can fit well for a customer that is ordering the suit over the internet.  We know that asking these customers to perform many body measurements will be burdensome for the customers, so we'd like to streamline the process by only asking the customer to provide a few key measurements.  We can then use our models to select an appropriately cut and tailored suit for the customer.\n",
    "\n",
    "**a)** For this situation, what would our primary purpose of fitting the model be?  In other words, are we concerned about making predictions or understanding structures? "
   ]
  },
  {
   "cell_type": "markdown",
   "metadata": {},
   "source": [
    "In this situation, our primary purpose is to make accurate predictions. We aim to predict a customer's body fat percentage using only a few body measurements. Our goal is not to understand the underlying structure or relationships between variables, but rather to minimize prediction error in a practical setting.\n",
    "\n"
   ]
  },
  {
   "cell_type": "markdown",
   "metadata": {},
   "source": [
    "**b)** We would like to use a regularization model for our fitted model.  What regularization technique would you suggest should be used based on the optimal design for the company and customer?"
   ]
  },
  {
   "cell_type": "markdown",
   "metadata": {},
   "source": [
    "Considering your company's goals and your customers' convenience, it makes sense to use Lasso regression. Lasso automatically performs variable selection by zeroing out the coefficients of unimportant variables, helping you make accurate predictions while asking for minimal measurements from your customers. These characteristics are effective in simplifying models and improving customer experience."
   ]
  },
  {
   "cell_type": "markdown",
   "metadata": {},
   "source": [
    "### 2. [2.5 points] Prepare the Data\n",
    "\n",
    "**a)** Split your data into training and test data.  Use a random state (you can choose your random state), and set aside 20% of your data for the test data."
   ]
  },
  {
   "cell_type": "code",
   "execution_count": 5,
   "metadata": {},
   "outputs": [],
   "source": [
    "import pandas as pd\n",
    "from sklearn.model_selection import train_test_split\n",
    "\n",
    "df = df.dropna()\n",
    "\n",
    "X = df.drop(columns=['brozek'])\n",
    "y = df['brozek']\n",
    "\n",
    "X_train, X_test, y_train, y_test = train_test_split(X, y, test_size=0.2, random_state=42)"
   ]
  },
  {
   "cell_type": "markdown",
   "metadata": {},
   "source": [
    "**b)** We know that regularization models require some preparation of the data before the model can be fit.  Scale your $X$ explanatory variables for this model.\n",
    "\n",
    "*Note:* You should perform this scaling in two stages.  You should both fit a scaler and transform your training data in the first stage.  In the second stage, you should adjust your test data by applying the scaler trained by your training data to your test data."
   ]
  },
  {
   "cell_type": "code",
   "execution_count": 6,
   "metadata": {},
   "outputs": [],
   "source": [
    "from sklearn.preprocessing import StandardScaler\n",
    "\n",
    "scaler = StandardScaler()\n",
    "\n",
    "X_train_scaled = scaler.fit_transform(X_train)\n",
    "\n",
    "X_test_scaled = scaler.transform(X_test)"
   ]
  },
  {
   "cell_type": "markdown",
   "metadata": {},
   "source": [
    "**c)** Prepare your y variable for the model."
   ]
  },
  {
   "cell_type": "code",
   "execution_count": 8,
   "metadata": {},
   "outputs": [],
   "source": [
    "import numpy as np\n",
    "\n",
    "y_train_array = np.array(y_train)\n",
    "y_test_array = np.array(y_test)"
   ]
  },
  {
   "cell_type": "markdown",
   "metadata": {},
   "source": [
    "### 3. [3 points] Fitting a Regularized Model\n",
    "\n",
    "**a)** We'd like to fit a model using the regularization technique suggested in Question 1.  Start by fitting your model with a $\\lambda$ of 2 to your training data."
   ]
  },
  {
   "cell_type": "code",
   "execution_count": 10,
   "metadata": {},
   "outputs": [
    {
     "name": "stdout",
     "output_type": "stream",
     "text": [
      "Number of slopes equal to 0: 16\n",
      "Variables retained in the model: ['siri']\n"
     ]
    }
   ],
   "source": [
    "from sklearn.linear_model import Lasso\n",
    "\n",
    "\n",
    "lasso_model = Lasso(alpha=2)\n",
    "lasso_model.fit(X_train_scaled, y_train_array)\n",
    "\n",
    "\n",
    "coefficients = lasso_model.coef_\n",
    "\n",
    "num_zero_coeffs = sum(coefficients == 0)\n",
    "print(\"Number of slopes equal to 0:\", num_zero_coeffs)\n",
    "\n",
    "selected_features = X.columns[coefficients != 0]\n",
    "print(\"Variables retained in the model:\", list(selected_features))\n"
   ]
  },
  {
   "cell_type": "markdown",
   "metadata": {},
   "source": [
    "**b)** How many of your slopes were equal to 0 for this model?  Which variables would you suggest should be retained in the model?"
   ]
  },
  {
   "cell_type": "markdown",
   "metadata": {},
   "source": [
    "The Lasso regression analysis showed that a total of 16 variables had a coefficient of zero, meaning that they were deemed insignificant to the prediction and were removed from the model. The only variable with a non-zero coefficient was SIRI, and this variable was retained in the model because it was determined to be a significant contributor to the prediction. Therefore, it is appropriate to retain only the siri variable in the model."
   ]
  },
  {
   "cell_type": "markdown",
   "metadata": {},
   "source": [
    "**c)** Fit another version of your regularized model to your training data, but this time using a $\\lambda$ of 0.5."
   ]
  },
  {
   "cell_type": "code",
   "execution_count": 12,
   "metadata": {},
   "outputs": [
    {
     "name": "stdout",
     "output_type": "stream",
     "text": [
      "Number of slopes equal to 0: 16\n",
      "Variables retained in the model: ['siri']\n"
     ]
    }
   ],
   "source": [
    "lasso_model_05 = Lasso(alpha=0.5)\n",
    "lasso_model_05.fit(X_train_scaled, y_train_array)\n",
    "\n",
    "coefficients_05 = lasso_model_05.coef_\n",
    "\n",
    "num_zero_coeffs_05 = sum(coefficients_05 == 0)\n",
    "print(\"Number of slopes equal to 0:\", num_zero_coeffs_05)\n",
    "\n",
    "selected_features_05 = X.columns[coefficients_05 != 0]\n",
    "print(\"Variables retained in the model:\", list(selected_features_05))\n"
   ]
  },
  {
   "cell_type": "markdown",
   "metadata": {},
   "source": [
    "**d)** How many of your slopes were equal to 0 for this model?  Which variables would you suggest should be retained from this version of the model?"
   ]
  },
  {
   "cell_type": "markdown",
   "metadata": {},
   "source": [
    "In the Lasso regression analysis with lambda = 0.5, a total of 16 variables have a coefficient of zero, which means that many variables have been removed, the same as in the previous model. The variable ‘siri’ is the only variable that has a non-zero coefficient and has been retained in the model. Therefore, it is appropriate to retain ‘siri’ in this version of the model as it is the only variable that is important for prediction."
   ]
  },
  {
   "cell_type": "markdown",
   "metadata": {},
   "source": [
    "### 4. [2 points] Comparing Model Results\n",
    "\n",
    "**a)** Apply each of your two models fit from **3a** and **3c** to your test set.  Calculate the $R^2$ on your test set for each of your models."
   ]
  },
  {
   "cell_type": "code",
   "execution_count": 13,
   "metadata": {},
   "outputs": [
    {
     "name": "stdout",
     "output_type": "stream",
     "text": [
      "Test R² for model with lambda = 2: 0.9353999173825431\n",
      "Test R² for model with lambda = 0.5: 0.9958635677243792\n"
     ]
    }
   ],
   "source": [
    "from sklearn.metrics import r2_score\n",
    "\n",
    "y_pred_2 = lasso_model.predict(X_test_scaled)\n",
    "y_pred_05 = lasso_model_05.predict(X_test_scaled)\n",
    "\n",
    "r2_2 = r2_score(y_test_array, y_pred_2)\n",
    "r2_05 = r2_score(y_test_array, y_pred_05)\n",
    "\n",
    "print(\"Test R² for model with lambda = 2:\", r2_2)\n",
    "print(\"Test R² for model with lambda = 0.5:\", r2_05)\n"
   ]
  },
  {
   "cell_type": "markdown",
   "metadata": {},
   "source": [
    "**b)** Which $\\lambda$ would you suggest based on your test data?"
   ]
  },
  {
   "cell_type": "markdown",
   "metadata": {},
   "source": [
    "When compared based on the R^2 value of the test data, the model with λ = 0.5 shows a high explanatory power of 0.9959, which is better than the R^2 of the λ = 2 model, which is 0.9354. Therefore, based on the performance of the test data, it is more appropriate to choose the model with λ = 0.5."
   ]
  },
  {
   "cell_type": "markdown",
   "metadata": {},
   "source": [
    "**c)** Compare the results to another group (or two) in your lab.  Did your models from **3** include the same predictor variables?  Did you pick the same preferred $\\lambda$ from our two choices in **4b**?  Did you achieve the same $R^2$ values on your test data from **4a**?  Did you have the same training/test data split from **2a**?"
   ]
  },
  {
   "cell_type": "markdown",
   "metadata": {},
   "source": [
    "When we compared our results with other groups, we found that in some cases they chose different predictor variables than our model, and some groups reported that they obtained models that retained additional variables besides ‘siri’. These differences were likely due to different values of the normalization strength λ or different splits of the training/test data.\n",
    "\n",
    "Also, while some groups preferred the model with λ = 2, most groups tended to favor λ = 0.5, as it produced higher R² values. Our model had a very high test R^2 of 0.9959, but it was slightly different from the other groups because different data splits can lead to different R^2 values."
   ]
  },
  {
   "cell_type": "markdown",
   "metadata": {},
   "source": [
    "### 5. [1.5 points] A Limitation of the Results\n",
    "\n",
    "Return to your selection of a regularization technique in Question 1 and recall that there are two primary purposes or benefits to using a regularization model.  Assess if there is still a concern in your model that the other regularization model approach could address.  Explain."
   ]
  },
  {
   "cell_type": "code",
   "execution_count": 14,
   "metadata": {},
   "outputs": [
    {
     "name": "stdout",
     "output_type": "stream",
     "text": [
      "Lasso R²: 0.9958635677243792\n",
      "Ridge R²: 0.9995568312355361\n"
     ]
    }
   ],
   "source": [
    "from sklearn.linear_model import Ridge, Lasso\n",
    "from sklearn.metrics import r2_score\n",
    "\n",
    "lasso = Lasso(alpha=0.5)\n",
    "lasso.fit(X_train_scaled, y_train_array)\n",
    "lasso_r2 = r2_score(y_test_array, lasso.predict(X_test_scaled))\n",
    "print(\"Lasso R²:\", lasso_r2)\n",
    "\n",
    "ridge = Ridge(alpha=0.5)\n",
    "ridge.fit(X_train_scaled, y_train_array)\n",
    "ridge_r2 = r2_score(y_test_array, ridge.predict(X_test_scaled))\n",
    "print(\"Ridge R²:\", ridge_r2)"
   ]
  },
  {
   "cell_type": "markdown",
   "metadata": {},
   "source": [
    "Ridge had higher predictive power while keeping all variables, suggesting that while Lasso is effective at selecting variables, it may lose information by removing some of the highly correlated variables. Ridge, on the other hand, keeps variables with multicollinearity together, which may provide more reliable coefficient estimates and generalization performance."
   ]
  }
 ],
 "metadata": {
  "kernelspec": {
   "display_name": "base",
   "language": "python",
   "name": "python3"
  },
  "language_info": {
   "codemirror_mode": {
    "name": "ipython",
    "version": 3
   },
   "file_extension": ".py",
   "mimetype": "text/x-python",
   "name": "python",
   "nbconvert_exporter": "python",
   "pygments_lexer": "ipython3",
   "version": "3.11.5"
  }
 },
 "nbformat": 4,
 "nbformat_minor": 2
}

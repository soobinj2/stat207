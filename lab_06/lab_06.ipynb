{
 "cells": [
  {
   "cell_type": "markdown",
   "metadata": {},
   "source": [
    "# STAT 207 Group Lab Assignment 6 - [10 total points]\n",
    "\n",
    "## Hypothesis Testing"
   ]
  },
  {
   "cell_type": "markdown",
   "metadata": {},
   "source": [
    "<hr>"
   ]
  },
  {
   "cell_type": "markdown",
   "metadata": {},
   "source": [
    "## <u>Lab Grading</u>:\n",
    "\n",
    "Should we grade your submission?  If not, write the netID of the submission to be graded.  (Note: We will only grade one assignment per group, and we'll pick the first one that says we should grade that submission.  We will assign the same grade to all team members.)\n",
    "\n",
    "*For example*, you might respond: **grade this submission** or **my submission is under netID jdeeke**"
   ]
  },
  {
   "cell_type": "markdown",
   "metadata": {},
   "source": [
    "my submission is under **ha47**"
   ]
  },
  {
   "cell_type": "markdown",
   "metadata": {},
   "source": [
    "If you said **my submission is under netID** above, we will not read any more of your lab submission.\n",
    "\n",
    "If you said **grade this submission** above, who worked with you on this submission?  Write both their **names** and **netIDs**.  \n",
    "\n",
    "Also, record each person's favorite place (or type of food) to eat on/near Green Street."
   ]
  },
  {
   "cell_type": "markdown",
   "metadata": {},
   "source": []
  },
  {
   "cell_type": "markdown",
   "metadata": {},
   "source": [
    "<hr>"
   ]
  },
  {
   "cell_type": "markdown",
   "metadata": {},
   "source": [
    "## <u>Purpose</u>:\n",
    "You should work in groups of 2-3 on this report (not working in groups without permission will result in a point deduction). The purpose of this group lab assignment is to perform a hypothesis test.\n",
    "<hr>"
   ]
  },
  {
   "cell_type": "markdown",
   "metadata": {},
   "source": [
    "## <u>Assignment Instructions</u>:\n",
    "\n",
    "### Group Roles\n",
    "\n",
    "Suggested and specified roles are provided below: \n",
    "\n",
    "#### Groups of 2\n",
    "\n",
    "* **Driver**: This student will type the report.  While typing the report, you may be the one who is selecting the functions to apply to the data.\n",
    "* **Navigator**: This student will guide the process of answering the question.  Specific ways to help may include: outlining the general steps needed to solve a question (providing the overview), locating examples within the course notes, and reviewing each line of code as it is typed.\n",
    "\n",
    "#### Groups of 3\n",
    "\n",
    "* **Driver**: This student will type the report.  They may also be the one to select the functions to apply to the data.\n",
    "* **Navigator**: This student will guide the process of answering the question.  They may select the general approach to answering the question and/or a few steps to be completed along the way. \n",
    "* **Communicator**: This student will review the report (as it is typed) to ensure that it is clear and concise.  This student may also locate relevant examples within the course notes that may help complete the assignment.\n",
    "\n",
    "<hr>\n",
    "\n",
    "### Imports"
   ]
  },
  {
   "cell_type": "code",
   "execution_count": 1,
   "metadata": {},
   "outputs": [],
   "source": [
    "#Run this\n",
    "import pandas as pd                    # imports pandas and calls the imported version 'pd'\n",
    "import matplotlib.pyplot as plt        # imports the package and calls it 'plt'\n",
    "import seaborn as sns                  # imports the seaborn package with the imported name 'sns'\n",
    "sns.set()  "
   ]
  },
  {
   "cell_type": "markdown",
   "metadata": {},
   "source": [
    "## Case Study: STAT 207 Student Analysis\n",
    "\n",
    "We are interested in learning more about students who enroll in STAT 207: Data Science Exploration.  From Fall 2021 through Fall 2024, 1344 students enrolled in STAT 207, and we have 446 additional students enrolled this semester.  Rather than track down and ask each of these 1790 students questions, we will use the students in <i>this lab section</i> in an attempt to learn more about the larger population of **all students who have taken STAT 207 up to and including this semester**."
   ]
  },
  {
   "cell_type": "markdown",
   "metadata": {},
   "source": [
    "## 1. [0.5 point] Pose a Question\n",
    "\n",
    "As a group, brainstorm theories that *you* have about all STAT 207 students or questions that *you* would be interested in asking all STAT 207 students (from the last seven semesters).\n",
    "\n",
    "Make sure that your questions meet the following characteristics:\n",
    "\n",
    "- the question involves one quantitative variable\n",
    "- you can define a parameter of interest\n",
    "- you can write competing theories about your parameter of interest\n",
    "\n",
    "Let your lab TA know your question(s) to pose to the broader class.  Most (or all) questions will be posed to the whole class.  If your question is not selected, select one of the other questions to analyze for the remainder of this Group Lab Assignment.\n",
    "\n",
    "- Example Theory 1: I think that the median distance that all STAT 207 students would guess a Canadian goose can travel in a day is 150 miles.  The class believes that it is not 150 meters.\n",
    "- Example Theory 2: I believe that the median guess from all STAT 207 students for the number of teeth an orca whale has is 30.  The class believes that the median guess is greater than 30.\n",
    "\n",
    "**Note: Don't use these example theories.  You should come up with your own.**\n",
    "\n",
    "**a)** Write your *own* question of interest below."
   ]
  },
  {
   "cell_type": "markdown",
   "metadata": {},
   "source": [
    "Average consuming cup of coffee of STAT 207 students is 1.5"
   ]
  },
  {
   "cell_type": "markdown",
   "metadata": {},
   "source": [
    "**b)** What variable would you record for each student?  How might you phrase the question to obtain your variable from a sample of all current or previous STAT 207 students?"
   ]
  },
  {
   "cell_type": "markdown",
   "metadata": {},
   "source": [
    "The quntative consuming of cup of coffee per day"
   ]
  },
  {
   "cell_type": "markdown",
   "metadata": {},
   "source": [
    "## 2. [2 points] Hypotheses\n",
    "\n",
    "**a)** Now that you've defined a theory and began gathering data about it from our current STAT 207 students, let's formalize our theories for testing.\n",
    "\n",
    "Write your null and alternative hypotheses to evaluate these claims.  You should use appropriate notation to write these hypotheses.  For any population parameter terms that you use, be sure to define what this parameter refers to.\n",
    "\n",
    "Remember that the null hypothesis corresponds to the skeptic's claim and should contain the equals sign (statement of equality).  The null hypothesis will also contain the idea that nothing interesting is going on, so that the parameter of interest is exactly equal to a value."
   ]
  },
  {
   "cell_type": "markdown",
   "metadata": {},
   "source": [
    "- H0 = 1.5\n",
    "- H1 != 1.5"
   ]
  },
  {
   "cell_type": "markdown",
   "metadata": {},
   "source": [
    "**b)** Decide how much evidence your \"skeptic\" would need to abandon their original claim (that is, the null hypothesis).  This will be your significance level, and should be a percentage/proportion between 0% and 100% (or 0 and 1) and should be closer to 0 than 1."
   ]
  },
  {
   "cell_type": "code",
   "execution_count": null,
   "metadata": {},
   "outputs": [],
   "source": []
  },
  {
   "cell_type": "markdown",
   "metadata": {},
   "source": []
  },
  {
   "cell_type": "markdown",
   "metadata": {},
   "source": [
    "## 3. [1.5 points] Initial Visualization\n",
    "\n",
    "Perform an initial visualization from your sample data.  "
   ]
  },
  {
   "cell_type": "code",
   "execution_count": 3,
   "metadata": {},
   "outputs": [
    {
     "data": {
      "text/html": [
       "<div>\n",
       "<style scoped>\n",
       "    .dataframe tbody tr th:only-of-type {\n",
       "        vertical-align: middle;\n",
       "    }\n",
       "\n",
       "    .dataframe tbody tr th {\n",
       "        vertical-align: top;\n",
       "    }\n",
       "\n",
       "    .dataframe thead th {\n",
       "        text-align: right;\n",
       "    }\n",
       "</style>\n",
       "<table border=\"1\" class=\"dataframe\">\n",
       "  <thead>\n",
       "    <tr style=\"text-align: right;\">\n",
       "      <th></th>\n",
       "      <th>Timestamp</th>\n",
       "      <th>Score</th>\n",
       "      <th>height_willis_tower</th>\n",
       "      <th>distance_to_uiuc_miles</th>\n",
       "      <th>coffee_consume_cups</th>\n",
       "      <th>height_armory_meter</th>\n",
       "      <th>hours_spend_rso</th>\n",
       "    </tr>\n",
       "  </thead>\n",
       "  <tbody>\n",
       "    <tr>\n",
       "      <th>0</th>\n",
       "      <td>2/26/2025 15:51:28</td>\n",
       "      <td>NaN</td>\n",
       "      <td>1500</td>\n",
       "      <td>450</td>\n",
       "      <td>2</td>\n",
       "      <td>45</td>\n",
       "      <td>12</td>\n",
       "    </tr>\n",
       "    <tr>\n",
       "      <th>1</th>\n",
       "      <td>2/26/2025 15:51:49</td>\n",
       "      <td>NaN</td>\n",
       "      <td>900</td>\n",
       "      <td>150</td>\n",
       "      <td>1</td>\n",
       "      <td>30</td>\n",
       "      <td>5</td>\n",
       "    </tr>\n",
       "    <tr>\n",
       "      <th>2</th>\n",
       "      <td>2/26/2025 15:51:54</td>\n",
       "      <td>NaN</td>\n",
       "      <td>1000</td>\n",
       "      <td>6624</td>\n",
       "      <td>1</td>\n",
       "      <td>100</td>\n",
       "      <td>9</td>\n",
       "    </tr>\n",
       "    <tr>\n",
       "      <th>3</th>\n",
       "      <td>2/26/2025 15:51:54</td>\n",
       "      <td>NaN</td>\n",
       "      <td>910</td>\n",
       "      <td>3.5</td>\n",
       "      <td>0</td>\n",
       "      <td>12</td>\n",
       "      <td>0</td>\n",
       "    </tr>\n",
       "    <tr>\n",
       "      <th>4</th>\n",
       "      <td>2/26/2025 15:52:16</td>\n",
       "      <td>NaN</td>\n",
       "      <td>200</td>\n",
       "      <td>30000</td>\n",
       "      <td>2</td>\n",
       "      <td>15</td>\n",
       "      <td>3</td>\n",
       "    </tr>\n",
       "    <tr>\n",
       "      <th>5</th>\n",
       "      <td>2/26/2025 15:52:27</td>\n",
       "      <td>NaN</td>\n",
       "      <td>1400</td>\n",
       "      <td>700</td>\n",
       "      <td>0</td>\n",
       "      <td>50</td>\n",
       "      <td>2</td>\n",
       "    </tr>\n",
       "    <tr>\n",
       "      <th>6</th>\n",
       "      <td>2/26/2025 15:52:29</td>\n",
       "      <td>NaN</td>\n",
       "      <td>10000</td>\n",
       "      <td>3000</td>\n",
       "      <td>0</td>\n",
       "      <td>50</td>\n",
       "      <td>5</td>\n",
       "    </tr>\n",
       "    <tr>\n",
       "      <th>7</th>\n",
       "      <td>2/26/2025 15:52:40</td>\n",
       "      <td>NaN</td>\n",
       "      <td>100</td>\n",
       "      <td>10000</td>\n",
       "      <td>3</td>\n",
       "      <td>30</td>\n",
       "      <td>10</td>\n",
       "    </tr>\n",
       "    <tr>\n",
       "      <th>8</th>\n",
       "      <td>2/26/2025 15:52:48</td>\n",
       "      <td>NaN</td>\n",
       "      <td>10000</td>\n",
       "      <td>160</td>\n",
       "      <td>0</td>\n",
       "      <td>25</td>\n",
       "      <td>0</td>\n",
       "    </tr>\n",
       "    <tr>\n",
       "      <th>9</th>\n",
       "      <td>2/26/2025 15:53:00</td>\n",
       "      <td>NaN</td>\n",
       "      <td>1700</td>\n",
       "      <td>130</td>\n",
       "      <td>0</td>\n",
       "      <td>30</td>\n",
       "      <td>2</td>\n",
       "    </tr>\n",
       "    <tr>\n",
       "      <th>10</th>\n",
       "      <td>2/26/2025 15:53:18</td>\n",
       "      <td>NaN</td>\n",
       "      <td>1100</td>\n",
       "      <td>123</td>\n",
       "      <td>3</td>\n",
       "      <td>40</td>\n",
       "      <td>4</td>\n",
       "    </tr>\n",
       "    <tr>\n",
       "      <th>11</th>\n",
       "      <td>2/26/2025 15:53:23</td>\n",
       "      <td>NaN</td>\n",
       "      <td>500</td>\n",
       "      <td>6000</td>\n",
       "      <td>0</td>\n",
       "      <td>100</td>\n",
       "      <td>2</td>\n",
       "    </tr>\n",
       "    <tr>\n",
       "      <th>12</th>\n",
       "      <td>2/26/2025 15:53:23</td>\n",
       "      <td>NaN</td>\n",
       "      <td>1500</td>\n",
       "      <td>2100</td>\n",
       "      <td>0</td>\n",
       "      <td>250</td>\n",
       "      <td>2</td>\n",
       "    </tr>\n",
       "    <tr>\n",
       "      <th>13</th>\n",
       "      <td>2/26/2025 15:53:48</td>\n",
       "      <td>NaN</td>\n",
       "      <td>1000</td>\n",
       "      <td>7900</td>\n",
       "      <td>4</td>\n",
       "      <td>10</td>\n",
       "      <td>0</td>\n",
       "    </tr>\n",
       "    <tr>\n",
       "      <th>14</th>\n",
       "      <td>2/26/2025 15:53:48</td>\n",
       "      <td>NaN</td>\n",
       "      <td>100</td>\n",
       "      <td>7000</td>\n",
       "      <td>2</td>\n",
       "      <td>800</td>\n",
       "      <td>10</td>\n",
       "    </tr>\n",
       "    <tr>\n",
       "      <th>15</th>\n",
       "      <td>2/26/2025 15:54:12</td>\n",
       "      <td>NaN</td>\n",
       "      <td>200</td>\n",
       "      <td>6620</td>\n",
       "      <td>1</td>\n",
       "      <td>12</td>\n",
       "      <td>7</td>\n",
       "    </tr>\n",
       "    <tr>\n",
       "      <th>16</th>\n",
       "      <td>2/26/2025 15:54:14</td>\n",
       "      <td>NaN</td>\n",
       "      <td>20</td>\n",
       "      <td>0</td>\n",
       "      <td>1</td>\n",
       "      <td>5</td>\n",
       "      <td>3</td>\n",
       "    </tr>\n",
       "    <tr>\n",
       "      <th>17</th>\n",
       "      <td>2/26/2025 15:54:21</td>\n",
       "      <td>NaN</td>\n",
       "      <td>7</td>\n",
       "      <td>7</td>\n",
       "      <td>5</td>\n",
       "      <td>10</td>\n",
       "      <td>0</td>\n",
       "    </tr>\n",
       "    <tr>\n",
       "      <th>18</th>\n",
       "      <td>2/26/2025 15:54:55</td>\n",
       "      <td>NaN</td>\n",
       "      <td>400</td>\n",
       "      <td>8000</td>\n",
       "      <td>1</td>\n",
       "      <td>10</td>\n",
       "      <td>6</td>\n",
       "    </tr>\n",
       "    <tr>\n",
       "      <th>19</th>\n",
       "      <td>2/26/2025 15:55:11</td>\n",
       "      <td>NaN</td>\n",
       "      <td>442</td>\n",
       "      <td>6,310</td>\n",
       "      <td>0</td>\n",
       "      <td>10</td>\n",
       "      <td>6</td>\n",
       "    </tr>\n",
       "  </tbody>\n",
       "</table>\n",
       "</div>"
      ],
      "text/plain": [
       "             Timestamp  Score  height_willis_tower distance_to_uiuc_miles  \\\n",
       "0   2/26/2025 15:51:28    NaN                 1500                    450   \n",
       "1   2/26/2025 15:51:49    NaN                  900                    150   \n",
       "2   2/26/2025 15:51:54    NaN                 1000                   6624   \n",
       "3   2/26/2025 15:51:54    NaN                  910                    3.5   \n",
       "4   2/26/2025 15:52:16    NaN                  200                  30000   \n",
       "5   2/26/2025 15:52:27    NaN                 1400                    700   \n",
       "6   2/26/2025 15:52:29    NaN                10000                   3000   \n",
       "7   2/26/2025 15:52:40    NaN                  100                  10000   \n",
       "8   2/26/2025 15:52:48    NaN                10000                    160   \n",
       "9   2/26/2025 15:53:00    NaN                 1700                    130   \n",
       "10  2/26/2025 15:53:18    NaN                 1100                    123   \n",
       "11  2/26/2025 15:53:23    NaN                  500                   6000   \n",
       "12  2/26/2025 15:53:23    NaN                 1500                   2100   \n",
       "13  2/26/2025 15:53:48    NaN                 1000                   7900   \n",
       "14  2/26/2025 15:53:48    NaN                  100                   7000   \n",
       "15  2/26/2025 15:54:12    NaN                  200                   6620   \n",
       "16  2/26/2025 15:54:14    NaN                   20                      0   \n",
       "17  2/26/2025 15:54:21    NaN                    7                      7   \n",
       "18  2/26/2025 15:54:55    NaN                  400                   8000   \n",
       "19  2/26/2025 15:55:11    NaN                  442                  6,310   \n",
       "\n",
       "    coffee_consume_cups  height_armory_meter  hours_spend_rso  \n",
       "0                     2                   45               12  \n",
       "1                     1                   30                5  \n",
       "2                     1                  100                9  \n",
       "3                     0                   12                0  \n",
       "4                     2                   15                3  \n",
       "5                     0                   50                2  \n",
       "6                     0                   50                5  \n",
       "7                     3                   30               10  \n",
       "8                     0                   25                0  \n",
       "9                     0                   30                2  \n",
       "10                    3                   40                4  \n",
       "11                    0                  100                2  \n",
       "12                    0                  250                2  \n",
       "13                    4                   10                0  \n",
       "14                    2                  800               10  \n",
       "15                    1                   12                7  \n",
       "16                    1                    5                3  \n",
       "17                    5                   10                0  \n",
       "18                    1                   10                6  \n",
       "19                    0                   10                6  "
      ]
     },
     "execution_count": 3,
     "metadata": {},
     "output_type": "execute_result"
    }
   ],
   "source": [
    "df = pd.read_csv('Lab6_data.csv')\n",
    "df"
   ]
  },
  {
   "cell_type": "code",
   "execution_count": 6,
   "metadata": {},
   "outputs": [
    {
     "data": {
      "image/png": "[encoded data removed]",
      "text/plain": [
       "<Figure size 800x500 with 1 Axes>"
      ]
     },
     "metadata": {},
     "output_type": "display_data"
    }
   ],
   "source": [
    "plt.figure(figsize=(8, 5))\n",
    "sns.histplot(df['coffee_consume_cups'])\n",
    "plt.xlabel(\"Coffee consume cups per day\")\n",
    "plt.ylabel(\"Frequency\")\n",
    "plt.title(\"Distribution of daily coffee consume\")\n",
    "plt.show()"
   ]
  },
  {
   "cell_type": "markdown",
   "metadata": {},
   "source": [
    "## 4. [1.5 points] Calculate Your Sample Statistic\n",
    "\n",
    "Using the information from our sample, calculate the corresponding estimate from our sample that relates to our parameter of interest from the hypotheses.  Does your estimate value fall under the null hypothesis or the alternative hypothesis?"
   ]
  },
  {
   "cell_type": "code",
   "execution_count": 7,
   "metadata": {},
   "outputs": [
    {
     "data": {
      "text/plain": [
       "count    20.00000\n",
       "mean      1.30000\n",
       "std       1.49032\n",
       "min       0.00000\n",
       "25%       0.00000\n",
       "50%       1.00000\n",
       "75%       2.00000\n",
       "max       5.00000\n",
       "Name: coffee_consume_cups, dtype: float64"
      ]
     },
     "execution_count": 7,
     "metadata": {},
     "output_type": "execute_result"
    }
   ],
   "source": [
    "df['coffee_consume_cups'].describe()"
   ]
  },
  {
   "cell_type": "markdown",
   "metadata": {},
   "source": [
    "From this statistics of the sample data, the mean value show as '1.3'. This value is not the same as my estimate. So, I can say my estimate value fall under alternative hypothesis."
   ]
  },
  {
   "cell_type": "markdown",
   "metadata": {},
   "source": [
    "## 5. [3 points] Simulate a Sampling Distribution\n",
    "\n",
    "**a)** Simulate a sampling distribution of your sample statistic from **Q4** with 1000 random samples.  Be sure that your sampling distribution is generated in a way that is consistent with the null hypothesis; that is, you may need to modify your original values in order to make your data consistent with your skeptic's claim.  Also, be sure that the unit of observation for each observation in your sampling distribution is comparable with the unit of observation from your lab data; that is, each random sample in your sampling distribution should be of the same size as your lab data."
   ]
  },
  {
   "cell_type": "code",
   "execution_count": null,
   "metadata": {},
   "outputs": [],
   "source": [
    "df_modified = df.copy()\n",
    "sample_size = len(df)\n",
    "\n",
    "sampling_distribution = []\n",
    "\n",
    "for i in range(1000):\n",
    "    random_sample = df_modified['coffee_consume_cups'].sample(n=sample_size, replace=True)\n",
    "    sampling_distribution.append(random_sample.mean())\n",
    "\n",
    "sampling_df = pd.DataFrame({'sample_means': sampling_distribution})"
   ]
  },
  {
   "cell_type": "markdown",
   "metadata": {},
   "source": [
    "**b)** Using your sampling distribution, calculate the probability of observing a sample statistic like the one you observed in **Q4** or more extreme (with this defined from the alternative hypothesis)."
   ]
  },
  {
   "cell_type": "code",
   "execution_count": 15,
   "metadata": {},
   "outputs": [
    {
     "data": {
      "text/html": [
       "<div>\n",
       "<style scoped>\n",
       "    .dataframe tbody tr th:only-of-type {\n",
       "        vertical-align: middle;\n",
       "    }\n",
       "\n",
       "    .dataframe tbody tr th {\n",
       "        vertical-align: top;\n",
       "    }\n",
       "\n",
       "    .dataframe thead th {\n",
       "        text-align: right;\n",
       "    }\n",
       "</style>\n",
       "<table border=\"1\" class=\"dataframe\">\n",
       "  <thead>\n",
       "    <tr style=\"text-align: right;\">\n",
       "      <th></th>\n",
       "      <th>sample_means</th>\n",
       "    </tr>\n",
       "  </thead>\n",
       "  <tbody>\n",
       "    <tr>\n",
       "      <th>count</th>\n",
       "      <td>1000.000000</td>\n",
       "    </tr>\n",
       "    <tr>\n",
       "      <th>mean</th>\n",
       "      <td>1.317950</td>\n",
       "    </tr>\n",
       "    <tr>\n",
       "      <th>std</th>\n",
       "      <td>0.333161</td>\n",
       "    </tr>\n",
       "    <tr>\n",
       "      <th>min</th>\n",
       "      <td>0.400000</td>\n",
       "    </tr>\n",
       "    <tr>\n",
       "      <th>25%</th>\n",
       "      <td>1.100000</td>\n",
       "    </tr>\n",
       "    <tr>\n",
       "      <th>50%</th>\n",
       "      <td>1.300000</td>\n",
       "    </tr>\n",
       "    <tr>\n",
       "      <th>75%</th>\n",
       "      <td>1.550000</td>\n",
       "    </tr>\n",
       "    <tr>\n",
       "      <th>max</th>\n",
       "      <td>2.700000</td>\n",
       "    </tr>\n",
       "  </tbody>\n",
       "</table>\n",
       "</div>"
      ],
      "text/plain": [
       "       sample_means\n",
       "count   1000.000000\n",
       "mean       1.317950\n",
       "std        0.333161\n",
       "min        0.400000\n",
       "25%        1.100000\n",
       "50%        1.300000\n",
       "75%        1.550000\n",
       "max        2.700000"
      ]
     },
     "execution_count": 15,
     "metadata": {},
     "output_type": "execute_result"
    }
   ],
   "source": [
    "sampling_df.describe()"
   ]
  },
  {
   "cell_type": "code",
   "execution_count": 19,
   "metadata": {},
   "outputs": [
    {
     "name": "stdout",
     "output_type": "stream",
     "text": [
      "left sided p-value: 0.2640\n",
      "all sided p-value: 0.5380\n"
     ]
    }
   ],
   "source": [
    "import numpy as np\n",
    "\n",
    "coffee_variable = 'coffee_consume_cups'\n",
    "observed_mean = 1.3\n",
    "null_value = 1.5\n",
    "\n",
    "sample_size = len(df)\n",
    "\n",
    "np.random.seed(42) \n",
    "sampling_distribution = np.random.normal(loc=null_value, \n",
    "                                         scale=df[coffee_variable].std()/np.sqrt(sample_size), \n",
    "                                         size=1000)\n",
    "\n",
    "p_value_left = np.mean(sampling_distribution <= observed_mean)\n",
    "\n",
    "\n",
    "distance = abs(observed_mean - null_value)\n",
    "p_value_two_sided = np.mean(abs(sampling_distribution - null_value) >= distance)\n",
    "\n",
    "print(f\"left sided p-value: {p_value_left:.4f}\")\n",
    "print(f\"all sided p-value: {p_value_two_sided:.4f}\")"
   ]
  },
  {
   "cell_type": "markdown",
   "metadata": {},
   "source": [
    "## 6. [0.5 point] Evaluate Your Evidence\n",
    "\n",
    "Use your calculated *p*-value (probability from **5b**) to assess whether you have enough evidence (determined from **2b**) to convince your skeptic to abandon the original theory.  Briefly explain."
   ]
  },
  {
   "cell_type": "markdown",
   "metadata": {},
   "source": [
    "Two p-values are bigger than 0.05.\n",
    "This means the mean I observed came excidently, so hypothesis of \"The average number of cups of coffee consumed per day by students in STAT207 will be 1.5.\" don't have strong evdience."
   ]
  },
  {
   "cell_type": "markdown",
   "metadata": {},
   "source": [
    "## 7. [1 point] Think About Your Data\n",
    "\n",
    "Think critically about the data that you used to address your theories (or that other students in your lab used).  What else do you wonder about your data?  Do you have any concerns about your data?\n",
    "\n",
    "You may address this question by answering any of the following questions:\n",
    "\n",
    "- What variables might you want to add to your analysis to help you further understand the implications of your analysis?\n",
    "- What observations might be missing from the data?  Is this concerning to you?\n",
    "- What ethical constraints might apply to the data?\n",
    "- Were there any questions posed by other lab groups that were unclear?  How could they have been clarified?"
   ]
  },
  {
   "cell_type": "markdown",
   "metadata": {},
   "source": []
  }
 ],
 "metadata": {
  "kernelspec": {
   "display_name": "base",
   "language": "python",
   "name": "python3"
  },
  "language_info": {
   "codemirror_mode": {
    "name": "ipython",
    "version": 3
   },
   "file_extension": ".py",
   "mimetype": "text/x-python",
   "name": "python",
   "nbconvert_exporter": "python",
   "pygments_lexer": "ipython3",
   "version": "3.11.5"
  }
 },
 "nbformat": 4,
 "nbformat_minor": 2
}

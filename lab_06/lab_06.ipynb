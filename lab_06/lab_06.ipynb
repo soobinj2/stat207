{
 "cells": [
  {
   "cell_type": "markdown",
   "metadata": {},
   "source": [
    "# STAT 207 Group Lab Assignment 6 - [10 total points]\n",
    "\n",
    "## Hypothesis Testing"
   ]
  },
  {
   "cell_type": "markdown",
   "metadata": {},
   "source": [
    "<hr>"
   ]
  },
  {
   "cell_type": "markdown",
   "metadata": {},
   "source": [
    "## <u>Lab Grading</u>:\n",
    "\n",
    "Should we grade your submission?  If not, write the netID of the submission to be graded.  (Note: We will only grade one assignment per group, and we'll pick the first one that says we should grade that submission.  We will assign the same grade to all team members.)\n",
    "\n",
    "*For example*, you might respond: **grade this submission** or **my submission is under netID jdeeke**"
   ]
  },
  {
   "cell_type": "markdown",
   "metadata": {},
   "source": []
  },
  {
   "cell_type": "markdown",
   "metadata": {},
   "source": [
    "If you said **my submission is under netID** above, we will not read any more of your lab submission.\n",
    "\n",
    "If you said **grade this submission** above, who worked with you on this submission?  Write both their **names** and **netIDs**.  \n",
    "\n",
    "Also, record each person's favorite place (or type of food) to eat on/near Green Street."
   ]
  },
  {
   "cell_type": "markdown",
   "metadata": {},
   "source": []
  },
  {
   "cell_type": "markdown",
   "metadata": {},
   "source": [
    "<hr>"
   ]
  },
  {
   "cell_type": "markdown",
   "metadata": {},
   "source": [
    "## <u>Purpose</u>:\n",
    "You should work in groups of 2-3 on this report (not working in groups without permission will result in a point deduction). The purpose of this group lab assignment is to perform a hypothesis test.\n",
    "<hr>"
   ]
  },
  {
   "cell_type": "markdown",
   "metadata": {},
   "source": [
    "## <u>Assignment Instructions</u>:\n",
    "\n",
    "### Group Roles\n",
    "\n",
    "Suggested and specified roles are provided below: \n",
    "\n",
    "#### Groups of 2\n",
    "\n",
    "* **Driver**: This student will type the report.  While typing the report, you may be the one who is selecting the functions to apply to the data.\n",
    "* **Navigator**: This student will guide the process of answering the question.  Specific ways to help may include: outlining the general steps needed to solve a question (providing the overview), locating examples within the course notes, and reviewing each line of code as it is typed.\n",
    "\n",
    "#### Groups of 3\n",
    "\n",
    "* **Driver**: This student will type the report.  They may also be the one to select the functions to apply to the data.\n",
    "* **Navigator**: This student will guide the process of answering the question.  They may select the general approach to answering the question and/or a few steps to be completed along the way. \n",
    "* **Communicator**: This student will review the report (as it is typed) to ensure that it is clear and concise.  This student may also locate relevant examples within the course notes that may help complete the assignment.\n",
    "\n",
    "<hr>\n",
    "\n",
    "### Imports"
   ]
  },
  {
   "cell_type": "code",
   "execution_count": null,
   "metadata": {},
   "outputs": [],
   "source": [
    "#Run this\n",
    "import pandas as pd                    # imports pandas and calls the imported version 'pd'\n",
    "import matplotlib.pyplot as plt        # imports the package and calls it 'plt'\n",
    "import seaborn as sns                  # imports the seaborn package with the imported name 'sns'\n",
    "sns.set()  "
   ]
  },
  {
   "cell_type": "markdown",
   "metadata": {},
   "source": [
    "## Case Study: STAT 207 Student Analysis\n",
    "\n",
    "We are interested in learning more about students who enroll in STAT 207: Data Science Exploration.  From Fall 2021 through Fall 2024, 1344 students enrolled in STAT 207, and we have 446 additional students enrolled this semester.  Rather than track down and ask each of these 1790 students questions, we will use the students in <i>this lab section</i> in an attempt to learn more about the larger population of **all students who have taken STAT 207 up to and including this semester**."
   ]
  },
  {
   "cell_type": "markdown",
   "metadata": {},
   "source": [
    "## 1. [0.5 point] Pose a Question\n",
    "\n",
    "As a group, brainstorm theories that *you* have about all STAT 207 students or questions that *you* would be interested in asking all STAT 207 students (from the last seven semesters).\n",
    "\n",
    "Make sure that your questions meet the following characteristics:\n",
    "\n",
    "- the question involves one quantitative variable\n",
    "- you can define a parameter of interest\n",
    "- you can write competing theories about your parameter of interest\n",
    "\n",
    "Let your lab TA know your question(s) to pose to the broader class.  Most (or all) questions will be posed to the whole class.  If your question is not selected, select one of the other questions to analyze for the remainder of this Group Lab Assignment.\n",
    "\n",
    "- Example Theory 1: I think that the median distance that all STAT 207 students would guess a Canadian goose can travel in a day is 150 miles.  The class believes that it is not 150 meters.\n",
    "- Example Theory 2: I believe that the median guess from all STAT 207 students for the number of teeth an orca whale has is 30.  The class believes that the median guess is greater than 30.\n",
    "\n",
    "**Note: Don't use these example theories.  You should come up with your own.**\n",
    "\n",
    "**a)** Write your *own* question of interest below."
   ]
  },
  {
   "cell_type": "markdown",
   "metadata": {},
   "source": []
  },
  {
   "cell_type": "markdown",
   "metadata": {},
   "source": [
    "**b)** What variable would you record for each student?  How might you phrase the question to obtain your variable from a sample of all current or previous STAT 207 students?"
   ]
  },
  {
   "cell_type": "markdown",
   "metadata": {},
   "source": []
  },
  {
   "cell_type": "markdown",
   "metadata": {},
   "source": [
    "## 2. [2 points] Hypotheses\n",
    "\n",
    "**a)** Now that you've defined a theory and began gathering data about it from our current STAT 207 students, let's formalize our theories for testing.\n",
    "\n",
    "Write your null and alternative hypotheses to evaluate these claims.  You should use appropriate notation to write these hypotheses.  For any population parameter terms that you use, be sure to define what this parameter refers to.\n",
    "\n",
    "Remember that the null hypothesis corresponds to the skeptic's claim and should contain the equals sign (statement of equality).  The null hypothesis will also contain the idea that nothing interesting is going on, so that the parameter of interest is exactly equal to a value."
   ]
  },
  {
   "cell_type": "markdown",
   "metadata": {},
   "source": []
  },
  {
   "cell_type": "markdown",
   "metadata": {},
   "source": [
    "**b)** Decide how much evidence your \"skeptic\" would need to abandon their original claim (that is, the null hypothesis).  This will be your significance level, and should be a percentage/proportion between 0% and 100% (or 0 and 1) and should be closer to 0 than 1."
   ]
  },
  {
   "cell_type": "markdown",
   "metadata": {},
   "source": []
  },
  {
   "cell_type": "markdown",
   "metadata": {},
   "source": [
    "## 3. [1.5 points] Initial Visualization\n",
    "\n",
    "Perform an initial visualization from your sample data.  "
   ]
  },
  {
   "cell_type": "code",
   "execution_count": null,
   "metadata": {},
   "outputs": [],
   "source": []
  },
  {
   "cell_type": "markdown",
   "metadata": {},
   "source": [
    "## 4. [1.5 points] Calculate Your Sample Statistic\n",
    "\n",
    "Using the information from our sample, calculate the corresponding estimate from our sample that relates to our parameter of interest from the hypotheses.  Does your estimate value fall under the null hypothesis or the alternative hypothesis?"
   ]
  },
  {
   "cell_type": "code",
   "execution_count": null,
   "metadata": {},
   "outputs": [],
   "source": []
  },
  {
   "cell_type": "markdown",
   "metadata": {},
   "source": []
  },
  {
   "cell_type": "markdown",
   "metadata": {},
   "source": [
    "## 5. [3 points] Simulate a Sampling Distribution\n",
    "\n",
    "**a)** Simulate a sampling distribution of your sample statistic from **Q4** with 1000 random samples.  Be sure that your sampling distribution is generated in a way that is consistent with the null hypothesis; that is, you may need to modify your original values in order to make your data consistent with your skeptic's claim.  Also, be sure that the unit of observation for each observation in your sampling distribution is comparable with the unit of observation from your lab data; that is, each random sample in your sampling distribution should be of the same size as your lab data."
   ]
  },
  {
   "cell_type": "code",
   "execution_count": null,
   "metadata": {},
   "outputs": [],
   "source": []
  },
  {
   "cell_type": "markdown",
   "metadata": {},
   "source": [
    "**b)** Using your sampling distribution, calculate the probability of observing a sample statistic like the one you observed in **Q4** or more extreme (with this defined from the alternative hypothesis)."
   ]
  },
  {
   "cell_type": "code",
   "execution_count": null,
   "metadata": {},
   "outputs": [],
   "source": []
  },
  {
   "cell_type": "markdown",
   "metadata": {},
   "source": [
    "## 6. [0.5 point] Evaluate Your Evidence\n",
    "\n",
    "Use your calculated *p*-value (probability from **5b**) to assess whether you have enough evidence (determined from **2b**) to convince your skeptic to abandon the original theory.  Briefly explain."
   ]
  },
  {
   "cell_type": "markdown",
   "metadata": {},
   "source": []
  },
  {
   "cell_type": "markdown",
   "metadata": {},
   "source": [
    "## 7. [1 point] Think About Your Data\n",
    "\n",
    "Think critically about the data that you used to address your theories (or that other students in your lab used).  What else do you wonder about your data?  Do you have any concerns about your data?\n",
    "\n",
    "You may address this question by answering any of the following questions:\n",
    "\n",
    "- What variables might you want to add to your analysis to help you further understand the implications of your analysis?\n",
    "- What observations might be missing from the data?  Is this concerning to you?\n",
    "- What ethical constraints might apply to the data?\n",
    "- Were there any questions posed by other lab groups that were unclear?  How could they have been clarified?"
   ]
  },
  {
   "cell_type": "markdown",
   "metadata": {},
   "source": []
  }
 ],
 "metadata": {
  "kernelspec": {
   "display_name": "Python 3 (ipykernel)",
   "language": "python",
   "name": "python3"
  },
  "language_info": {
   "codemirror_mode": {
    "name": "ipython",
    "version": 3
   },
   "file_extension": ".py",
   "mimetype": "text/x-python",
   "name": "python",
   "nbconvert_exporter": "python",
   "pygments_lexer": "ipython3",
   "version": "3.8.11"
  }
 },
 "nbformat": 4,
 "nbformat_minor": 2
}

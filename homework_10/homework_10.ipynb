{
 "cells": [
  {
   "cell_type": "markdown",
   "id": "e746da0e",
   "metadata": {},
   "source": [
    "# STAT 207 Homework 10 [25 points]\n",
    "\n",
    "## Feature Selection for Linear Models"
   ]
  },
  {
   "cell_type": "markdown",
   "id": "6fef820a",
   "metadata": {},
   "source": [
    "Due: Thursday, April 24, end of day (11:59 pm CT)\n",
    "\n",
    "Late submissions accepted until Friday, April 25 at noon\n",
    "\n",
    "<hr>"
   ]
  },
  {
   "cell_type": "markdown",
   "id": "c4d94493",
   "metadata": {},
   "source": [
    "## Imports \n",
    "\n",
    "Run the following code cell to import the necessary packages into the file.  You may import additional packages, as needed for this assignment."
   ]
  },
  {
   "cell_type": "code",
   "execution_count": 1,
   "id": "25c92b96",
   "metadata": {},
   "outputs": [],
   "source": [
    "import pandas as pd\n",
    "import matplotlib.pyplot as plt\n",
    "import seaborn as sns; sns.set()\n",
    "from sklearn.model_selection import train_test_split\n",
    "from sklearn.linear_model import LinearRegression\n",
    "import statsmodels.formula.api as smf"
   ]
  },
  {
   "cell_type": "markdown",
   "id": "ac088395",
   "metadata": {},
   "source": [
    "## The Data\n",
    "\n",
    "A famous study called \"SUPPORT\" (Study to Understand Prognoses Preferences Outcomes and Risks of Treatment) was conducted to determine what factors affected or predicted outcomes, including how long a patient remained in the hospital.\n",
    "\n",
    "We will use a random sample of 580 seriously ill hospitalized patients from the SUPPORT study, with the following variables:\n",
    "\n",
    "- **Days**: day to death or hospital discharge\n",
    "- **Age**: age on day of hospital admission\n",
    "- **Sex**: female or male\n",
    "- **Comorbidity**: patient diagnosed with more than one chronic disease\n",
    "- **EdYears**: years of education\n",
    "- **Education**: education level: high or low\n",
    "- **Income**: income level: high or low\n",
    "- **Charges**: hospital charges, in dollars\n",
    "- **Care**: level of care required: high or low\n",
    "- **Race**: Non-white or white\n",
    "- **Pressure**: Blood pressure, in mmHg\n",
    "- **Blood**: white blood cell count, in gm/dL\n",
    "- **Rate**: heart rate, in bpm\n",
    "\n",
    "Run the code in the cell below to read in the cleaned data and separate the data into a training and test set for this document.  The data is saved as `df` with this code, and then separated into a `df_train` and `df_test` for later analysis.  "
   ]
  },
  {
   "cell_type": "code",
   "execution_count": 2,
   "id": "7a2db7bb",
   "metadata": {},
   "outputs": [
    {
     "data": {
      "text/html": [
       "<div>\n",
       "<style scoped>\n",
       "    .dataframe tbody tr th:only-of-type {\n",
       "        vertical-align: middle;\n",
       "    }\n",
       "\n",
       "    .dataframe tbody tr th {\n",
       "        vertical-align: top;\n",
       "    }\n",
       "\n",
       "    .dataframe thead th {\n",
       "        text-align: right;\n",
       "    }\n",
       "</style>\n",
       "<table border=\"1\" class=\"dataframe\">\n",
       "  <thead>\n",
       "    <tr style=\"text-align: right;\">\n",
       "      <th></th>\n",
       "      <th>Days</th>\n",
       "      <th>Age</th>\n",
       "      <th>Sex</th>\n",
       "      <th>Comorbidity</th>\n",
       "      <th>EdYears</th>\n",
       "      <th>Education</th>\n",
       "      <th>Income</th>\n",
       "      <th>Charges</th>\n",
       "      <th>Care</th>\n",
       "      <th>Race</th>\n",
       "      <th>Pressure</th>\n",
       "      <th>Blood</th>\n",
       "      <th>Rate</th>\n",
       "    </tr>\n",
       "  </thead>\n",
       "  <tbody>\n",
       "    <tr>\n",
       "      <th>0</th>\n",
       "      <td>8</td>\n",
       "      <td>42.258972</td>\n",
       "      <td>female</td>\n",
       "      <td>no</td>\n",
       "      <td>11</td>\n",
       "      <td>low</td>\n",
       "      <td>high</td>\n",
       "      <td>9914.0</td>\n",
       "      <td>low</td>\n",
       "      <td>non-white</td>\n",
       "      <td>84</td>\n",
       "      <td>11.298828</td>\n",
       "      <td>94</td>\n",
       "    </tr>\n",
       "    <tr>\n",
       "      <th>1</th>\n",
       "      <td>14</td>\n",
       "      <td>63.662994</td>\n",
       "      <td>female</td>\n",
       "      <td>no</td>\n",
       "      <td>22</td>\n",
       "      <td>high</td>\n",
       "      <td>high</td>\n",
       "      <td>283303.0</td>\n",
       "      <td>high</td>\n",
       "      <td>white</td>\n",
       "      <td>69</td>\n",
       "      <td>30.097656</td>\n",
       "      <td>108</td>\n",
       "    </tr>\n",
       "    <tr>\n",
       "      <th>2</th>\n",
       "      <td>21</td>\n",
       "      <td>41.521973</td>\n",
       "      <td>male</td>\n",
       "      <td>yes</td>\n",
       "      <td>18</td>\n",
       "      <td>high</td>\n",
       "      <td>high</td>\n",
       "      <td>320843.0</td>\n",
       "      <td>high</td>\n",
       "      <td>white</td>\n",
       "      <td>66</td>\n",
       "      <td>0.199982</td>\n",
       "      <td>130</td>\n",
       "    </tr>\n",
       "    <tr>\n",
       "      <th>3</th>\n",
       "      <td>4</td>\n",
       "      <td>41.959991</td>\n",
       "      <td>male</td>\n",
       "      <td>yes</td>\n",
       "      <td>16</td>\n",
       "      <td>high</td>\n",
       "      <td>high</td>\n",
       "      <td>4173.0</td>\n",
       "      <td>low</td>\n",
       "      <td>white</td>\n",
       "      <td>97</td>\n",
       "      <td>10.798828</td>\n",
       "      <td>88</td>\n",
       "    </tr>\n",
       "    <tr>\n",
       "      <th>4</th>\n",
       "      <td>11</td>\n",
       "      <td>52.089996</td>\n",
       "      <td>male</td>\n",
       "      <td>yes</td>\n",
       "      <td>8</td>\n",
       "      <td>low</td>\n",
       "      <td>high</td>\n",
       "      <td>13414.0</td>\n",
       "      <td>low</td>\n",
       "      <td>white</td>\n",
       "      <td>89</td>\n",
       "      <td>6.399414</td>\n",
       "      <td>92</td>\n",
       "    </tr>\n",
       "    <tr>\n",
       "      <th>...</th>\n",
       "      <td>...</td>\n",
       "      <td>...</td>\n",
       "      <td>...</td>\n",
       "      <td>...</td>\n",
       "      <td>...</td>\n",
       "      <td>...</td>\n",
       "      <td>...</td>\n",
       "      <td>...</td>\n",
       "      <td>...</td>\n",
       "      <td>...</td>\n",
       "      <td>...</td>\n",
       "      <td>...</td>\n",
       "      <td>...</td>\n",
       "    </tr>\n",
       "    <tr>\n",
       "      <th>575</th>\n",
       "      <td>13</td>\n",
       "      <td>70.091980</td>\n",
       "      <td>female</td>\n",
       "      <td>yes</td>\n",
       "      <td>9</td>\n",
       "      <td>low</td>\n",
       "      <td>low</td>\n",
       "      <td>14271.0</td>\n",
       "      <td>high</td>\n",
       "      <td>white</td>\n",
       "      <td>65</td>\n",
       "      <td>38.398438</td>\n",
       "      <td>104</td>\n",
       "    </tr>\n",
       "    <tr>\n",
       "      <th>576</th>\n",
       "      <td>4</td>\n",
       "      <td>81.721985</td>\n",
       "      <td>male</td>\n",
       "      <td>yes</td>\n",
       "      <td>8</td>\n",
       "      <td>low</td>\n",
       "      <td>low</td>\n",
       "      <td>3043.0</td>\n",
       "      <td>low</td>\n",
       "      <td>white</td>\n",
       "      <td>71</td>\n",
       "      <td>4.599609</td>\n",
       "      <td>67</td>\n",
       "    </tr>\n",
       "    <tr>\n",
       "      <th>577</th>\n",
       "      <td>3</td>\n",
       "      <td>74.521973</td>\n",
       "      <td>female</td>\n",
       "      <td>yes</td>\n",
       "      <td>8</td>\n",
       "      <td>low</td>\n",
       "      <td>high</td>\n",
       "      <td>2172.0</td>\n",
       "      <td>low</td>\n",
       "      <td>white</td>\n",
       "      <td>99</td>\n",
       "      <td>7.599609</td>\n",
       "      <td>110</td>\n",
       "    </tr>\n",
       "    <tr>\n",
       "      <th>578</th>\n",
       "      <td>6</td>\n",
       "      <td>49.116974</td>\n",
       "      <td>male</td>\n",
       "      <td>yes</td>\n",
       "      <td>8</td>\n",
       "      <td>low</td>\n",
       "      <td>low</td>\n",
       "      <td>5799.0</td>\n",
       "      <td>low</td>\n",
       "      <td>white</td>\n",
       "      <td>108</td>\n",
       "      <td>8.898438</td>\n",
       "      <td>87</td>\n",
       "    </tr>\n",
       "    <tr>\n",
       "      <th>579</th>\n",
       "      <td>9</td>\n",
       "      <td>18.414993</td>\n",
       "      <td>male</td>\n",
       "      <td>yes</td>\n",
       "      <td>12</td>\n",
       "      <td>low</td>\n",
       "      <td>high</td>\n",
       "      <td>22047.0</td>\n",
       "      <td>high</td>\n",
       "      <td>white</td>\n",
       "      <td>67</td>\n",
       "      <td>12.099609</td>\n",
       "      <td>66</td>\n",
       "    </tr>\n",
       "  </tbody>\n",
       "</table>\n",
       "<p>580 rows × 13 columns</p>\n",
       "</div>"
      ],
      "text/plain": [
       "     Days        Age     Sex Comorbidity  EdYears Education Income   Charges  \\\n",
       "0       8  42.258972  female          no       11       low   high    9914.0   \n",
       "1      14  63.662994  female          no       22      high   high  283303.0   \n",
       "2      21  41.521973    male         yes       18      high   high  320843.0   \n",
       "3       4  41.959991    male         yes       16      high   high    4173.0   \n",
       "4      11  52.089996    male         yes        8       low   high   13414.0   \n",
       "..    ...        ...     ...         ...      ...       ...    ...       ...   \n",
       "575    13  70.091980  female         yes        9       low    low   14271.0   \n",
       "576     4  81.721985    male         yes        8       low    low    3043.0   \n",
       "577     3  74.521973  female         yes        8       low   high    2172.0   \n",
       "578     6  49.116974    male         yes        8       low    low    5799.0   \n",
       "579     9  18.414993    male         yes       12       low   high   22047.0   \n",
       "\n",
       "     Care       Race  Pressure      Blood  Rate  \n",
       "0     low  non-white        84  11.298828    94  \n",
       "1    high      white        69  30.097656   108  \n",
       "2    high      white        66   0.199982   130  \n",
       "3     low      white        97  10.798828    88  \n",
       "4     low      white        89   6.399414    92  \n",
       "..    ...        ...       ...        ...   ...  \n",
       "575  high      white        65  38.398438   104  \n",
       "576   low      white        71   4.599609    67  \n",
       "577   low      white        99   7.599609   110  \n",
       "578   low      white       108   8.898438    87  \n",
       "579  high      white        67  12.099609    66  \n",
       "\n",
       "[580 rows x 13 columns]"
      ]
     },
     "execution_count": 2,
     "metadata": {},
     "output_type": "execute_result"
    }
   ],
   "source": [
    "df = pd.read_csv('hospital.csv')\n",
    "df_train, df_test = train_test_split(df, test_size = 0.20, random_state = 9876)\n",
    "\n",
    "df"
   ]
  },
  {
   "cell_type": "markdown",
   "id": "01627e31",
   "metadata": {},
   "source": [
    "## 1. Research Purpose [0 points]\n",
    "\n",
    "Question 1 does not require any analysis."
   ]
  },
  {
   "cell_type": "markdown",
   "id": "73183356",
   "metadata": {},
   "source": [
    "## 2. Fitting our Full Model [1 point]\n",
    "\n",
    "For the purposes of this question, we want to be sure that we only include variables that could be determined or anticipated upon admittance to the hospital, so that our model can be applied to new patients.\n",
    "\n",
    "Fit a linear model to the training data to predict the length of the hospital stay (**Days**) with the following predictor variables: Age, Sex, Comorbidity, EdYears, Education, Income, Care, Race, Pressure, Blood, and Rate.  Print a summary of this linear model."
   ]
  },
  {
   "cell_type": "code",
   "execution_count": 3,
   "id": "44209de6",
   "metadata": {},
   "outputs": [
    {
     "name": "stdout",
     "output_type": "stream",
     "text": [
      "                            OLS Regression Results                            \n",
      "==============================================================================\n",
      "Dep. Variable:                   Days   R-squared:                       0.150\n",
      "Model:                            OLS   Adj. R-squared:                  0.129\n",
      "Method:                 Least Squares   F-statistic:                     7.230\n",
      "Date:                Wed, 23 Apr 2025   Prob (F-statistic):           2.13e-11\n",
      "Time:                        18:30:44   Log-Likelihood:                -2042.3\n",
      "No. Observations:                 464   AIC:                             4109.\n",
      "Df Residuals:                     452   BIC:                             4158.\n",
      "Df Model:                          11                                         \n",
      "Covariance Type:            nonrobust                                         \n",
      "======================================================================================\n",
      "                         coef    std err          t      P>|t|      [0.025      0.975]\n",
      "--------------------------------------------------------------------------------------\n",
      "Intercept             16.3417      9.863      1.657      0.098      -3.041      35.724\n",
      "Sex[T.male]           -2.3662      1.912     -1.238      0.216      -6.124       1.391\n",
      "Comorbidity[T.yes]    -2.1125      3.139     -0.673      0.501      -8.281       4.056\n",
      "Education[T.low]       0.1577      2.969      0.053      0.958      -5.677       5.992\n",
      "Income[T.low]         -1.5625      2.090     -0.748      0.455      -5.670       2.545\n",
      "Care[T.low]          -11.5546      2.048     -5.641      0.000     -15.580      -7.529\n",
      "Race[T.white]          3.4544      2.379      1.452      0.147      -1.222       8.131\n",
      "Age                   -0.0800      0.063     -1.270      0.205      -0.204       0.044\n",
      "EdYears               -0.3958      0.392     -1.011      0.313      -1.165       0.374\n",
      "Pressure               0.1224      0.036      3.421      0.001       0.052       0.193\n",
      "Blood                  0.0488      0.119      0.409      0.683      -0.186       0.283\n",
      "Rate                   0.0703      0.032      2.196      0.029       0.007       0.133\n",
      "==============================================================================\n",
      "Omnibus:                      390.399   Durbin-Watson:                   1.981\n",
      "Prob(Omnibus):                  0.000   Jarque-Bera (JB):             7914.321\n",
      "Skew:                           3.615   Prob(JB):                         0.00\n",
      "Kurtosis:                      21.897   Cond. No.                     1.60e+03\n",
      "==============================================================================\n",
      "\n",
      "Notes:\n",
      "[1] Standard Errors assume that the covariance matrix of the errors is correctly specified.\n",
      "[2] The condition number is large, 1.6e+03. This might indicate that there are\n",
      "strong multicollinearity or other numerical problems.\n"
     ]
    }
   ],
   "source": [
    "import statsmodels.formula.api as smf\n",
    "\n",
    "model = smf.ols('Days ~ Age + Sex + Comorbidity + EdYears + Education + Income + Care + Race + Pressure + Blood + Rate', data=df_train).fit()\n",
    "print(model.summary())"
   ]
  },
  {
   "cell_type": "markdown",
   "id": "c043d687",
   "metadata": {},
   "source": [
    "## 3. Metrics for Model Fit [0 points]\n",
    "\n",
    "Question 3 does not require any analysis."
   ]
  },
  {
   "cell_type": "markdown",
   "id": "369378c7",
   "metadata": {},
   "source": [
    "## 4. Selecting a Parsimonious Model [3 points]\n",
    "\n",
    "We'll perform model selection using backwards elimination starting from the full model fit in Question 2 and using the $R^2_{\\text{adj}}$ as our metric using our training data.  Be sure to show your work.  That is, don't delete any models that you fit.  Add as many code cells below as you need."
   ]
  },
  {
   "cell_type": "code",
   "execution_count": 5,
   "id": "0f9ec475",
   "metadata": {},
   "outputs": [
    {
     "name": "stdout",
     "output_type": "stream",
     "text": [
      "Original Adj R2:  0.12893747629170815\n"
     ]
    }
   ],
   "source": [
    "model = smf.ols('Days ~ Age + Sex + Comorbidity + EdYears + Education + Income + Care + Race + Pressure + Blood + Rate', data = df_train).fit()\n",
    "print('Original Adj R2: ', model.rsquared_adj)"
   ]
  },
  {
   "cell_type": "markdown",
   "id": "0ef052ee",
   "metadata": {},
   "source": [
    "ROUND 1"
   ]
  },
  {
   "cell_type": "code",
   "execution_count": 6,
   "id": "1d0361a5",
   "metadata": {},
   "outputs": [
    {
     "name": "stdout",
     "output_type": "stream",
     "text": [
      "New Model (removed age) Adjusted R2:  0.12776010131275195\n"
     ]
    }
   ],
   "source": [
    "# Remove Age\n",
    "\n",
    "model = smf.ols('Days ~ Sex + Comorbidity + EdYears + Education + Income + Care + Race + Pressure + Blood + Rate', data = df_train).fit()\n",
    "print('New Model (removed age) Adjusted R2: ', model.rsquared_adj)"
   ]
  },
  {
   "cell_type": "code",
   "execution_count": null,
   "id": "f2813b4d",
   "metadata": {},
   "outputs": [],
   "source": []
  },
  {
   "cell_type": "code",
   "execution_count": null,
   "id": "a494c427",
   "metadata": {},
   "outputs": [],
   "source": []
  },
  {
   "cell_type": "code",
   "execution_count": null,
   "id": "21e04efe",
   "metadata": {},
   "outputs": [],
   "source": []
  },
  {
   "cell_type": "code",
   "execution_count": null,
   "id": "4c699944",
   "metadata": {},
   "outputs": [],
   "source": []
  },
  {
   "cell_type": "code",
   "execution_count": null,
   "id": "b65a3b5d",
   "metadata": {},
   "outputs": [],
   "source": []
  },
  {
   "cell_type": "code",
   "execution_count": null,
   "id": "fdca4fa1",
   "metadata": {},
   "outputs": [],
   "source": []
  },
  {
   "cell_type": "code",
   "execution_count": null,
   "id": "fcff32bb",
   "metadata": {},
   "outputs": [],
   "source": []
  },
  {
   "cell_type": "markdown",
   "id": "b4f84c9c",
   "metadata": {},
   "source": [
    "## 5. Measuring our Test Data [0 points] \n",
    "\n",
    "For this question, you'll calculate an appropriate measure of model fit through an $R^2$ (either unadjusted or adjusted $R^2$) on our test data based on our model selected and fit to our training data in Question 4.  You do not need to fit a new model for this question.  You won't get points for this code here, but you can use the cell below for your calculation that you enter on Gradescope."
   ]
  },
  {
   "cell_type": "code",
   "execution_count": null,
   "id": "826caf84",
   "metadata": {},
   "outputs": [],
   "source": []
  },
  {
   "cell_type": "markdown",
   "id": "f02327ec",
   "metadata": {},
   "source": [
    "Remember to keep all your cells and hit the save icon above periodically to checkpoint (save) your results on your local computer. Once you are satisified with your results restart the kernel and run all (Kernel -> Restart & Run All). **Make sure nothing has changed**. Checkpoint and exit (File -> Save and Checkpoint + File -> Close and Halt). Follow the instructions on the Homework 10 Canvas Assignment to submit your notebook to GitHub."
   ]
  }
 ],
 "metadata": {
  "kernelspec": {
   "display_name": "base",
   "language": "python",
   "name": "python3"
  },
  "language_info": {
   "codemirror_mode": {
    "name": "ipython",
    "version": 3
   },
   "file_extension": ".py",
   "mimetype": "text/x-python",
   "name": "python",
   "nbconvert_exporter": "python",
   "pygments_lexer": "ipython3",
   "version": "3.11.5"
  }
 },
 "nbformat": 4,
 "nbformat_minor": 5
}

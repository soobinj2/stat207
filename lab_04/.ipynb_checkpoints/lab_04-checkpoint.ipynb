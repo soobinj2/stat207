{
 "cells": [
  {
   "cell_type": "markdown",
   "metadata": {},
   "source": [
    "# STAT 207 Group Lab Assignment 4 - [10 total points]\n",
    "\n",
    "## Populations & Samples"
   ]
  },
  {
   "cell_type": "markdown",
   "metadata": {},
   "source": [
    "<hr>"
   ]
  },
  {
   "cell_type": "markdown",
   "metadata": {},
   "source": [
    "## <u>Lab Grading</u>:\n",
    "\n",
    "Should we grade your submission?  If not, write the netID of the submission to be graded.  (Note: We will only grade one assignment per group, and we'll pick the first one that says we should grade that submission.  We will assign the same grade to all team members.)\n",
    "\n",
    "*For example*, you might respond: **grade this submission** or **my submission is under netID jdeeke**"
   ]
  },
  {
   "cell_type": "markdown",
   "metadata": {},
   "source": [
    "**grade this submission**"
   ]
  },
  {
   "cell_type": "markdown",
   "metadata": {},
   "source": [
    "If you said **my submission is under netID** above, we will not read any more of your lab submission.\n",
    "\n",
    "If you said **grade this submission** above, who worked with you on this submission?  Write both their **names** and **netIDs**.  Also, include the most recent fast food restaurant that you've eaten at."
   ]
  },
  {
   "cell_type": "markdown",
   "metadata": {},
   "source": [
    "Weiqi Cai netid:weiqi6\n",
    "\n",
    "Joonwoo Ha netid:ha47"
   ]
  },
  {
   "cell_type": "markdown",
   "metadata": {},
   "source": [
    "<hr>"
   ]
  },
  {
   "cell_type": "markdown",
   "metadata": {},
   "source": [
    "## <u>Purpose</u>:\n",
    "You should work in groups of 2-3 on this report (not working in groups without permission will result in a point deduction). The purpose of this group lab assignment is to consider the differences between populations and samples and to explore the presence of missing data.\n",
    "<hr>"
   ]
  },
  {
   "cell_type": "markdown",
   "metadata": {},
   "source": [
    "## <u>Assignment Instructions</u>:"
   ]
  },
  {
   "cell_type": "markdown",
   "metadata": {},
   "source": [
    "### Group Roles\n",
    "\n",
    "Suggested and specified roles are provided below: \n",
    "\n",
    "#### Groups of 2\n",
    "\n",
    "* **Driver**: This student will type the report.  While typing the report, you may be the one who is selecting the functions to apply to the data.\n",
    "* **Navigator**: This student will guide the process of answering the question.  Specific ways to help may include: outlining the general steps needed to solve a question (providing the overview), locating examples within the course notes, and reviewing each line of code as it is typed.\n",
    "\n",
    "#### Groups of 3\n",
    "\n",
    "* **Driver**: This student will type the report.  They may also be the one to select the functions to apply to the data.\n",
    "* **Navigator**: This student will guide the process of answering the question.  They may select the general approach to answering the question and/or a few steps to be completed along the way. \n",
    "* **Communicator**: This student will review the report (as it is typed) to ensure that it is clear and concise.  This student may also locate relevant examples within the course notes that may help complete the assignment.\n",
    "\n",
    "<hr>\n",
    "\n",
    "### Imports"
   ]
  },
  {
   "cell_type": "code",
   "execution_count": 1,
   "metadata": {},
   "outputs": [],
   "source": [
    "#Run this\n",
    "import pandas as pd                    # imports pandas and calls the imported version 'pd'\n",
    "import matplotlib.pyplot as plt        # imports the package and calls it 'plt'\n",
    "import seaborn as sns                  # imports the seaborn package with the imported name 'sns'\n",
    "sns.set()  "
   ]
  },
  {
   "cell_type": "markdown",
   "metadata": {},
   "source": [
    "## Case Study: Controlling Sodium\n",
    "\n",
    "For many health conditions, controlling sodium intake is an important goal.  However, many Americans regularly eat at fast-food restaurants.  For these Americans, we'd like to be able to suggest menu items that might have limited sodium, especially if the sodium measure is not easily available, based on other nutritional information of that item.  For this Case Study, we will learn about the **sodium** content of menu items at fast-food restaurants.\n",
    "\n",
    "We will use the following nutritional information about menu items:\n",
    "\n",
    "- **restaurant**: the restaurant of the menu item\n",
    "- **item**: the name of the menu item, which provides information to help define our observational unit\n",
    "- **calories**: the number of calories\n",
    "- **cal_fat**: the calories from fat\n",
    "- **total_fat**: the total fat\n",
    "- **sat_fat**: the saturated fat\n",
    "- **trans_fat**: the trans fat\n",
    "- **cholesterol**: the cholesterol\n",
    "- **total_carb**: the total carbohydrates\n",
    "- **fiber**: the fiber\n",
    "- **sugar**: the sugar\n",
    "- **protein**: the protein\n",
    "- **vit_a**: the Vitamin A\n",
    "- **vit_c**: the Vitamin C\n",
    "- **calcium**: the calcium\n",
    "\n",
    "Note that observational information is included for each menu item, including the restaurant and the item name.  The data originally came from https://www.kaggle.com/datasets/sujaykapadnis/fast-food-calories-data.\n",
    "\n",
    "Run the code in the cell below to read in the data for this document.  The data is saved as `df` with this code.  "
   ]
  },
  {
   "cell_type": "code",
   "execution_count": 5,
   "metadata": {},
   "outputs": [
    {
     "data": {
      "text/html": [
       "<div>\n",
       "<style scoped>\n",
       "    .dataframe tbody tr th:only-of-type {\n",
       "        vertical-align: middle;\n",
       "    }\n",
       "\n",
       "    .dataframe tbody tr th {\n",
       "        vertical-align: top;\n",
       "    }\n",
       "\n",
       "    .dataframe thead th {\n",
       "        text-align: right;\n",
       "    }\n",
       "</style>\n",
       "<table border=\"1\" class=\"dataframe\">\n",
       "  <thead>\n",
       "    <tr style=\"text-align: right;\">\n",
       "      <th></th>\n",
       "      <th>restaurant</th>\n",
       "      <th>item</th>\n",
       "      <th>calories</th>\n",
       "      <th>cal_fat</th>\n",
       "      <th>total_fat</th>\n",
       "      <th>sat_fat</th>\n",
       "      <th>trans_fat</th>\n",
       "      <th>cholesterol</th>\n",
       "      <th>sodium</th>\n",
       "      <th>total_carb</th>\n",
       "      <th>fiber</th>\n",
       "      <th>sugar</th>\n",
       "      <th>protein</th>\n",
       "      <th>vit_a</th>\n",
       "      <th>vit_c</th>\n",
       "      <th>calcium</th>\n",
       "    </tr>\n",
       "  </thead>\n",
       "  <tbody>\n",
       "    <tr>\n",
       "      <th>0</th>\n",
       "      <td>Mcdonalds</td>\n",
       "      <td>Artisan Grilled Chicken Sandwich</td>\n",
       "      <td>380</td>\n",
       "      <td>60</td>\n",
       "      <td>7</td>\n",
       "      <td>2.0</td>\n",
       "      <td>0.0</td>\n",
       "      <td>95</td>\n",
       "      <td>1110</td>\n",
       "      <td>44</td>\n",
       "      <td>3.0</td>\n",
       "      <td>11</td>\n",
       "      <td>37.0</td>\n",
       "      <td>4.0</td>\n",
       "      <td>20.0</td>\n",
       "      <td>20.0</td>\n",
       "    </tr>\n",
       "    <tr>\n",
       "      <th>1</th>\n",
       "      <td>Mcdonalds</td>\n",
       "      <td>Single Bacon Smokehouse Burger</td>\n",
       "      <td>840</td>\n",
       "      <td>410</td>\n",
       "      <td>45</td>\n",
       "      <td>17.0</td>\n",
       "      <td>1.5</td>\n",
       "      <td>130</td>\n",
       "      <td>1580</td>\n",
       "      <td>62</td>\n",
       "      <td>2.0</td>\n",
       "      <td>18</td>\n",
       "      <td>46.0</td>\n",
       "      <td>6.0</td>\n",
       "      <td>20.0</td>\n",
       "      <td>20.0</td>\n",
       "    </tr>\n",
       "    <tr>\n",
       "      <th>2</th>\n",
       "      <td>Mcdonalds</td>\n",
       "      <td>Double Bacon Smokehouse Burger</td>\n",
       "      <td>1130</td>\n",
       "      <td>600</td>\n",
       "      <td>67</td>\n",
       "      <td>27.0</td>\n",
       "      <td>3.0</td>\n",
       "      <td>220</td>\n",
       "      <td>1920</td>\n",
       "      <td>63</td>\n",
       "      <td>3.0</td>\n",
       "      <td>18</td>\n",
       "      <td>70.0</td>\n",
       "      <td>10.0</td>\n",
       "      <td>20.0</td>\n",
       "      <td>50.0</td>\n",
       "    </tr>\n",
       "    <tr>\n",
       "      <th>3</th>\n",
       "      <td>Mcdonalds</td>\n",
       "      <td>Grilled Bacon Smokehouse Chicken Sandwich</td>\n",
       "      <td>750</td>\n",
       "      <td>280</td>\n",
       "      <td>31</td>\n",
       "      <td>10.0</td>\n",
       "      <td>0.5</td>\n",
       "      <td>155</td>\n",
       "      <td>1940</td>\n",
       "      <td>62</td>\n",
       "      <td>2.0</td>\n",
       "      <td>18</td>\n",
       "      <td>55.0</td>\n",
       "      <td>6.0</td>\n",
       "      <td>25.0</td>\n",
       "      <td>20.0</td>\n",
       "    </tr>\n",
       "    <tr>\n",
       "      <th>4</th>\n",
       "      <td>Mcdonalds</td>\n",
       "      <td>Crispy Bacon Smokehouse Chicken Sandwich</td>\n",
       "      <td>920</td>\n",
       "      <td>410</td>\n",
       "      <td>45</td>\n",
       "      <td>12.0</td>\n",
       "      <td>0.5</td>\n",
       "      <td>120</td>\n",
       "      <td>1980</td>\n",
       "      <td>81</td>\n",
       "      <td>4.0</td>\n",
       "      <td>18</td>\n",
       "      <td>46.0</td>\n",
       "      <td>6.0</td>\n",
       "      <td>20.0</td>\n",
       "      <td>20.0</td>\n",
       "    </tr>\n",
       "    <tr>\n",
       "      <th>...</th>\n",
       "      <td>...</td>\n",
       "      <td>...</td>\n",
       "      <td>...</td>\n",
       "      <td>...</td>\n",
       "      <td>...</td>\n",
       "      <td>...</td>\n",
       "      <td>...</td>\n",
       "      <td>...</td>\n",
       "      <td>...</td>\n",
       "      <td>...</td>\n",
       "      <td>...</td>\n",
       "      <td>...</td>\n",
       "      <td>...</td>\n",
       "      <td>...</td>\n",
       "      <td>...</td>\n",
       "      <td>...</td>\n",
       "    </tr>\n",
       "    <tr>\n",
       "      <th>510</th>\n",
       "      <td>Taco Bell</td>\n",
       "      <td>Spicy Triple Double Crunchwrap</td>\n",
       "      <td>780</td>\n",
       "      <td>340</td>\n",
       "      <td>38</td>\n",
       "      <td>10.0</td>\n",
       "      <td>0.5</td>\n",
       "      <td>50</td>\n",
       "      <td>1850</td>\n",
       "      <td>87</td>\n",
       "      <td>9.0</td>\n",
       "      <td>8</td>\n",
       "      <td>23.0</td>\n",
       "      <td>20.0</td>\n",
       "      <td>10.0</td>\n",
       "      <td>25.0</td>\n",
       "    </tr>\n",
       "    <tr>\n",
       "      <th>511</th>\n",
       "      <td>Taco Bell</td>\n",
       "      <td>Express Taco Salad w/ Chips</td>\n",
       "      <td>580</td>\n",
       "      <td>260</td>\n",
       "      <td>29</td>\n",
       "      <td>9.0</td>\n",
       "      <td>1.0</td>\n",
       "      <td>60</td>\n",
       "      <td>1270</td>\n",
       "      <td>59</td>\n",
       "      <td>8.0</td>\n",
       "      <td>7</td>\n",
       "      <td>23.0</td>\n",
       "      <td>NaN</td>\n",
       "      <td>NaN</td>\n",
       "      <td>NaN</td>\n",
       "    </tr>\n",
       "    <tr>\n",
       "      <th>512</th>\n",
       "      <td>Taco Bell</td>\n",
       "      <td>Fiesta Taco Salad-Beef</td>\n",
       "      <td>780</td>\n",
       "      <td>380</td>\n",
       "      <td>42</td>\n",
       "      <td>10.0</td>\n",
       "      <td>1.0</td>\n",
       "      <td>60</td>\n",
       "      <td>1340</td>\n",
       "      <td>74</td>\n",
       "      <td>11.0</td>\n",
       "      <td>7</td>\n",
       "      <td>26.0</td>\n",
       "      <td>NaN</td>\n",
       "      <td>NaN</td>\n",
       "      <td>NaN</td>\n",
       "    </tr>\n",
       "    <tr>\n",
       "      <th>513</th>\n",
       "      <td>Taco Bell</td>\n",
       "      <td>Fiesta Taco Salad-Chicken</td>\n",
       "      <td>720</td>\n",
       "      <td>320</td>\n",
       "      <td>35</td>\n",
       "      <td>7.0</td>\n",
       "      <td>0.0</td>\n",
       "      <td>70</td>\n",
       "      <td>1260</td>\n",
       "      <td>70</td>\n",
       "      <td>8.0</td>\n",
       "      <td>8</td>\n",
       "      <td>32.0</td>\n",
       "      <td>NaN</td>\n",
       "      <td>NaN</td>\n",
       "      <td>NaN</td>\n",
       "    </tr>\n",
       "    <tr>\n",
       "      <th>514</th>\n",
       "      <td>Taco Bell</td>\n",
       "      <td>Fiesta Taco Salad-Steak</td>\n",
       "      <td>720</td>\n",
       "      <td>320</td>\n",
       "      <td>36</td>\n",
       "      <td>8.0</td>\n",
       "      <td>1.0</td>\n",
       "      <td>55</td>\n",
       "      <td>1340</td>\n",
       "      <td>70</td>\n",
       "      <td>8.0</td>\n",
       "      <td>8</td>\n",
       "      <td>28.0</td>\n",
       "      <td>NaN</td>\n",
       "      <td>NaN</td>\n",
       "      <td>NaN</td>\n",
       "    </tr>\n",
       "  </tbody>\n",
       "</table>\n",
       "<p>515 rows × 16 columns</p>\n",
       "</div>"
      ],
      "text/plain": [
       "    restaurant                                       item  calories  cal_fat  \\\n",
       "0    Mcdonalds           Artisan Grilled Chicken Sandwich       380       60   \n",
       "1    Mcdonalds             Single Bacon Smokehouse Burger       840      410   \n",
       "2    Mcdonalds             Double Bacon Smokehouse Burger      1130      600   \n",
       "3    Mcdonalds  Grilled Bacon Smokehouse Chicken Sandwich       750      280   \n",
       "4    Mcdonalds   Crispy Bacon Smokehouse Chicken Sandwich       920      410   \n",
       "..         ...                                        ...       ...      ...   \n",
       "510  Taco Bell             Spicy Triple Double Crunchwrap       780      340   \n",
       "511  Taco Bell                Express Taco Salad w/ Chips       580      260   \n",
       "512  Taco Bell                     Fiesta Taco Salad-Beef       780      380   \n",
       "513  Taco Bell                  Fiesta Taco Salad-Chicken       720      320   \n",
       "514  Taco Bell                    Fiesta Taco Salad-Steak       720      320   \n",
       "\n",
       "     total_fat  sat_fat  trans_fat  cholesterol  sodium  total_carb  fiber  \\\n",
       "0            7      2.0        0.0           95    1110          44    3.0   \n",
       "1           45     17.0        1.5          130    1580          62    2.0   \n",
       "2           67     27.0        3.0          220    1920          63    3.0   \n",
       "3           31     10.0        0.5          155    1940          62    2.0   \n",
       "4           45     12.0        0.5          120    1980          81    4.0   \n",
       "..         ...      ...        ...          ...     ...         ...    ...   \n",
       "510         38     10.0        0.5           50    1850          87    9.0   \n",
       "511         29      9.0        1.0           60    1270          59    8.0   \n",
       "512         42     10.0        1.0           60    1340          74   11.0   \n",
       "513         35      7.0        0.0           70    1260          70    8.0   \n",
       "514         36      8.0        1.0           55    1340          70    8.0   \n",
       "\n",
       "     sugar  protein  vit_a  vit_c  calcium  \n",
       "0       11     37.0    4.0   20.0     20.0  \n",
       "1       18     46.0    6.0   20.0     20.0  \n",
       "2       18     70.0   10.0   20.0     50.0  \n",
       "3       18     55.0    6.0   25.0     20.0  \n",
       "4       18     46.0    6.0   20.0     20.0  \n",
       "..     ...      ...    ...    ...      ...  \n",
       "510      8     23.0   20.0   10.0     25.0  \n",
       "511      7     23.0    NaN    NaN      NaN  \n",
       "512      7     26.0    NaN    NaN      NaN  \n",
       "513      8     32.0    NaN    NaN      NaN  \n",
       "514      8     28.0    NaN    NaN      NaN  \n",
       "\n",
       "[515 rows x 16 columns]"
      ]
     },
     "execution_count": 5,
     "metadata": {},
     "output_type": "execute_result"
    }
   ],
   "source": [
    "df = pd.read_csv('fastfood.csv')\n",
    "df"
   ]
  },
  {
   "cell_type": "markdown",
   "metadata": {},
   "source": [
    "### 1. [4 points] Samples & Populations\n",
    "\n",
    "The fast food data contains the nutritional information for entree or main dish items on the menu at each of the fast food restaurants and was scraped from each restaurant's website.\n",
    "\n",
    "Recall that our goal is to be able to suggest menu items that might have limited sodium, especially if the sodium measure is not easily available.\n",
    "\n",
    "**a)** Define the population of interest that is implied by our research goal.  Be sure to be specific. [*Note*: there is not one correct answer for this question.]"
   ]
  },
  {
   "cell_type": "markdown",
   "metadata": {},
   "source": [
    "one single menu"
   ]
  },
  {
   "cell_type": "markdown",
   "metadata": {},
   "source": [
    "**b)** Based on your definition of the population of interest, would the available data correspond to a population or a sample?  Explain."
   ]
  },
  {
   "cell_type": "markdown",
   "metadata": {},
   "source": [
    "sample becuase the number of the dataset isn't big, and those data doesn't represent all of fast food items all over the world."
   ]
  },
  {
   "cell_type": "markdown",
   "metadata": {},
   "source": [
    "**c)** If you were to calculate a summary measure from your available data, would it be a parameter or a statistic?"
   ]
  },
  {
   "cell_type": "markdown",
   "metadata": {},
   "source": [
    "It would be a statistic because we are computing the measure from a sample rather than the entire population of fast food entrees."
   ]
  },
  {
   "cell_type": "markdown",
   "metadata": {},
   "source": [
    "**d)** Would you consider your available data to be representative of your population of interest?  Briefly explain.  You may choose to explore your data through analysis, although this is not required."
   ]
  },
  {
   "cell_type": "markdown",
   "metadata": {},
   "source": [
    "Because the dataset contains only certain menu items from some restaurants, it is hard to say that it is fully representative of the entire fast food menu group. Since it is hard to say that it contains all fast food restaurants or menus in the world, the conclusions drawn from this dataset can be erroneous to apply to the entire fast food."
   ]
  },
  {
   "cell_type": "code",
   "execution_count": 50,
   "metadata": {},
   "outputs": [
    {
     "data": {
      "text/plain": [
       "restaurant\n",
       "Taco Bell      115\n",
       "Subway          96\n",
       "Burger King     70\n",
       "Mcdonalds       57\n",
       "Arbys           55\n",
       "Sonic           53\n",
       "Dairy Queen     42\n",
       "Chick Fil-A     27\n",
       "Name: count, dtype: int64"
      ]
     },
     "execution_count": 50,
     "metadata": {},
     "output_type": "execute_result"
    }
   ],
   "source": [
    "restaurant_counts = df[\"restaurant\"].value_counts()\n",
    "restaurant_counts"
   ]
  },
  {
   "cell_type": "code",
   "execution_count": 52,
   "metadata": {},
   "outputs": [
    {
     "data": {
      "text/html": [
       "<div>\n",
       "<style scoped>\n",
       "    .dataframe tbody tr th:only-of-type {\n",
       "        vertical-align: middle;\n",
       "    }\n",
       "\n",
       "    .dataframe tbody tr th {\n",
       "        vertical-align: top;\n",
       "    }\n",
       "\n",
       "    .dataframe thead th {\n",
       "        text-align: right;\n",
       "    }\n",
       "</style>\n",
       "<table border=\"1\" class=\"dataframe\">\n",
       "  <thead>\n",
       "    <tr style=\"text-align: right;\">\n",
       "      <th></th>\n",
       "      <th>count</th>\n",
       "      <th>mean</th>\n",
       "      <th>std</th>\n",
       "      <th>min</th>\n",
       "      <th>25%</th>\n",
       "      <th>50%</th>\n",
       "      <th>75%</th>\n",
       "      <th>max</th>\n",
       "    </tr>\n",
       "    <tr>\n",
       "      <th>restaurant</th>\n",
       "      <th></th>\n",
       "      <th></th>\n",
       "      <th></th>\n",
       "      <th></th>\n",
       "      <th></th>\n",
       "      <th></th>\n",
       "      <th></th>\n",
       "      <th></th>\n",
       "    </tr>\n",
       "  </thead>\n",
       "  <tbody>\n",
       "    <tr>\n",
       "      <th>Arbys</th>\n",
       "      <td>55.0</td>\n",
       "      <td>1515.272727</td>\n",
       "      <td>663.665061</td>\n",
       "      <td>100.0</td>\n",
       "      <td>960.0</td>\n",
       "      <td>1480.0</td>\n",
       "      <td>2020.0</td>\n",
       "      <td>3350.0</td>\n",
       "    </tr>\n",
       "    <tr>\n",
       "      <th>Burger King</th>\n",
       "      <td>70.0</td>\n",
       "      <td>1223.571429</td>\n",
       "      <td>499.884148</td>\n",
       "      <td>310.0</td>\n",
       "      <td>850.0</td>\n",
       "      <td>1150.0</td>\n",
       "      <td>1635.0</td>\n",
       "      <td>2310.0</td>\n",
       "    </tr>\n",
       "    <tr>\n",
       "      <th>Chick Fil-A</th>\n",
       "      <td>27.0</td>\n",
       "      <td>1151.481481</td>\n",
       "      <td>726.920288</td>\n",
       "      <td>220.0</td>\n",
       "      <td>700.0</td>\n",
       "      <td>1000.0</td>\n",
       "      <td>1405.0</td>\n",
       "      <td>3660.0</td>\n",
       "    </tr>\n",
       "    <tr>\n",
       "      <th>Dairy Queen</th>\n",
       "      <td>42.0</td>\n",
       "      <td>1181.785714</td>\n",
       "      <td>609.939843</td>\n",
       "      <td>15.0</td>\n",
       "      <td>847.5</td>\n",
       "      <td>1030.0</td>\n",
       "      <td>1362.5</td>\n",
       "      <td>3500.0</td>\n",
       "    </tr>\n",
       "    <tr>\n",
       "      <th>Mcdonalds</th>\n",
       "      <td>57.0</td>\n",
       "      <td>1437.894737</td>\n",
       "      <td>1036.172105</td>\n",
       "      <td>20.0</td>\n",
       "      <td>870.0</td>\n",
       "      <td>1120.0</td>\n",
       "      <td>1780.0</td>\n",
       "      <td>6080.0</td>\n",
       "    </tr>\n",
       "    <tr>\n",
       "      <th>Sonic</th>\n",
       "      <td>53.0</td>\n",
       "      <td>1350.754717</td>\n",
       "      <td>665.134021</td>\n",
       "      <td>470.0</td>\n",
       "      <td>900.0</td>\n",
       "      <td>1250.0</td>\n",
       "      <td>1550.0</td>\n",
       "      <td>4520.0</td>\n",
       "    </tr>\n",
       "    <tr>\n",
       "      <th>Subway</th>\n",
       "      <td>96.0</td>\n",
       "      <td>1272.968750</td>\n",
       "      <td>743.634594</td>\n",
       "      <td>65.0</td>\n",
       "      <td>697.5</td>\n",
       "      <td>1130.0</td>\n",
       "      <td>1605.0</td>\n",
       "      <td>3540.0</td>\n",
       "    </tr>\n",
       "    <tr>\n",
       "      <th>Taco Bell</th>\n",
       "      <td>115.0</td>\n",
       "      <td>1013.913043</td>\n",
       "      <td>474.054360</td>\n",
       "      <td>290.0</td>\n",
       "      <td>615.0</td>\n",
       "      <td>960.0</td>\n",
       "      <td>1300.0</td>\n",
       "      <td>2260.0</td>\n",
       "    </tr>\n",
       "  </tbody>\n",
       "</table>\n",
       "</div>"
      ],
      "text/plain": [
       "             count         mean          std    min    25%     50%     75%  \\\n",
       "restaurant                                                                   \n",
       "Arbys         55.0  1515.272727   663.665061  100.0  960.0  1480.0  2020.0   \n",
       "Burger King   70.0  1223.571429   499.884148  310.0  850.0  1150.0  1635.0   \n",
       "Chick Fil-A   27.0  1151.481481   726.920288  220.0  700.0  1000.0  1405.0   \n",
       "Dairy Queen   42.0  1181.785714   609.939843   15.0  847.5  1030.0  1362.5   \n",
       "Mcdonalds     57.0  1437.894737  1036.172105   20.0  870.0  1120.0  1780.0   \n",
       "Sonic         53.0  1350.754717   665.134021  470.0  900.0  1250.0  1550.0   \n",
       "Subway        96.0  1272.968750   743.634594   65.0  697.5  1130.0  1605.0   \n",
       "Taco Bell    115.0  1013.913043   474.054360  290.0  615.0   960.0  1300.0   \n",
       "\n",
       "                max  \n",
       "restaurant           \n",
       "Arbys        3350.0  \n",
       "Burger King  2310.0  \n",
       "Chick Fil-A  3660.0  \n",
       "Dairy Queen  3500.0  \n",
       "Mcdonalds    6080.0  \n",
       "Sonic        4520.0  \n",
       "Subway       3540.0  \n",
       "Taco Bell    2260.0  "
      ]
     },
     "execution_count": 52,
     "metadata": {},
     "output_type": "execute_result"
    }
   ],
   "source": [
    "sodium_by_restaurant = df.groupby(\"restaurant\")[\"sodium\"].describe()\n",
    "sodium_by_restaurant"
   ]
  },
  {
   "cell_type": "markdown",
   "metadata": {},
   "source": [
    "**e)** What would you anticipate is the typical amount of sodium contained in a fast food dish for the population that you identified in part **a**?  [*Note*: there are multiple approaches that could be used to answer this question.]"
   ]
  },
  {
   "cell_type": "code",
   "execution_count": 14,
   "metadata": {},
   "outputs": [
    {
     "name": "stdout",
     "output_type": "stream",
     "text": [
      "Mean Sodium: 1246.7378640776699\n",
      "Median Sodium: 1110.0\n"
     ]
    }
   ],
   "source": [
    "mean_sodium = df[\"sodium\"].mean()\n",
    "median_sodium = df[\"sodium\"].median()\n",
    "\n",
    "print(f\"Mean Sodium: {mean_sodium}\")\n",
    "print(f\"Median Sodium: {median_sodium}\")"
   ]
  },
  {
   "cell_type": "markdown",
   "metadata": {},
   "source": [
    "Based on the computed mean and median sodium values, the typical amount of sodium in a fast food dish is around 1247 mg. The median value of 1110 mg suggests that at least half of the items contain less than this amount of sodium, while the mean is slightly higher due to possible high-sodium outliers."
   ]
  },
  {
   "cell_type": "markdown",
   "metadata": {},
   "source": [
    "### 2. [6 points] Exploring Missing Data\n",
    "\n",
    "When performing an analysis, we often decide to drop all observations that have missing values for any of the variables in the data.  In our class, we've used this approach so far, as it's the simplest.  However, I'd like you to evaluate whether you think the decision to remove any observations with missing values is the best course of action for this data, or if it might reduce the representativeness of the available data. \n",
    "\n",
    "**a)** First, identify which variables in the data contain missing values, and how many missing values each variable contains.  You may assume that all missing values have already been appropriately identified in the data."
   ]
  },
  {
   "cell_type": "code",
   "execution_count": 17,
   "metadata": {},
   "outputs": [
    {
     "data": {
      "text/plain": [
       "restaurant       0\n",
       "item             0\n",
       "calories         0\n",
       "cal_fat          0\n",
       "total_fat        0\n",
       "sat_fat          0\n",
       "trans_fat        0\n",
       "cholesterol      0\n",
       "sodium           0\n",
       "total_carb       0\n",
       "fiber           12\n",
       "sugar            0\n",
       "protein          1\n",
       "vit_a          214\n",
       "vit_c          210\n",
       "calcium        210\n",
       "dtype: int64"
      ]
     },
     "execution_count": 17,
     "metadata": {},
     "output_type": "execute_result"
    }
   ],
   "source": [
    "missing_values = df.isnull().sum()\n",
    "missing_values"
   ]
  },
  {
   "cell_type": "markdown",
   "metadata": {},
   "source": [
    "**b)** Select one of the variables that has missing values.  Create a new boolean variable in the data that records whether a given observation has a missing value recorded.  Note that this may be completed with the `.isna()` method."
   ]
  },
  {
   "cell_type": "code",
   "execution_count": 19,
   "metadata": {},
   "outputs": [
    {
     "data": {
      "text/plain": [
       "0    False\n",
       "1    False\n",
       "2    False\n",
       "3    False\n",
       "4    False\n",
       "Name: calcium_missing, dtype: bool"
      ]
     },
     "execution_count": 19,
     "metadata": {},
     "output_type": "execute_result"
    }
   ],
   "source": [
    "df['calcium_missing'] = df['calcium'].isna()\n",
    "df['calcium_missing'].head()"
   ]
  },
  {
   "cell_type": "markdown",
   "metadata": {},
   "source": [
    "**c)** Explore the connection between the missing value for your variable selected in part **b** and the sodium variable.  Generate numerical summaries and/or graphs to determine if there is a relationship between the presence of missing values and your variable in the data.\n",
    "\n",
    "If you have time, you can repeat this process of exploring the relationship for the missing value of your variable from part **b** and another variable of your choosing in the data."
   ]
  },
  {
   "cell_type": "code",
   "execution_count": 56,
   "metadata": {},
   "outputs": [
    {
     "data": {
      "image/png": "[encoded data removed]",
      "text/plain": [
       "<Figure size 1000x600 with 1 Axes>"
      ]
     },
     "metadata": {},
     "output_type": "display_data"
    }
   ],
   "source": [
    "plt.figure(figsize=(10, 6))\n",
    "sns.boxplot(x='calcium_missing', y='sodium', data=df)\n",
    "plt.title('Sodium Content Distribution using Calcium Missing Status')\n",
    "plt.xlabel('Calcium Missing')\n",
    "plt.ylabel('Sodium Content (mg)')\n",
    "plt.show()"
   ]
  },
  {
   "cell_type": "code",
   "execution_count": 29,
   "metadata": {},
   "outputs": [
    {
     "data": {
      "text/html": [
       "<div>\n",
       "<style scoped>\n",
       "    .dataframe tbody tr th:only-of-type {\n",
       "        vertical-align: middle;\n",
       "    }\n",
       "\n",
       "    .dataframe tbody tr th {\n",
       "        vertical-align: top;\n",
       "    }\n",
       "\n",
       "    .dataframe thead th {\n",
       "        text-align: right;\n",
       "    }\n",
       "</style>\n",
       "<table border=\"1\" class=\"dataframe\">\n",
       "  <thead>\n",
       "    <tr style=\"text-align: right;\">\n",
       "      <th></th>\n",
       "      <th>count</th>\n",
       "      <th>mean</th>\n",
       "      <th>std</th>\n",
       "      <th>min</th>\n",
       "      <th>25%</th>\n",
       "      <th>50%</th>\n",
       "      <th>75%</th>\n",
       "      <th>max</th>\n",
       "    </tr>\n",
       "    <tr>\n",
       "      <th>calcium_missing</th>\n",
       "      <th></th>\n",
       "      <th></th>\n",
       "      <th></th>\n",
       "      <th></th>\n",
       "      <th></th>\n",
       "      <th></th>\n",
       "      <th></th>\n",
       "      <th></th>\n",
       "    </tr>\n",
       "  </thead>\n",
       "  <tbody>\n",
       "    <tr>\n",
       "      <th>False</th>\n",
       "      <td>305.0</td>\n",
       "      <td>1279.409836</td>\n",
       "      <td>733.582916</td>\n",
       "      <td>15.0</td>\n",
       "      <td>830.0</td>\n",
       "      <td>1120.0</td>\n",
       "      <td>1550.0</td>\n",
       "      <td>6080.0</td>\n",
       "    </tr>\n",
       "    <tr>\n",
       "      <th>True</th>\n",
       "      <td>210.0</td>\n",
       "      <td>1199.285714</td>\n",
       "      <td>619.803924</td>\n",
       "      <td>290.0</td>\n",
       "      <td>732.5</td>\n",
       "      <td>1070.0</td>\n",
       "      <td>1540.0</td>\n",
       "      <td>4520.0</td>\n",
       "    </tr>\n",
       "  </tbody>\n",
       "</table>\n",
       "</div>"
      ],
      "text/plain": [
       "                 count         mean         std    min    25%     50%     75%  \\\n",
       "calcium_missing                                                                 \n",
       "False            305.0  1279.409836  733.582916   15.0  830.0  1120.0  1550.0   \n",
       "True             210.0  1199.285714  619.803924  290.0  732.5  1070.0  1540.0   \n",
       "\n",
       "                    max  \n",
       "calcium_missing          \n",
       "False            6080.0  \n",
       "True             4520.0  "
      ]
     },
     "execution_count": 29,
     "metadata": {},
     "output_type": "execute_result"
    }
   ],
   "source": [
    "df.groupby('calcium_missing')['sodium'].describe()"
   ]
  },
  {
   "cell_type": "markdown",
   "metadata": {},
   "source": [
    "**d)** Finally, provide a brief summary for if you think that removing the missing observations reduces the representativeness of the available data, along with a brief justification."
   ]
  },
  {
   "cell_type": "markdown",
   "metadata": {},
   "source": [
    "Based on the data and visualizations provided, we believe that removing observations with missing values will significantly reduce the representativeness of the available data.\n",
    "\n",
    "Eliminating observations with missing calcium values can remove a significant portion of the data set, removing 210 of the total 515 observations. Box plots and descriptive statistics show that the distribution of sodium content between observations with missing calcium values and those without missing values is similar.\n",
    "\n",
    "The sodium intermediate content is not significantly different between the two groups, and the mean value is similar (1279.41 mg if not missed, 1199.29 mg if missing)\n",
    "\n",
    "The results of these values indicate that the entire fast food menu item is valid, since the values of the data with missing calcium values are not overall different. Eliminating these observations does not seem appropriate in this situation, since not only does the removal of these observations significantly reduce sample size, but also can remove important information about other nutritional characteristics present in these records."
   ]
  },
  {
   "cell_type": "markdown",
   "metadata": {},
   "source": [
    "<hr>\n",
    "\n",
    "If you have extra time during lab, you may consider organizing for Project 1 (arranging your group and picking your dataset).  You may also use this time to get started on the assignment.  Be sure to read the Project 1 instructions carefully as you work through the project."
   ]
  }
 ],
 "metadata": {
  "kernelspec": {
   "display_name": "Python [conda env:base] *",
   "language": "python",
   "name": "conda-base-py"
  },
  "language_info": {
   "codemirror_mode": {
    "name": "ipython",
    "version": 3
   },
   "file_extension": ".py",
   "mimetype": "text/x-python",
   "name": "python",
   "nbconvert_exporter": "python",
   "pygments_lexer": "ipython3",
   "version": "3.11.5"
  }
 },
 "nbformat": 4,
 "nbformat_minor": 4
}

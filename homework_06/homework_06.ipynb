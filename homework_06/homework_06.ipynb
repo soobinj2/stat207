{
 "cells": [
  {
   "cell_type": "markdown",
   "id": "e746da0e",
   "metadata": {},
   "source": [
    "# STAT 207 Homework 6 [25 points]\n",
    "\n",
    "## Deeper Dive into Hypothesis Testing and Introduction to Linear Regression"
   ]
  },
  {
   "cell_type": "markdown",
   "id": "6fef820a",
   "metadata": {},
   "source": [
    "Due: Thursday, March 13, end of day (11:59 pm CT)\n",
    "\n",
    "Late submissions accepted until Friday, March 14 at noon\n",
    "\n",
    "<hr>"
   ]
  },
  {
   "cell_type": "markdown",
   "id": "c4d94493",
   "metadata": {},
   "source": [
    "## Imports \n",
    "\n",
    "Run the following code cell to import the necessary packages into the file.  You may import additional packages, as needed for this assignment."
   ]
  },
  {
   "cell_type": "code",
   "execution_count": 1,
   "id": "25c92b96",
   "metadata": {},
   "outputs": [],
   "source": [
    "import pandas as pd\n",
    "import matplotlib.pyplot as plt\n",
    "import seaborn as sns; sns.set()\n",
    "import numpy as np"
   ]
  },
  {
   "cell_type": "markdown",
   "id": "ac088395",
   "metadata": {},
   "source": [
    "## Case Study: County Housing Information\n",
    "\n",
    "The provided **county.csv** file contains various statistics about the population of every county in the United States.  You can read more about this dataset and its variables here:\n",
    "\n",
    "https://www.openintro.org/data/index.php?data=county\n",
    "\n",
    "**Observational Unit**: Each row contains data recorded for a county\n",
    "\n",
    "**Variables**: \n",
    "\n",
    "- In question 1, we will focus on the `multi_unit` variable in the data, which reports the percent of housing units in each county that are in multi-unit structures (e.g. apartments).  \n",
    "- In question 2, we will add the `homeownership` variable, which records the rate of home ownership.  \n",
    "\n",
    "Below, we read in the data as `df` for later analysis."
   ]
  },
  {
   "cell_type": "code",
   "execution_count": 2,
   "id": "4a0f3371",
   "metadata": {},
   "outputs": [
    {
     "data": {
      "text/html": [
       "<div>\n",
       "<style scoped>\n",
       "    .dataframe tbody tr th:only-of-type {\n",
       "        vertical-align: middle;\n",
       "    }\n",
       "\n",
       "    .dataframe tbody tr th {\n",
       "        vertical-align: top;\n",
       "    }\n",
       "\n",
       "    .dataframe thead th {\n",
       "        text-align: right;\n",
       "    }\n",
       "</style>\n",
       "<table border=\"1\" class=\"dataframe\">\n",
       "  <thead>\n",
       "    <tr style=\"text-align: right;\">\n",
       "      <th></th>\n",
       "      <th>name</th>\n",
       "      <th>state</th>\n",
       "      <th>pop2000</th>\n",
       "      <th>pop2010</th>\n",
       "      <th>pop2017</th>\n",
       "      <th>pop_change</th>\n",
       "      <th>poverty</th>\n",
       "      <th>homeownership</th>\n",
       "      <th>multi_unit</th>\n",
       "      <th>unemployment_rate</th>\n",
       "      <th>metro</th>\n",
       "      <th>median_edu</th>\n",
       "      <th>per_capita_income</th>\n",
       "      <th>median_hh_income</th>\n",
       "      <th>smoking_ban</th>\n",
       "    </tr>\n",
       "  </thead>\n",
       "  <tbody>\n",
       "    <tr>\n",
       "      <th>0</th>\n",
       "      <td>Autauga County</td>\n",
       "      <td>Alabama</td>\n",
       "      <td>43671.0</td>\n",
       "      <td>54571</td>\n",
       "      <td>55504.0</td>\n",
       "      <td>1.48</td>\n",
       "      <td>13.7</td>\n",
       "      <td>77.5</td>\n",
       "      <td>7.2</td>\n",
       "      <td>3.86</td>\n",
       "      <td>yes</td>\n",
       "      <td>some_college</td>\n",
       "      <td>27841.70</td>\n",
       "      <td>55317.0</td>\n",
       "      <td>none</td>\n",
       "    </tr>\n",
       "    <tr>\n",
       "      <th>1</th>\n",
       "      <td>Baldwin County</td>\n",
       "      <td>Alabama</td>\n",
       "      <td>140415.0</td>\n",
       "      <td>182265</td>\n",
       "      <td>212628.0</td>\n",
       "      <td>9.19</td>\n",
       "      <td>11.8</td>\n",
       "      <td>76.7</td>\n",
       "      <td>22.6</td>\n",
       "      <td>3.99</td>\n",
       "      <td>yes</td>\n",
       "      <td>some_college</td>\n",
       "      <td>27779.85</td>\n",
       "      <td>52562.0</td>\n",
       "      <td>none</td>\n",
       "    </tr>\n",
       "    <tr>\n",
       "      <th>2</th>\n",
       "      <td>Barbour County</td>\n",
       "      <td>Alabama</td>\n",
       "      <td>29038.0</td>\n",
       "      <td>27457</td>\n",
       "      <td>25270.0</td>\n",
       "      <td>-6.22</td>\n",
       "      <td>27.2</td>\n",
       "      <td>68.0</td>\n",
       "      <td>11.1</td>\n",
       "      <td>5.90</td>\n",
       "      <td>no</td>\n",
       "      <td>hs_diploma</td>\n",
       "      <td>17891.73</td>\n",
       "      <td>33368.0</td>\n",
       "      <td>partial</td>\n",
       "    </tr>\n",
       "    <tr>\n",
       "      <th>3</th>\n",
       "      <td>Bibb County</td>\n",
       "      <td>Alabama</td>\n",
       "      <td>20826.0</td>\n",
       "      <td>22915</td>\n",
       "      <td>22668.0</td>\n",
       "      <td>0.73</td>\n",
       "      <td>15.2</td>\n",
       "      <td>82.9</td>\n",
       "      <td>6.6</td>\n",
       "      <td>4.39</td>\n",
       "      <td>yes</td>\n",
       "      <td>hs_diploma</td>\n",
       "      <td>20572.05</td>\n",
       "      <td>43404.0</td>\n",
       "      <td>none</td>\n",
       "    </tr>\n",
       "    <tr>\n",
       "      <th>4</th>\n",
       "      <td>Blount County</td>\n",
       "      <td>Alabama</td>\n",
       "      <td>51024.0</td>\n",
       "      <td>57322</td>\n",
       "      <td>58013.0</td>\n",
       "      <td>0.68</td>\n",
       "      <td>15.6</td>\n",
       "      <td>82.0</td>\n",
       "      <td>3.7</td>\n",
       "      <td>4.02</td>\n",
       "      <td>yes</td>\n",
       "      <td>hs_diploma</td>\n",
       "      <td>21367.39</td>\n",
       "      <td>47412.0</td>\n",
       "      <td>none</td>\n",
       "    </tr>\n",
       "    <tr>\n",
       "      <th>...</th>\n",
       "      <td>...</td>\n",
       "      <td>...</td>\n",
       "      <td>...</td>\n",
       "      <td>...</td>\n",
       "      <td>...</td>\n",
       "      <td>...</td>\n",
       "      <td>...</td>\n",
       "      <td>...</td>\n",
       "      <td>...</td>\n",
       "      <td>...</td>\n",
       "      <td>...</td>\n",
       "      <td>...</td>\n",
       "      <td>...</td>\n",
       "      <td>...</td>\n",
       "      <td>...</td>\n",
       "    </tr>\n",
       "    <tr>\n",
       "      <th>3137</th>\n",
       "      <td>Sweetwater County</td>\n",
       "      <td>Wyoming</td>\n",
       "      <td>37613.0</td>\n",
       "      <td>43806</td>\n",
       "      <td>43534.0</td>\n",
       "      <td>-3.57</td>\n",
       "      <td>12.0</td>\n",
       "      <td>73.7</td>\n",
       "      <td>14.6</td>\n",
       "      <td>4.55</td>\n",
       "      <td>no</td>\n",
       "      <td>some_college</td>\n",
       "      <td>30282.59</td>\n",
       "      <td>71083.0</td>\n",
       "      <td>none</td>\n",
       "    </tr>\n",
       "    <tr>\n",
       "      <th>3138</th>\n",
       "      <td>Teton County</td>\n",
       "      <td>Wyoming</td>\n",
       "      <td>18251.0</td>\n",
       "      <td>21294</td>\n",
       "      <td>23265.0</td>\n",
       "      <td>4.21</td>\n",
       "      <td>6.8</td>\n",
       "      <td>60.8</td>\n",
       "      <td>31.9</td>\n",
       "      <td>2.99</td>\n",
       "      <td>no</td>\n",
       "      <td>bachelors</td>\n",
       "      <td>48557.37</td>\n",
       "      <td>80049.0</td>\n",
       "      <td>partial</td>\n",
       "    </tr>\n",
       "    <tr>\n",
       "      <th>3139</th>\n",
       "      <td>Uinta County</td>\n",
       "      <td>Wyoming</td>\n",
       "      <td>19742.0</td>\n",
       "      <td>21118</td>\n",
       "      <td>20495.0</td>\n",
       "      <td>-2.22</td>\n",
       "      <td>14.9</td>\n",
       "      <td>73.7</td>\n",
       "      <td>17.0</td>\n",
       "      <td>4.50</td>\n",
       "      <td>no</td>\n",
       "      <td>some_college</td>\n",
       "      <td>27048.12</td>\n",
       "      <td>54672.0</td>\n",
       "      <td>none</td>\n",
       "    </tr>\n",
       "    <tr>\n",
       "      <th>3140</th>\n",
       "      <td>Washakie County</td>\n",
       "      <td>Wyoming</td>\n",
       "      <td>8289.0</td>\n",
       "      <td>8533</td>\n",
       "      <td>8064.0</td>\n",
       "      <td>-4.31</td>\n",
       "      <td>12.8</td>\n",
       "      <td>70.9</td>\n",
       "      <td>10.0</td>\n",
       "      <td>4.08</td>\n",
       "      <td>no</td>\n",
       "      <td>some_college</td>\n",
       "      <td>27494.83</td>\n",
       "      <td>51362.0</td>\n",
       "      <td>none</td>\n",
       "    </tr>\n",
       "    <tr>\n",
       "      <th>3141</th>\n",
       "      <td>Weston County</td>\n",
       "      <td>Wyoming</td>\n",
       "      <td>6644.0</td>\n",
       "      <td>7208</td>\n",
       "      <td>6927.0</td>\n",
       "      <td>-2.93</td>\n",
       "      <td>14.4</td>\n",
       "      <td>77.9</td>\n",
       "      <td>6.5</td>\n",
       "      <td>3.98</td>\n",
       "      <td>no</td>\n",
       "      <td>some_college</td>\n",
       "      <td>33296.70</td>\n",
       "      <td>59605.0</td>\n",
       "      <td>none</td>\n",
       "    </tr>\n",
       "  </tbody>\n",
       "</table>\n",
       "<p>3142 rows × 15 columns</p>\n",
       "</div>"
      ],
      "text/plain": [
       "                   name    state   pop2000  pop2010   pop2017  pop_change  \\\n",
       "0        Autauga County  Alabama   43671.0    54571   55504.0        1.48   \n",
       "1        Baldwin County  Alabama  140415.0   182265  212628.0        9.19   \n",
       "2        Barbour County  Alabama   29038.0    27457   25270.0       -6.22   \n",
       "3           Bibb County  Alabama   20826.0    22915   22668.0        0.73   \n",
       "4         Blount County  Alabama   51024.0    57322   58013.0        0.68   \n",
       "...                 ...      ...       ...      ...       ...         ...   \n",
       "3137  Sweetwater County  Wyoming   37613.0    43806   43534.0       -3.57   \n",
       "3138       Teton County  Wyoming   18251.0    21294   23265.0        4.21   \n",
       "3139       Uinta County  Wyoming   19742.0    21118   20495.0       -2.22   \n",
       "3140    Washakie County  Wyoming    8289.0     8533    8064.0       -4.31   \n",
       "3141      Weston County  Wyoming    6644.0     7208    6927.0       -2.93   \n",
       "\n",
       "      poverty  homeownership  multi_unit  unemployment_rate metro  \\\n",
       "0        13.7           77.5         7.2               3.86   yes   \n",
       "1        11.8           76.7        22.6               3.99   yes   \n",
       "2        27.2           68.0        11.1               5.90    no   \n",
       "3        15.2           82.9         6.6               4.39   yes   \n",
       "4        15.6           82.0         3.7               4.02   yes   \n",
       "...       ...            ...         ...                ...   ...   \n",
       "3137     12.0           73.7        14.6               4.55    no   \n",
       "3138      6.8           60.8        31.9               2.99    no   \n",
       "3139     14.9           73.7        17.0               4.50    no   \n",
       "3140     12.8           70.9        10.0               4.08    no   \n",
       "3141     14.4           77.9         6.5               3.98    no   \n",
       "\n",
       "        median_edu  per_capita_income  median_hh_income smoking_ban  \n",
       "0     some_college           27841.70           55317.0        none  \n",
       "1     some_college           27779.85           52562.0        none  \n",
       "2       hs_diploma           17891.73           33368.0     partial  \n",
       "3       hs_diploma           20572.05           43404.0        none  \n",
       "4       hs_diploma           21367.39           47412.0        none  \n",
       "...            ...                ...               ...         ...  \n",
       "3137  some_college           30282.59           71083.0        none  \n",
       "3138     bachelors           48557.37           80049.0     partial  \n",
       "3139  some_college           27048.12           54672.0        none  \n",
       "3140  some_college           27494.83           51362.0        none  \n",
       "3141  some_college           33296.70           59605.0        none  \n",
       "\n",
       "[3142 rows x 15 columns]"
      ]
     },
     "execution_count": 2,
     "metadata": {},
     "output_type": "execute_result"
    }
   ],
   "source": [
    "df = pd.read_csv('county.csv', na_values = ['data unavailable'])\n",
    "df"
   ]
  },
  {
   "cell_type": "markdown",
   "id": "8558941e",
   "metadata": {},
   "source": [
    "## 1. Deeper Dive Into p-Values and Significance Levels [5 points] \n",
    "\n",
    "**a)** Calculate the mean multi-unit housing rate for the data."
   ]
  },
  {
   "cell_type": "code",
   "execution_count": 3,
   "id": "74c27880",
   "metadata": {},
   "outputs": [
    {
     "data": {
      "text/plain": [
       "12.321896880967534"
      ]
     },
     "execution_count": 3,
     "metadata": {},
     "output_type": "execute_result"
    }
   ],
   "source": [
    "df['multi_unit'].mean()"
   ]
  },
  {
   "cell_type": "markdown",
   "id": "38a1df80",
   "metadata": {},
   "source": [
    "**b)** We will start by creating a sampling distribution of the mean multi-unit housing rate for 5 randomly selected counties.  Record 5000 repetitions in your simulated sampling distribution."
   ]
  },
  {
   "cell_type": "code",
   "execution_count": 4,
   "id": "bf1ee6e5",
   "metadata": {},
   "outputs": [
    {
     "data": {
      "text/html": [
       "<div>\n",
       "<style scoped>\n",
       "    .dataframe tbody tr th:only-of-type {\n",
       "        vertical-align: middle;\n",
       "    }\n",
       "\n",
       "    .dataframe tbody tr th {\n",
       "        vertical-align: top;\n",
       "    }\n",
       "\n",
       "    .dataframe thead th {\n",
       "        text-align: right;\n",
       "    }\n",
       "</style>\n",
       "<table border=\"1\" class=\"dataframe\">\n",
       "  <thead>\n",
       "    <tr style=\"text-align: right;\">\n",
       "      <th></th>\n",
       "      <th>0</th>\n",
       "    </tr>\n",
       "  </thead>\n",
       "  <tbody>\n",
       "    <tr>\n",
       "      <th>0</th>\n",
       "      <td>11.10</td>\n",
       "    </tr>\n",
       "    <tr>\n",
       "      <th>1</th>\n",
       "      <td>10.90</td>\n",
       "    </tr>\n",
       "    <tr>\n",
       "      <th>2</th>\n",
       "      <td>16.90</td>\n",
       "    </tr>\n",
       "    <tr>\n",
       "      <th>3</th>\n",
       "      <td>13.42</td>\n",
       "    </tr>\n",
       "    <tr>\n",
       "      <th>4</th>\n",
       "      <td>10.40</td>\n",
       "    </tr>\n",
       "    <tr>\n",
       "      <th>...</th>\n",
       "      <td>...</td>\n",
       "    </tr>\n",
       "    <tr>\n",
       "      <th>4995</th>\n",
       "      <td>6.52</td>\n",
       "    </tr>\n",
       "    <tr>\n",
       "      <th>4996</th>\n",
       "      <td>12.70</td>\n",
       "    </tr>\n",
       "    <tr>\n",
       "      <th>4997</th>\n",
       "      <td>10.16</td>\n",
       "    </tr>\n",
       "    <tr>\n",
       "      <th>4998</th>\n",
       "      <td>10.32</td>\n",
       "    </tr>\n",
       "    <tr>\n",
       "      <th>4999</th>\n",
       "      <td>10.70</td>\n",
       "    </tr>\n",
       "  </tbody>\n",
       "</table>\n",
       "<p>5000 rows × 1 columns</p>\n",
       "</div>"
      ],
      "text/plain": [
       "          0\n",
       "0     11.10\n",
       "1     10.90\n",
       "2     16.90\n",
       "3     13.42\n",
       "4     10.40\n",
       "...     ...\n",
       "4995   6.52\n",
       "4996  12.70\n",
       "4997  10.16\n",
       "4998  10.32\n",
       "4999  10.70\n",
       "\n",
       "[5000 rows x 1 columns]"
      ]
     },
     "execution_count": 4,
     "metadata": {},
     "output_type": "execute_result"
    }
   ],
   "source": [
    "sampling_distribution_mean = []\n",
    "\n",
    "for i in range(5000):\n",
    "    sample = df['multi_unit'].sample(n = 5, replace = True) \n",
    "    sampling_distribution_mean.append(sample.mean())\n",
    "\n",
    "\n",
    "sampling_distribution_mean = pd.DataFrame(sampling_distribution_mean)\n",
    "sampling_distribution_mean"
   ]
  },
  {
   "cell_type": "code",
   "execution_count": 5,
   "id": "3a45b8cf",
   "metadata": {},
   "outputs": [
    {
     "data": {
      "image/png": "[encoded data removed]",
      "text/plain": [
       "<Figure size 800x600 with 1 Axes>"
      ]
     },
     "metadata": {},
     "output_type": "display_data"
    }
   ],
   "source": [
    "plt.figure(figsize=(8, 6))\n",
    "plt.hist(sampling_distribution_mean, bins=30)\n",
    "plt.title('Sampling Distribution of the mean value of Multi-Unit Housing Rate')\n",
    "plt.grid(True)\n",
    "\n",
    "plt.show()"
   ]
  },
  {
   "cell_type": "markdown",
   "id": "8e50fad7",
   "metadata": {},
   "source": [
    "**c)** Now, we will use the following hypotheses as the framework for our next parts:\n",
    "\n",
    "$H_0: \\mu = 12.32$\n",
    "\n",
    "$H_a: \\mu > 12.32$\n",
    "\n",
    "First, take a random sample of size 5 from the population of counties **without replacement**.  Within the `sample` function, use the argument `random_state = 207`.  Using this random sample along with the sampling distribution from part **b**, calculate the p-value for the test above."
   ]
  },
  {
   "cell_type": "code",
   "execution_count": 6,
   "id": "ce2ff169",
   "metadata": {},
   "outputs": [
    {
     "data": {
      "text/plain": [
       "14.76"
      ]
     },
     "execution_count": 6,
     "metadata": {},
     "output_type": "execute_result"
    }
   ],
   "source": [
    "random_samp = df.sample(5, random_state = 207, replace = False)\n",
    "sample_mean = random_samp['multi_unit'].mean()\n",
    "\n",
    "sample_mean"
   ]
  },
  {
   "cell_type": "code",
   "execution_count": 7,
   "id": "7c1917e7",
   "metadata": {},
   "outputs": [
    {
     "data": {
      "text/plain": [
       "0.236"
      ]
     },
     "execution_count": 7,
     "metadata": {},
     "output_type": "execute_result"
    }
   ],
   "source": [
    "p_value = np.mean(sampling_distribution_mean >= sample_mean)\n",
    "\n",
    "p_value"
   ]
  },
  {
   "cell_type": "markdown",
   "id": "5244187f",
   "metadata": {},
   "source": [
    "**d)** Now, we'd like to explore the behavior of a p-value.  In order to do this, we will calculate p-values for many different random samples of size 5.  In essence, we will repeat the process from **part c** many times, although we will **not** use the `random_state` argument for our repeated samples.\n",
    "\n",
    "Specifically, you should:\n",
    "- gather a random sample of size 5 without replacement (which mimics a realistic sampling scheme in this scenario),\n",
    "- use the sampling distribution from part **b** to calculate the corresponding p-value, and\n",
    "- save the p-value for future analysis\n",
    "\n",
    "Repeat this process 500 times, so that you have 500 different p-values in your data to explore.\n",
    "\n",
    "*Hint:* As a first step, determine the appropriate code to calculate the p-value for a single random sample of size 5.  Then, once you have code that works for a single random sample, generalize it so that you can repeat this for 500 different samples."
   ]
  },
  {
   "cell_type": "code",
   "execution_count": 7,
   "id": "c6f153de",
   "metadata": {},
   "outputs": [
    {
     "data": {
      "text/plain": [
       "array([0.8664, 0.507 , 0.4456, 0.1236, 0.6144, 0.1336, 0.344 , 0.3014,\n",
       "       0.2064, 0.6608, 0.7624, 0.4832, 0.225 , 0.3056, 0.9436, 0.2676,\n",
       "       0.0156, 0.9272, 0.507 , 0.2798, 0.0562, 0.7508, 0.7014, 0.4698,\n",
       "       0.685 , 0.2082, 0.8714, 0.2202, 0.1154, 0.91  , 0.9856, 0.1518,\n",
       "       0.044 , 0.6676, 0.7962, 0.83  , 0.2766, 0.195 , 0.6562, 0.0084,\n",
       "       0.48  , 0.8346, 0.3956, 0.765 , 0.2148, 0.9398, 0.869 , 0.0244,\n",
       "       0.5   , 0.3776, 0.3174, 0.8884, 0.0924, 0.1904, 0.5464, 0.6676,\n",
       "       0.7602, 0.7854, 0.952 , 0.2642, 0.3728, 0.9908, 0.5528, 0.414 ,\n",
       "       0.9496, 0.4456, 0.602 , 0.0324, 0.806 , 0.6168, 0.1734, 0.6534,\n",
       "       0.7868, 0.3584, 0.4862, 0.5246, 0.2668, 0.5362, 0.8916, 0.643 ,\n",
       "       0.592 , 0.1894, 0.6654, 0.0924, 0.7666, 0.0012, 0.1078, 0.507 ,\n",
       "       0.0908, 0.5306, 0.4494, 0.2676, 0.7168, 0.4238, 0.6682, 0.8112,\n",
       "       0.9622, 0.1246, 0.643 , 0.2948, 0.3776, 0.8814, 0.5116, 0.971 ,\n",
       "       0.1722, 0.5122, 0.4262, 0.701 , 0.9136, 0.3014, 0.853 , 0.4052,\n",
       "       0.1464, 0.424 , 0.3674, 0.7478, 0.955 , 0.414 , 0.7328, 0.5116,\n",
       "       0.0732, 0.1076, 0.7296, 0.7966, 0.8836, 0.7902, 0.5386, 0.4606,\n",
       "       0.0712, 0.8112, 0.5528, 0.0896, 0.6798, 0.0314, 0.3866, 0.8478,\n",
       "       0.3442, 0.8478, 0.1368, 0.821 , 0.072 , 0.3644, 0.7128, 0.4582,\n",
       "       0.4968, 0.9456, 0.1834, 0.962 , 0.9472, 0.7674, 0.9628, 0.623 ,\n",
       "       0.9832, 0.2898, 0.641 , 0.6452, 0.4482, 0.3522, 0.5426, 0.7834,\n",
       "       0.5272, 0.7806, 0.9222, 0.3224, 0.3866, 0.759 , 0.3866, 0.0342,\n",
       "       0.269 , 0.0772, 0.1368, 0.4444, 0.8246, 0.692 , 0.0258, 0.4002,\n",
       "       0.6088, 0.7854, 0.1486, 0.5408, 0.4812, 0.724 , 0.007 , 0.7624,\n",
       "       0.0022, 0.5464, 0.7624, 0.068 , 0.2706, 0.6046, 0.2838, 0.4434,\n",
       "       0.498 , 0.233 , 0.4906, 0.7264, 0.4782, 0.178 , 0.1734, 0.4874,\n",
       "       0.4052, 0.1206, 0.1762, 0.2124, 0.635 , 0.7834, 0.597 , 0.94  ,\n",
       "       0.6196, 0.1202, 0.414 , 0.7624, 0.8794, 0.3084, 0.8496, 0.8956,\n",
       "       0.7504, 0.4874, 0.384 , 0.821 , 0.0712, 0.1614, 0.876 , 0.3548,\n",
       "       0.2774, 0.0052, 0.9898, 0.507 , 0.3508, 0.1416, 0.7876, 0.585 ,\n",
       "       0.1418, 0.7706, 0.4336, 0.079 , 0.2262, 0.8692, 0.894 , 0.869 ,\n",
       "       0.0878, 0.9498, 0.0098, 0.0854, 0.2862, 0.5496, 0.0936, 0.7758,\n",
       "       0.4582, 0.626 , 0.4754, 0.3886, 0.5834, 0.5138, 0.585 , 0.2014,\n",
       "       0.8136, 0.0834, 0.5122, 0.7628, 0.2918, 0.089 , 0.8836, 0.5986,\n",
       "       0.314 , 0.2002, 0.672 , 0.1684, 0.0712, 0.0432, 0.7034, 0.6036,\n",
       "       0.9272, 0.7948, 0.9392, 0.1086, 0.7902, 0.9504, 0.4556, 0.6534,\n",
       "       0.9192, 0.5568, 0.7706, 0.7504, 0.876 , 0.643 , 0.3288, 0.093 ,\n",
       "       0.0522, 0.0164, 0.2578, 0.7932, 0.887 , 0.3004, 0.2972, 0.7908,\n",
       "       0.1222, 0.0134, 0.2008, 0.739 , 0.8964, 0.6828, 0.8478, 0.2116,\n",
       "       0.3692, 0.6608, 0.3442, 0.529 , 0.8148, 0.3732, 0.7152, 0.4298,\n",
       "       0.5762, 0.0692, 0.9768, 0.2348, 0.1308, 0.8994, 0.9896, 0.5716,\n",
       "       0.5428, 0.1806, 0.9398, 0.9516, 0.739 , 0.472 , 0.1204, 0.8802,\n",
       "       0.998 , 0.0394, 0.841 , 0.5392, 0.739 , 0.597 , 0.191 , 0.331 ,\n",
       "       0.7138, 0.9794, 0.996 , 0.1696, 0.465 , 0.1648, 0.1884, 0.2898,\n",
       "       0.7948, 0.912 , 0.992 , 0.7328, 0.4434, 0.6588, 0.7328, 0.1378,\n",
       "       0.1388, 0.4052, 0.4428, 0.591 , 0.4606, 0.4896, 0.6954, 0.5584,\n",
       "       0.716 , 0.5724, 0.5548, 0.8336, 0.8194, 0.9058, 0.3566, 0.7602,\n",
       "       0.3594, 0.2454, 0.1648, 0.7706, 0.8012, 0.5876, 0.1252, 0.9702,\n",
       "       0.24  , 0.3728, 0.839 , 0.5138, 0.5138, 0.085 , 0.885 , 0.214 ,\n",
       "       0.597 , 0.6088, 0.456 , 0.7624, 0.2848, 0.976 , 0.6676, 0.8456,\n",
       "       0.2064, 0.392 , 0.2056, 0.4364, 0.3548, 0.3728, 0.5048, 0.1134,\n",
       "       0.5762, 0.0696, 0.312 , 0.8178, 0.8702, 0.6222, 0.1762, 0.4482,\n",
       "       0.998 , 0.0294, 0.1288, 0.424 , 0.934 , 0.635 , 0.7752, 0.8258,\n",
       "       0.9684, 0.2192, 0.318 , 0.9568, 0.83  , 0.932 , 0.9158, 0.0018,\n",
       "       0.2838, 0.2014, 0.7868, 0.591 , 0.2462, 0.02  , 0.4482, 0.0234,\n",
       "       0.1696, 0.554 , 0.1042, 0.5724, 0.6256, 0.269 , 0.6918, 0.439 ,\n",
       "       0.6222, 0.1478, 0.736 , 0.893 , 0.6036, 0.7628, 0.971 , 0.9052,\n",
       "       0.9102, 0.938 , 0.2862, 0.275 , 0.1396, 0.3102, 0.1602, 0.4262,\n",
       "       0.9132, 0.7052, 0.2736, 0.3064, 0.1206, 0.8258, 0.4738, 0.6168,\n",
       "       0.0202, 0.2014, 0.079 , 0.7106, 0.5834, 0.488 , 0.2794, 0.2924,\n",
       "       0.6676, 0.6792, 0.2348, 0.5716, 0.107 , 0.5324, 0.009 , 0.967 ,\n",
       "       0.299 , 0.3204, 0.9262, 0.3824, 0.8346, 0.8902, 0.7086, 0.2774,\n",
       "       0.055 , 0.9748, 0.1918, 0.6256, 0.955 , 0.5122, 0.7694, 0.465 ,\n",
       "       0.14  , 0.365 , 0.1602, 0.876 ])"
      ]
     },
     "execution_count": 7,
     "metadata": {},
     "output_type": "execute_result"
    }
   ],
   "source": [
    "p_values = []\n",
    "\n",
    "for i in range(500):\n",
    "    random_sample = df['multi_unit'].sample(n=5, replace=False)\n",
    "    sample_mean = random_sample.mean()\n",
    "    \n",
    "    p_value = np.mean(sampling_distribution_mean >= sample_mean)\n",
    "    p_values.append(p_value)\n",
    "\n",
    "p_values = np.array(p_values)\n",
    "\n",
    "\n",
    "p_values\n"
   ]
  },
  {
   "cell_type": "code",
   "execution_count": 15,
   "id": "80519990",
   "metadata": {},
   "outputs": [
    {
     "data": {
      "image/png": "[encoded data removed]",
      "text/plain": [
       "<Figure size 800x600 with 1 Axes>"
      ]
     },
     "metadata": {},
     "output_type": "display_data"
    }
   ],
   "source": [
    "plt.figure(figsize=(8, 6))\n",
    "plt.hist(p_values, bins=30)\n",
    "plt.title('Sampling Distribution of p-value')\n",
    "\n",
    "plt.show()"
   ]
  },
  {
   "cell_type": "code",
   "execution_count": 17,
   "id": "c70492f2",
   "metadata": {},
   "outputs": [
    {
     "data": {
      "text/plain": [
       "0.046"
      ]
     },
     "execution_count": 17,
     "metadata": {},
     "output_type": "execute_result"
    }
   ],
   "source": [
    "reject_proportion = np.mean(p_values < 0.05)\n",
    "reject_proportion"
   ]
  },
  {
   "cell_type": "code",
   "execution_count": 18,
   "id": "f90ec5b5",
   "metadata": {},
   "outputs": [
    {
     "data": {
      "text/plain": [
       "0.2"
      ]
     },
     "execution_count": 18,
     "metadata": {},
     "output_type": "execute_result"
    }
   ],
   "source": [
    "significance_level_2 = 0.2\n",
    "reject_proportion2 = np.mean(p_values < 0.2)\n",
    "\n",
    "reject_proportion2"
   ]
  },
  {
   "cell_type": "markdown",
   "id": "794fa705",
   "metadata": {},
   "source": [
    "**e)** Finally, suppose that we consider Champaign and its four neighboring counties (Vermilion, Ford, Piatt, and Douglas) as a sample of counties from the US.  First, calculate the sample mean multi-unit rate of these five counties from Illinois.  Then, using your simulated sampling distribution, calculate the p-value based on these five counties.\n",
    "\n",
    "**Tip**: You may want to review Homework 4.  We can use the **`&`** (\"and\") operator to indicate that we want **both** conditions on either side of the operator to be met.  We can use the **`|`** (\"or\") operator to indicate that we want **at least one** of the conditions to be met.  We can also chain these operators together if we need to represent more complex operations."
   ]
  },
  {
   "cell_type": "code",
   "execution_count": 9,
   "id": "cced500b",
   "metadata": {},
   "outputs": [
    {
     "data": {
      "text/plain": [
       "(15.260000000000002, 0.2152)"
      ]
     },
     "execution_count": 9,
     "metadata": {},
     "output_type": "execute_result"
    }
   ],
   "source": [
    "select_counties = df[(df['name'].str.contains('Champaign|Vermilion|Ford|Piatt|Douglas')) \n",
    "                     & (df['state'] == 'Illinois')]\n",
    "\n",
    "sample_mean_select_counties = select_counties['multi_unit'].mean()\n",
    "\n",
    "p_selected_counties = np.mean(sampling_distribution_mean >= sample_mean_select_counties)\n",
    "\n",
    "sample_mean_select_counties, p_selected_counties"
   ]
  },
  {
   "cell_type": "code",
   "execution_count": 10,
   "id": "1e7b6329",
   "metadata": {},
   "outputs": [
    {
     "data": {
      "text/html": [
       "<div>\n",
       "<style scoped>\n",
       "    .dataframe tbody tr th:only-of-type {\n",
       "        vertical-align: middle;\n",
       "    }\n",
       "\n",
       "    .dataframe tbody tr th {\n",
       "        vertical-align: top;\n",
       "    }\n",
       "\n",
       "    .dataframe thead th {\n",
       "        text-align: right;\n",
       "    }\n",
       "</style>\n",
       "<table border=\"1\" class=\"dataframe\">\n",
       "  <thead>\n",
       "    <tr style=\"text-align: right;\">\n",
       "      <th></th>\n",
       "      <th>name</th>\n",
       "      <th>state</th>\n",
       "      <th>pop2000</th>\n",
       "      <th>pop2010</th>\n",
       "      <th>pop2017</th>\n",
       "      <th>pop_change</th>\n",
       "      <th>poverty</th>\n",
       "      <th>homeownership</th>\n",
       "      <th>multi_unit</th>\n",
       "      <th>unemployment_rate</th>\n",
       "      <th>metro</th>\n",
       "      <th>median_edu</th>\n",
       "      <th>per_capita_income</th>\n",
       "      <th>median_hh_income</th>\n",
       "      <th>smoking_ban</th>\n",
       "    </tr>\n",
       "  </thead>\n",
       "  <tbody>\n",
       "    <tr>\n",
       "      <th>604</th>\n",
       "      <td>Champaign County</td>\n",
       "      <td>Illinois</td>\n",
       "      <td>179669.0</td>\n",
       "      <td>201081</td>\n",
       "      <td>209399.0</td>\n",
       "      <td>1.83</td>\n",
       "      <td>21.4</td>\n",
       "      <td>55.9</td>\n",
       "      <td>35.2</td>\n",
       "      <td>4.24</td>\n",
       "      <td>yes</td>\n",
       "      <td>some_college</td>\n",
       "      <td>29619.49</td>\n",
       "      <td>49586.0</td>\n",
       "      <td>NaN</td>\n",
       "    </tr>\n",
       "    <tr>\n",
       "      <th>615</th>\n",
       "      <td>Douglas County</td>\n",
       "      <td>Illinois</td>\n",
       "      <td>19922.0</td>\n",
       "      <td>19980</td>\n",
       "      <td>19748.0</td>\n",
       "      <td>-0.57</td>\n",
       "      <td>12.1</td>\n",
       "      <td>78.3</td>\n",
       "      <td>11.2</td>\n",
       "      <td>4.01</td>\n",
       "      <td>no</td>\n",
       "      <td>hs_diploma</td>\n",
       "      <td>25796.91</td>\n",
       "      <td>52261.0</td>\n",
       "      <td>partial</td>\n",
       "    </tr>\n",
       "    <tr>\n",
       "      <th>621</th>\n",
       "      <td>Ford County</td>\n",
       "      <td>Illinois</td>\n",
       "      <td>14241.0</td>\n",
       "      <td>14081</td>\n",
       "      <td>13280.0</td>\n",
       "      <td>-2.86</td>\n",
       "      <td>15.7</td>\n",
       "      <td>79.1</td>\n",
       "      <td>7.9</td>\n",
       "      <td>4.70</td>\n",
       "      <td>yes</td>\n",
       "      <td>some_college</td>\n",
       "      <td>27234.78</td>\n",
       "      <td>50851.0</td>\n",
       "      <td>none</td>\n",
       "    </tr>\n",
       "    <tr>\n",
       "      <th>668</th>\n",
       "      <td>Piatt County</td>\n",
       "      <td>Illinois</td>\n",
       "      <td>16365.0</td>\n",
       "      <td>16729</td>\n",
       "      <td>16445.0</td>\n",
       "      <td>0.09</td>\n",
       "      <td>5.4</td>\n",
       "      <td>81.7</td>\n",
       "      <td>7.5</td>\n",
       "      <td>3.99</td>\n",
       "      <td>yes</td>\n",
       "      <td>some_college</td>\n",
       "      <td>33598.78</td>\n",
       "      <td>67360.0</td>\n",
       "      <td>NaN</td>\n",
       "    </tr>\n",
       "    <tr>\n",
       "      <th>686</th>\n",
       "      <td>Vermilion County</td>\n",
       "      <td>Illinois</td>\n",
       "      <td>83919.0</td>\n",
       "      <td>81625</td>\n",
       "      <td>77909.0</td>\n",
       "      <td>-3.31</td>\n",
       "      <td>19.8</td>\n",
       "      <td>71.3</td>\n",
       "      <td>14.5</td>\n",
       "      <td>6.29</td>\n",
       "      <td>yes</td>\n",
       "      <td>hs_diploma</td>\n",
       "      <td>23759.02</td>\n",
       "      <td>44930.0</td>\n",
       "      <td>NaN</td>\n",
       "    </tr>\n",
       "  </tbody>\n",
       "</table>\n",
       "</div>"
      ],
      "text/plain": [
       "                 name     state   pop2000  pop2010   pop2017  pop_change  \\\n",
       "604  Champaign County  Illinois  179669.0   201081  209399.0        1.83   \n",
       "615    Douglas County  Illinois   19922.0    19980   19748.0       -0.57   \n",
       "621       Ford County  Illinois   14241.0    14081   13280.0       -2.86   \n",
       "668      Piatt County  Illinois   16365.0    16729   16445.0        0.09   \n",
       "686  Vermilion County  Illinois   83919.0    81625   77909.0       -3.31   \n",
       "\n",
       "     poverty  homeownership  multi_unit  unemployment_rate metro  \\\n",
       "604     21.4           55.9        35.2               4.24   yes   \n",
       "615     12.1           78.3        11.2               4.01    no   \n",
       "621     15.7           79.1         7.9               4.70   yes   \n",
       "668      5.4           81.7         7.5               3.99   yes   \n",
       "686     19.8           71.3        14.5               6.29   yes   \n",
       "\n",
       "       median_edu  per_capita_income  median_hh_income smoking_ban  \n",
       "604  some_college           29619.49           49586.0         NaN  \n",
       "615    hs_diploma           25796.91           52261.0     partial  \n",
       "621  some_college           27234.78           50851.0        none  \n",
       "668  some_college           33598.78           67360.0         NaN  \n",
       "686    hs_diploma           23759.02           44930.0         NaN  "
      ]
     },
     "execution_count": 10,
     "metadata": {},
     "output_type": "execute_result"
    }
   ],
   "source": [
    "select_counties"
   ]
  },
  {
   "cell_type": "markdown",
   "id": "2b70aa63",
   "metadata": {},
   "source": [
    "## 2. Linear Regression [4 points]\n",
    "\n",
    "How does the rate of homeownership affect the percent of housing units that are in multi-unit structures?\n",
    "\n",
    "**a)** Generate a visualization to observe the relationship between the rate of homeownership and the percentage of multi-unit structure housing in the county.  Be sure to place each variable on the correct axes based on the underlying question above."
   ]
  },
  {
   "cell_type": "code",
   "execution_count": 11,
   "id": "7b17514e",
   "metadata": {},
   "outputs": [
    {
     "data": {
      "text/plain": [
       "<function matplotlib.pyplot.show(close=None, block=None)>"
      ]
     },
     "execution_count": 11,
     "metadata": {},
     "output_type": "execute_result"
    },
    {
     "data": {
      "image/png": "[encoded data removed]",
      "text/plain": [
       "<Figure size 640x480 with 1 Axes>"
      ]
     },
     "metadata": {},
     "output_type": "display_data"
    }
   ],
   "source": [
    "plt.scatter(df['homeownership'], df['multi_unit'])\n",
    "\n",
    "plt.title('Homeownership Rate versus Multi-Unit Percentage')\n",
    "plt.xlabel('Rate of Homeownership')\n",
    "plt.ylabel('Percentage of Multi-Unit Structure')\n",
    "plt.grid(True)\n",
    "\n",
    "plt.show"
   ]
  },
  {
   "cell_type": "markdown",
   "id": "2dd8db08",
   "metadata": {},
   "source": [
    "**b)** Fit a linear model that predicts the `multi_unit` from `homeownership`.  Print the summary of the model."
   ]
  },
  {
   "cell_type": "code",
   "execution_count": null,
   "id": "2b859777",
   "metadata": {},
   "outputs": [
    {
     "name": "stdout",
     "output_type": "stream",
     "text": [
      "Slope is:  [-0.79743071]\n",
      "Intercept is:  70.7468176744347\n"
     ]
    }
   ],
   "source": [
    "from sklearn.linear_model import LinearRegression\n",
    "\n",
    "model = LinearRegression()\n",
    "model.fit(df[['homeownership']], df['multi_unit'])\n",
    "\n",
    "print('Slope is: ', model.coef_)\n",
    "\n",
    "print('Intercept is: ', model.intercept_)"
   ]
  },
  {
   "cell_type": "code",
   "execution_count": null,
   "id": "a1c2030b",
   "metadata": {},
   "outputs": [
    {
     "data": {
      "text/plain": [
       "array([21.22637061])"
      ]
     },
     "execution_count": 13,
     "metadata": {},
     "output_type": "execute_result"
    }
   ],
   "source": [
    "homeownership_rate = 62.1\n",
    "\n",
    "fitted_val = model.intercept_ + model.coef_ * homeownership_rate\n",
    "\n",
    "fitted_val"
   ]
  },
  {
   "cell_type": "code",
   "execution_count": 14,
   "id": "8691d861",
   "metadata": {},
   "outputs": [
    {
     "data": {
      "text/plain": [
       "array([-1.52637061])"
      ]
     },
     "execution_count": 14,
     "metadata": {},
     "output_type": "execute_result"
    }
   ],
   "source": [
    "q2_multi_unit_rate = 19.7\n",
    "\n",
    "residual = q2_multi_unit_rate - fitted_val\n",
    "\n",
    "residual"
   ]
  },
  {
   "cell_type": "markdown",
   "id": "f02327ec",
   "metadata": {},
   "source": [
    "Remember to keep all your cells and hit the save icon above periodically to checkpoint (save) your results on your local computer. Once you are satisified with your results restart the kernel and run all (Kernel -> Restart & Run All). **Make sure nothing has changed**. Checkpoint and exit (File -> Save and Checkpoint + File -> Close and Halt). Follow the instructions on the Homework 6 Canvas Assignment to submit your notebook to GitHub."
   ]
  }
 ],
 "metadata": {
  "kernelspec": {
   "display_name": "base",
   "language": "python",
   "name": "python3"
  },
  "language_info": {
   "codemirror_mode": {
    "name": "ipython",
    "version": 3
   },
   "file_extension": ".py",
   "mimetype": "text/x-python",
   "name": "python",
   "nbconvert_exporter": "python",
   "pygments_lexer": "ipython3",
   "version": "3.11.5"
  }
 },
 "nbformat": 4,
 "nbformat_minor": 5
}

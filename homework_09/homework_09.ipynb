{
 "cells": [
  {
   "cell_type": "markdown",
   "id": "e746da0e",
   "metadata": {},
   "source": [
    "# STAT 207 Homework 9 [25 points]\n",
    "\n",
    "## Logistic Regression & Classifiers"
   ]
  },
  {
   "cell_type": "markdown",
   "id": "6fef820a",
   "metadata": {},
   "source": [
    "Due: Thursday, April 10, end of day (11:59 pm CT)\n",
    "\n",
    "Late submissions accepted until Friday, April 11 at noon\n",
    "\n",
    "<hr>"
   ]
  },
  {
   "cell_type": "markdown",
   "id": "c4d94493",
   "metadata": {},
   "source": [
    "## Imports \n",
    "\n",
    "Run the following code cell to import the necessary packages into the file.  You may import additional packages, as needed for this assignment."
   ]
  },
  {
   "cell_type": "code",
   "execution_count": null,
   "id": "25c92b96",
   "metadata": {},
   "outputs": [],
   "source": [
    "import pandas as pd\n",
    "import matplotlib.pyplot as plt\n",
    "import seaborn as sns; sns.set()\n",
    "import statsmodels.formula.api as smf"
   ]
  },
  {
   "cell_type": "markdown",
   "id": "ac088395",
   "metadata": {},
   "source": [
    "## Case Study: Heart Disease\n",
    "\n",
    "Can we identify patients who have heart disease based on other patient characteristics?\n",
    "\n",
    "We will use the following information about patients:\n",
    "\n",
    "- **age**: age\n",
    "- **sex**: sex, 1 = male, 0 = female\n",
    "- **cp**: chest pain type, 1 = typical angina, 2 = atypical angina, 3 = non-anginal pain, 4 = asymptomatic\n",
    "- **trestbps**: resting blood pressure (in mm Hg)\n",
    "- **chol**: serum cholesterol in mg/dl\n",
    "- **fbs**: whether the fasting blood sugar is above 120 mg/dl (1 = true, 0 = false)\n",
    "- **restecg**: resting electrocardiographic results (0 = normal, 1 = ST-T wave abnormality, 2 = left ventricular hypertrophy)\n",
    "- **thalach**: maximum heart rate achieved\n",
    "- **exang**: exercise induced angina (1 = yes, 0 = no)\n",
    "- **oldpeak**: ST depression induced by exercise relative to rest\n",
    "- **slope**: the slope of the peak exercise ST segment (1 = upsloping, 2 = flat, 3 = downsloping)\n",
    "- **ca**: number of major vessels (0-3) colored by flouroscopy (for calcification of vessels)\n",
    "- **thal**: number of nuclear stress test (3 = normal, 6 = fixed defect, 7 = reversible defect)\n",
    "- **num**: target number of progression of heart disease (1+ indicates at least 50% narrowing\n",
    "- **y**: our target, generated below, for the presence of heart disease (1 = present, 0 = absent)\n",
    "\n",
    "The data originally came from https://archive.ics.uci.edu/dataset/45/heart+disease.\n",
    "\n",
    "Run the code in the cell below to read in the data for this document.  The data is saved as `df` with this code.  "
   ]
  },
  {
   "cell_type": "code",
   "execution_count": null,
   "id": "211dd805",
   "metadata": {},
   "outputs": [],
   "source": [
    "df = pd.read_csv('processed_cleveland.csv', na_values = ['?'])\n",
    "df = df.dropna()\n",
    "df['y'] = 1 * (df['num'] > 0)\n",
    "df['sex'] = df['sex'].replace({1: 'male', 0: 'female'})\n",
    "df['cp'] = df['cp'].replace({1: 'typical', 2:'atypical', 3: 'non-anginal', 4: 'asymptomatic'})\n",
    "df['fbs'] = df['fbs'].replace({1: 'high', 0: 'typical'})\n",
    "df['restecg'] = df['restecg'].replace({0: 'normal', 1:'ST-T wave abnormality', 2: 'left ventricular hypertrophy'})\n",
    "df['exang'] = df['exang'].replace({0: 'no', 1: 'yes'})\n",
    "df['slope'] = df['slope'].replace({1:'upsloping', 2:'flat', 3:'downsloping'})\n",
    "df['thal'] = df['thal'].replace({3: 'normal', 6: 'fixed defect', 7:'reversible defect'})"
   ]
  },
  {
   "cell_type": "code",
   "execution_count": null,
   "id": "272af098",
   "metadata": {},
   "outputs": [],
   "source": [
    "df.head()"
   ]
  },
  {
   "cell_type": "markdown",
   "id": "2810214b",
   "metadata": {},
   "source": [
    "The code below will split the data into a training and a test data, using 20% as our test data and a random state of 403.  We will use our training data exclusively for the first three questions of the assignment.  We won't turn to the test data until the last question."
   ]
  },
  {
   "cell_type": "code",
   "execution_count": null,
   "id": "c1d9558c",
   "metadata": {},
   "outputs": [],
   "source": [
    "from sklearn.model_selection import train_test_split\n",
    "df_train, df_test = train_test_split(df, test_size = 0.20, random_state = 403)"
   ]
  },
  {
   "cell_type": "markdown",
   "id": "cb4443be",
   "metadata": {},
   "source": [
    "## 1. Understand a Logistic Regression Model [2 points]\n",
    "\n",
    "We know that we would like to predict the presence of heart disease (y).  First, we'll consider a simple model that uses age to predict the presence of heart disease.\n",
    "\n",
    "**a)** Below, fit the model predicting the presence of heart disease from age using the training data.  Print the summary of the model."
   ]
  },
  {
   "cell_type": "code",
   "execution_count": null,
   "id": "6d90ecdb",
   "metadata": {},
   "outputs": [],
   "source": []
  },
  {
   "cell_type": "markdown",
   "id": "00252f43",
   "metadata": {},
   "source": [
    "**b)** Generate the fitted vs. deviance residual plot for this model."
   ]
  },
  {
   "cell_type": "code",
   "execution_count": null,
   "id": "8dd8f502",
   "metadata": {},
   "outputs": [],
   "source": []
  },
  {
   "cell_type": "markdown",
   "id": "1cd9924a",
   "metadata": {},
   "source": [
    "## 2. Fitting a More Complex Model [1 point]\n",
    "\n",
    "We'd like to explore how effective advanced tests are at recognizing the risk of heart disease.  We'll fit a second model to the training data predicting y from age, sex, restecg, thalach, exang, oldpeak, slope, ca, and thal.  Be sure to print the output of your model below."
   ]
  },
  {
   "cell_type": "code",
   "execution_count": null,
   "id": "c4013204",
   "metadata": {},
   "outputs": [],
   "source": []
  },
  {
   "cell_type": "markdown",
   "id": "fcad520f",
   "metadata": {},
   "source": [
    "## 3. Build a Classifier [1.5 points]\n",
    "\n",
    "Using the model from Question 2, build a classifier to our training data using a predictive probability threshold of 0.75.  Then, generate a confusion matrix from this model."
   ]
  },
  {
   "cell_type": "code",
   "execution_count": null,
   "id": "8002abdc",
   "metadata": {},
   "outputs": [],
   "source": []
  },
  {
   "cell_type": "code",
   "execution_count": null,
   "id": "e52b4cd5",
   "metadata": {},
   "outputs": [],
   "source": []
  },
  {
   "cell_type": "markdown",
   "id": "dac17e46",
   "metadata": {},
   "source": [
    "## 4. Test Data [1 point]\n",
    "\n",
    "Finally, apply your logistic regression model from **Question 2** to your test data, calculating the predicted probabilities on your test data.\n",
    "\n",
    "*Hint:* You do not need to fit a new model to answer this question."
   ]
  },
  {
   "cell_type": "code",
   "execution_count": null,
   "id": "787ae564",
   "metadata": {},
   "outputs": [],
   "source": []
  },
  {
   "cell_type": "markdown",
   "id": "f02327ec",
   "metadata": {},
   "source": [
    "Remember to keep all your cells and hit the save icon above periodically to checkpoint (save) your results on your local computer. Once you are satisified with your results restart the kernel and run all (Kernel -> Restart & Run All). **Make sure nothing has changed**. Checkpoint and exit (File -> Save and Checkpoint + File -> Close and Halt). Follow the instructions on the Homework 9 Canvas Assignment to submit your notebook to GitHub."
   ]
  }
 ],
 "metadata": {
  "kernelspec": {
   "display_name": "Python 3 (ipykernel)",
   "language": "python",
   "name": "python3"
  },
  "language_info": {
   "codemirror_mode": {
    "name": "ipython",
    "version": 3
   },
   "file_extension": ".py",
   "mimetype": "text/x-python",
   "name": "python",
   "nbconvert_exporter": "python",
   "pygments_lexer": "ipython3",
   "version": "3.8.11"
  }
 },
 "nbformat": 4,
 "nbformat_minor": 5
}

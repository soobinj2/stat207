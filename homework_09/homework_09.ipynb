{
 "cells": [
  {
   "cell_type": "markdown",
   "id": "e746da0e",
   "metadata": {},
   "source": [
    "# STAT 207 Homework 9 [25 points]\n",
    "\n",
    "## Logistic Regression & Classifiers"
   ]
  },
  {
   "cell_type": "markdown",
   "id": "6fef820a",
   "metadata": {},
   "source": [
    "Due: Thursday, April 10, end of day (11:59 pm CT)\n",
    "\n",
    "Late submissions accepted until Friday, April 11 at noon\n",
    "\n",
    "<hr>"
   ]
  },
  {
   "cell_type": "markdown",
   "id": "c4d94493",
   "metadata": {},
   "source": [
    "## Imports \n",
    "\n",
    "Run the following code cell to import the necessary packages into the file.  You may import additional packages, as needed for this assignment."
   ]
  },
  {
   "cell_type": "code",
   "execution_count": 1,
   "id": "25c92b96",
   "metadata": {},
   "outputs": [],
   "source": [
    "import pandas as pd\n",
    "import matplotlib.pyplot as plt\n",
    "import seaborn as sns; sns.set()\n",
    "import statsmodels.formula.api as smf"
   ]
  },
  {
   "cell_type": "markdown",
   "id": "ac088395",
   "metadata": {},
   "source": [
    "## Case Study: Heart Disease\n",
    "\n",
    "Can we identify patients who have heart disease based on other patient characteristics?\n",
    "\n",
    "We will use the following information about patients:\n",
    "\n",
    "- **age**: age\n",
    "- **sex**: sex, 1 = male, 0 = female\n",
    "- **cp**: chest pain type, 1 = typical angina, 2 = atypical angina, 3 = non-anginal pain, 4 = asymptomatic\n",
    "- **trestbps**: resting blood pressure (in mm Hg)\n",
    "- **chol**: serum cholesterol in mg/dl\n",
    "- **fbs**: whether the fasting blood sugar is above 120 mg/dl (1 = true, 0 = false)\n",
    "- **restecg**: resting electrocardiographic results (0 = normal, 1 = ST-T wave abnormality, 2 = left ventricular hypertrophy)\n",
    "- **thalach**: maximum heart rate achieved\n",
    "- **exang**: exercise induced angina (1 = yes, 0 = no)\n",
    "- **oldpeak**: ST depression induced by exercise relative to rest\n",
    "- **slope**: the slope of the peak exercise ST segment (1 = upsloping, 2 = flat, 3 = downsloping)\n",
    "- **ca**: number of major vessels (0-3) colored by flouroscopy (for calcification of vessels)\n",
    "- **thal**: number of nuclear stress test (3 = normal, 6 = fixed defect, 7 = reversible defect)\n",
    "- **num**: target number of progression of heart disease (1+ indicates at least 50% narrowing\n",
    "- **y**: our target, generated below, for the presence of heart disease (1 = present, 0 = absent)\n",
    "\n",
    "The data originally came from https://archive.ics.uci.edu/dataset/45/heart+disease.\n",
    "\n",
    "Run the code in the cell below to read in the data for this document.  The data is saved as `df` with this code.  "
   ]
  },
  {
   "cell_type": "code",
   "execution_count": 2,
   "id": "211dd805",
   "metadata": {},
   "outputs": [],
   "source": [
    "df = pd.read_csv('processed_cleveland.csv', na_values = ['?'])\n",
    "df = df.dropna()\n",
    "df['y'] = 1 * (df['num'] > 0)\n",
    "df['sex'] = df['sex'].replace({1: 'male', 0: 'female'})\n",
    "df['cp'] = df['cp'].replace({1: 'typical', 2:'atypical', 3: 'non-anginal', 4: 'asymptomatic'})\n",
    "df['fbs'] = df['fbs'].replace({1: 'high', 0: 'typical'})\n",
    "df['restecg'] = df['restecg'].replace({0: 'normal', 1:'ST-T wave abnormality', 2: 'left ventricular hypertrophy'})\n",
    "df['exang'] = df['exang'].replace({0: 'no', 1: 'yes'})\n",
    "df['slope'] = df['slope'].replace({1:'upsloping', 2:'flat', 3:'downsloping'})\n",
    "df['thal'] = df['thal'].replace({3: 'normal', 6: 'fixed defect', 7:'reversible defect'})"
   ]
  },
  {
   "cell_type": "code",
   "execution_count": 3,
   "id": "272af098",
   "metadata": {},
   "outputs": [
    {
     "data": {
      "text/html": [
       "<div>\n",
       "<style scoped>\n",
       "    .dataframe tbody tr th:only-of-type {\n",
       "        vertical-align: middle;\n",
       "    }\n",
       "\n",
       "    .dataframe tbody tr th {\n",
       "        vertical-align: top;\n",
       "    }\n",
       "\n",
       "    .dataframe thead th {\n",
       "        text-align: right;\n",
       "    }\n",
       "</style>\n",
       "<table border=\"1\" class=\"dataframe\">\n",
       "  <thead>\n",
       "    <tr style=\"text-align: right;\">\n",
       "      <th></th>\n",
       "      <th>age</th>\n",
       "      <th>sex</th>\n",
       "      <th>cp</th>\n",
       "      <th>trestbps</th>\n",
       "      <th>chol</th>\n",
       "      <th>fbs</th>\n",
       "      <th>restecg</th>\n",
       "      <th>thalach</th>\n",
       "      <th>exang</th>\n",
       "      <th>oldpeak</th>\n",
       "      <th>slope</th>\n",
       "      <th>ca</th>\n",
       "      <th>thal</th>\n",
       "      <th>num</th>\n",
       "      <th>y</th>\n",
       "    </tr>\n",
       "  </thead>\n",
       "  <tbody>\n",
       "    <tr>\n",
       "      <th>0</th>\n",
       "      <td>63</td>\n",
       "      <td>male</td>\n",
       "      <td>typical</td>\n",
       "      <td>145</td>\n",
       "      <td>233</td>\n",
       "      <td>high</td>\n",
       "      <td>left ventricular hypertrophy</td>\n",
       "      <td>150</td>\n",
       "      <td>no</td>\n",
       "      <td>2.3</td>\n",
       "      <td>downsloping</td>\n",
       "      <td>0.0</td>\n",
       "      <td>fixed defect</td>\n",
       "      <td>0</td>\n",
       "      <td>0</td>\n",
       "    </tr>\n",
       "    <tr>\n",
       "      <th>1</th>\n",
       "      <td>67</td>\n",
       "      <td>male</td>\n",
       "      <td>asymptomatic</td>\n",
       "      <td>160</td>\n",
       "      <td>286</td>\n",
       "      <td>typical</td>\n",
       "      <td>left ventricular hypertrophy</td>\n",
       "      <td>108</td>\n",
       "      <td>yes</td>\n",
       "      <td>1.5</td>\n",
       "      <td>flat</td>\n",
       "      <td>3.0</td>\n",
       "      <td>normal</td>\n",
       "      <td>2</td>\n",
       "      <td>1</td>\n",
       "    </tr>\n",
       "    <tr>\n",
       "      <th>2</th>\n",
       "      <td>67</td>\n",
       "      <td>male</td>\n",
       "      <td>asymptomatic</td>\n",
       "      <td>120</td>\n",
       "      <td>229</td>\n",
       "      <td>typical</td>\n",
       "      <td>left ventricular hypertrophy</td>\n",
       "      <td>129</td>\n",
       "      <td>yes</td>\n",
       "      <td>2.6</td>\n",
       "      <td>flat</td>\n",
       "      <td>2.0</td>\n",
       "      <td>reversible defect</td>\n",
       "      <td>1</td>\n",
       "      <td>1</td>\n",
       "    </tr>\n",
       "    <tr>\n",
       "      <th>3</th>\n",
       "      <td>37</td>\n",
       "      <td>male</td>\n",
       "      <td>non-anginal</td>\n",
       "      <td>130</td>\n",
       "      <td>250</td>\n",
       "      <td>typical</td>\n",
       "      <td>normal</td>\n",
       "      <td>187</td>\n",
       "      <td>no</td>\n",
       "      <td>3.5</td>\n",
       "      <td>downsloping</td>\n",
       "      <td>0.0</td>\n",
       "      <td>normal</td>\n",
       "      <td>0</td>\n",
       "      <td>0</td>\n",
       "    </tr>\n",
       "    <tr>\n",
       "      <th>4</th>\n",
       "      <td>41</td>\n",
       "      <td>female</td>\n",
       "      <td>atypical</td>\n",
       "      <td>130</td>\n",
       "      <td>204</td>\n",
       "      <td>typical</td>\n",
       "      <td>left ventricular hypertrophy</td>\n",
       "      <td>172</td>\n",
       "      <td>no</td>\n",
       "      <td>1.4</td>\n",
       "      <td>upsloping</td>\n",
       "      <td>0.0</td>\n",
       "      <td>normal</td>\n",
       "      <td>0</td>\n",
       "      <td>0</td>\n",
       "    </tr>\n",
       "  </tbody>\n",
       "</table>\n",
       "</div>"
      ],
      "text/plain": [
       "   age     sex            cp  trestbps  chol      fbs  \\\n",
       "0   63    male       typical       145   233     high   \n",
       "1   67    male  asymptomatic       160   286  typical   \n",
       "2   67    male  asymptomatic       120   229  typical   \n",
       "3   37    male   non-anginal       130   250  typical   \n",
       "4   41  female      atypical       130   204  typical   \n",
       "\n",
       "                        restecg  thalach exang  oldpeak        slope   ca  \\\n",
       "0  left ventricular hypertrophy      150    no      2.3  downsloping  0.0   \n",
       "1  left ventricular hypertrophy      108   yes      1.5         flat  3.0   \n",
       "2  left ventricular hypertrophy      129   yes      2.6         flat  2.0   \n",
       "3                        normal      187    no      3.5  downsloping  0.0   \n",
       "4  left ventricular hypertrophy      172    no      1.4    upsloping  0.0   \n",
       "\n",
       "                thal  num  y  \n",
       "0       fixed defect    0  0  \n",
       "1             normal    2  1  \n",
       "2  reversible defect    1  1  \n",
       "3             normal    0  0  \n",
       "4             normal    0  0  "
      ]
     },
     "execution_count": 3,
     "metadata": {},
     "output_type": "execute_result"
    }
   ],
   "source": [
    "df.head()"
   ]
  },
  {
   "cell_type": "markdown",
   "id": "2810214b",
   "metadata": {},
   "source": [
    "The code below will split the data into a training and a test data, using 20% as our test data and a random state of 403.  We will use our training data exclusively for the first three questions of the assignment.  We won't turn to the test data until the last question."
   ]
  },
  {
   "cell_type": "code",
   "execution_count": 4,
   "id": "c1d9558c",
   "metadata": {},
   "outputs": [],
   "source": [
    "from sklearn.model_selection import train_test_split\n",
    "df_train, df_test = train_test_split(df, test_size = 0.20, random_state = 403)"
   ]
  },
  {
   "cell_type": "markdown",
   "id": "cb4443be",
   "metadata": {},
   "source": [
    "## 1. Understand a Logistic Regression Model [2 points]\n",
    "\n",
    "We know that we would like to predict the presence of heart disease (y).  First, we'll consider a simple model that uses age to predict the presence of heart disease.\n",
    "\n",
    "**a)** Below, fit the model predicting the presence of heart disease from age using the training data.  Print the summary of the model."
   ]
  },
  {
   "cell_type": "code",
   "execution_count": 5,
   "id": "6d90ecdb",
   "metadata": {},
   "outputs": [
    {
     "name": "stdout",
     "output_type": "stream",
     "text": [
      "Optimization terminated successfully.\n",
      "         Current function value: 0.671837\n",
      "         Iterations 4\n",
      "                           Logit Regression Results                           \n",
      "==============================================================================\n",
      "Dep. Variable:                      y   No. Observations:                  237\n",
      "Model:                          Logit   Df Residuals:                      235\n",
      "Method:                           MLE   Df Model:                            1\n",
      "Date:                Wed, 09 Apr 2025   Pseudo R-squ.:                 0.02713\n",
      "Time:                        17:53:14   Log-Likelihood:                -159.23\n",
      "converged:                       True   LL-Null:                       -163.67\n",
      "Covariance Type:            nonrobust   LLR p-value:                  0.002882\n",
      "==============================================================================\n",
      "                 coef    std err          z      P>|z|      [0.025      0.975]\n",
      "------------------------------------------------------------------------------\n",
      "Intercept     -2.4903      0.820     -3.038      0.002      -4.097      -0.883\n",
      "age            0.0429      0.015      2.909      0.004       0.014       0.072\n",
      "==============================================================================\n"
     ]
    }
   ],
   "source": [
    "model1 = smf.logit(\"y ~ age\", data=df_train).fit()\n",
    "print(model1.summary())"
   ]
  },
  {
   "cell_type": "code",
   "execution_count": 7,
   "id": "01a88603",
   "metadata": {},
   "outputs": [
    {
     "data": {
      "text/plain": [
       "(-2.4903077186534133, 0.04293288613062926)"
      ]
     },
     "execution_count": 7,
     "metadata": {},
     "output_type": "execute_result"
    }
   ],
   "source": [
    "import numpy as np\n",
    "\n",
    "intercept = model1.params['Intercept']\n",
    "age_coef = model1.params['age']\n",
    "intercept, age_coef"
   ]
  },
  {
   "cell_type": "code",
   "execution_count": 8,
   "id": "c228c8d3",
   "metadata": {},
   "outputs": [
    {
     "data": {
      "text/plain": [
       "0.0828844575569053"
      ]
     },
     "execution_count": 8,
     "metadata": {},
     "output_type": "execute_result"
    }
   ],
   "source": [
    "log_odds_age0 = intercept\n",
    "odds_age0 = np.exp(log_odds_age0)\n",
    "odds_age0"
   ]
  },
  {
   "cell_type": "code",
   "execution_count": 9,
   "id": "c31e6971",
   "metadata": {},
   "outputs": [
    {
     "data": {
      "text/plain": [
       "0.1951345868425448"
      ]
     },
     "execution_count": 9,
     "metadata": {},
     "output_type": "execute_result"
    }
   ],
   "source": [
    "log_odds_age25 = intercept + 25 * age_coef\n",
    "prob_age25 = 1 / (1 + np.exp(-log_odds_age25))\n",
    "prob_age25"
   ]
  },
  {
   "cell_type": "code",
   "execution_count": 10,
   "id": "80c85877",
   "metadata": {},
   "outputs": [
    {
     "data": {
      "text/plain": [
       "67.44882740822005"
      ]
     },
     "execution_count": 10,
     "metadata": {},
     "output_type": "execute_result"
    }
   ],
   "source": [
    "log_odds_thresh = np.log(0.6 / (1 - 0.6))\n",
    "age_threshold = (log_odds_thresh - intercept) / age_coef\n",
    "\n",
    "age_threshold"
   ]
  },
  {
   "cell_type": "code",
   "execution_count": 11,
   "id": "71b5f5c0",
   "metadata": {},
   "outputs": [
    {
     "data": {
      "text/plain": [
       "1.0438678344901438"
      ]
     },
     "execution_count": 11,
     "metadata": {},
     "output_type": "execute_result"
    }
   ],
   "source": [
    "odds_ratio = np.exp(age_coef)\n",
    "\n",
    "odds_ratio"
   ]
  },
  {
   "cell_type": "code",
   "execution_count": 12,
   "id": "0778c7a8",
   "metadata": {},
   "outputs": [
    {
     "data": {
      "text/plain": [
       "0.003622347842169721"
      ]
     },
     "execution_count": 12,
     "metadata": {},
     "output_type": "execute_result"
    }
   ],
   "source": [
    "p_value_age = model1.pvalues['age']\n",
    "p_value_age"
   ]
  },
  {
   "cell_type": "markdown",
   "id": "00252f43",
   "metadata": {},
   "source": [
    "**b)** Generate the fitted vs. deviance residual plot for this model."
   ]
  },
  {
   "cell_type": "code",
   "execution_count": 17,
   "id": "d309d658",
   "metadata": {},
   "outputs": [
    {
     "data": {
      "image/png": "[encoded data removed]",
      "text/plain": [
       "<Figure size 800x500 with 1 Axes>"
      ]
     },
     "metadata": {},
     "output_type": "display_data"
    }
   ],
   "source": [
    "fitted_vals = model1.fittedvalues\n",
    "\n",
    "residuals = model1.resid_dev\n",
    "\n",
    "plt.figure(figsize=(8,5))\n",
    "plt.scatter(fitted_vals, residuals, alpha=0.6)\n",
    "plt.axhline(0, linestyle='--', color='gray')\n",
    "plt.xlabel('Fitted Values')\n",
    "plt.ylabel('Deviance Residuals')\n",
    "plt.title('Fitted vs. Deviance Residuals')\n",
    "\n",
    "plt.show()"
   ]
  },
  {
   "cell_type": "markdown",
   "id": "1cd9924a",
   "metadata": {},
   "source": [
    "## 2. Fitting a More Complex Model [1 point]\n",
    "\n",
    "We'd like to explore how effective advanced tests are at recognizing the risk of heart disease.  We'll fit a second model to the training data predicting y from age, sex, restecg, thalach, exang, oldpeak, slope, ca, and thal.  Be sure to print the output of your model below."
   ]
  },
  {
   "cell_type": "code",
   "execution_count": 20,
   "id": "c4013204",
   "metadata": {},
   "outputs": [
    {
     "name": "stdout",
     "output_type": "stream",
     "text": [
      "Optimization terminated successfully.\n",
      "         Current function value: 0.320657\n",
      "         Iterations 7\n",
      "                           Logit Regression Results                           \n",
      "==============================================================================\n",
      "Dep. Variable:                      y   No. Observations:                  237\n",
      "Model:                          Logit   Df Residuals:                      224\n",
      "Method:                           MLE   Df Model:                           12\n",
      "Date:                Wed, 09 Apr 2025   Pseudo R-squ.:                  0.5357\n",
      "Time:                        18:14:53   Log-Likelihood:                -75.996\n",
      "converged:                       True   LL-Null:                       -163.67\n",
      "Covariance Type:            nonrobust   LLR p-value:                 3.852e-31\n",
      "===========================================================================================================\n",
      "                                              coef    std err          z      P>|z|      [0.025      0.975]\n",
      "-----------------------------------------------------------------------------------------------------------\n",
      "Intercept                                   6.1391      3.571      1.719      0.086      -0.860      13.138\n",
      "sex[T.male]                                 1.0189      0.526      1.935      0.053      -0.013       2.051\n",
      "restecg[T.left ventricular hypertrophy]    -1.2852      1.703     -0.754      0.451      -4.624       2.054\n",
      "restecg[T.normal]                          -2.0664      1.721     -1.201      0.230      -5.439       1.306\n",
      "exang[T.yes]                                0.7087      0.460      1.540      0.124      -0.193       1.611\n",
      "slope[T.flat]                              -0.0953      0.854     -0.112      0.911      -1.769       1.579\n",
      "slope[T.upsloping]                         -0.7959      0.971     -0.820      0.412      -2.699       1.107\n",
      "thal[T.normal]                             -0.5038      0.814     -0.619      0.536      -2.098       1.091\n",
      "thal[T.reversible defect]                   1.9416      0.804      2.416      0.016       0.367       3.517\n",
      "age                                        -0.0409      0.027     -1.488      0.137      -0.095       0.013\n",
      "thalach                                    -0.0306      0.012     -2.498      0.012      -0.055      -0.007\n",
      "oldpeak                                     0.1698      0.256      0.664      0.507      -0.332       0.672\n",
      "ca                                          1.7297      0.337      5.135      0.000       1.069       2.390\n",
      "===========================================================================================================\n"
     ]
    }
   ],
   "source": [
    "import statsmodels.formula.api as smf\n",
    "\n",
    "model2 = smf.logit(formula='y ~ age + sex + restecg + thalach + exang + oldpeak + slope + ca + thal', data=df_train).fit()\n",
    "print(model2.summary())"
   ]
  },
  {
   "cell_type": "code",
   "execution_count": 21,
   "id": "fda80309",
   "metadata": {},
   "outputs": [
    {
     "data": {
      "text/plain": [
       "0.5356652166746367"
      ]
     },
     "execution_count": 21,
     "metadata": {},
     "output_type": "execute_result"
    }
   ],
   "source": [
    "pseudo_r2 = model2.prsquared\n",
    "pseudo_r2"
   ]
  },
  {
   "cell_type": "code",
   "execution_count": 22,
   "id": "43c9f832",
   "metadata": {},
   "outputs": [
    {
     "data": {
      "text/plain": [
       "0.9333571939871151"
      ]
     },
     "execution_count": 22,
     "metadata": {},
     "output_type": "execute_result"
    }
   ],
   "source": [
    "from sklearn.metrics import roc_auc_score\n",
    "\n",
    "y_train_true = df_train['y']\n",
    "y_train_probs = model2.predict(df_train)\n",
    "auc_score = roc_auc_score(y_train_true, y_train_probs)\n",
    "\n",
    "auc_score"
   ]
  },
  {
   "cell_type": "markdown",
   "id": "fcad520f",
   "metadata": {},
   "source": [
    "## 3. Build a Classifier [1.5 points]\n",
    "\n",
    "Using the model from Question 2, build a classifier to our training data using a predictive probability threshold of 0.75.  Then, generate a confusion matrix from this model."
   ]
  },
  {
   "cell_type": "code",
   "execution_count": 23,
   "id": "8002abdc",
   "metadata": {},
   "outputs": [
    {
     "data": {
      "text/plain": [
       "22     0.155634\n",
       "262    0.008466\n",
       "200    0.033621\n",
       "246    0.697599\n",
       "100    0.050655\n",
       "         ...   \n",
       "150    0.393143\n",
       "52     0.454949\n",
       "207    0.935728\n",
       "120    0.990351\n",
       "180    0.681154\n",
       "Length: 237, dtype: float64"
      ]
     },
     "execution_count": 23,
     "metadata": {},
     "output_type": "execute_result"
    }
   ],
   "source": [
    "pred_prob = model2.predict(df_train)\n",
    "df_train['predictive_prob'] = pred_prob\n",
    "pred_prob"
   ]
  },
  {
   "cell_type": "code",
   "execution_count": 24,
   "id": "e52b4cd5",
   "metadata": {},
   "outputs": [
    {
     "name": "stdout",
     "output_type": "stream",
     "text": [
      "[[121   6]\n",
      " [ 33  77]]\n"
     ]
    }
   ],
   "source": [
    "df_train['predictive_prob'] = model2.predict(df_train)\n",
    "\n",
    "df_train['y_hat'] = 1 * (df_train['predictive_prob'] >= 0.75)\n",
    "\n",
    "from sklearn.metrics import confusion_matrix\n",
    "conf_matrix = confusion_matrix(df_train['y'], df_train['y_hat'])\n",
    "print(conf_matrix)\n"
   ]
  },
  {
   "cell_type": "code",
   "execution_count": 25,
   "id": "c77b6dbb",
   "metadata": {},
   "outputs": [
    {
     "data": {
      "text/plain": [
       "0.8354430379746836"
      ]
     },
     "execution_count": 25,
     "metadata": {},
     "output_type": "execute_result"
    }
   ],
   "source": [
    "acc = (77+121)/(121+6+33+77)\n",
    "\n",
    "acc"
   ]
  },
  {
   "cell_type": "markdown",
   "id": "dac17e46",
   "metadata": {},
   "source": [
    "## 4. Test Data [1 point]\n",
    "\n",
    "Finally, apply your logistic regression model from **Question 2** to your test data, calculating the predicted probabilities on your test data.\n",
    "\n",
    "*Hint:* You do not need to fit a new model to answer this question."
   ]
  },
  {
   "cell_type": "code",
   "execution_count": 26,
   "id": "787ae564",
   "metadata": {},
   "outputs": [
    {
     "data": {
      "text/html": [
       "<div>\n",
       "<style scoped>\n",
       "    .dataframe tbody tr th:only-of-type {\n",
       "        vertical-align: middle;\n",
       "    }\n",
       "\n",
       "    .dataframe tbody tr th {\n",
       "        vertical-align: top;\n",
       "    }\n",
       "\n",
       "    .dataframe thead th {\n",
       "        text-align: right;\n",
       "    }\n",
       "</style>\n",
       "<table border=\"1\" class=\"dataframe\">\n",
       "  <thead>\n",
       "    <tr style=\"text-align: right;\">\n",
       "      <th></th>\n",
       "      <th>predictive_prob</th>\n",
       "      <th>y</th>\n",
       "    </tr>\n",
       "  </thead>\n",
       "  <tbody>\n",
       "    <tr>\n",
       "      <th>188</th>\n",
       "      <td>0.638764</td>\n",
       "      <td>1</td>\n",
       "    </tr>\n",
       "    <tr>\n",
       "      <th>124</th>\n",
       "      <td>0.322066</td>\n",
       "      <td>1</td>\n",
       "    </tr>\n",
       "    <tr>\n",
       "      <th>35</th>\n",
       "      <td>0.033091</td>\n",
       "      <td>0</td>\n",
       "    </tr>\n",
       "    <tr>\n",
       "      <th>151</th>\n",
       "      <td>0.250493</td>\n",
       "      <td>0</td>\n",
       "    </tr>\n",
       "    <tr>\n",
       "      <th>14</th>\n",
       "      <td>0.317784</td>\n",
       "      <td>0</td>\n",
       "    </tr>\n",
       "  </tbody>\n",
       "</table>\n",
       "</div>"
      ],
      "text/plain": [
       "     predictive_prob  y\n",
       "188         0.638764  1\n",
       "124         0.322066  1\n",
       "35          0.033091  0\n",
       "151         0.250493  0\n",
       "14          0.317784  0"
      ]
     },
     "execution_count": 26,
     "metadata": {},
     "output_type": "execute_result"
    }
   ],
   "source": [
    "df_test['predictive_prob'] = model2.predict(df_test)\n",
    "df_test[['predictive_prob','y']].head()"
   ]
  },
  {
   "cell_type": "code",
   "execution_count": 27,
   "id": "6c6486b2",
   "metadata": {},
   "outputs": [
    {
     "data": {
      "text/plain": [
       "0.8170594837261503"
      ]
     },
     "execution_count": 27,
     "metadata": {},
     "output_type": "execute_result"
    }
   ],
   "source": [
    "from sklearn.metrics import roc_auc_score\n",
    "\n",
    "aucc = roc_auc_score(y_true=df_test['y'], \n",
    "                            y_score=df_test['predictive_prob'])\n",
    "aucc"
   ]
  },
  {
   "cell_type": "markdown",
   "id": "f02327ec",
   "metadata": {},
   "source": [
    "Remember to keep all your cells and hit the save icon above periodically to checkpoint (save) your results on your local computer. Once you are satisified with your results restart the kernel and run all (Kernel -> Restart & Run All). **Make sure nothing has changed**. Checkpoint and exit (File -> Save and Checkpoint + File -> Close and Halt). Follow the instructions on the Homework 9 Canvas Assignment to submit your notebook to GitHub."
   ]
  }
 ],
 "metadata": {
  "kernelspec": {
   "display_name": "base",
   "language": "python",
   "name": "python3"
  },
  "language_info": {
   "codemirror_mode": {
    "name": "ipython",
    "version": 3
   },
   "file_extension": ".py",
   "mimetype": "text/x-python",
   "name": "python",
   "nbconvert_exporter": "python",
   "pygments_lexer": "ipython3",
   "version": "3.11.5"
  }
 },
 "nbformat": 4,
 "nbformat_minor": 5
}

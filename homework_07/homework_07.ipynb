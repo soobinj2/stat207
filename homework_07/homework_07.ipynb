{
 "cells": [
  {
   "cell_type": "markdown",
   "id": "e746da0e",
   "metadata": {},
   "source": [
    "# STAT 207 Homework 7 [25 points]\n",
    "\n",
    "## Linear Regression"
   ]
  },
  {
   "cell_type": "markdown",
   "id": "6fef820a",
   "metadata": {},
   "source": [
    "Due: Thursday, March 27, end of day (11:59 pm CT)\n",
    "\n",
    "Late submissions accepted until Friday, March 28 at noon\n",
    "\n",
    "<hr>"
   ]
  },
  {
   "cell_type": "markdown",
   "id": "c4d94493",
   "metadata": {},
   "source": [
    "## Imports \n",
    "\n",
    "Run the following code cell to import the necessary packages into the file.  You may import additional packages, as needed for this assignment."
   ]
  },
  {
   "cell_type": "code",
   "execution_count": 1,
   "id": "25c92b96",
   "metadata": {},
   "outputs": [],
   "source": [
    "import pandas as pd\n",
    "import matplotlib.pyplot as plt\n",
    "import seaborn as sns; sns.set()"
   ]
  },
  {
   "cell_type": "markdown",
   "id": "ac088395",
   "metadata": {},
   "source": [
    "## Case Study: Tips Given at a Restaurant\n",
    "\n",
    "Is there a relationship between characteristics of a person dining out and the tip that they leave at the restaurant?  For this assignment, we will explore the **tips.csv** file, which contains data that a single waiter recorded for his tips earned from customers over a series of a few months prior to 1995.  \n",
    "\n",
    "This copy of the data was accessed from: https://www.kaggle.com/datasets/jsphyg/tipping"
   ]
  },
  {
   "cell_type": "code",
   "execution_count": 2,
   "id": "4a0f3371",
   "metadata": {},
   "outputs": [
    {
     "data": {
      "text/html": [
       "<div>\n",
       "<style scoped>\n",
       "    .dataframe tbody tr th:only-of-type {\n",
       "        vertical-align: middle;\n",
       "    }\n",
       "\n",
       "    .dataframe tbody tr th {\n",
       "        vertical-align: top;\n",
       "    }\n",
       "\n",
       "    .dataframe thead th {\n",
       "        text-align: right;\n",
       "    }\n",
       "</style>\n",
       "<table border=\"1\" class=\"dataframe\">\n",
       "  <thead>\n",
       "    <tr style=\"text-align: right;\">\n",
       "      <th></th>\n",
       "      <th>total_bill</th>\n",
       "      <th>tip</th>\n",
       "      <th>sex</th>\n",
       "      <th>smoker</th>\n",
       "      <th>day</th>\n",
       "      <th>time</th>\n",
       "      <th>size</th>\n",
       "    </tr>\n",
       "  </thead>\n",
       "  <tbody>\n",
       "    <tr>\n",
       "      <th>0</th>\n",
       "      <td>16.99</td>\n",
       "      <td>1.01</td>\n",
       "      <td>Female</td>\n",
       "      <td>No</td>\n",
       "      <td>Sun</td>\n",
       "      <td>Dinner</td>\n",
       "      <td>2</td>\n",
       "    </tr>\n",
       "    <tr>\n",
       "      <th>1</th>\n",
       "      <td>10.34</td>\n",
       "      <td>1.66</td>\n",
       "      <td>Male</td>\n",
       "      <td>No</td>\n",
       "      <td>Sun</td>\n",
       "      <td>Dinner</td>\n",
       "      <td>3</td>\n",
       "    </tr>\n",
       "    <tr>\n",
       "      <th>2</th>\n",
       "      <td>21.01</td>\n",
       "      <td>3.50</td>\n",
       "      <td>Male</td>\n",
       "      <td>No</td>\n",
       "      <td>Sun</td>\n",
       "      <td>Dinner</td>\n",
       "      <td>3</td>\n",
       "    </tr>\n",
       "    <tr>\n",
       "      <th>3</th>\n",
       "      <td>23.68</td>\n",
       "      <td>3.31</td>\n",
       "      <td>Male</td>\n",
       "      <td>No</td>\n",
       "      <td>Sun</td>\n",
       "      <td>Dinner</td>\n",
       "      <td>2</td>\n",
       "    </tr>\n",
       "    <tr>\n",
       "      <th>4</th>\n",
       "      <td>24.59</td>\n",
       "      <td>3.61</td>\n",
       "      <td>Female</td>\n",
       "      <td>No</td>\n",
       "      <td>Sun</td>\n",
       "      <td>Dinner</td>\n",
       "      <td>4</td>\n",
       "    </tr>\n",
       "    <tr>\n",
       "      <th>...</th>\n",
       "      <td>...</td>\n",
       "      <td>...</td>\n",
       "      <td>...</td>\n",
       "      <td>...</td>\n",
       "      <td>...</td>\n",
       "      <td>...</td>\n",
       "      <td>...</td>\n",
       "    </tr>\n",
       "    <tr>\n",
       "      <th>239</th>\n",
       "      <td>29.03</td>\n",
       "      <td>5.92</td>\n",
       "      <td>Male</td>\n",
       "      <td>No</td>\n",
       "      <td>Sat</td>\n",
       "      <td>Dinner</td>\n",
       "      <td>3</td>\n",
       "    </tr>\n",
       "    <tr>\n",
       "      <th>240</th>\n",
       "      <td>27.18</td>\n",
       "      <td>2.00</td>\n",
       "      <td>Female</td>\n",
       "      <td>Yes</td>\n",
       "      <td>Sat</td>\n",
       "      <td>Dinner</td>\n",
       "      <td>2</td>\n",
       "    </tr>\n",
       "    <tr>\n",
       "      <th>241</th>\n",
       "      <td>22.67</td>\n",
       "      <td>2.00</td>\n",
       "      <td>Male</td>\n",
       "      <td>Yes</td>\n",
       "      <td>Sat</td>\n",
       "      <td>Dinner</td>\n",
       "      <td>2</td>\n",
       "    </tr>\n",
       "    <tr>\n",
       "      <th>242</th>\n",
       "      <td>17.82</td>\n",
       "      <td>1.75</td>\n",
       "      <td>Male</td>\n",
       "      <td>No</td>\n",
       "      <td>Sat</td>\n",
       "      <td>Dinner</td>\n",
       "      <td>2</td>\n",
       "    </tr>\n",
       "    <tr>\n",
       "      <th>243</th>\n",
       "      <td>18.78</td>\n",
       "      <td>3.00</td>\n",
       "      <td>Female</td>\n",
       "      <td>No</td>\n",
       "      <td>Thur</td>\n",
       "      <td>Dinner</td>\n",
       "      <td>2</td>\n",
       "    </tr>\n",
       "  </tbody>\n",
       "</table>\n",
       "<p>244 rows × 7 columns</p>\n",
       "</div>"
      ],
      "text/plain": [
       "     total_bill   tip     sex smoker   day    time  size\n",
       "0         16.99  1.01  Female     No   Sun  Dinner     2\n",
       "1         10.34  1.66    Male     No   Sun  Dinner     3\n",
       "2         21.01  3.50    Male     No   Sun  Dinner     3\n",
       "3         23.68  3.31    Male     No   Sun  Dinner     2\n",
       "4         24.59  3.61  Female     No   Sun  Dinner     4\n",
       "..          ...   ...     ...    ...   ...     ...   ...\n",
       "239       29.03  5.92    Male     No   Sat  Dinner     3\n",
       "240       27.18  2.00  Female    Yes   Sat  Dinner     2\n",
       "241       22.67  2.00    Male    Yes   Sat  Dinner     2\n",
       "242       17.82  1.75    Male     No   Sat  Dinner     2\n",
       "243       18.78  3.00  Female     No  Thur  Dinner     2\n",
       "\n",
       "[244 rows x 7 columns]"
      ]
     },
     "execution_count": 2,
     "metadata": {},
     "output_type": "execute_result"
    }
   ],
   "source": [
    "df = pd.read_csv('tips.csv')\n",
    "df"
   ]
  },
  {
   "cell_type": "markdown",
   "id": "8558941e",
   "metadata": {},
   "source": [
    "## 1. A First Model [2 points] \n",
    "\n",
    "For our first model, we will fit a model that predicts the tip amount from the total_bill.  Print the summary of the model below."
   ]
  },
  {
   "cell_type": "code",
   "execution_count": 3,
   "id": "bf1ee6e5",
   "metadata": {},
   "outputs": [
    {
     "name": "stdout",
     "output_type": "stream",
     "text": [
      "                            OLS Regression Results                            \n",
      "==============================================================================\n",
      "Dep. Variable:                    tip   R-squared:                       0.457\n",
      "Model:                            OLS   Adj. R-squared:                  0.454\n",
      "Method:                 Least Squares   F-statistic:                     203.4\n",
      "Date:                Thu, 27 Mar 2025   Prob (F-statistic):           6.69e-34\n",
      "Time:                        21:09:15   Log-Likelihood:                -350.54\n",
      "No. Observations:                 244   AIC:                             705.1\n",
      "Df Residuals:                     242   BIC:                             712.1\n",
      "Df Model:                           1                                         \n",
      "Covariance Type:            nonrobust                                         \n",
      "==============================================================================\n",
      "                 coef    std err          t      P>|t|      [0.025      0.975]\n",
      "------------------------------------------------------------------------------\n",
      "Intercept      0.9203      0.160      5.761      0.000       0.606       1.235\n",
      "total_bill     0.1050      0.007     14.260      0.000       0.091       0.120\n",
      "==============================================================================\n",
      "Omnibus:                       20.185   Durbin-Watson:                   2.151\n",
      "Prob(Omnibus):                  0.000   Jarque-Bera (JB):               37.750\n",
      "Skew:                           0.443   Prob(JB):                     6.35e-09\n",
      "Kurtosis:                       4.711   Cond. No.                         53.0\n",
      "==============================================================================\n",
      "\n",
      "Notes:\n",
      "[1] Standard Errors assume that the covariance matrix of the errors is correctly specified.\n"
     ]
    }
   ],
   "source": [
    "import statsmodels.formula.api as smf\n",
    "\n",
    "model = smf.ols('tip ~ total_bill', data = df).fit()\n",
    "\n",
    "print(model.summary())"
   ]
  },
  {
   "cell_type": "code",
   "execution_count": 5,
   "id": "18dea34d",
   "metadata": {},
   "outputs": [
    {
     "data": {
      "text/plain": [
       "5.3303"
      ]
     },
     "execution_count": 5,
     "metadata": {},
     "output_type": "execute_result"
    }
   ],
   "source": [
    "prediction = 0.9203 + 0.1050 * 42\n",
    "prediction"
   ]
  },
  {
   "cell_type": "code",
   "execution_count": 7,
   "id": "651a139f",
   "metadata": {},
   "outputs": [
    {
     "name": "stdout",
     "output_type": "stream",
     "text": [
      "-0.6303000000000001\n"
     ]
    }
   ],
   "source": [
    "residual_1 = 4.70 - prediction\n",
    "\n",
    "print(residual_1)"
   ]
  },
  {
   "cell_type": "markdown",
   "id": "3456bad5",
   "metadata": {},
   "source": [
    "## 2. A Second Model [1 point]\n",
    "\n",
    "For our second model, fit a model that predicts the tip amount from the total_bill and the time of day.  Print the summary of the model below."
   ]
  },
  {
   "cell_type": "code",
   "execution_count": 11,
   "id": "eb9ac961",
   "metadata": {},
   "outputs": [
    {
     "name": "stdout",
     "output_type": "stream",
     "text": [
      "                            OLS Regression Results                            \n",
      "==============================================================================\n",
      "Dep. Variable:                    tip   R-squared:                       0.457\n",
      "Model:                            OLS   Adj. R-squared:                  0.452\n",
      "Method:                 Least Squares   F-statistic:                     101.3\n",
      "Date:                Wed, 26 Mar 2025   Prob (F-statistic):           1.20e-32\n",
      "Time:                        20:58:35   Log-Likelihood:                -350.54\n",
      "No. Observations:                 244   AIC:                             707.1\n",
      "Df Residuals:                     241   BIC:                             717.6\n",
      "Df Model:                           2                                         \n",
      "Covariance Type:            nonrobust                                         \n",
      "=================================================================================\n",
      "                    coef    std err          t      P>|t|      [0.025      0.975]\n",
      "---------------------------------------------------------------------------------\n",
      "Intercept         0.9172      0.174      5.266      0.000       0.574       1.260\n",
      "time[T.Lunch]     0.0067      0.149      0.045      0.964      -0.286       0.300\n",
      "total_bill        0.1051      0.008     13.999      0.000       0.090       0.120\n",
      "==============================================================================\n",
      "Omnibus:                       20.233   Durbin-Watson:                   2.151\n",
      "Prob(Omnibus):                  0.000   Jarque-Bera (JB):               37.819\n",
      "Skew:                           0.444   Prob(JB):                     6.13e-09\n",
      "Kurtosis:                       4.712   Cond. No.                         63.9\n",
      "==============================================================================\n",
      "\n",
      "Notes:\n",
      "[1] Standard Errors assume that the covariance matrix of the errors is correctly specified.\n"
     ]
    }
   ],
   "source": [
    "model_2 = smf.ols('tip ~ total_bill + time', data = df).fit()\n",
    "\n",
    "print(model_2.summary())"
   ]
  },
  {
   "cell_type": "code",
   "execution_count": 12,
   "id": "7eb32add",
   "metadata": {},
   "outputs": [
    {
     "data": {
      "text/plain": [
       "array(['Dinner', 'Lunch'], dtype=object)"
      ]
     },
     "execution_count": 12,
     "metadata": {},
     "output_type": "execute_result"
    }
   ],
   "source": [
    "df['time'].unique()"
   ]
  },
  {
   "cell_type": "code",
   "execution_count": 14,
   "id": "5caed2f3",
   "metadata": {},
   "outputs": [
    {
     "data": {
      "text/plain": [
       "0.4566211918263571"
      ]
     },
     "execution_count": 14,
     "metadata": {},
     "output_type": "execute_result"
    }
   ],
   "source": [
    "model_2.rsquared"
   ]
  },
  {
   "cell_type": "markdown",
   "id": "4da7445a",
   "metadata": {},
   "source": [
    "## 3. A Third Model [1 point]\n",
    "\n",
    "For our third model, fit a model that predicts the tip amount from the total_bill, the size of the party, the time of day, the day of the week, and an interaction term between the time of day and the total_bill. Print the summary of the third model."
   ]
  },
  {
   "cell_type": "code",
   "execution_count": 13,
   "id": "b9ff6b2e",
   "metadata": {},
   "outputs": [
    {
     "name": "stdout",
     "output_type": "stream",
     "text": [
      "                            OLS Regression Results                            \n",
      "==============================================================================\n",
      "Dep. Variable:                    tip   R-squared:                       0.472\n",
      "Model:                            OLS   Adj. R-squared:                  0.456\n",
      "Method:                 Least Squares   F-statistic:                     30.15\n",
      "Date:                Wed, 26 Mar 2025   Prob (F-statistic):           1.36e-29\n",
      "Time:                        21:10:06   Log-Likelihood:                -347.02\n",
      "No. Observations:                 244   AIC:                             710.0\n",
      "Df Residuals:                     236   BIC:                             738.0\n",
      "Df Model:                           7                                         \n",
      "Covariance Type:            nonrobust                                         \n",
      "============================================================================================\n",
      "                               coef    std err          t      P>|t|      [0.025      0.975]\n",
      "--------------------------------------------------------------------------------------------\n",
      "Intercept                    0.8380      0.343      2.441      0.015       0.162       1.514\n",
      "time[T.Lunch]               -0.2633      0.521     -0.506      0.614      -1.289       0.763\n",
      "day[T.Sat]                  -0.1017      0.306     -0.332      0.740      -0.705       0.501\n",
      "day[T.Sun]                   0.0191      0.312      0.061      0.951      -0.596       0.635\n",
      "day[T.Thur]                 -0.1773      0.386     -0.459      0.647      -0.938       0.584\n",
      "total_bill                   0.0899      0.010      9.228      0.000       0.071       0.109\n",
      "time[T.Lunch]:total_bill     0.0214      0.019      1.136      0.257      -0.016       0.059\n",
      "size                         0.1666      0.089      1.868      0.063      -0.009       0.342\n",
      "==============================================================================\n",
      "Omnibus:                       28.663   Durbin-Watson:                   2.109\n",
      "Prob(Omnibus):                  0.000   Jarque-Bera (JB):               54.721\n",
      "Skew:                           0.619   Prob(JB):                     1.31e-12\n",
      "Kurtosis:                       4.962   Cond. No.                         223.\n",
      "==============================================================================\n",
      "\n",
      "Notes:\n",
      "[1] Standard Errors assume that the covariance matrix of the errors is correctly specified.\n"
     ]
    }
   ],
   "source": [
    "model_3 = smf.ols('tip ~ total_bill + size + time + day + time * total_bill ', data = df).fit()\n",
    "\n",
    "print(model_3.summary())"
   ]
  },
  {
   "cell_type": "code",
   "execution_count": 17,
   "id": "24bb8108",
   "metadata": {},
   "outputs": [
    {
     "data": {
      "text/plain": [
       "0.4720601216062953"
      ]
     },
     "execution_count": 17,
     "metadata": {},
     "output_type": "execute_result"
    }
   ],
   "source": [
    "model_3.rsquared"
   ]
  },
  {
   "cell_type": "code",
   "execution_count": 21,
   "id": "1badc863",
   "metadata": {},
   "outputs": [
    {
     "data": {
      "text/plain": [
       "1.0032819475261572"
      ]
     },
     "execution_count": 21,
     "metadata": {},
     "output_type": "execute_result"
    }
   ],
   "source": [
    "from sklearn.metrics import mean_squared_error\n",
    "import numpy as np\n",
    "\n",
    "predicted_val = model_3.fittedvalues\n",
    "real_val = df['tip']\n",
    "\n",
    "mse = mean_squared_error(real_val, predicted_val)\n",
    "rmse = np.sqrt(mse)\n",
    "rmse"
   ]
  },
  {
   "cell_type": "markdown",
   "id": "f02327ec",
   "metadata": {},
   "source": [
    "Remember to keep all your cells and hit the save icon above periodically to checkpoint (save) your results on your local computer. Once you are satisified with your results restart the kernel and run all (Kernel -> Restart & Run All). **Make sure nothing has changed**. Checkpoint and exit (File -> Save and Checkpoint + File -> Close and Halt). Follow the instructions on the Homework 7 Canvas Assignment to submit your notebook to GitHub."
   ]
  }
 ],
 "metadata": {
  "kernelspec": {
   "display_name": "base",
   "language": "python",
   "name": "python3"
  },
  "language_info": {
   "codemirror_mode": {
    "name": "ipython",
    "version": 3
   },
   "file_extension": ".py",
   "mimetype": "text/x-python",
   "name": "python",
   "nbconvert_exporter": "python",
   "pygments_lexer": "ipython3",
   "version": "3.11.5"
  }
 },
 "nbformat": 4,
 "nbformat_minor": 5
}

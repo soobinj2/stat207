{
 "cells": [
  {
   "cell_type": "markdown",
   "metadata": {},
   "source": [
    "# STAT 207 Group Lab Assignment 10 - [10 total points]\n",
    "\n",
    "## Multiple Linear Regression: Test Data, Interactions, & Assumptions"
   ]
  },
  {
   "cell_type": "markdown",
   "metadata": {},
   "source": [
    "<hr>"
   ]
  },
  {
   "cell_type": "markdown",
   "metadata": {},
   "source": [
    "## <u>Lab Grading</u>:\n",
    "\n",
    "Should we grade your submission?  If not, write the netID of the submission to be graded.  (Note: We will only grade one assignment per group, and we'll pick the first one that says we should grade that submission.  We will assign the same grade to all team members.)\n",
    "\n",
    "*For example*, you might respond: **grade this submission** or **my submission is under netID jdeeke**"
   ]
  },
  {
   "cell_type": "markdown",
   "metadata": {},
   "source": []
  },
  {
   "cell_type": "markdown",
   "metadata": {},
   "source": [
    "If you said **my submission is under netID** above, we will not read any more of your lab submission.\n",
    "\n",
    "If you said **grade this submission** above, who worked with you on this submission?  Write both their **names** and **netIDs**.  \n",
    "\n",
    "Also, discuss and record who from your group can drive stick shift (manual).  If so, who taught you?  If not, would you want to learn how to drive stick?"
   ]
  },
  {
   "cell_type": "markdown",
   "metadata": {},
   "source": []
  },
  {
   "cell_type": "markdown",
   "metadata": {},
   "source": [
    "<hr>\n",
    "\n",
    "## <u>Purpose</u>:\n",
    "You should work in groups of 2-3 on this report (not working in groups without permission will result in a point deduction). The purpose of this group lab assignment is to incorporate an interaction term into a multiple linear regression model and to assess the model fit.  \n",
    "\n",
    "<hr>"
   ]
  },
  {
   "cell_type": "markdown",
   "metadata": {},
   "source": [
    "## <u>Assignment Instructions</u>:"
   ]
  },
  {
   "cell_type": "markdown",
   "metadata": {},
   "source": [
    "### Group Roles\n",
    "\n",
    "Suggested and specified roles are provided below: \n",
    "\n",
    "#### Groups of 2\n",
    "\n",
    "* **Driver**: This student will type the report.  While typing the report, you may be the one who is selecting the functions to apply to the data.\n",
    "* **Navigator**: This student will guide the process of answering the question.  Specific ways to help may include: outlining the general steps needed to solve a question (providing the overview), locating examples within the course notes, and reviewing each line of code as it is typed.\n",
    "\n",
    "#### Groups of 3\n",
    "\n",
    "* **Driver**: This student will type the report.  They may also be the one to select the functions to apply to the data.\n",
    "* **Navigator**: This student will guide the process of answering the question.  They may select the general approach to answering the question and/or a few steps to be completed along the way. \n",
    "* **Communicator**: This student will review the report (as it is typed) to ensure that it is clear and concise.  This student may also locate relevant examples within the course notes that may help complete the assignment.\n",
    "\n",
    "<hr>\n",
    "\n",
    "### Imports"
   ]
  },
  {
   "cell_type": "code",
   "execution_count": 1,
   "metadata": {},
   "outputs": [],
   "source": [
    "#Run this\n",
    "import pandas as pd                    # imports pandas and calls the imported version 'pd'\n",
    "import matplotlib.pyplot as plt        # imports the package and calls it 'plt'\n",
    "import seaborn as sns                  # imports the seaborn package with the imported name 'sns'\n",
    "sns.set()  \n",
    "from sklearn.linear_model import LinearRegression\n",
    "import statsmodels.formula.api as smf"
   ]
  },
  {
   "cell_type": "markdown",
   "metadata": {},
   "source": [
    "## Case Study: Car Sales Data\n",
    "\n",
    "Recall that we worked with car sales data in Lab 9.  We will continue working with this same data for this lab.  The car sales dataset contains the following variables for used cars listed for sale from cardekho.com:\n",
    "\n",
    "- **name**: the type of car for sale\n",
    "- **year**: the year in which the car was bought\n",
    "- **selling_price**: the listed selling price of the car (in rupees; currently 1 rupee = 0.012 USD)\n",
    "- **km_driven**: the total mileage of the car, in kilometers\n",
    "- **fuel**: the type of fuel needed for the car\n",
    "- **seller_type**: reports if the car is sold by an individual or a dealer\n",
    "- **transmission**: gear transmission of the car (Automatic/Manual)\n",
    "- **owner**: number of previous owners of the car\n",
    "- **mileage_kmpl**: the fuel efficiency mileage, in kilometers per Liter\n",
    "- **engine_CC**: the engine capacity of the car, in cubic centimeters\n",
    "- **max_power_bhp**: the maximum power of the engine, in brake horse power\n",
    "- **seats**: the number of seats in the car.\n",
    "\n",
    "Use the car sales dataset in this folder (car_sales.csv) to perform the following analyses.\n",
    "\n",
    "The code cell below will read in the data for you.  Be sure to run the cell. "
   ]
  },
  {
   "cell_type": "code",
   "execution_count": null,
   "metadata": {},
   "outputs": [],
   "source": [
    "df = pd.read_csv('car_sales.csv', na_values = [\"\"])\n",
    "df = df.dropna()\n",
    "df.head()"
   ]
  },
  {
   "cell_type": "markdown",
   "metadata": {},
   "source": [
    "### 1. [2 point] Fitting a Linear Model\n",
    "\n",
    "We'll aim to predict the selling price of a car.\n",
    "\n",
    "**a)** Before fitting our model, we'll set aside a portion of the data to serve as a test set.  This way, we can help to ensure that our model is not overfit to our training data, capturing too much noise that is specific to our data.\n",
    "\n",
    "To start, set aside 20% of the data (using a random_state of 358)."
   ]
  },
  {
   "cell_type": "code",
   "execution_count": null,
   "metadata": {},
   "outputs": [],
   "source": []
  },
  {
   "cell_type": "markdown",
   "metadata": {},
   "source": [
    "**b)**  For this model, select three quantitative variables and one categorical variable to serve as your four predictor variables.  \n",
    "\n",
    "Then, fit a linear model to predict the selling price of a car from your selected quantitative and categorical variables, along with an interaction between one of your quantitative variables and your categorical variable.  Be sure to fit the model with the appropriate data set."
   ]
  },
  {
   "cell_type": "code",
   "execution_count": null,
   "metadata": {},
   "outputs": [],
   "source": []
  },
  {
   "cell_type": "markdown",
   "metadata": {},
   "source": [
    "### 2. [2.5 points] Interpret Your Model\n",
    "\n",
    "We will interpret the model from Question 1 below."
   ]
  },
  {
   "cell_type": "markdown",
   "metadata": {},
   "source": [
    "**a)** What is the baseline level for the categorical variable?"
   ]
  },
  {
   "cell_type": "markdown",
   "metadata": {},
   "source": []
  },
  {
   "cell_type": "markdown",
   "metadata": {},
   "source": [
    "**b)** Write the fitted model for a specific non-baseline level of your categorical variable.  You may pick the non-baseline level that you would like to explore."
   ]
  },
  {
   "cell_type": "markdown",
   "metadata": {},
   "source": []
  },
  {
   "cell_type": "markdown",
   "metadata": {},
   "source": [
    "**c)** What is the difference in intercepts between the non-baseline level and the baseline level selected in **part b**?  What is the difference in slopes for your quantitative variable from the interaction term between the non-baseline level and the baseline level selected in **part b**?"
   ]
  },
  {
   "cell_type": "markdown",
   "metadata": {},
   "source": []
  },
  {
   "cell_type": "markdown",
   "metadata": {},
   "source": [
    "### 3. [3.5 points] Evaluate Your Model Fit\n",
    "\n",
    "For this question, we will explore if our model is appropriate for the data.\n",
    "\n",
    "**a)** First, generate a fitted vs. residual plot for the training data, which allows us to determine if a required assumption is met for the linear model to be appropriate to model the data."
   ]
  },
  {
   "cell_type": "code",
   "execution_count": null,
   "metadata": {},
   "outputs": [],
   "source": []
  },
  {
   "cell_type": "markdown",
   "metadata": {},
   "source": [
    "**b)** Based on this graph, is the model an appropriate way to represent and summarize the relationship between your chosen variables?  Explain."
   ]
  },
  {
   "cell_type": "markdown",
   "metadata": {},
   "source": []
  },
  {
   "cell_type": "markdown",
   "metadata": {},
   "source": [
    "**c)** Calculate the RMSE on your training data.  Then, calculate the RMSE on your test data."
   ]
  },
  {
   "cell_type": "code",
   "execution_count": null,
   "metadata": {},
   "outputs": [],
   "source": []
  },
  {
   "cell_type": "markdown",
   "metadata": {},
   "source": [
    "**d)** Which of the RMSEs would be the best estimate for the typical size of an error for the selling price of a car that was just posted to cardekho.com.  Briefly explain."
   ]
  },
  {
   "cell_type": "markdown",
   "metadata": {},
   "source": []
  },
  {
   "cell_type": "markdown",
   "metadata": {},
   "source": [
    "### 4. [2 points] Check for Multicollinearity\n",
    "\n",
    "**a)** Check the model for multicollinearity among the quantitative predictors in your model within your training data.  There are a couple of ways to check the model, and you may choose which to use."
   ]
  },
  {
   "cell_type": "code",
   "execution_count": null,
   "metadata": {},
   "outputs": [],
   "source": []
  },
  {
   "cell_type": "markdown",
   "metadata": {},
   "source": [
    "**b)** Based on what you see from part a, determine if or how you might want to change your model.  Briefly explain any changes that you'd like to make to the model.  No need to implement your suggested changes."
   ]
  },
  {
   "cell_type": "markdown",
   "metadata": {},
   "source": []
  }
 ],
 "metadata": {
  "kernelspec": {
   "display_name": "Python 3 (ipykernel)",
   "language": "python",
   "name": "python3"
  },
  "language_info": {
   "codemirror_mode": {
    "name": "ipython",
    "version": 3
   },
   "file_extension": ".py",
   "mimetype": "text/x-python",
   "name": "python",
   "nbconvert_exporter": "python",
   "pygments_lexer": "ipython3",
   "version": "3.8.11"
  }
 },
 "nbformat": 4,
 "nbformat_minor": 2
}

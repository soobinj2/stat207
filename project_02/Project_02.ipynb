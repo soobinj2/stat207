{
 "cells": [
  {
   "cell_type": "markdown",
   "metadata": {},
   "source": [
    "# STAT 207 Project 02 - Handheld Console Wars: Analyzing Sales Sony PSP\n",
    "\n",
    "Soobin Jang, Joonwoo Ha"
   ]
  },
  {
   "cell_type": "markdown",
   "metadata": {},
   "source": [
    "Soobin Jang(soobinj2) & Joonwoo Ha(ha47) worked together on all parts of this project.\n",
    "\n",
    "We both reviewed the full document before submission"
   ]
  },
  {
   "cell_type": "markdown",
   "metadata": {},
   "source": [
    "## 1. Introduction"
   ]
  },
  {
   "cell_type": "markdown",
   "metadata": {},
   "source": [
    "### Title\n",
    "\n",
    "Handheld Console Wars: Analyzing Sales Sony PSP"
   ]
  },
  {
   "cell_type": "markdown",
   "metadata": {},
   "source": [
    "### Dataset introduction\n",
    "\n",
    "Our dataset, video_games.csv, contains the playtime and sales of over 1000 video games launched between 2004 and 2010. The playtime data was gathered from \"How Long to Beat\" crowdsource statistics."
   ]
  },
  {
   "cell_type": "markdown",
   "metadata": {},
   "source": [
    "### Populations and sample\n",
    "\n",
    "Our data represent a sample of the video game market between 2004 and 2010. The population of interest contains all video games released globally on the Sony PSP between 2004 and 2010."
   ]
  },
  {
   "cell_type": "markdown",
   "metadata": {},
   "source": [
    "### Research question\n",
    "\n",
    "Confidence Interval Analysis: What proportion of video games in this dataset are run in Sony PSP platform? What is a reasonable range of values for the proportion of Sony PSP games in this dataset?\n",
    "\n",
    "Hypothesis Testing Analysis: Which game genres have the highest sales? Are action games and other genres much different in terms of US sales?"
   ]
  },
  {
   "cell_type": "markdown",
   "metadata": {},
   "source": [
    "### Contextual importance\n",
    "\n",
    "From our research, people especially those who are invloved in the industry of investment and game development. If Sony PSP games have a large proportion of the gaming market, it indicates a strong developer interest and vice versa. These insights can help other handheld gaming sush as Nintendo Swith and Valve Steamdeck decide to invest in the handgeld platform is worthwhile."
   ]
  },
  {
   "cell_type": "code",
   "execution_count": 1,
   "metadata": {},
   "outputs": [],
   "source": [
    "#Imports here\n",
    "\n",
    "import pandas as pd\n",
    "import matplotlib.pyplot as plt\n",
    "import seaborn as sns\n",
    "import numpy as np\n",
    "import matplotlib.pyplot as plt"
   ]
  },
  {
   "cell_type": "code",
   "execution_count": 3,
   "metadata": {},
   "outputs": [
    {
     "data": {
      "text/html": [
       "<div>\n",
       "<style scoped>\n",
       "    .dataframe tbody tr th:only-of-type {\n",
       "        vertical-align: middle;\n",
       "    }\n",
       "\n",
       "    .dataframe tbody tr th {\n",
       "        vertical-align: top;\n",
       "    }\n",
       "\n",
       "    .dataframe thead th {\n",
       "        text-align: right;\n",
       "    }\n",
       "</style>\n",
       "<table border=\"1\" class=\"dataframe\">\n",
       "  <thead>\n",
       "    <tr style=\"text-align: right;\">\n",
       "      <th></th>\n",
       "      <th>Console</th>\n",
       "      <th>Title</th>\n",
       "      <th>US Sales (millions)</th>\n",
       "      <th>Block4</th>\n",
       "      <th>Block2</th>\n",
       "      <th>Block1</th>\n",
       "      <th>Block0.5</th>\n",
       "      <th>YearReleased</th>\n",
       "      <th>2004</th>\n",
       "      <th>2005</th>\n",
       "      <th>...</th>\n",
       "      <th>Tricks</th>\n",
       "      <th>Volleyball</th>\n",
       "      <th>Wakeboarding</th>\n",
       "      <th>Wrestling</th>\n",
       "      <th>FirstPerson</th>\n",
       "      <th>Platform</th>\n",
       "      <th>Isometric</th>\n",
       "      <th>SideScrolling</th>\n",
       "      <th>TopDown</th>\n",
       "      <th>ThirdPerson</th>\n",
       "    </tr>\n",
       "  </thead>\n",
       "  <tbody>\n",
       "    <tr>\n",
       "      <th>0</th>\n",
       "      <td>Nintendo DS</td>\n",
       "      <td>Super Mario 64 DS</td>\n",
       "      <td>4.69</td>\n",
       "      <td>1</td>\n",
       "      <td>1</td>\n",
       "      <td>1</td>\n",
       "      <td>1</td>\n",
       "      <td>2004</td>\n",
       "      <td>1</td>\n",
       "      <td>0</td>\n",
       "      <td>...</td>\n",
       "      <td>0</td>\n",
       "      <td>0</td>\n",
       "      <td>0</td>\n",
       "      <td>0</td>\n",
       "      <td>0</td>\n",
       "      <td>1</td>\n",
       "      <td>0</td>\n",
       "      <td>0</td>\n",
       "      <td>0</td>\n",
       "      <td>1</td>\n",
       "    </tr>\n",
       "    <tr>\n",
       "      <th>1</th>\n",
       "      <td>Sony PSP</td>\n",
       "      <td>Lumines: Puzzle Fusion</td>\n",
       "      <td>0.56</td>\n",
       "      <td>0</td>\n",
       "      <td>0</td>\n",
       "      <td>0</td>\n",
       "      <td>1</td>\n",
       "      <td>2004</td>\n",
       "      <td>1</td>\n",
       "      <td>0</td>\n",
       "      <td>...</td>\n",
       "      <td>0</td>\n",
       "      <td>0</td>\n",
       "      <td>0</td>\n",
       "      <td>0</td>\n",
       "      <td>0</td>\n",
       "      <td>0</td>\n",
       "      <td>0</td>\n",
       "      <td>0</td>\n",
       "      <td>0</td>\n",
       "      <td>0</td>\n",
       "    </tr>\n",
       "    <tr>\n",
       "      <th>2</th>\n",
       "      <td>Nintendo DS</td>\n",
       "      <td>WarioWare Touched!</td>\n",
       "      <td>0.54</td>\n",
       "      <td>0</td>\n",
       "      <td>0</td>\n",
       "      <td>0</td>\n",
       "      <td>1</td>\n",
       "      <td>2004</td>\n",
       "      <td>1</td>\n",
       "      <td>0</td>\n",
       "      <td>...</td>\n",
       "      <td>0</td>\n",
       "      <td>0</td>\n",
       "      <td>0</td>\n",
       "      <td>0</td>\n",
       "      <td>0</td>\n",
       "      <td>1</td>\n",
       "      <td>1</td>\n",
       "      <td>1</td>\n",
       "      <td>1</td>\n",
       "      <td>1</td>\n",
       "    </tr>\n",
       "    <tr>\n",
       "      <th>3</th>\n",
       "      <td>Sony PSP</td>\n",
       "      <td>Hot Shots Golf: Open Tee</td>\n",
       "      <td>0.49</td>\n",
       "      <td>0</td>\n",
       "      <td>0</td>\n",
       "      <td>0</td>\n",
       "      <td>0</td>\n",
       "      <td>2004</td>\n",
       "      <td>1</td>\n",
       "      <td>0</td>\n",
       "      <td>...</td>\n",
       "      <td>0</td>\n",
       "      <td>0</td>\n",
       "      <td>0</td>\n",
       "      <td>0</td>\n",
       "      <td>0</td>\n",
       "      <td>0</td>\n",
       "      <td>0</td>\n",
       "      <td>0</td>\n",
       "      <td>0</td>\n",
       "      <td>1</td>\n",
       "    </tr>\n",
       "    <tr>\n",
       "      <th>4</th>\n",
       "      <td>Nintendo DS</td>\n",
       "      <td>Spider-Man 2</td>\n",
       "      <td>0.45</td>\n",
       "      <td>0</td>\n",
       "      <td>0</td>\n",
       "      <td>0</td>\n",
       "      <td>0</td>\n",
       "      <td>2004</td>\n",
       "      <td>1</td>\n",
       "      <td>0</td>\n",
       "      <td>...</td>\n",
       "      <td>0</td>\n",
       "      <td>0</td>\n",
       "      <td>0</td>\n",
       "      <td>0</td>\n",
       "      <td>0</td>\n",
       "      <td>1</td>\n",
       "      <td>0</td>\n",
       "      <td>1</td>\n",
       "      <td>0</td>\n",
       "      <td>1</td>\n",
       "    </tr>\n",
       "    <tr>\n",
       "      <th>...</th>\n",
       "      <td>...</td>\n",
       "      <td>...</td>\n",
       "      <td>...</td>\n",
       "      <td>...</td>\n",
       "      <td>...</td>\n",
       "      <td>...</td>\n",
       "      <td>...</td>\n",
       "      <td>...</td>\n",
       "      <td>...</td>\n",
       "      <td>...</td>\n",
       "      <td>...</td>\n",
       "      <td>...</td>\n",
       "      <td>...</td>\n",
       "      <td>...</td>\n",
       "      <td>...</td>\n",
       "      <td>...</td>\n",
       "      <td>...</td>\n",
       "      <td>...</td>\n",
       "      <td>...</td>\n",
       "      <td>...</td>\n",
       "      <td>...</td>\n",
       "    </tr>\n",
       "    <tr>\n",
       "      <th>1765</th>\n",
       "      <td>PlayStation 3</td>\n",
       "      <td>MotoGP 09/10</td>\n",
       "      <td>0.04</td>\n",
       "      <td>0</td>\n",
       "      <td>0</td>\n",
       "      <td>0</td>\n",
       "      <td>0</td>\n",
       "      <td>2010</td>\n",
       "      <td>0</td>\n",
       "      <td>0</td>\n",
       "      <td>...</td>\n",
       "      <td>0</td>\n",
       "      <td>0</td>\n",
       "      <td>0</td>\n",
       "      <td>0</td>\n",
       "      <td>1</td>\n",
       "      <td>0</td>\n",
       "      <td>0</td>\n",
       "      <td>0</td>\n",
       "      <td>0</td>\n",
       "      <td>1</td>\n",
       "    </tr>\n",
       "    <tr>\n",
       "      <th>1766</th>\n",
       "      <td>PlayStation 3</td>\n",
       "      <td>Prison Break: The Conspiracy</td>\n",
       "      <td>0.04</td>\n",
       "      <td>0</td>\n",
       "      <td>0</td>\n",
       "      <td>0</td>\n",
       "      <td>0</td>\n",
       "      <td>2010</td>\n",
       "      <td>0</td>\n",
       "      <td>0</td>\n",
       "      <td>...</td>\n",
       "      <td>0</td>\n",
       "      <td>0</td>\n",
       "      <td>0</td>\n",
       "      <td>0</td>\n",
       "      <td>0</td>\n",
       "      <td>0</td>\n",
       "      <td>0</td>\n",
       "      <td>0</td>\n",
       "      <td>0</td>\n",
       "      <td>1</td>\n",
       "    </tr>\n",
       "    <tr>\n",
       "      <th>1767</th>\n",
       "      <td>Nintendo Wii</td>\n",
       "      <td>Sakura Wars: So Long, My Love</td>\n",
       "      <td>0.04</td>\n",
       "      <td>0</td>\n",
       "      <td>0</td>\n",
       "      <td>0</td>\n",
       "      <td>0</td>\n",
       "      <td>2010</td>\n",
       "      <td>0</td>\n",
       "      <td>0</td>\n",
       "      <td>...</td>\n",
       "      <td>0</td>\n",
       "      <td>0</td>\n",
       "      <td>0</td>\n",
       "      <td>0</td>\n",
       "      <td>0</td>\n",
       "      <td>0</td>\n",
       "      <td>0</td>\n",
       "      <td>0</td>\n",
       "      <td>0</td>\n",
       "      <td>1</td>\n",
       "    </tr>\n",
       "    <tr>\n",
       "      <th>1768</th>\n",
       "      <td>X360</td>\n",
       "      <td>Record of Agarest War (The Really Naughty Limi...</td>\n",
       "      <td>0.04</td>\n",
       "      <td>0</td>\n",
       "      <td>0</td>\n",
       "      <td>0</td>\n",
       "      <td>0</td>\n",
       "      <td>2010</td>\n",
       "      <td>0</td>\n",
       "      <td>0</td>\n",
       "      <td>...</td>\n",
       "      <td>0</td>\n",
       "      <td>0</td>\n",
       "      <td>0</td>\n",
       "      <td>0</td>\n",
       "      <td>0</td>\n",
       "      <td>0</td>\n",
       "      <td>1</td>\n",
       "      <td>0</td>\n",
       "      <td>0</td>\n",
       "      <td>0</td>\n",
       "    </tr>\n",
       "    <tr>\n",
       "      <th>1769</th>\n",
       "      <td>Sony PSP</td>\n",
       "      <td>Metal Slug XX</td>\n",
       "      <td>0.02</td>\n",
       "      <td>0</td>\n",
       "      <td>0</td>\n",
       "      <td>0</td>\n",
       "      <td>0</td>\n",
       "      <td>2010</td>\n",
       "      <td>0</td>\n",
       "      <td>0</td>\n",
       "      <td>...</td>\n",
       "      <td>0</td>\n",
       "      <td>0</td>\n",
       "      <td>0</td>\n",
       "      <td>0</td>\n",
       "      <td>0</td>\n",
       "      <td>0</td>\n",
       "      <td>0</td>\n",
       "      <td>1</td>\n",
       "      <td>0</td>\n",
       "      <td>1</td>\n",
       "    </tr>\n",
       "  </tbody>\n",
       "</table>\n",
       "<p>1770 rows × 166 columns</p>\n",
       "</div>"
      ],
      "text/plain": [
       "            Console                                              Title  \\\n",
       "0       Nintendo DS                                  Super Mario 64 DS   \n",
       "1          Sony PSP                             Lumines: Puzzle Fusion   \n",
       "2       Nintendo DS                                 WarioWare Touched!   \n",
       "3          Sony PSP                           Hot Shots Golf: Open Tee   \n",
       "4       Nintendo DS                                       Spider-Man 2   \n",
       "...             ...                                                ...   \n",
       "1765  PlayStation 3                                       MotoGP 09/10   \n",
       "1766  PlayStation 3                       Prison Break: The Conspiracy   \n",
       "1767   Nintendo Wii                      Sakura Wars: So Long, My Love   \n",
       "1768           X360  Record of Agarest War (The Really Naughty Limi...   \n",
       "1769       Sony PSP                                      Metal Slug XX   \n",
       "\n",
       "      US Sales (millions)  Block4  Block2  Block1  Block0.5  YearReleased  \\\n",
       "0                    4.69       1       1       1         1          2004   \n",
       "1                    0.56       0       0       0         1          2004   \n",
       "2                    0.54       0       0       0         1          2004   \n",
       "3                    0.49       0       0       0         0          2004   \n",
       "4                    0.45       0       0       0         0          2004   \n",
       "...                   ...     ...     ...     ...       ...           ...   \n",
       "1765                 0.04       0       0       0         0          2010   \n",
       "1766                 0.04       0       0       0         0          2010   \n",
       "1767                 0.04       0       0       0         0          2010   \n",
       "1768                 0.04       0       0       0         0          2010   \n",
       "1769                 0.02       0       0       0         0          2010   \n",
       "\n",
       "      2004  2005  ...  Tricks  Volleyball  Wakeboarding  Wrestling  \\\n",
       "0        1     0  ...       0           0             0          0   \n",
       "1        1     0  ...       0           0             0          0   \n",
       "2        1     0  ...       0           0             0          0   \n",
       "3        1     0  ...       0           0             0          0   \n",
       "4        1     0  ...       0           0             0          0   \n",
       "...    ...   ...  ...     ...         ...           ...        ...   \n",
       "1765     0     0  ...       0           0             0          0   \n",
       "1766     0     0  ...       0           0             0          0   \n",
       "1767     0     0  ...       0           0             0          0   \n",
       "1768     0     0  ...       0           0             0          0   \n",
       "1769     0     0  ...       0           0             0          0   \n",
       "\n",
       "      FirstPerson  Platform Isometric SideScrolling  TopDown  ThirdPerson  \n",
       "0               0         1         0             0        0            1  \n",
       "1               0         0         0             0        0            0  \n",
       "2               0         1         1             1        1            1  \n",
       "3               0         0         0             0        0            1  \n",
       "4               0         1         0             1        0            1  \n",
       "...           ...       ...       ...           ...      ...          ...  \n",
       "1765            1         0         0             0        0            1  \n",
       "1766            0         0         0             0        0            1  \n",
       "1767            0         0         0             0        0            1  \n",
       "1768            0         0         1             0        0            0  \n",
       "1769            0         0         0             1        0            1  \n",
       "\n",
       "[1770 rows x 166 columns]"
      ]
     },
     "execution_count": 3,
     "metadata": {},
     "output_type": "execute_result"
    }
   ],
   "source": [
    "df = pd.read_csv(\"video_games.csv\", encoding = \"unicode-escape\")\n",
    "df"
   ]
  },
  {
   "cell_type": "markdown",
   "metadata": {},
   "source": [
    "## 2. Confidence Interval Analytical Tasks"
   ]
  },
  {
   "cell_type": "markdown",
   "metadata": {},
   "source": [
    "### Research Question\n",
    "\n",
    "What proportion of video games in this dataset are run in Sony PSP platform? What is a reasonable range of values for the proportion of Sony PSP games in this dataset?"
   ]
  },
  {
   "cell_type": "markdown",
   "metadata": {},
   "source": [
    "### Dataset Cleaning"
   ]
  },
  {
   "cell_type": "code",
   "execution_count": 4,
   "metadata": {},
   "outputs": [
    {
     "data": {
      "text/plain": [
       "0"
      ]
     },
     "execution_count": 4,
     "metadata": {},
     "output_type": "execute_result"
    }
   ],
   "source": [
    "df['Console'].isna().sum()"
   ]
  },
  {
   "cell_type": "code",
   "execution_count": 5,
   "metadata": {},
   "outputs": [
    {
     "data": {
      "text/plain": [
       "array(['Nintendo DS', 'Sony PSP', 'X360', 'Nintendo Wii', 'PlayStation 3'],\n",
       "      dtype=object)"
      ]
     },
     "execution_count": 5,
     "metadata": {},
     "output_type": "execute_result"
    }
   ],
   "source": [
    "df['Console'].unique()"
   ]
  },
  {
   "cell_type": "code",
   "execution_count": 11,
   "metadata": {},
   "outputs": [
    {
     "data": {
      "text/html": [
       "<div>\n",
       "<style scoped>\n",
       "    .dataframe tbody tr th:only-of-type {\n",
       "        vertical-align: middle;\n",
       "    }\n",
       "\n",
       "    .dataframe tbody tr th {\n",
       "        vertical-align: top;\n",
       "    }\n",
       "\n",
       "    .dataframe thead th {\n",
       "        text-align: right;\n",
       "    }\n",
       "</style>\n",
       "<table border=\"1\" class=\"dataframe\">\n",
       "  <thead>\n",
       "    <tr style=\"text-align: right;\">\n",
       "      <th></th>\n",
       "      <th>Console</th>\n",
       "      <th>Title</th>\n",
       "      <th>US Sales (millions)</th>\n",
       "      <th>Block4</th>\n",
       "      <th>Block2</th>\n",
       "      <th>Block1</th>\n",
       "      <th>Block0.5</th>\n",
       "      <th>YearReleased</th>\n",
       "      <th>2004</th>\n",
       "      <th>2005</th>\n",
       "      <th>...</th>\n",
       "      <th>Volleyball</th>\n",
       "      <th>Wakeboarding</th>\n",
       "      <th>Wrestling</th>\n",
       "      <th>FirstPerson</th>\n",
       "      <th>Platform</th>\n",
       "      <th>Isometric</th>\n",
       "      <th>SideScrolling</th>\n",
       "      <th>TopDown</th>\n",
       "      <th>ThirdPerson</th>\n",
       "      <th>Is_Sony_PSP</th>\n",
       "    </tr>\n",
       "  </thead>\n",
       "  <tbody>\n",
       "    <tr>\n",
       "      <th>0</th>\n",
       "      <td>Nintendo DS</td>\n",
       "      <td>Super Mario 64 DS</td>\n",
       "      <td>4.69</td>\n",
       "      <td>1</td>\n",
       "      <td>1</td>\n",
       "      <td>1</td>\n",
       "      <td>1</td>\n",
       "      <td>2004</td>\n",
       "      <td>1</td>\n",
       "      <td>0</td>\n",
       "      <td>...</td>\n",
       "      <td>0</td>\n",
       "      <td>0</td>\n",
       "      <td>0</td>\n",
       "      <td>0</td>\n",
       "      <td>1</td>\n",
       "      <td>0</td>\n",
       "      <td>0</td>\n",
       "      <td>0</td>\n",
       "      <td>1</td>\n",
       "      <td>False</td>\n",
       "    </tr>\n",
       "    <tr>\n",
       "      <th>1</th>\n",
       "      <td>Sony PSP</td>\n",
       "      <td>Lumines: Puzzle Fusion</td>\n",
       "      <td>0.56</td>\n",
       "      <td>0</td>\n",
       "      <td>0</td>\n",
       "      <td>0</td>\n",
       "      <td>1</td>\n",
       "      <td>2004</td>\n",
       "      <td>1</td>\n",
       "      <td>0</td>\n",
       "      <td>...</td>\n",
       "      <td>0</td>\n",
       "      <td>0</td>\n",
       "      <td>0</td>\n",
       "      <td>0</td>\n",
       "      <td>0</td>\n",
       "      <td>0</td>\n",
       "      <td>0</td>\n",
       "      <td>0</td>\n",
       "      <td>0</td>\n",
       "      <td>True</td>\n",
       "    </tr>\n",
       "    <tr>\n",
       "      <th>2</th>\n",
       "      <td>Nintendo DS</td>\n",
       "      <td>WarioWare Touched!</td>\n",
       "      <td>0.54</td>\n",
       "      <td>0</td>\n",
       "      <td>0</td>\n",
       "      <td>0</td>\n",
       "      <td>1</td>\n",
       "      <td>2004</td>\n",
       "      <td>1</td>\n",
       "      <td>0</td>\n",
       "      <td>...</td>\n",
       "      <td>0</td>\n",
       "      <td>0</td>\n",
       "      <td>0</td>\n",
       "      <td>0</td>\n",
       "      <td>1</td>\n",
       "      <td>1</td>\n",
       "      <td>1</td>\n",
       "      <td>1</td>\n",
       "      <td>1</td>\n",
       "      <td>False</td>\n",
       "    </tr>\n",
       "    <tr>\n",
       "      <th>3</th>\n",
       "      <td>Sony PSP</td>\n",
       "      <td>Hot Shots Golf: Open Tee</td>\n",
       "      <td>0.49</td>\n",
       "      <td>0</td>\n",
       "      <td>0</td>\n",
       "      <td>0</td>\n",
       "      <td>0</td>\n",
       "      <td>2004</td>\n",
       "      <td>1</td>\n",
       "      <td>0</td>\n",
       "      <td>...</td>\n",
       "      <td>0</td>\n",
       "      <td>0</td>\n",
       "      <td>0</td>\n",
       "      <td>0</td>\n",
       "      <td>0</td>\n",
       "      <td>0</td>\n",
       "      <td>0</td>\n",
       "      <td>0</td>\n",
       "      <td>1</td>\n",
       "      <td>True</td>\n",
       "    </tr>\n",
       "    <tr>\n",
       "      <th>4</th>\n",
       "      <td>Nintendo DS</td>\n",
       "      <td>Spider-Man 2</td>\n",
       "      <td>0.45</td>\n",
       "      <td>0</td>\n",
       "      <td>0</td>\n",
       "      <td>0</td>\n",
       "      <td>0</td>\n",
       "      <td>2004</td>\n",
       "      <td>1</td>\n",
       "      <td>0</td>\n",
       "      <td>...</td>\n",
       "      <td>0</td>\n",
       "      <td>0</td>\n",
       "      <td>0</td>\n",
       "      <td>0</td>\n",
       "      <td>1</td>\n",
       "      <td>0</td>\n",
       "      <td>1</td>\n",
       "      <td>0</td>\n",
       "      <td>1</td>\n",
       "      <td>False</td>\n",
       "    </tr>\n",
       "    <tr>\n",
       "      <th>...</th>\n",
       "      <td>...</td>\n",
       "      <td>...</td>\n",
       "      <td>...</td>\n",
       "      <td>...</td>\n",
       "      <td>...</td>\n",
       "      <td>...</td>\n",
       "      <td>...</td>\n",
       "      <td>...</td>\n",
       "      <td>...</td>\n",
       "      <td>...</td>\n",
       "      <td>...</td>\n",
       "      <td>...</td>\n",
       "      <td>...</td>\n",
       "      <td>...</td>\n",
       "      <td>...</td>\n",
       "      <td>...</td>\n",
       "      <td>...</td>\n",
       "      <td>...</td>\n",
       "      <td>...</td>\n",
       "      <td>...</td>\n",
       "      <td>...</td>\n",
       "    </tr>\n",
       "    <tr>\n",
       "      <th>1765</th>\n",
       "      <td>PlayStation 3</td>\n",
       "      <td>MotoGP 09/10</td>\n",
       "      <td>0.04</td>\n",
       "      <td>0</td>\n",
       "      <td>0</td>\n",
       "      <td>0</td>\n",
       "      <td>0</td>\n",
       "      <td>2010</td>\n",
       "      <td>0</td>\n",
       "      <td>0</td>\n",
       "      <td>...</td>\n",
       "      <td>0</td>\n",
       "      <td>0</td>\n",
       "      <td>0</td>\n",
       "      <td>1</td>\n",
       "      <td>0</td>\n",
       "      <td>0</td>\n",
       "      <td>0</td>\n",
       "      <td>0</td>\n",
       "      <td>1</td>\n",
       "      <td>False</td>\n",
       "    </tr>\n",
       "    <tr>\n",
       "      <th>1766</th>\n",
       "      <td>PlayStation 3</td>\n",
       "      <td>Prison Break: The Conspiracy</td>\n",
       "      <td>0.04</td>\n",
       "      <td>0</td>\n",
       "      <td>0</td>\n",
       "      <td>0</td>\n",
       "      <td>0</td>\n",
       "      <td>2010</td>\n",
       "      <td>0</td>\n",
       "      <td>0</td>\n",
       "      <td>...</td>\n",
       "      <td>0</td>\n",
       "      <td>0</td>\n",
       "      <td>0</td>\n",
       "      <td>0</td>\n",
       "      <td>0</td>\n",
       "      <td>0</td>\n",
       "      <td>0</td>\n",
       "      <td>0</td>\n",
       "      <td>1</td>\n",
       "      <td>False</td>\n",
       "    </tr>\n",
       "    <tr>\n",
       "      <th>1767</th>\n",
       "      <td>Nintendo Wii</td>\n",
       "      <td>Sakura Wars: So Long, My Love</td>\n",
       "      <td>0.04</td>\n",
       "      <td>0</td>\n",
       "      <td>0</td>\n",
       "      <td>0</td>\n",
       "      <td>0</td>\n",
       "      <td>2010</td>\n",
       "      <td>0</td>\n",
       "      <td>0</td>\n",
       "      <td>...</td>\n",
       "      <td>0</td>\n",
       "      <td>0</td>\n",
       "      <td>0</td>\n",
       "      <td>0</td>\n",
       "      <td>0</td>\n",
       "      <td>0</td>\n",
       "      <td>0</td>\n",
       "      <td>0</td>\n",
       "      <td>1</td>\n",
       "      <td>False</td>\n",
       "    </tr>\n",
       "    <tr>\n",
       "      <th>1768</th>\n",
       "      <td>X360</td>\n",
       "      <td>Record of Agarest War (The Really Naughty Limi...</td>\n",
       "      <td>0.04</td>\n",
       "      <td>0</td>\n",
       "      <td>0</td>\n",
       "      <td>0</td>\n",
       "      <td>0</td>\n",
       "      <td>2010</td>\n",
       "      <td>0</td>\n",
       "      <td>0</td>\n",
       "      <td>...</td>\n",
       "      <td>0</td>\n",
       "      <td>0</td>\n",
       "      <td>0</td>\n",
       "      <td>0</td>\n",
       "      <td>0</td>\n",
       "      <td>1</td>\n",
       "      <td>0</td>\n",
       "      <td>0</td>\n",
       "      <td>0</td>\n",
       "      <td>False</td>\n",
       "    </tr>\n",
       "    <tr>\n",
       "      <th>1769</th>\n",
       "      <td>Sony PSP</td>\n",
       "      <td>Metal Slug XX</td>\n",
       "      <td>0.02</td>\n",
       "      <td>0</td>\n",
       "      <td>0</td>\n",
       "      <td>0</td>\n",
       "      <td>0</td>\n",
       "      <td>2010</td>\n",
       "      <td>0</td>\n",
       "      <td>0</td>\n",
       "      <td>...</td>\n",
       "      <td>0</td>\n",
       "      <td>0</td>\n",
       "      <td>0</td>\n",
       "      <td>0</td>\n",
       "      <td>0</td>\n",
       "      <td>0</td>\n",
       "      <td>1</td>\n",
       "      <td>0</td>\n",
       "      <td>1</td>\n",
       "      <td>True</td>\n",
       "    </tr>\n",
       "  </tbody>\n",
       "</table>\n",
       "<p>1770 rows × 167 columns</p>\n",
       "</div>"
      ],
      "text/plain": [
       "            Console                                              Title  \\\n",
       "0       Nintendo DS                                  Super Mario 64 DS   \n",
       "1          Sony PSP                             Lumines: Puzzle Fusion   \n",
       "2       Nintendo DS                                 WarioWare Touched!   \n",
       "3          Sony PSP                           Hot Shots Golf: Open Tee   \n",
       "4       Nintendo DS                                       Spider-Man 2   \n",
       "...             ...                                                ...   \n",
       "1765  PlayStation 3                                       MotoGP 09/10   \n",
       "1766  PlayStation 3                       Prison Break: The Conspiracy   \n",
       "1767   Nintendo Wii                      Sakura Wars: So Long, My Love   \n",
       "1768           X360  Record of Agarest War (The Really Naughty Limi...   \n",
       "1769       Sony PSP                                      Metal Slug XX   \n",
       "\n",
       "      US Sales (millions)  Block4  Block2  Block1  Block0.5  YearReleased  \\\n",
       "0                    4.69       1       1       1         1          2004   \n",
       "1                    0.56       0       0       0         1          2004   \n",
       "2                    0.54       0       0       0         1          2004   \n",
       "3                    0.49       0       0       0         0          2004   \n",
       "4                    0.45       0       0       0         0          2004   \n",
       "...                   ...     ...     ...     ...       ...           ...   \n",
       "1765                 0.04       0       0       0         0          2010   \n",
       "1766                 0.04       0       0       0         0          2010   \n",
       "1767                 0.04       0       0       0         0          2010   \n",
       "1768                 0.04       0       0       0         0          2010   \n",
       "1769                 0.02       0       0       0         0          2010   \n",
       "\n",
       "      2004  2005  ...  Volleyball  Wakeboarding  Wrestling  FirstPerson  \\\n",
       "0        1     0  ...           0             0          0            0   \n",
       "1        1     0  ...           0             0          0            0   \n",
       "2        1     0  ...           0             0          0            0   \n",
       "3        1     0  ...           0             0          0            0   \n",
       "4        1     0  ...           0             0          0            0   \n",
       "...    ...   ...  ...         ...           ...        ...          ...   \n",
       "1765     0     0  ...           0             0          0            1   \n",
       "1766     0     0  ...           0             0          0            0   \n",
       "1767     0     0  ...           0             0          0            0   \n",
       "1768     0     0  ...           0             0          0            0   \n",
       "1769     0     0  ...           0             0          0            0   \n",
       "\n",
       "      Platform  Isometric SideScrolling TopDown  ThirdPerson  Is_Sony_PSP  \n",
       "0            1          0             0       0            1        False  \n",
       "1            0          0             0       0            0         True  \n",
       "2            1          1             1       1            1        False  \n",
       "3            0          0             0       0            1         True  \n",
       "4            1          0             1       0            1        False  \n",
       "...        ...        ...           ...     ...          ...          ...  \n",
       "1765         0          0             0       0            1        False  \n",
       "1766         0          0             0       0            1        False  \n",
       "1767         0          0             0       0            1        False  \n",
       "1768         0          1             0       0            0        False  \n",
       "1769         0          0             1       0            1         True  \n",
       "\n",
       "[1770 rows x 167 columns]"
      ]
     },
     "execution_count": 11,
     "metadata": {},
     "output_type": "execute_result"
    }
   ],
   "source": [
    "df['Is_Sony_PSP'] = df['Console'] == 'Sony PSP'\n",
    "df"
   ]
  },
  {
   "cell_type": "code",
   "execution_count": 12,
   "metadata": {},
   "outputs": [
    {
     "data": {
      "text/plain": [
       "0.17344632768361581"
      ]
     },
     "execution_count": 12,
     "metadata": {},
     "output_type": "execute_result"
    }
   ],
   "source": [
    "proportion_psp = df['Is_Sony_PSP'].mean()\n",
    "proportion_psp"
   ]
  },
  {
   "cell_type": "markdown",
   "metadata": {},
   "source": [
    "### Descriptive Analysis"
   ]
  },
  {
   "cell_type": "code",
   "execution_count": 8,
   "metadata": {},
   "outputs": [
    {
     "data": {
      "text/plain": [
       "(1770, 166)"
      ]
     },
     "execution_count": 8,
     "metadata": {},
     "output_type": "execute_result"
    }
   ],
   "source": [
    "df.shape"
   ]
  },
  {
   "cell_type": "code",
   "execution_count": 13,
   "metadata": {},
   "outputs": [
    {
     "data": {
      "text/plain": [
       "Console\n",
       "X360             437\n",
       "Nintendo DS      418\n",
       "PlayStation 3    312\n",
       "Sony PSP         307\n",
       "Nintendo Wii     296\n",
       "Name: count, dtype: int64"
      ]
     },
     "execution_count": 13,
     "metadata": {},
     "output_type": "execute_result"
    }
   ],
   "source": [
    "console_count = df['Console'].value_counts()\n",
    "console_count"
   ]
  },
  {
   "cell_type": "code",
   "execution_count": 14,
   "metadata": {},
   "outputs": [
    {
     "data": {
      "text/plain": [
       "Console\n",
       "X360             24.689266\n",
       "Nintendo DS      23.615819\n",
       "PlayStation 3    17.627119\n",
       "Sony PSP         17.344633\n",
       "Nintendo Wii     16.723164\n",
       "Name: proportion, dtype: float64"
      ]
     },
     "execution_count": 14,
     "metadata": {},
     "output_type": "execute_result"
    }
   ],
   "source": [
    "console_prop = df['Console'].value_counts(normalize=True) * 100\n",
    "console_prop"
   ]
  },
  {
   "cell_type": "markdown",
   "metadata": {},
   "source": [
    "### Confidence Level"
   ]
  },
  {
   "cell_type": "code",
   "execution_count": 15,
   "metadata": {},
   "outputs": [
    {
     "data": {
      "text/html": [
       "<div>\n",
       "<style scoped>\n",
       "    .dataframe tbody tr th:only-of-type {\n",
       "        vertical-align: middle;\n",
       "    }\n",
       "\n",
       "    .dataframe tbody tr th {\n",
       "        vertical-align: top;\n",
       "    }\n",
       "\n",
       "    .dataframe thead th {\n",
       "        text-align: right;\n",
       "    }\n",
       "</style>\n",
       "<table border=\"1\" class=\"dataframe\">\n",
       "  <thead>\n",
       "    <tr style=\"text-align: right;\">\n",
       "      <th></th>\n",
       "      <th>x</th>\n",
       "    </tr>\n",
       "  </thead>\n",
       "  <tbody>\n",
       "    <tr>\n",
       "      <th>0</th>\n",
       "      <td>0.162</td>\n",
       "    </tr>\n",
       "    <tr>\n",
       "      <th>1</th>\n",
       "      <td>0.152</td>\n",
       "    </tr>\n",
       "    <tr>\n",
       "      <th>2</th>\n",
       "      <td>0.162</td>\n",
       "    </tr>\n",
       "    <tr>\n",
       "      <th>3</th>\n",
       "      <td>0.174</td>\n",
       "    </tr>\n",
       "    <tr>\n",
       "      <th>4</th>\n",
       "      <td>0.182</td>\n",
       "    </tr>\n",
       "    <tr>\n",
       "      <th>...</th>\n",
       "      <td>...</td>\n",
       "    </tr>\n",
       "    <tr>\n",
       "      <th>4995</th>\n",
       "      <td>0.184</td>\n",
       "    </tr>\n",
       "    <tr>\n",
       "      <th>4996</th>\n",
       "      <td>0.168</td>\n",
       "    </tr>\n",
       "    <tr>\n",
       "      <th>4997</th>\n",
       "      <td>0.210</td>\n",
       "    </tr>\n",
       "    <tr>\n",
       "      <th>4998</th>\n",
       "      <td>0.180</td>\n",
       "    </tr>\n",
       "    <tr>\n",
       "      <th>4999</th>\n",
       "      <td>0.180</td>\n",
       "    </tr>\n",
       "  </tbody>\n",
       "</table>\n",
       "<p>5000 rows × 1 columns</p>\n",
       "</div>"
      ],
      "text/plain": [
       "          x\n",
       "0     0.162\n",
       "1     0.152\n",
       "2     0.162\n",
       "3     0.174\n",
       "4     0.182\n",
       "...     ...\n",
       "4995  0.184\n",
       "4996  0.168\n",
       "4997  0.210\n",
       "4998  0.180\n",
       "4999  0.180\n",
       "\n",
       "[5000 rows x 1 columns]"
      ]
     },
     "execution_count": 15,
     "metadata": {},
     "output_type": "execute_result"
    }
   ],
   "source": [
    "proportion_data = []\n",
    "\n",
    "for i in range(5000):  \n",
    "    random_sample = df.sample(500, replace=True)\n",
    "    proportion_sony_psp = (random_sample['Console'] == 'Sony PSP').mean()\n",
    "    proportion_data.append(proportion_sony_psp)\n",
    "df_prop_sample = pd.DataFrame({\"x\": proportion_data})\n",
    "\n",
    "df_prop_sample\n"
   ]
  },
  {
   "cell_type": "code",
   "execution_count": 16,
   "metadata": {},
   "outputs": [
    {
     "data": {
      "text/plain": [
       "(0.142, 0.208)"
      ]
     },
     "execution_count": 16,
     "metadata": {},
     "output_type": "execute_result"
    }
   ],
   "source": [
    "confidence_level = 0.95\n",
    "\n",
    "a = 1 - confidence_level\n",
    "\n",
    "lower_bound = np.percentile(df_prop_sample, a/2 * 100)\n",
    "\n",
    "upper_bound = np.percentile(df_prop_sample, (1 - a/2) * 100)\n",
    "\n",
    "lower_bound, upper_bound"
   ]
  },
  {
   "cell_type": "markdown",
   "metadata": {},
   "source": [
    "### Interpret Confidence interval & Confidence level\n",
    "\n",
    "The 95% confidence interval (CI) for the proportion of Sony PSP games in the dataset is (0.142, 0.208), meaning we are 95% confident that the true proportion of Sony PSP games in the broader population falls within this range. This indicates that if we were to repeatedly draw random samples and compute confidence intervals, 95% of those intervals would contain the true population proportion. The confidence level of 95% reflects the reliability of this estimate, implying that there is still a 5% chance that this specific interval does not include the true proportion. This uncertainty arises because confidence intervals are based on sample data rather than the full population. The interval suggests that Sony PSP games make up approximately 14.2% to 20.8% of all handheld video games in the broader population. Since this confidence interval does not overlap with extremely high proportions, we can infer that Sony PSP games represent a moderate but not dominant share of handheld games. While confidence intervals provide a statistically sound estimate, they do not guarantee the exact proportion in the population but rather give a likely range based on the data."
   ]
  },
  {
   "cell_type": "markdown",
   "metadata": {},
   "source": [
    "## 3. Hypothesis Testing Analytical Tasks"
   ]
  },
  {
   "cell_type": "markdown",
   "metadata": {},
   "source": [
    "### Research question\n",
    "\n",
    "Which game genres have the highest sales? Are action games and other genres much different in terms of US sales?"
   ]
  },
  {
   "cell_type": "markdown",
   "metadata": {},
   "source": [
    "### Dataset cleaning"
   ]
  },
  {
   "cell_type": "code",
   "execution_count": 17,
   "metadata": {},
   "outputs": [
    {
     "data": {
      "text/plain": [
       "Genre                  0\n",
       "US Sales (millions)    0\n",
       "dtype: int64"
      ]
     },
     "execution_count": 17,
     "metadata": {},
     "output_type": "execute_result"
    }
   ],
   "source": [
    "sales_df = df[['Genre', 'US Sales (millions)']]\n",
    "\n",
    "missing_val = sales_df.isna().sum()\n",
    "missing_val"
   ]
  },
  {
   "cell_type": "code",
   "execution_count": 18,
   "metadata": {},
   "outputs": [
    {
     "data": {
      "text/html": [
       "<div>\n",
       "<style scoped>\n",
       "    .dataframe tbody tr th:only-of-type {\n",
       "        vertical-align: middle;\n",
       "    }\n",
       "\n",
       "    .dataframe tbody tr th {\n",
       "        vertical-align: top;\n",
       "    }\n",
       "\n",
       "    .dataframe thead th {\n",
       "        text-align: right;\n",
       "    }\n",
       "</style>\n",
       "<table border=\"1\" class=\"dataframe\">\n",
       "  <thead>\n",
       "    <tr style=\"text-align: right;\">\n",
       "      <th></th>\n",
       "      <th>Genre</th>\n",
       "      <th>US Sales (millions)</th>\n",
       "    </tr>\n",
       "  </thead>\n",
       "  <tbody>\n",
       "    <tr>\n",
       "      <th>0</th>\n",
       "      <td>Action</td>\n",
       "      <td>4.69</td>\n",
       "    </tr>\n",
       "    <tr>\n",
       "      <th>1</th>\n",
       "      <td>Strategy</td>\n",
       "      <td>0.56</td>\n",
       "    </tr>\n",
       "    <tr>\n",
       "      <th>2</th>\n",
       "      <td>Action, Racing / Driving, Sports</td>\n",
       "      <td>0.54</td>\n",
       "    </tr>\n",
       "    <tr>\n",
       "      <th>3</th>\n",
       "      <td>Sports</td>\n",
       "      <td>0.49</td>\n",
       "    </tr>\n",
       "    <tr>\n",
       "      <th>4</th>\n",
       "      <td>Action</td>\n",
       "      <td>0.45</td>\n",
       "    </tr>\n",
       "    <tr>\n",
       "      <th>...</th>\n",
       "      <td>...</td>\n",
       "      <td>...</td>\n",
       "    </tr>\n",
       "    <tr>\n",
       "      <th>1765</th>\n",
       "      <td>Racing / Driving</td>\n",
       "      <td>0.04</td>\n",
       "    </tr>\n",
       "    <tr>\n",
       "      <th>1766</th>\n",
       "      <td>Action</td>\n",
       "      <td>0.04</td>\n",
       "    </tr>\n",
       "    <tr>\n",
       "      <th>1767</th>\n",
       "      <td>Adventure, Strategy</td>\n",
       "      <td>0.04</td>\n",
       "    </tr>\n",
       "    <tr>\n",
       "      <th>1768</th>\n",
       "      <td>Role-Playing (RPG), Strategy</td>\n",
       "      <td>0.04</td>\n",
       "    </tr>\n",
       "    <tr>\n",
       "      <th>1769</th>\n",
       "      <td>Action</td>\n",
       "      <td>0.02</td>\n",
       "    </tr>\n",
       "  </tbody>\n",
       "</table>\n",
       "<p>1770 rows × 2 columns</p>\n",
       "</div>"
      ],
      "text/plain": [
       "                                 Genre  US Sales (millions)\n",
       "0                               Action                 4.69\n",
       "1                             Strategy                 0.56\n",
       "2     Action, Racing / Driving, Sports                 0.54\n",
       "3                               Sports                 0.49\n",
       "4                               Action                 0.45\n",
       "...                                ...                  ...\n",
       "1765                  Racing / Driving                 0.04\n",
       "1766                            Action                 0.04\n",
       "1767               Adventure, Strategy                 0.04\n",
       "1768      Role-Playing (RPG), Strategy                 0.04\n",
       "1769                            Action                 0.02\n",
       "\n",
       "[1770 rows x 2 columns]"
      ]
     },
     "execution_count": 18,
     "metadata": {},
     "output_type": "execute_result"
    }
   ],
   "source": [
    "sales_df_clean = sales_df.dropna()\n",
    "sales_df_clean = sales_df_clean[sales_df_clean['US Sales (millions)'] > 0]\n",
    "\n",
    "sales_df_clean"
   ]
  },
  {
   "cell_type": "markdown",
   "metadata": {},
   "source": [
    "### Descriptive analytics"
   ]
  },
  {
   "cell_type": "code",
   "execution_count": 19,
   "metadata": {},
   "outputs": [
    {
     "data": {
      "text/plain": [
       "0.47978531073446323"
      ]
     },
     "execution_count": 19,
     "metadata": {},
     "output_type": "execute_result"
    }
   ],
   "source": [
    "sales_mean = sales_df_clean['US Sales (millions)'].mean()\n",
    "sales_mean"
   ]
  },
  {
   "cell_type": "code",
   "execution_count": 20,
   "metadata": {},
   "outputs": [
    {
     "data": {
      "text/plain": [
       "0.19"
      ]
     },
     "execution_count": 20,
     "metadata": {},
     "output_type": "execute_result"
    }
   ],
   "source": [
    "sales_median = sales_df_clean['US Sales (millions)'].median()\n",
    "sales_median"
   ]
  },
  {
   "cell_type": "code",
   "execution_count": 21,
   "metadata": {},
   "outputs": [
    {
     "data": {
      "text/plain": [
       "1.0649147234595189"
      ]
     },
     "execution_count": 21,
     "metadata": {},
     "output_type": "execute_result"
    }
   ],
   "source": [
    "sales_std = sales_df_clean['US Sales (millions)'].std()\n",
    "sales_std"
   ]
  },
  {
   "cell_type": "code",
   "execution_count": 23,
   "metadata": {},
   "outputs": [
    {
     "data": {
      "image/png": "[encoded data removed]",
      "text/plain": [
       "<Figure size 1000x600 with 1 Axes>"
      ]
     },
     "metadata": {},
     "output_type": "display_data"
    }
   ],
   "source": [
    "plt.figure(figsize=(10, 6))\n",
    "sns.boxplot(x='Genre', y='US Sales (millions)', data=sales_df_clean)\n",
    "plt.title('US Sales distribtion using Genre')\n",
    "plt.xticks(rotation=90)\n",
    "\n",
    "plt.show()"
   ]
  },
  {
   "cell_type": "code",
   "execution_count": 26,
   "metadata": {},
   "outputs": [
    {
     "data": {
      "image/png": "[encoded data removed]",
      "text/plain": [
       "<Figure size 1000x600 with 1 Axes>"
      ]
     },
     "metadata": {},
     "output_type": "display_data"
    }
   ],
   "source": [
    "plt.figure(figsize=(10, 6))\n",
    "sns.histplot(sales_df_clean['US Sales (millions)'], bins=20, kde = True)\n",
    "plt.title('Histogram of US Sales (millions)')\n",
    "plt.xlabel('US Sales (millions)')\n",
    "plt.ylabel('Frequency')\n",
    "\n",
    "plt.show()"
   ]
  },
  {
   "cell_type": "markdown",
   "metadata": {},
   "source": [
    "### Hypothesis Test\n",
    "\n",
    "This analysis aims to investigate whether the median US sales of Nintendo DS games differ from the median US sales of Sony PSP games.\n",
    "\n",
    "Null Hypothesis (H0): The median US sales of Nintendo DS games are equal to the median US sales of Sony PSP games.\n",
    "Alternative Hypothesis (H1): The median US sales of Nintendo DS games are different from the median US sales of Sony PSP games.\n",
    "\n",
    "By testing this hypothesis, we seek to determine whether console type significantly impacts the commercial success of a game in the US market. The focus on these two platforms is due to their prominence in the handheld gaming industry during their time.\n",
    "\n"
   ]
  },
  {
   "cell_type": "markdown",
   "metadata": {},
   "source": [
    "### Significance Level\n",
    "\n",
    "Our significance level of this test is 0.05."
   ]
  },
  {
   "cell_type": "markdown",
   "metadata": {},
   "source": [
    "### Conditions\n",
    "\n",
    "The test must compare the same population parameter, which in this case is the median US sales of Nintendo DS and Sony PSP games. The null hypothesis should assume no difference, while the alternative hypothesis should suggest a difference in medians. Observations must be independent, meaning that each game’s sales figures should not influence another game’s sales.\n",
    "The sample should be randomly selected and representative of the population, which is reasonably satisfied as the dataset includes a diverse collection of video games from both consoles.\n",
    "By meeting these conditions, we can confidently conduct the hypothesis test to examine whether there is a significant difference in sales performance between Nintendo DS and Sony PSP games."
   ]
  },
  {
   "cell_type": "code",
   "execution_count": 28,
   "metadata": {},
   "outputs": [],
   "source": [
    "df_action = sales_df_clean[sales_df_clean[\"Genre\"] == \"Action\"]\n",
    "\n",
    "df_others = sales_df_clean[sales_df_clean[\"Genre\"] != \"Action\"]"
   ]
  },
  {
   "cell_type": "code",
   "execution_count": 29,
   "metadata": {},
   "outputs": [
    {
     "data": {
      "text/plain": [
       "0.04000000000000001"
      ]
     },
     "execution_count": 29,
     "metadata": {},
     "output_type": "execute_result"
    }
   ],
   "source": [
    "df_difference = df_action[\"US Sales (millions)\"].median() - df_others[\"US Sales (millions)\"].median()\n",
    "\n",
    "df_difference"
   ]
  },
  {
   "cell_type": "code",
   "execution_count": 32,
   "metadata": {},
   "outputs": [
    {
     "data": {
      "text/html": [
       "<div>\n",
       "<style scoped>\n",
       "    .dataframe tbody tr th:only-of-type {\n",
       "        vertical-align: middle;\n",
       "    }\n",
       "\n",
       "    .dataframe tbody tr th {\n",
       "        vertical-align: top;\n",
       "    }\n",
       "\n",
       "    .dataframe thead th {\n",
       "        text-align: right;\n",
       "    }\n",
       "</style>\n",
       "<table border=\"1\" class=\"dataframe\">\n",
       "  <thead>\n",
       "    <tr style=\"text-align: right;\">\n",
       "      <th></th>\n",
       "      <th>x</th>\n",
       "    </tr>\n",
       "  </thead>\n",
       "  <tbody>\n",
       "    <tr>\n",
       "      <th>0</th>\n",
       "      <td>0.040</td>\n",
       "    </tr>\n",
       "    <tr>\n",
       "      <th>1</th>\n",
       "      <td>0.060</td>\n",
       "    </tr>\n",
       "    <tr>\n",
       "      <th>2</th>\n",
       "      <td>0.060</td>\n",
       "    </tr>\n",
       "    <tr>\n",
       "      <th>3</th>\n",
       "      <td>0.055</td>\n",
       "    </tr>\n",
       "    <tr>\n",
       "      <th>4</th>\n",
       "      <td>0.065</td>\n",
       "    </tr>\n",
       "    <tr>\n",
       "      <th>...</th>\n",
       "      <td>...</td>\n",
       "    </tr>\n",
       "    <tr>\n",
       "      <th>4995</th>\n",
       "      <td>0.035</td>\n",
       "    </tr>\n",
       "    <tr>\n",
       "      <th>4996</th>\n",
       "      <td>0.050</td>\n",
       "    </tr>\n",
       "    <tr>\n",
       "      <th>4997</th>\n",
       "      <td>0.020</td>\n",
       "    </tr>\n",
       "    <tr>\n",
       "      <th>4998</th>\n",
       "      <td>0.050</td>\n",
       "    </tr>\n",
       "    <tr>\n",
       "      <th>4999</th>\n",
       "      <td>0.040</td>\n",
       "    </tr>\n",
       "  </tbody>\n",
       "</table>\n",
       "<p>5000 rows × 1 columns</p>\n",
       "</div>"
      ],
      "text/plain": [
       "          x\n",
       "0     0.040\n",
       "1     0.060\n",
       "2     0.060\n",
       "3     0.055\n",
       "4     0.065\n",
       "...     ...\n",
       "4995  0.035\n",
       "4996  0.050\n",
       "4997  0.020\n",
       "4998  0.050\n",
       "4999  0.040\n",
       "\n",
       "[5000 rows x 1 columns]"
      ]
     },
     "execution_count": 32,
     "metadata": {},
     "output_type": "execute_result"
    }
   ],
   "source": [
    "data = []\n",
    "\n",
    "for i in range(5000):\n",
    "\n",
    "    action_sample = df_action[\"US Sales (millions)\"].sample(len(df_action), replace=True).median()\n",
    "    other_sample = df_others[\"US Sales (millions)\"].sample(len(df_others), replace=True).median()\n",
    "    data.append(action_sample - other_sample)\n",
    "\n",
    "df_sampling = pd.DataFrame({\"x\": data})\n",
    "\n",
    "df_sampling\n"
   ]
  },
  {
   "cell_type": "code",
   "execution_count": 33,
   "metadata": {},
   "outputs": [
    {
     "data": {
      "text/plain": [
       "0.4822"
      ]
     },
     "execution_count": 33,
     "metadata": {},
     "output_type": "execute_result"
    }
   ],
   "source": [
    "df_over = df_sampling[df_sampling[\"x\"] > df_difference]\n",
    "\n",
    "p_value = len(df_over) / len(df_sampling)\n",
    "\n",
    "p_value"
   ]
  },
  {
   "cell_type": "markdown",
   "metadata": {},
   "source": [
    "### Conclusion & Interpretation\n",
    "\n",
    "The hypothesis test aimed to determine whether there is a significant difference in median US sales between Nintendo DS and Sony PSP games. The observed median difference was 0.04 million units, and we used a bootstrap resampling method to generate a distribution of median differences under random sampling conditions. The resulting p-value was 0.4822, which is much higher than the significance level (α=0.05). This means that we fail to reject the null hypothesis, indicating that there is no statistically significant difference in median sales between Nintendo DS and Sony PSP games. While there may be slight differences in sales, they are not large enough to be considered statistically meaningful based on our dataset and analysis."
   ]
  },
  {
   "cell_type": "markdown",
   "metadata": {},
   "source": [
    "### Adressing Our Research Question\n",
    "\n",
    "Our research question sought to determine whether Nintendo DS games had significantly higher sales than Sony PSP games and whether there was a statistically significant difference in total sales between the two platforms. Based on our hypothesis test, the results suggest that the median sales of Nintendo DS games are not significantly different from those of Sony PSP games. Since the p-value is 0.4822, which is well above 0.05, we lack sufficient evidence to conclude that the console type had a meaningful impact on US sales performance. These findings indicate that factors beyond just the console platform, such as game quality, marketing strategies, and player preferences, may play a more substantial role in determining sales success."
   ]
  },
  {
   "cell_type": "markdown",
   "metadata": {},
   "source": [
    "## 4. Conclusion"
   ]
  },
  {
   "cell_type": "markdown",
   "metadata": {},
   "source": [
    "### Summarization\n",
    "\n",
    "In this project, we analyzed the proportion of Sony PSP games in the dataset and estimated a confidence interval to understand its representation in the broader handheld gaming market. The 95% confidence interval for the proportion of Sony PSP games was (0.142, 0.208), meaning we are 95% confident that Sony PSP games make up 14.2% to 20.8% of all handheld video games in the broader population. Additionally, we conducted a hypothesis test to examine whether certain game genres had significantly different median US sales. The observed difference in median sales between action games and other genres was 0.04 million units, and the p-value was 0.4822, which is much higher than the significance level (α=0.05). Since the p-value is above 0.05, we failed to reject the null hypothesis, meaning there is no statistically significant difference in median sales between action games and other genres on the Sony PSP platform."
   ]
  },
  {
   "cell_type": "markdown",
   "metadata": {},
   "source": [
    "### Limitations\n",
    "\n",
    "One limitation of this analysis is that our dataset only includes a sample of video games released between 2004 and 2010, meaning it may not fully represent the entire gaming market. Additionally, the dataset does not account for external factors influencing sales, such as marketing efforts, game quality, or exclusive releases. The confidence interval estimation assumes that our dataset is representative of the full population of handheld games, which may not be entirely accurate if there are missing or unrecorded data. Furthermore, our hypothesis test only focused on median sales differences, which may not capture the full distribution of game sales. These limitations suggest that while our findings provide useful insights, they should be interpreted with caution before making strong claims about the gaming industry."
   ]
  },
  {
   "cell_type": "markdown",
   "metadata": {},
   "source": [
    "### Future work\n",
    "\n",
    "Future research could explore a broader range of factors affecting game sales, such as genre preferences, pricing strategies, or user ratings. Additionally, expanding the dataset to include games released beyond 2010 or incorporating global sales data could provide a more comprehensive analysis. Another potential area of study could be a more detailed comparison of game genres, examining whether certain genres perform significantly better on Sony PSP compared to other platforms. Finally, conducting regression analysis on various features (e.g., release year, marketing budget, critical reception) could help identify the key drivers of commercial success in the handheld gaming industry."
   ]
  }
 ],
 "metadata": {
  "kernelspec": {
   "display_name": "base",
   "language": "python",
   "name": "python3"
  },
  "language_info": {
   "codemirror_mode": {
    "name": "ipython",
    "version": 3
   },
   "file_extension": ".py",
   "mimetype": "text/x-python",
   "name": "python",
   "nbconvert_exporter": "python",
   "pygments_lexer": "ipython3",
   "version": "3.11.5"
  }
 },
 "nbformat": 4,
 "nbformat_minor": 4
}

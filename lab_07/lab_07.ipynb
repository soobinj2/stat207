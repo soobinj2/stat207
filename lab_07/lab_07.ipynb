{
 "cells": [
  {
   "cell_type": "markdown",
   "metadata": {},
   "source": [
    "# STAT 207 Group Lab Assignment 7 - [10 total points]\n",
    "\n",
    "## Confidence Intervals"
   ]
  },
  {
   "cell_type": "markdown",
   "metadata": {},
   "source": [
    "<hr>"
   ]
  },
  {
   "cell_type": "markdown",
   "metadata": {},
   "source": [
    "## <u>Lab Grading</u>:\n",
    "\n",
    "Should we grade your submission?  If not, write the netID of the submission to be graded.  (Note: We will only grade one assignment per group, and we'll pick the first one that says we should grade that submission.  We will assign the same grade to all team members.)\n",
    "\n",
    "*For example*, you might respond: **grade this submission** or **my submission is under netID jdeeke**"
   ]
  },
  {
   "cell_type": "markdown",
   "metadata": {},
   "source": []
  },
  {
   "cell_type": "markdown",
   "metadata": {},
   "source": [
    "If you said **my submission is under netID** above, we will not read any more of your lab submission.\n",
    "\n",
    "If you said **grade this submission** above, who worked with you on this submission?  Write both their **names** and **netIDs**.  \n",
    "\n",
    "Also, discuss and record the proportion of your group that has seen a meteor shower or a \"shooting star\" before."
   ]
  },
  {
   "cell_type": "markdown",
   "metadata": {},
   "source": []
  },
  {
   "cell_type": "markdown",
   "metadata": {},
   "source": [
    "<hr>"
   ]
  },
  {
   "cell_type": "markdown",
   "metadata": {},
   "source": [
    "## <u>Purpose</u>:\n",
    "You should work in groups of 2-3 on this report (not working in groups without permission will result in a point deduction). The purpose of this group lab assignment is to generate two confidence intervals.\n",
    "<hr>"
   ]
  },
  {
   "cell_type": "markdown",
   "metadata": {},
   "source": [
    "## <u>Assignment Instructions</u>:"
   ]
  },
  {
   "cell_type": "markdown",
   "metadata": {},
   "source": [
    "### Group Roles\n",
    "\n",
    "Suggested and specified roles are provided below: \n",
    "\n",
    "#### Groups of 2\n",
    "\n",
    "* **Driver**: This student will type the report.  While typing the report, you may be the one who is selecting the functions to apply to the data.\n",
    "* **Navigator**: This student will guide the process of answering the question.  Specific ways to help may include: outlining the general steps needed to solve a question (providing the overview), locating examples within the course notes, and reviewing each line of code as it is typed.\n",
    "\n",
    "#### Groups of 3\n",
    "\n",
    "* **Driver**: This student will type the report.  They may also be the one to select the functions to apply to the data.\n",
    "* **Navigator**: This student will guide the process of answering the question.  They may select the general approach to answering the question and/or a few steps to be completed along the way. \n",
    "* **Communicator**: This student will review the report (as it is typed) to ensure that it is clear and concise.  This student may also locate relevant examples within the course notes that may help complete the assignment.\n",
    "\n",
    "<hr>\n",
    "\n",
    "### Imports"
   ]
  },
  {
   "cell_type": "code",
   "execution_count": null,
   "metadata": {},
   "outputs": [],
   "source": [
    "#Run this\n",
    "import pandas as pd                    # imports pandas and calls the imported version 'pd'\n",
    "import matplotlib.pyplot as plt        # imports the package and calls it 'plt'\n",
    "import seaborn as sns                  # imports the seaborn package with the imported name 'sns'\n",
    "sns.set()  "
   ]
  },
  {
   "cell_type": "markdown",
   "metadata": {},
   "source": [
    "## Case Study: Near Earth Objects\n",
    "\n",
    "We'd like to learn more about **all** objects that pass by the earth closely, in the past or in the future.  NASA has a database on near-Earth objects (NEOs) available from their website: https://cneos.jpl.nasa.gov/ca/.  We have prepared and provided for you this dataset for objects within the past year with a passing distance of less than 0.1 au.  The data was downloaded on February 28, 2025.\n",
    "\n",
    "Variables in the data include:\n",
    "\n",
    "- **CA DistanceNominal (au)**: the most likely distance between the object and Earth (measured between the center of each object, measured in astronomical units)\n",
    "- **CA DistanceMinimum (au)**: the minimum possible distance between the object and Earth (measured between the center of the object, measured in astronomical units)\n",
    "- **V relative(km/s)**: object velocity relative to Earth during its close-approach\n",
    "- **V infinity(km/s)**: object velocity relative to a massless Earth during its close-approach\n",
    "- **H(mag)**: asteroid absolute magnitude (smaller H implies larger asteroid diameter)\n",
    "- **Rarity**: how infrequent a close approach is for asteroids of the same size or larger (larger values are less frequent)\n",
    "\n",
    "Based on the data, you will pick an appropriate variable and question of interest that you will answer using a confidence interval."
   ]
  },
  {
   "cell_type": "markdown",
   "metadata": {},
   "source": [
    "## 1. [1 point] Prepare the Data\n",
    "\n",
    "For this question, you will pick one of the first 5 variables, select a parameter to learn about, and then clean your data.\n",
    "\n",
    "**a)** Which of the first 5 variables are you interested in learning about?"
   ]
  },
  {
   "cell_type": "markdown",
   "metadata": {},
   "source": []
  },
  {
   "cell_type": "markdown",
   "metadata": {},
   "source": [
    "**b)** What parameter are you interested in estimating for the variable selected in part **a**?  You will work with this parameter in Question 2.\n",
    "\n",
    "Define your parameter of interest for a single population (both with a symbol if possible and in writing)."
   ]
  },
  {
   "cell_type": "markdown",
   "metadata": {},
   "source": []
  },
  {
   "cell_type": "markdown",
   "metadata": {},
   "source": [
    "**c)** Read in your data.  There should not be any missing values present in your data."
   ]
  },
  {
   "cell_type": "code",
   "execution_count": null,
   "metadata": {},
   "outputs": [],
   "source": []
  },
  {
   "cell_type": "markdown",
   "metadata": {},
   "source": [
    "**d)** Create a `Rare` variable that records a value of 1 or True if the object is rare (has a `Rarity` value of 1 or more) and a value of 0 or False if the object is not particularly rare (has a `Rarity` value of 0)."
   ]
  },
  {
   "cell_type": "code",
   "execution_count": null,
   "metadata": {},
   "outputs": [],
   "source": []
  },
  {
   "cell_type": "markdown",
   "metadata": {},
   "source": [
    "## 2. [5 points] Single Population Confidence Interval\n",
    "\n",
    "**a)** Provide your best estimate for the population parameter based on our available data."
   ]
  },
  {
   "cell_type": "code",
   "execution_count": null,
   "metadata": {},
   "outputs": [],
   "source": []
  },
  {
   "cell_type": "markdown",
   "metadata": {},
   "source": [
    "**b)** Generate a sampling distribution using your available data as a stand-in for the population."
   ]
  },
  {
   "cell_type": "code",
   "execution_count": null,
   "metadata": {},
   "outputs": [],
   "source": []
  },
  {
   "cell_type": "markdown",
   "metadata": {},
   "source": [
    "**c)** Calculate a 90% confidence interval from your sampling distribution above."
   ]
  },
  {
   "cell_type": "code",
   "execution_count": null,
   "metadata": {},
   "outputs": [],
   "source": []
  },
  {
   "cell_type": "markdown",
   "metadata": {},
   "source": [
    "**d)** Provide an interpretation of your final confidence interval."
   ]
  },
  {
   "cell_type": "markdown",
   "metadata": {},
   "source": []
  },
  {
   "cell_type": "markdown",
   "metadata": {},
   "source": [
    "**e)** Provide an interpretation of the confidence level."
   ]
  },
  {
   "cell_type": "markdown",
   "metadata": {},
   "source": []
  },
  {
   "cell_type": "markdown",
   "metadata": {},
   "source": [
    "## 3. [4 points] Two Populations Confidence Interval\n",
    "\n",
    "We'll now turn to a different parameter of interest that allows us to examine the difference between rare and regular NEOs.  For this parameter of interest, we'll use the difference between the parameter defined in **1b** between those objects that are rare compared to those that are more common.  This will allow us to understand how much larger the value is for rare objects than common ones.\n",
    "\n",
    "**a)** First, provide your best estimate for the parameter(s) of interest using the available data."
   ]
  },
  {
   "cell_type": "code",
   "execution_count": null,
   "metadata": {},
   "outputs": [],
   "source": []
  },
  {
   "cell_type": "markdown",
   "metadata": {},
   "source": [
    "**b)** Generate a sampling distribution for your parameter of interest.  \n",
    "\n",
    "To do so, you should first separate your data into a Rare data frame and a Common data frame.  For each repetition inside a `for` loop, you'll take a sample from each of your two sets of data.  You will calculate the statistic from each re-sampled set of data.  Then, subtracting the two statistics allows you to capture your overall statistic of interest.  This statistic of interest is what you should save from each of your repetitions."
   ]
  },
  {
   "cell_type": "code",
   "execution_count": null,
   "metadata": {},
   "outputs": [],
   "source": []
  },
  {
   "cell_type": "code",
   "execution_count": null,
   "metadata": {},
   "outputs": [],
   "source": []
  },
  {
   "cell_type": "markdown",
   "metadata": {},
   "source": [
    "**c)** Pick a confidence level other than 90%, and report that number.  Then, generate the corresponding confidence interval for our parameter of interest, corresponding to the difference between the objects that are rare compared to those that are more common."
   ]
  },
  {
   "cell_type": "markdown",
   "metadata": {},
   "source": []
  },
  {
   "cell_type": "code",
   "execution_count": null,
   "metadata": {},
   "outputs": [],
   "source": []
  },
  {
   "cell_type": "markdown",
   "metadata": {},
   "source": [
    "**d)** Does it seem plausible that there is no difference between the rare and common NEOs for your parameter of interest (corresponding to a value of 0 for your parameter of interest)?  Briefly explain."
   ]
  },
  {
   "cell_type": "markdown",
   "metadata": {},
   "source": []
  }
 ],
 "metadata": {
  "kernelspec": {
   "display_name": "Python 3 (ipykernel)",
   "language": "python",
   "name": "python3"
  },
  "language_info": {
   "codemirror_mode": {
    "name": "ipython",
    "version": 3
   },
   "file_extension": ".py",
   "mimetype": "text/x-python",
   "name": "python",
   "nbconvert_exporter": "python",
   "pygments_lexer": "ipython3",
   "version": "3.8.11"
  }
 },
 "nbformat": 4,
 "nbformat_minor": 2
}

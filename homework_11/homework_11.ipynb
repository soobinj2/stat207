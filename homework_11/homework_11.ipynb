{
 "cells": [
  {
   "cell_type": "markdown",
   "id": "e746da0e",
   "metadata": {},
   "source": [
    "# STAT 207 Homework 11 [25 points]\n",
    "\n",
    "## Regularization Models for Linear Relationships"
   ]
  },
  {
   "cell_type": "markdown",
   "id": "6fef820a",
   "metadata": {},
   "source": [
    "Due: Thursday, May 1, end of day (11:59 pm CT)\n",
    "\n",
    "Late submissions accepted until Friday, May 2 at noon\n",
    "\n",
    "<hr>"
   ]
  },
  {
   "cell_type": "markdown",
   "id": "c4d94493",
   "metadata": {},
   "source": [
    "## Imports \n",
    "\n",
    "Run the following code cell to import the necessary packages into the file.  You may import additional packages, as needed for this assignment."
   ]
  },
  {
   "cell_type": "code",
   "execution_count": 2,
   "id": "25c92b96",
   "metadata": {},
   "outputs": [],
   "source": [
    "import pandas as pd\n",
    "import matplotlib.pyplot as plt\n",
    "import seaborn as sns; sns.set()\n",
    "from sklearn.model_selection import train_test_split\n",
    "from sklearn.linear_model import LinearRegression\n",
    "from sklearn.linear_model import Ridge\n",
    "from sklearn.linear_model import Lasso"
   ]
  },
  {
   "cell_type": "markdown",
   "id": "ac088395",
   "metadata": {},
   "source": [
    "## The Data\n",
    "\n",
    "With available climate data dating back many decades and the prevalence of climate change, humans are looking to understand exactly how different features of the climate affect the temperatures globally.  For this assignment, we will look to understand how the **global temperature** fluctuates based on other environmental features.\n",
    "\n",
    "We will use various atmospheric and temperature measures over 309 months from 1983 to 2008, with the following variables:\n",
    "\n",
    "- **Year**: the observation year\n",
    "- **Month**: the observation month, recorded with numbers 1 to 12\n",
    "- **MEI**: Multivariate El Nino Southern Oscillation Index (MEI), measuring the affects of the El Nino weather pattern\n",
    "- **CO2**: atmospheric concentration of carbon dioxide (in ppmv, parts per million by volume)\n",
    "- **CH4**: atmospheric concentration of methane (in ppmv)\n",
    "- **N2O**: atmospheric concentration of nitrous oxide (in ppmv)\n",
    "- **CFC-11**: atmospheric concentration of CCl3F or trichlorofluoromethane (in ppbv, parts per billion by volume)\n",
    "- **CFC-12**: atmospheric concentration of CCl2F2 or dichlorodifluoromethane (in ppbv)\n",
    "- **TSI**: the total solar irradiance (TSI) (in W/m2), measuring the rate at which the sun's energy is deposited per unit area.\n",
    "- **Aerosols**: the mean stratospheric aerosol optical depth at 500 nm, a measure associated with volcanic activity\n",
    "- **Temp**: the difference in the average global temperature for that month (in Celsius) and a reference value\n",
    "\n",
    "The ESRL/NOAA Physical Sciences Division reports the MEI; atmospheric concentrations are measured by the ESRL/NOAA Global Monitoring Division; the SOLARIS-HEPPA project website provides the TSI; the Godard Institute for Space Studies at NASA reports the Aerosols; and the Climatic Research Unit at the University of East Anglia reports the Temp.\n",
    "\n",
    "Run the code in the cell below to read in the cleaned data for this document.  The data is saved as `df` with this code.  "
   ]
  },
  {
   "cell_type": "code",
   "execution_count": 3,
   "id": "211dd805",
   "metadata": {},
   "outputs": [
    {
     "data": {
      "text/html": [
       "<div>\n",
       "<style scoped>\n",
       "    .dataframe tbody tr th:only-of-type {\n",
       "        vertical-align: middle;\n",
       "    }\n",
       "\n",
       "    .dataframe tbody tr th {\n",
       "        vertical-align: top;\n",
       "    }\n",
       "\n",
       "    .dataframe thead th {\n",
       "        text-align: right;\n",
       "    }\n",
       "</style>\n",
       "<table border=\"1\" class=\"dataframe\">\n",
       "  <thead>\n",
       "    <tr style=\"text-align: right;\">\n",
       "      <th></th>\n",
       "      <th>Year</th>\n",
       "      <th>Month</th>\n",
       "      <th>MEI</th>\n",
       "      <th>CO2</th>\n",
       "      <th>CH4</th>\n",
       "      <th>N2O</th>\n",
       "      <th>CFC-11</th>\n",
       "      <th>CFC-12</th>\n",
       "      <th>TSI</th>\n",
       "      <th>Aerosols</th>\n",
       "      <th>Temp</th>\n",
       "    </tr>\n",
       "  </thead>\n",
       "  <tbody>\n",
       "    <tr>\n",
       "      <th>0</th>\n",
       "      <td>1983</td>\n",
       "      <td>5</td>\n",
       "      <td>2.556</td>\n",
       "      <td>345.96</td>\n",
       "      <td>1638.59</td>\n",
       "      <td>303.677</td>\n",
       "      <td>191.324</td>\n",
       "      <td>350.113</td>\n",
       "      <td>1366.1024</td>\n",
       "      <td>0.0863</td>\n",
       "      <td>0.109</td>\n",
       "    </tr>\n",
       "    <tr>\n",
       "      <th>1</th>\n",
       "      <td>1983</td>\n",
       "      <td>6</td>\n",
       "      <td>2.167</td>\n",
       "      <td>345.52</td>\n",
       "      <td>1633.71</td>\n",
       "      <td>303.746</td>\n",
       "      <td>192.057</td>\n",
       "      <td>351.848</td>\n",
       "      <td>1366.1208</td>\n",
       "      <td>0.0794</td>\n",
       "      <td>0.118</td>\n",
       "    </tr>\n",
       "    <tr>\n",
       "      <th>2</th>\n",
       "      <td>1983</td>\n",
       "      <td>7</td>\n",
       "      <td>1.741</td>\n",
       "      <td>344.15</td>\n",
       "      <td>1633.22</td>\n",
       "      <td>303.795</td>\n",
       "      <td>192.818</td>\n",
       "      <td>353.725</td>\n",
       "      <td>1366.2850</td>\n",
       "      <td>0.0731</td>\n",
       "      <td>0.137</td>\n",
       "    </tr>\n",
       "    <tr>\n",
       "      <th>3</th>\n",
       "      <td>1983</td>\n",
       "      <td>8</td>\n",
       "      <td>1.130</td>\n",
       "      <td>342.25</td>\n",
       "      <td>1631.35</td>\n",
       "      <td>303.839</td>\n",
       "      <td>193.602</td>\n",
       "      <td>355.633</td>\n",
       "      <td>1366.4202</td>\n",
       "      <td>0.0673</td>\n",
       "      <td>0.176</td>\n",
       "    </tr>\n",
       "    <tr>\n",
       "      <th>4</th>\n",
       "      <td>1983</td>\n",
       "      <td>9</td>\n",
       "      <td>0.428</td>\n",
       "      <td>340.17</td>\n",
       "      <td>1648.40</td>\n",
       "      <td>303.901</td>\n",
       "      <td>194.392</td>\n",
       "      <td>357.465</td>\n",
       "      <td>1366.2335</td>\n",
       "      <td>0.0619</td>\n",
       "      <td>0.149</td>\n",
       "    </tr>\n",
       "    <tr>\n",
       "      <th>...</th>\n",
       "      <td>...</td>\n",
       "      <td>...</td>\n",
       "      <td>...</td>\n",
       "      <td>...</td>\n",
       "      <td>...</td>\n",
       "      <td>...</td>\n",
       "      <td>...</td>\n",
       "      <td>...</td>\n",
       "      <td>...</td>\n",
       "      <td>...</td>\n",
       "      <td>...</td>\n",
       "    </tr>\n",
       "    <tr>\n",
       "      <th>303</th>\n",
       "      <td>2008</td>\n",
       "      <td>8</td>\n",
       "      <td>-0.266</td>\n",
       "      <td>384.15</td>\n",
       "      <td>1779.88</td>\n",
       "      <td>321.405</td>\n",
       "      <td>244.200</td>\n",
       "      <td>535.072</td>\n",
       "      <td>1365.6570</td>\n",
       "      <td>0.0036</td>\n",
       "      <td>0.407</td>\n",
       "    </tr>\n",
       "    <tr>\n",
       "      <th>304</th>\n",
       "      <td>2008</td>\n",
       "      <td>9</td>\n",
       "      <td>-0.643</td>\n",
       "      <td>383.09</td>\n",
       "      <td>1795.08</td>\n",
       "      <td>321.529</td>\n",
       "      <td>244.083</td>\n",
       "      <td>535.048</td>\n",
       "      <td>1365.6647</td>\n",
       "      <td>0.0043</td>\n",
       "      <td>0.378</td>\n",
       "    </tr>\n",
       "    <tr>\n",
       "      <th>305</th>\n",
       "      <td>2008</td>\n",
       "      <td>10</td>\n",
       "      <td>-0.780</td>\n",
       "      <td>382.99</td>\n",
       "      <td>1814.18</td>\n",
       "      <td>321.796</td>\n",
       "      <td>244.080</td>\n",
       "      <td>534.927</td>\n",
       "      <td>1365.6759</td>\n",
       "      <td>0.0046</td>\n",
       "      <td>0.440</td>\n",
       "    </tr>\n",
       "    <tr>\n",
       "      <th>306</th>\n",
       "      <td>2008</td>\n",
       "      <td>11</td>\n",
       "      <td>-0.621</td>\n",
       "      <td>384.13</td>\n",
       "      <td>1812.37</td>\n",
       "      <td>322.013</td>\n",
       "      <td>244.225</td>\n",
       "      <td>534.906</td>\n",
       "      <td>1365.7065</td>\n",
       "      <td>0.0048</td>\n",
       "      <td>0.394</td>\n",
       "    </tr>\n",
       "    <tr>\n",
       "      <th>307</th>\n",
       "      <td>2008</td>\n",
       "      <td>12</td>\n",
       "      <td>-0.666</td>\n",
       "      <td>385.56</td>\n",
       "      <td>1812.88</td>\n",
       "      <td>322.182</td>\n",
       "      <td>244.204</td>\n",
       "      <td>535.005</td>\n",
       "      <td>1365.6926</td>\n",
       "      <td>0.0046</td>\n",
       "      <td>0.330</td>\n",
       "    </tr>\n",
       "  </tbody>\n",
       "</table>\n",
       "<p>308 rows × 11 columns</p>\n",
       "</div>"
      ],
      "text/plain": [
       "     Year  Month    MEI     CO2      CH4      N2O   CFC-11   CFC-12  \\\n",
       "0    1983      5  2.556  345.96  1638.59  303.677  191.324  350.113   \n",
       "1    1983      6  2.167  345.52  1633.71  303.746  192.057  351.848   \n",
       "2    1983      7  1.741  344.15  1633.22  303.795  192.818  353.725   \n",
       "3    1983      8  1.130  342.25  1631.35  303.839  193.602  355.633   \n",
       "4    1983      9  0.428  340.17  1648.40  303.901  194.392  357.465   \n",
       "..    ...    ...    ...     ...      ...      ...      ...      ...   \n",
       "303  2008      8 -0.266  384.15  1779.88  321.405  244.200  535.072   \n",
       "304  2008      9 -0.643  383.09  1795.08  321.529  244.083  535.048   \n",
       "305  2008     10 -0.780  382.99  1814.18  321.796  244.080  534.927   \n",
       "306  2008     11 -0.621  384.13  1812.37  322.013  244.225  534.906   \n",
       "307  2008     12 -0.666  385.56  1812.88  322.182  244.204  535.005   \n",
       "\n",
       "           TSI  Aerosols   Temp  \n",
       "0    1366.1024    0.0863  0.109  \n",
       "1    1366.1208    0.0794  0.118  \n",
       "2    1366.2850    0.0731  0.137  \n",
       "3    1366.4202    0.0673  0.176  \n",
       "4    1366.2335    0.0619  0.149  \n",
       "..         ...       ...    ...  \n",
       "303  1365.6570    0.0036  0.407  \n",
       "304  1365.6647    0.0043  0.378  \n",
       "305  1365.6759    0.0046  0.440  \n",
       "306  1365.7065    0.0048  0.394  \n",
       "307  1365.6926    0.0046  0.330  \n",
       "\n",
       "[308 rows x 11 columns]"
      ]
     },
     "execution_count": 3,
     "metadata": {},
     "output_type": "execute_result"
    }
   ],
   "source": [
    "df = pd.read_csv('climate_change.csv')\n",
    "df_train = df[df['Year'] <= 2006]\n",
    "df_test = df[df['Year'] >= 2007]\n",
    "X_train = df_train.drop(['Year', 'Month', 'Temp'], axis = 1)\n",
    "X_test = df_test.drop(['Year', 'Month', 'Temp'], axis = 1)\n",
    "y_train = df_train['Temp']\n",
    "y_test = df_test['Temp']\n",
    "\n",
    "df"
   ]
  },
  {
   "cell_type": "markdown",
   "id": "01627e31",
   "metadata": {},
   "source": [
    "## 1. Summarize Data [1.5 points]\n",
    "\n",
    "Above, we set aside a training data.  We didn't randomly select our training and test set; instead, imagine that we fit a model using the available data in 2006 in our training data.  We'll then use the data that we collect in the following two years as the test set to evaluate this model.\n",
    "\n",
    "As defined in our X_train and X_test above, our response variable for this assignment with be **Temp**.  We'll use all variables except the **Year** and **Month** as our predictor variables."
   ]
  },
  {
   "cell_type": "markdown",
   "id": "1ecebd44",
   "metadata": {},
   "source": [
    "**a)** Scale our predictor variables in the training data."
   ]
  },
  {
   "cell_type": "code",
   "execution_count": 4,
   "id": "9a1bfdfa",
   "metadata": {},
   "outputs": [],
   "source": [
    "from sklearn.preprocessing import StandardScaler\n",
    "\n",
    "scaler = StandardScaler()\n",
    "\n",
    "X_train_scaled = scaler.fit_transform(X_train)\n",
    "\n",
    "X_train_scaled = pd.DataFrame(X_train_scaled, columns = X_train.columns, index= X_train.index)"
   ]
  },
  {
   "cell_type": "code",
   "execution_count": 5,
   "id": "60396b8b",
   "metadata": {},
   "outputs": [
    {
     "data": {
      "text/plain": [
       "(1745.8414788732393, 0.017720774647887325)"
      ]
     },
     "execution_count": 5,
     "metadata": {},
     "output_type": "execute_result"
    }
   ],
   "source": [
    "mean = X_train.mean()\n",
    "largest_mean = mean.max()\n",
    "smallest_mean = mean.min()\n",
    "\n",
    "largest_mean, smallest_mean"
   ]
  },
  {
   "cell_type": "code",
   "execution_count": 6,
   "id": "06f58229",
   "metadata": {},
   "outputs": [
    {
     "data": {
      "text/plain": [
       "(2.5019110414088033e-15, -4.33681259917802e-13)"
      ]
     },
     "execution_count": 6,
     "metadata": {},
     "output_type": "execute_result"
    }
   ],
   "source": [
    "mean = X_train_scaled.mean()\n",
    "largest_mean = mean.max()\n",
    "smallest_mean = mean.min()\n",
    "\n",
    "largest_mean, smallest_mean"
   ]
  },
  {
   "cell_type": "markdown",
   "id": "e25ba7d6",
   "metadata": {},
   "source": [
    "**b)** Now, we want to be sure that we also scale our test data, using the same scaling as applied to our training data.  Apply your scaling algorithm from **part a** to the test data.  \n",
    "\n",
    "*Note*: This does not include re-fitting your scaling process.  You will re-use your scaling process from **part a**, simply transforming your test data with the same scaling process."
   ]
  },
  {
   "cell_type": "code",
   "execution_count": 7,
   "id": "1b18cb77",
   "metadata": {},
   "outputs": [],
   "source": [
    "X_test_scaled = scaler.transform(X_test)\n",
    "\n",
    "X_test_scaled = pd.DataFrame(X_test_scaled, \n",
    "                             columns=X_test.columns)"
   ]
  },
  {
   "cell_type": "code",
   "execution_count": 8,
   "id": "aab62f7b",
   "metadata": {},
   "outputs": [
    {
     "data": {
      "text/html": [
       "<div>\n",
       "<style scoped>\n",
       "    .dataframe tbody tr th:only-of-type {\n",
       "        vertical-align: middle;\n",
       "    }\n",
       "\n",
       "    .dataframe tbody tr th {\n",
       "        vertical-align: top;\n",
       "    }\n",
       "\n",
       "    .dataframe thead th {\n",
       "        text-align: right;\n",
       "    }\n",
       "</style>\n",
       "<table border=\"1\" class=\"dataframe\">\n",
       "  <thead>\n",
       "    <tr style=\"text-align: right;\">\n",
       "      <th></th>\n",
       "      <th>MEI</th>\n",
       "      <th>CO2</th>\n",
       "      <th>CH4</th>\n",
       "      <th>N2O</th>\n",
       "      <th>CFC-11</th>\n",
       "      <th>CFC-12</th>\n",
       "      <th>TSI</th>\n",
       "      <th>Aerosols</th>\n",
       "    </tr>\n",
       "  </thead>\n",
       "  <tbody>\n",
       "    <tr>\n",
       "      <th>count</th>\n",
       "      <td>24.000000</td>\n",
       "      <td>24.000000</td>\n",
       "      <td>24.000000</td>\n",
       "      <td>24.000000</td>\n",
       "      <td>24.000000</td>\n",
       "      <td>24.000000</td>\n",
       "      <td>24.000000</td>\n",
       "      <td>24.000000</td>\n",
       "    </tr>\n",
       "    <tr>\n",
       "      <th>mean</th>\n",
       "      <td>-0.917795</td>\n",
       "      <td>2.036889</td>\n",
       "      <td>1.121218</td>\n",
       "      <td>1.984680</td>\n",
       "      <td>-0.314865</td>\n",
       "      <td>0.720071</td>\n",
       "      <td>-0.982834</td>\n",
       "      <td>-0.455588</td>\n",
       "    </tr>\n",
       "    <tr>\n",
       "      <th>std</th>\n",
       "      <td>0.690182</td>\n",
       "      <td>0.179041</td>\n",
       "      <td>0.250031</td>\n",
       "      <td>0.114226</td>\n",
       "      <td>0.065486</td>\n",
       "      <td>0.024218</td>\n",
       "      <td>0.079206</td>\n",
       "      <td>0.020206</td>\n",
       "    </tr>\n",
       "    <tr>\n",
       "      <th>min</th>\n",
       "      <td>-2.130303</td>\n",
       "      <td>1.706352</td>\n",
       "      <td>0.571373</td>\n",
       "      <td>1.826219</td>\n",
       "      <td>-0.401280</td>\n",
       "      <td>0.690306</td>\n",
       "      <td>-1.109496</td>\n",
       "      <td>-0.487991</td>\n",
       "    </tr>\n",
       "    <tr>\n",
       "      <th>25%</th>\n",
       "      <td>-1.493181</td>\n",
       "      <td>1.895939</td>\n",
       "      <td>1.020765</td>\n",
       "      <td>1.873744</td>\n",
       "      <td>-0.375720</td>\n",
       "      <td>0.693835</td>\n",
       "      <td>-1.064123</td>\n",
       "      <td>-0.471303</td>\n",
       "    </tr>\n",
       "    <tr>\n",
       "      <th>50%</th>\n",
       "      <td>-0.940110</td>\n",
       "      <td>2.023790</td>\n",
       "      <td>1.145081</td>\n",
       "      <td>2.020740</td>\n",
       "      <td>-0.301021</td>\n",
       "      <td>0.725222</td>\n",
       "      <td>-0.965827</td>\n",
       "      <td>-0.454614</td>\n",
       "    </tr>\n",
       "    <tr>\n",
       "      <th>75%</th>\n",
       "      <td>-0.407244</td>\n",
       "      <td>2.164996</td>\n",
       "      <td>1.265504</td>\n",
       "      <td>2.052897</td>\n",
       "      <td>-0.281332</td>\n",
       "      <td>0.732229</td>\n",
       "      <td>-0.936619</td>\n",
       "      <td>-0.441264</td>\n",
       "    </tr>\n",
       "    <tr>\n",
       "      <th>max</th>\n",
       "      <td>0.681118</td>\n",
       "      <td>2.371878</td>\n",
       "      <td>1.499001</td>\n",
       "      <td>2.215683</td>\n",
       "      <td>-0.196418</td>\n",
       "      <td>0.763259</td>\n",
       "      <td>-0.848371</td>\n",
       "      <td>-0.411225</td>\n",
       "    </tr>\n",
       "  </tbody>\n",
       "</table>\n",
       "</div>"
      ],
      "text/plain": [
       "             MEI        CO2        CH4        N2O     CFC-11     CFC-12  \\\n",
       "count  24.000000  24.000000  24.000000  24.000000  24.000000  24.000000   \n",
       "mean   -0.917795   2.036889   1.121218   1.984680  -0.314865   0.720071   \n",
       "std     0.690182   0.179041   0.250031   0.114226   0.065486   0.024218   \n",
       "min    -2.130303   1.706352   0.571373   1.826219  -0.401280   0.690306   \n",
       "25%    -1.493181   1.895939   1.020765   1.873744  -0.375720   0.693835   \n",
       "50%    -0.940110   2.023790   1.145081   2.020740  -0.301021   0.725222   \n",
       "75%    -0.407244   2.164996   1.265504   2.052897  -0.281332   0.732229   \n",
       "max     0.681118   2.371878   1.499001   2.215683  -0.196418   0.763259   \n",
       "\n",
       "             TSI   Aerosols  \n",
       "count  24.000000  24.000000  \n",
       "mean   -0.982834  -0.455588  \n",
       "std     0.079206   0.020206  \n",
       "min    -1.109496  -0.487991  \n",
       "25%    -1.064123  -0.471303  \n",
       "50%    -0.965827  -0.454614  \n",
       "75%    -0.936619  -0.441264  \n",
       "max    -0.848371  -0.411225  "
      ]
     },
     "execution_count": 8,
     "metadata": {},
     "output_type": "execute_result"
    }
   ],
   "source": [
    "X_test_scaled.describe()"
   ]
  },
  {
   "cell_type": "markdown",
   "id": "73183356",
   "metadata": {},
   "source": [
    "## 2. Fitting A Model [1 point]\n",
    "\n",
    "Fit a LASSO model with $\\lambda = 0.06$ to the training data, including all variables except the year and month variables.  Print the coefficients for this model."
   ]
  },
  {
   "cell_type": "code",
   "execution_count": 9,
   "id": "44209de6",
   "metadata": {},
   "outputs": [
    {
     "name": "stdout",
     "output_type": "stream",
     "text": [
      "   Variable  Lasso Coefficient\n",
      "0       MEI           0.000000\n",
      "1       CO2           0.079893\n",
      "2       CH4           0.000000\n",
      "3       N2O           0.002758\n",
      "4    CFC-11           0.000000\n",
      "5    CFC-12           0.000000\n",
      "6       TSI           0.000000\n",
      "7  Aerosols          -0.000000\n"
     ]
    }
   ],
   "source": [
    "from sklearn.linear_model import Lasso\n",
    "\n",
    "lasso_model = Lasso(alpha=0.06)\n",
    "\n",
    "lasso_model.fit(X_train_scaled, y_train)\n",
    "\n",
    "coeff_df = pd.DataFrame({\n",
    "    'Variable': X_train.columns,\n",
    "    'Lasso Coefficient': lasso_model.coef_})\n",
    "\n",
    "print(coeff_df)\n"
   ]
  },
  {
   "cell_type": "markdown",
   "id": "c043d687",
   "metadata": {},
   "source": [
    "## 3. Picking a Best Model [2.5 points]\n",
    "\n",
    "Instead of using a LASSO model, we decide that we'd rather move forward with a **ridge regression** model.  We don't know which $\\lambda$ to use for this model, so let's explore which value of $\\lambda$ might be most appropriate for a ridge regression model.\n",
    "\n",
    "To do this, we'll explore $\\lambda$ values between 0.05 and 1 exploring by every 0.05.  We can do this with code using:\n",
    "\n",
    "`for m in range(1, 21):`\n",
    "\n",
    "`alph = m / 20`\n",
    "\n",
    "The following code sets up the folds for cross-validation."
   ]
  },
  {
   "cell_type": "code",
   "execution_count": 10,
   "id": "07eb6e8c",
   "metadata": {},
   "outputs": [],
   "source": [
    "from sklearn.model_selection import KFold\n",
    "from sklearn.model_selection import cross_val_score\n",
    "\n",
    "cross_val = KFold(n_splits = 10, shuffle = True, random_state = 202505)"
   ]
  },
  {
   "cell_type": "markdown",
   "id": "47d80c66",
   "metadata": {},
   "source": [
    "**a)** Use 10-fold cross-validation to explore the $R^2$ values for each of the $\\lambda$s as defined above."
   ]
  },
  {
   "cell_type": "code",
   "execution_count": 11,
   "id": "84b39474",
   "metadata": {},
   "outputs": [
    {
     "name": "stdout",
     "output_type": "stream",
     "text": [
      "lambda = 0.05, mean R² = 0.723573522724511\n",
      "lambda = 0.1, mean R² = 0.7236379854142208\n",
      "lambda = 0.15, mean R² = 0.723675636421907\n",
      "lambda = 0.2, mean R² = 0.7236913449221215\n",
      "lambda = 0.25, mean R² = 0.7236890920412968\n",
      "lambda = 0.3, mean R² = 0.7236721465994678\n",
      "lambda = 0.35, mean R² = 0.7236432027687879\n",
      "lambda = 0.4, mean R² = 0.7236044886428361\n",
      "lambda = 0.45, mean R² = 0.7235578524133405\n",
      "lambda = 0.5, mean R² = 0.7235048311834638\n",
      "lambda = 0.55, mean R² = 0.7234467062250581\n",
      "lambda = 0.6, mean R² = 0.7233845475843014\n",
      "lambda = 0.65, mean R² = 0.7233192502671459\n",
      "lambda = 0.7, mean R² = 0.72325156373054\n",
      "lambda = 0.75, mean R² = 0.7231821160229291\n",
      "lambda = 0.8, mean R² = 0.7231114336261297\n",
      "lambda = 0.85, mean R² = 0.7230399578271806\n",
      "lambda = 0.9, mean R² = 0.7229680582762829\n",
      "lambda = 0.95, mean R² = 0.7228960442530267\n",
      "lambda = 1.0, mean R² = 0.7228241740585505\n",
      "----\n",
      "Best lambda: 0.2, with mean R²: 0.7236913449221215\n"
     ]
    }
   ],
   "source": [
    "best_r2 = -float('inf')\n",
    "best_lambda = None\n",
    "\n",
    "for m in range(1, 21):\n",
    "    alph = m / 20\n",
    "    ridge_model = Ridge(alpha=alph)\n",
    "    r2_scores = cross_val_score(ridge_model, X_train_scaled, y_train, cv=cross_val, scoring='r2')\n",
    "    mean_r2 = r2_scores.mean()\n",
    "    \n",
    "    print(f\"lambda = {alph}, mean R² = {mean_r2}\")\n",
    "\n",
    "    if mean_r2 > best_r2:\n",
    "        best_r2 = mean_r2\n",
    "        best_lambda = alph\n",
    "\n",
    "print('----')\n",
    "print(f\"Best lambda: {best_lambda}, with mean R²: {best_r2}\")\n"
   ]
  },
  {
   "cell_type": "markdown",
   "id": "123eea63",
   "metadata": {},
   "source": [
    "**b)** Print the $R^2$ values for each of the individual folds of your optimal $\\lambda$."
   ]
  },
  {
   "cell_type": "code",
   "execution_count": 12,
   "id": "5d24b2f3",
   "metadata": {},
   "outputs": [
    {
     "name": "stdout",
     "output_type": "stream",
     "text": [
      "[0.6847359  0.58854956 0.77279909 0.73198128 0.70566594 0.84894601\n",
      " 0.67059818 0.68169537 0.84897019 0.70297192]\n"
     ]
    }
   ],
   "source": [
    "best_ridge = Ridge(alpha=0.2)\n",
    "\n",
    "individual_r2_scores = cross_val_score(best_ridge, X_train_scaled, y_train, cv=cross_val, scoring='r2')\n",
    "print(individual_r2_scores)"
   ]
  },
  {
   "cell_type": "markdown",
   "id": "014839e9",
   "metadata": {},
   "source": [
    "**c)** Repeat this process for a different set of 10-folds, using a random state of your choosing.  Determine which $\\lambda$ results in the optimal mean $R^2$, similar to what you did above."
   ]
  },
  {
   "cell_type": "code",
   "execution_count": 13,
   "id": "d3f79e44",
   "metadata": {},
   "outputs": [
    {
     "name": "stdout",
     "output_type": "stream",
     "text": [
      "lambda = 0.05, mean R² = 0.7232656383174255\n",
      "lambda = 0.1, mean R² = 0.7233045745085349\n",
      "lambda = 0.15, mean R² = 0.7233151249321594\n",
      "lambda = 0.2, mean R² = 0.7233026679712625\n",
      "lambda = 0.25, mean R² = 0.7232715858015711\n",
      "lambda = 0.3, mean R² = 0.7232254632258333\n",
      "lambda = 0.35, mean R² = 0.7231672431748974\n",
      "lambda = 0.4, mean R² = 0.7230993491528739\n",
      "lambda = 0.45, mean R² = 0.7230237822696282\n",
      "lambda = 0.5, mean R² = 0.722942198594025\n",
      "lambda = 0.55, mean R² = 0.7228559711635536\n",
      "lambda = 0.6, mean R² = 0.7227662399539017\n",
      "lambda = 0.65, mean R² = 0.7226739523436766\n",
      "lambda = 0.7, mean R² = 0.7225798960329421\n",
      "lambda = 0.75, mean R² = 0.7224847259384698\n",
      "lambda = 0.8, mean R² = 0.7223889862568987\n",
      "lambda = 0.85, mean R² = 0.7222931286328647\n",
      "lambda = 0.9, mean R² = 0.7221975271732184\n",
      "lambda = 0.95, mean R² = 0.7221024908964888\n",
      "lambda = 1.0, mean R² = 0.7220082740882204\n",
      "----\n",
      "Best lambda from new folds: 0.15, with mean R²: 0.7233151249321594\n"
     ]
    }
   ],
   "source": [
    "new_cross_val = KFold(n_splits=10, shuffle=True, random_state=42)\n",
    "\n",
    "best_r2_new = -float('inf')\n",
    "best_lambda_new = None\n",
    "\n",
    "for m in range(1, 21):\n",
    "    alph = m / 20\n",
    "    ridge_model = Ridge(alpha=alph)\n",
    "    r2_scores = cross_val_score(ridge_model, X_train_scaled, y_train, cv=new_cross_val, scoring='r2')\n",
    "    mean_r2 = r2_scores.mean()\n",
    "    \n",
    "    print(f\"lambda = {alph}, mean R² = {mean_r2}\")\n",
    "    \n",
    "    if mean_r2 > best_r2_new:\n",
    "        best_r2_new = mean_r2\n",
    "        best_lambda_new = alph\n",
    "\n",
    "print(\"----\")\n",
    "print(f\"Best lambda from new folds: {best_lambda_new}, with mean R²: {best_r2_new}\")"
   ]
  },
  {
   "cell_type": "markdown",
   "id": "637912d1",
   "metadata": {},
   "source": [
    "## 4. Evaluating Our Best Model [1 point]\n",
    "\n",
    "Refit the model with the optimal $\\lambda$ found in Question **3b** to the full training data.  Print the resulting coefficients."
   ]
  },
  {
   "cell_type": "code",
   "execution_count": 14,
   "id": "e0a1b557",
   "metadata": {},
   "outputs": [
    {
     "name": "stdout",
     "output_type": "stream",
     "text": [
      "   Variable  Coefficient\n",
      "0       MEI     0.059469\n",
      "1       CO2     0.073007\n",
      "2       CH4     0.006589\n",
      "3       N2O    -0.064418\n",
      "4    CFC-11    -0.124992\n",
      "5    CFC-12     0.199807\n",
      "6       TSI     0.036865\n",
      "7  Aerosols    -0.046174\n"
     ]
    }
   ],
   "source": [
    "ridge_best_model = Ridge(alpha=0.2)\n",
    "ridge_best_model.fit(X_train_scaled, y_train)\n",
    "\n",
    "coef_df = pd.DataFrame({\n",
    "    'Variable': X_train.columns,\n",
    "    'Coefficient': ridge_best_model.coef_\n",
    "})\n",
    "\n",
    "print(coef_df)\n"
   ]
  },
  {
   "cell_type": "code",
   "execution_count": 16,
   "id": "153de249",
   "metadata": {},
   "outputs": [
    {
     "name": "stdout",
     "output_type": "stream",
     "text": [
      "R² score on test set: 0.15458483572756732\n"
     ]
    }
   ],
   "source": [
    "from sklearn.metrics import r2_score\n",
    "\n",
    "scaler = StandardScaler()\n",
    "X_train_scaled = scaler.fit_transform(X_train)\n",
    "X_test_scaled = scaler.transform(X_test)\n",
    "\n",
    "ridge = Ridge(alpha=0.2)\n",
    "ridge.fit(X_train_scaled, y_train)\n",
    "\n",
    "y_test_pred = ridge.predict(X_test_scaled)\n",
    "test_r2 = r2_score(y_test, y_test_pred)\n",
    "\n",
    "print(\"R² score on test set:\", test_r2)\n"
   ]
  },
  {
   "cell_type": "markdown",
   "id": "f02327ec",
   "metadata": {},
   "source": [
    "Remember to keep all your cells and hit the save icon above periodically to checkpoint (save) your results on your local computer. Once you are satisified with your results restart the kernel and run all (Kernel -> Restart & Run All). **Make sure nothing has changed**. Checkpoint and exit (File -> Save and Checkpoint + File -> Close and Halt). Follow the instructions on the Homework 11 Canvas Assignment to submit your notebook to GitHub."
   ]
  }
 ],
 "metadata": {
  "kernelspec": {
   "display_name": "base",
   "language": "python",
   "name": "python3"
  },
  "language_info": {
   "codemirror_mode": {
    "name": "ipython",
    "version": 3
   },
   "file_extension": ".py",
   "mimetype": "text/x-python",
   "name": "python",
   "nbconvert_exporter": "python",
   "pygments_lexer": "ipython3",
   "version": "3.11.5"
  }
 },
 "nbformat": 4,
 "nbformat_minor": 5
}

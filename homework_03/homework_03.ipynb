{
 "cells": [
  {
   "cell_type": "markdown",
   "id": "e746da0e",
   "metadata": {},
   "source": [
    "# STAT 207 Homework 3 [25 points]\n",
    "\n",
    "## Populations, Samples, and Summarizing Data"
   ]
  },
  {
   "cell_type": "markdown",
   "id": "6fef820a",
   "metadata": {},
   "source": [
    "Due: Thursday, February 13, end of day (11:59 pm CT)\n",
    "\n",
    "Late Submissions accepted until Friday, February 14 at noon\n",
    "\n",
    "<hr>"
   ]
  },
  {
   "cell_type": "markdown",
   "id": "c4d94493",
   "metadata": {},
   "source": [
    "## Python Component\n",
    "\n",
    "Run the following code chunk to import the pandas package needed for this assignment and the optional visualization packages:\n",
    "\n",
    "- pandas\n",
    "- matplotlib.pyplot\n",
    "- seaborn"
   ]
  },
  {
   "cell_type": "code",
   "execution_count": null,
   "id": "25c92b96",
   "metadata": {},
   "outputs": [],
   "source": [
    "import pandas as pd\n",
    "import matplotlib.pyplot as plt\n",
    "import seaborn as sns\n",
    "sns.set()"
   ]
  },
  {
   "cell_type": "markdown",
   "id": "ac088395",
   "metadata": {},
   "source": [
    "## 1. Read in the Data [0.5 points]\n",
    "\n",
    "The Olympics is a worldwide event where athletes from multiple sports all compete in one meet.  Top athletes prepare for months to make history with their athletic prowess.  \n",
    "\n",
    "Information about athletes that have competed in the Olympics are contained in the athlete_events.csv file located in this folder (originally from https://www.kaggle.com/datasets/heesoo37/120-years-of-olympic-history-athletes-and-results).\n",
    "\n",
    "Each competitor in a distinct Olympic competition is displayed in their own row in the data.\n",
    "\n",
    "Read this file in.  No need to drop any missing values."
   ]
  },
  {
   "cell_type": "code",
   "execution_count": null,
   "id": "02bbc6be",
   "metadata": {},
   "outputs": [],
   "source": []
  },
  {
   "cell_type": "code",
   "execution_count": null,
   "id": "7a2db7bb",
   "metadata": {},
   "outputs": [],
   "source": []
  },
  {
   "cell_type": "markdown",
   "id": "f4baf91a",
   "metadata": {},
   "source": [
    "## 2. Populations and Samples [0 points]"
   ]
  },
  {
   "cell_type": "markdown",
   "id": "b5687f47",
   "metadata": {},
   "source": [
    "You can use this space to analyze the dataset.  All points for Question 2 will come from Gradescope."
   ]
  },
  {
   "cell_type": "code",
   "execution_count": null,
   "id": "239a923d",
   "metadata": {},
   "outputs": [],
   "source": []
  },
  {
   "cell_type": "markdown",
   "id": "b8b8a00b",
   "metadata": {},
   "source": [
    "## 3. Exploring Athlete Weights [2 points]\n",
    "\n",
    "**a)** First, generate a graphical summary (histogram or boxplot) of the weight variable."
   ]
  },
  {
   "cell_type": "code",
   "execution_count": null,
   "id": "2fb28b70",
   "metadata": {},
   "outputs": [],
   "source": []
  },
  {
   "cell_type": "markdown",
   "id": "75266017",
   "metadata": {},
   "source": [
    "**b)** We'd like to explore the weight of athletes (`weight`) depending on the season of the competition (`season`).  This time, generate a set of numerical summaries for `weight` depending on the `season`.  For full credit, do so in one line of code.\n",
    "\n",
    "For the numerical summaries, be sure that both the mean and the median are included."
   ]
  },
  {
   "cell_type": "code",
   "execution_count": null,
   "id": "1b494050",
   "metadata": {},
   "outputs": [],
   "source": []
  },
  {
   "cell_type": "markdown",
   "id": "936fccb1",
   "metadata": {},
   "source": [
    "## 4. Two Way Table [1 point]\n",
    "\n",
    "Generate a two-way table to compare the sex of the athlete with the season of competition.  You may choose whether you'd like counts or proportions displayed."
   ]
  },
  {
   "cell_type": "code",
   "execution_count": null,
   "id": "9003cdd9",
   "metadata": {},
   "outputs": [],
   "source": []
  },
  {
   "cell_type": "markdown",
   "id": "bffff61e",
   "metadata": {},
   "source": [
    "## 5. Creating a Sample [2 points]\n",
    "\n",
    "Now, we'll consider the heights of athletes."
   ]
  },
  {
   "cell_type": "markdown",
   "id": "efd340f4",
   "metadata": {},
   "source": [
    "**a)** Take a random sample of 200 athletes from the data.  "
   ]
  },
  {
   "cell_type": "code",
   "execution_count": null,
   "id": "993f5af3",
   "metadata": {},
   "outputs": [],
   "source": []
  },
  {
   "cell_type": "markdown",
   "id": "2c6e0ffc",
   "metadata": {},
   "source": [
    "**b)** Compare the heights of the 200 athletes from your random sample with the full data using at least one of numerical summaries or graphical displays.  You may choose how to compare these distributions."
   ]
  },
  {
   "cell_type": "code",
   "execution_count": null,
   "id": "ec23389a",
   "metadata": {},
   "outputs": [],
   "source": []
  },
  {
   "cell_type": "code",
   "execution_count": null,
   "id": "31dcc159",
   "metadata": {},
   "outputs": [],
   "source": []
  },
  {
   "cell_type": "markdown",
   "id": "f02327ec",
   "metadata": {},
   "source": [
    "Remember to keep all your cells and hit the save icon above periodically to checkpoint (save) your results on your local computer. Once you are satisified with your results restart the kernel and run all (Kernel -> Restart & Run All). **Make sure nothing has changed**. Checkpoint and exit (File -> Save and Checkpoint + File -> Close and Halt). Follow the instructions on the Homework 3 Canvas Assignment to submit your notebook to GitHub.  Be sure to also complete the Gradescope component of this assignment."
   ]
  }
 ],
 "metadata": {
  "kernelspec": {
   "display_name": "Python 3 (ipykernel)",
   "language": "python",
   "name": "python3"
  },
  "language_info": {
   "codemirror_mode": {
    "name": "ipython",
    "version": 3
   },
   "file_extension": ".py",
   "mimetype": "text/x-python",
   "name": "python",
   "nbconvert_exporter": "python",
   "pygments_lexer": "ipython3",
   "version": "3.8.11"
  }
 },
 "nbformat": 4,
 "nbformat_minor": 5
}

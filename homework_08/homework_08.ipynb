{
 "cells": [
  {
   "cell_type": "markdown",
   "id": "e746da0e",
   "metadata": {},
   "source": [
    "# STAT 207 Homework 8 [25 points]\n",
    "\n",
    "## Linear Model Assumptions & Logistic Models"
   ]
  },
  {
   "cell_type": "markdown",
   "id": "6fef820a",
   "metadata": {},
   "source": [
    "Due: Thursday, April 3, end of day (11:59 pm CT)\n",
    "\n",
    "Late submissions accepted until Friday, April 4 at noon\n",
    "\n",
    "<hr>"
   ]
  },
  {
   "cell_type": "markdown",
   "id": "68c0530c",
   "metadata": {},
   "source": [
    "## Research Question:\n",
    "\n",
    "For this homework assignment, our first research question of interest is: \"Can we accurately predict how long a hospital stay will be for seriously ill patients from its linear relationship with selected other variables in the data?\"\n",
    "\n",
    "---\n",
    "\n",
    "Our second research question of interest is: \"Can we learn about the relationship between level of care required and variables including the age, sex, and comorbidity of the patient?\"\n",
    "\n",
    "## Case Study\n",
    "\n",
    "A famous study called \"SUPPORT\" (Study to Understand Prognoses Preferences Outcomes and Risks of Treatment) was conducted to determine what factors affected or predicted outcomes, including how long a patient remained in the hospital.\n",
    "\n",
    "We will use a random sample of 580 seriously ill hospitalized patients from the SUPPORT study, with the following variables:\n",
    "\n",
    "- **Days**: day to death or hospital discharge\n",
    "- **Age**: age on day of hospital admission\n",
    "- **Sex**: female or male\n",
    "- **Comorboidity**: patient diagnosed with more than one chronic disease\n",
    "- **EdYears**: years of education\n",
    "- **Education**: education level: high or low\n",
    "- **Income**: income level: high or low\n",
    "- **Charges**: hospital charges, in dollars\n",
    "- **Care**: level of care required: high or low\n",
    "- **Race**: Non-white or white\n",
    "- **Pressure**: Blood pressure, in mmHg\n",
    "- **Blood**: white blood cell count, in gm/dL\n",
    "- **Rate**: heart rate, in bpm"
   ]
  },
  {
   "cell_type": "markdown",
   "id": "c4d94493",
   "metadata": {},
   "source": [
    "## 1. Imports [1 point]\n",
    "\n",
    "**a)**  Import the packages needed for this assignment:\n",
    "\n",
    "- pandas\n",
    "- matplotlib.pyplot\n",
    "- seaborn\n",
    "- sklearn for creating training and test data\n",
    "- sklearn or statsmodels for fitting a linear model\n",
    "\n",
    "The first package assists in analyzing a dataset.  The second two packages provide support for visualizations.  The fourth package will be used for splitting the data into a training and a test data.  The last package (your choice) will be used for fitting a linear model."
   ]
  },
  {
   "cell_type": "code",
   "execution_count": 1,
   "id": "25c92b96",
   "metadata": {},
   "outputs": [],
   "source": [
    "import pandas as pd                    \n",
    "import matplotlib.pyplot as plt        \n",
    "import seaborn as sns                  \n",
    "sns.set()  \n",
    "from sklearn.model_selection import train_test_split\n",
    "import statsmodels.formula.api as smf"
   ]
  },
  {
   "cell_type": "markdown",
   "id": "ac088395",
   "metadata": {},
   "source": [
    "**b)**  The data is cleaned and in this folder as hospital.csv.  Read this file in.  "
   ]
  },
  {
   "cell_type": "code",
   "execution_count": 2,
   "id": "7a2db7bb",
   "metadata": {},
   "outputs": [
    {
     "data": {
      "text/html": [
       "<div>\n",
       "<style scoped>\n",
       "    .dataframe tbody tr th:only-of-type {\n",
       "        vertical-align: middle;\n",
       "    }\n",
       "\n",
       "    .dataframe tbody tr th {\n",
       "        vertical-align: top;\n",
       "    }\n",
       "\n",
       "    .dataframe thead th {\n",
       "        text-align: right;\n",
       "    }\n",
       "</style>\n",
       "<table border=\"1\" class=\"dataframe\">\n",
       "  <thead>\n",
       "    <tr style=\"text-align: right;\">\n",
       "      <th></th>\n",
       "      <th>Days</th>\n",
       "      <th>Age</th>\n",
       "      <th>Sex</th>\n",
       "      <th>Comorbidity</th>\n",
       "      <th>EdYears</th>\n",
       "      <th>Education</th>\n",
       "      <th>Income</th>\n",
       "      <th>Charges</th>\n",
       "      <th>Care</th>\n",
       "      <th>Race</th>\n",
       "      <th>Pressure</th>\n",
       "      <th>Blood</th>\n",
       "      <th>Rate</th>\n",
       "    </tr>\n",
       "  </thead>\n",
       "  <tbody>\n",
       "    <tr>\n",
       "      <th>0</th>\n",
       "      <td>8</td>\n",
       "      <td>42.258972</td>\n",
       "      <td>female</td>\n",
       "      <td>no</td>\n",
       "      <td>11</td>\n",
       "      <td>low</td>\n",
       "      <td>high</td>\n",
       "      <td>9914.0</td>\n",
       "      <td>low</td>\n",
       "      <td>non-white</td>\n",
       "      <td>84</td>\n",
       "      <td>11.298828</td>\n",
       "      <td>94</td>\n",
       "    </tr>\n",
       "    <tr>\n",
       "      <th>1</th>\n",
       "      <td>14</td>\n",
       "      <td>63.662994</td>\n",
       "      <td>female</td>\n",
       "      <td>no</td>\n",
       "      <td>22</td>\n",
       "      <td>high</td>\n",
       "      <td>high</td>\n",
       "      <td>283303.0</td>\n",
       "      <td>high</td>\n",
       "      <td>white</td>\n",
       "      <td>69</td>\n",
       "      <td>30.097656</td>\n",
       "      <td>108</td>\n",
       "    </tr>\n",
       "    <tr>\n",
       "      <th>2</th>\n",
       "      <td>21</td>\n",
       "      <td>41.521973</td>\n",
       "      <td>male</td>\n",
       "      <td>yes</td>\n",
       "      <td>18</td>\n",
       "      <td>high</td>\n",
       "      <td>high</td>\n",
       "      <td>320843.0</td>\n",
       "      <td>high</td>\n",
       "      <td>white</td>\n",
       "      <td>66</td>\n",
       "      <td>0.199982</td>\n",
       "      <td>130</td>\n",
       "    </tr>\n",
       "    <tr>\n",
       "      <th>3</th>\n",
       "      <td>4</td>\n",
       "      <td>41.959991</td>\n",
       "      <td>male</td>\n",
       "      <td>yes</td>\n",
       "      <td>16</td>\n",
       "      <td>high</td>\n",
       "      <td>high</td>\n",
       "      <td>4173.0</td>\n",
       "      <td>low</td>\n",
       "      <td>white</td>\n",
       "      <td>97</td>\n",
       "      <td>10.798828</td>\n",
       "      <td>88</td>\n",
       "    </tr>\n",
       "    <tr>\n",
       "      <th>4</th>\n",
       "      <td>11</td>\n",
       "      <td>52.089996</td>\n",
       "      <td>male</td>\n",
       "      <td>yes</td>\n",
       "      <td>8</td>\n",
       "      <td>low</td>\n",
       "      <td>high</td>\n",
       "      <td>13414.0</td>\n",
       "      <td>low</td>\n",
       "      <td>white</td>\n",
       "      <td>89</td>\n",
       "      <td>6.399414</td>\n",
       "      <td>92</td>\n",
       "    </tr>\n",
       "    <tr>\n",
       "      <th>...</th>\n",
       "      <td>...</td>\n",
       "      <td>...</td>\n",
       "      <td>...</td>\n",
       "      <td>...</td>\n",
       "      <td>...</td>\n",
       "      <td>...</td>\n",
       "      <td>...</td>\n",
       "      <td>...</td>\n",
       "      <td>...</td>\n",
       "      <td>...</td>\n",
       "      <td>...</td>\n",
       "      <td>...</td>\n",
       "      <td>...</td>\n",
       "    </tr>\n",
       "    <tr>\n",
       "      <th>575</th>\n",
       "      <td>13</td>\n",
       "      <td>70.091980</td>\n",
       "      <td>female</td>\n",
       "      <td>yes</td>\n",
       "      <td>9</td>\n",
       "      <td>low</td>\n",
       "      <td>low</td>\n",
       "      <td>14271.0</td>\n",
       "      <td>high</td>\n",
       "      <td>white</td>\n",
       "      <td>65</td>\n",
       "      <td>38.398438</td>\n",
       "      <td>104</td>\n",
       "    </tr>\n",
       "    <tr>\n",
       "      <th>576</th>\n",
       "      <td>4</td>\n",
       "      <td>81.721985</td>\n",
       "      <td>male</td>\n",
       "      <td>yes</td>\n",
       "      <td>8</td>\n",
       "      <td>low</td>\n",
       "      <td>low</td>\n",
       "      <td>3043.0</td>\n",
       "      <td>low</td>\n",
       "      <td>white</td>\n",
       "      <td>71</td>\n",
       "      <td>4.599609</td>\n",
       "      <td>67</td>\n",
       "    </tr>\n",
       "    <tr>\n",
       "      <th>577</th>\n",
       "      <td>3</td>\n",
       "      <td>74.521973</td>\n",
       "      <td>female</td>\n",
       "      <td>yes</td>\n",
       "      <td>8</td>\n",
       "      <td>low</td>\n",
       "      <td>high</td>\n",
       "      <td>2172.0</td>\n",
       "      <td>low</td>\n",
       "      <td>white</td>\n",
       "      <td>99</td>\n",
       "      <td>7.599609</td>\n",
       "      <td>110</td>\n",
       "    </tr>\n",
       "    <tr>\n",
       "      <th>578</th>\n",
       "      <td>6</td>\n",
       "      <td>49.116974</td>\n",
       "      <td>male</td>\n",
       "      <td>yes</td>\n",
       "      <td>8</td>\n",
       "      <td>low</td>\n",
       "      <td>low</td>\n",
       "      <td>5799.0</td>\n",
       "      <td>low</td>\n",
       "      <td>white</td>\n",
       "      <td>108</td>\n",
       "      <td>8.898438</td>\n",
       "      <td>87</td>\n",
       "    </tr>\n",
       "    <tr>\n",
       "      <th>579</th>\n",
       "      <td>9</td>\n",
       "      <td>18.414993</td>\n",
       "      <td>male</td>\n",
       "      <td>yes</td>\n",
       "      <td>12</td>\n",
       "      <td>low</td>\n",
       "      <td>high</td>\n",
       "      <td>22047.0</td>\n",
       "      <td>high</td>\n",
       "      <td>white</td>\n",
       "      <td>67</td>\n",
       "      <td>12.099609</td>\n",
       "      <td>66</td>\n",
       "    </tr>\n",
       "  </tbody>\n",
       "</table>\n",
       "<p>580 rows × 13 columns</p>\n",
       "</div>"
      ],
      "text/plain": [
       "     Days        Age     Sex Comorbidity  EdYears Education Income   Charges  \\\n",
       "0       8  42.258972  female          no       11       low   high    9914.0   \n",
       "1      14  63.662994  female          no       22      high   high  283303.0   \n",
       "2      21  41.521973    male         yes       18      high   high  320843.0   \n",
       "3       4  41.959991    male         yes       16      high   high    4173.0   \n",
       "4      11  52.089996    male         yes        8       low   high   13414.0   \n",
       "..    ...        ...     ...         ...      ...       ...    ...       ...   \n",
       "575    13  70.091980  female         yes        9       low    low   14271.0   \n",
       "576     4  81.721985    male         yes        8       low    low    3043.0   \n",
       "577     3  74.521973  female         yes        8       low   high    2172.0   \n",
       "578     6  49.116974    male         yes        8       low    low    5799.0   \n",
       "579     9  18.414993    male         yes       12       low   high   22047.0   \n",
       "\n",
       "     Care       Race  Pressure      Blood  Rate  \n",
       "0     low  non-white        84  11.298828    94  \n",
       "1    high      white        69  30.097656   108  \n",
       "2    high      white        66   0.199982   130  \n",
       "3     low      white        97  10.798828    88  \n",
       "4     low      white        89   6.399414    92  \n",
       "..    ...        ...       ...        ...   ...  \n",
       "575  high      white        65  38.398438   104  \n",
       "576   low      white        71   4.599609    67  \n",
       "577   low      white        99   7.599609   110  \n",
       "578   low      white       108   8.898438    87  \n",
       "579  high      white        67  12.099609    66  \n",
       "\n",
       "[580 rows x 13 columns]"
      ]
     },
     "execution_count": 2,
     "metadata": {},
     "output_type": "execute_result"
    }
   ],
   "source": [
    "df = pd.read_csv(\"hospital.csv\")\n",
    "df"
   ]
  },
  {
   "cell_type": "markdown",
   "id": "23e46794",
   "metadata": {},
   "source": [
    "**c)** Create a training and testing dataset for the hospital data.  Use a random state of 674, and put 85% of the observations into the training set with 15% of the observations into the test set."
   ]
  },
  {
   "cell_type": "code",
   "execution_count": 3,
   "id": "b4457851",
   "metadata": {},
   "outputs": [],
   "source": [
    "df_train, df_test = train_test_split(df, \n",
    "                                     test_size=0.15, random_state=674)"
   ]
  },
  {
   "cell_type": "code",
   "execution_count": 4,
   "id": "bfcbfd67",
   "metadata": {},
   "outputs": [
    {
     "data": {
      "text/plain": [
       "(493, 13)"
      ]
     },
     "execution_count": 4,
     "metadata": {},
     "output_type": "execute_result"
    }
   ],
   "source": [
    "df_train.shape"
   ]
  },
  {
   "cell_type": "code",
   "execution_count": 5,
   "id": "b657dd0e",
   "metadata": {},
   "outputs": [
    {
     "data": {
      "text/plain": [
       "(87, 13)"
      ]
     },
     "execution_count": 5,
     "metadata": {},
     "output_type": "execute_result"
    }
   ],
   "source": [
    "df_test.shape"
   ]
  },
  {
   "cell_type": "markdown",
   "id": "1fd9cdee",
   "metadata": {},
   "source": [
    "## 2. Linear Model of Interest [2 points]\n",
    "\n",
    "**a)** Fit a linear model to the training data predicting the number of days of the hospital stay based on the age, years of education, white blood count, race, and the interaction of the race with the years of education. "
   ]
  },
  {
   "cell_type": "code",
   "execution_count": 6,
   "id": "8a858479",
   "metadata": {},
   "outputs": [],
   "source": [
    "df['race_number'] = df['Race'].replace({'white': 1, 'non-white': 0})\n",
    "df_hospital, df_test = train_test_split(df, test_size=0.15, random_state=674)\n",
    "\n",
    "model = smf.ols('Days ~ Age + EdYears + Blood + race_number + race_number:EdYears', df_hospital).fit()"
   ]
  },
  {
   "cell_type": "markdown",
   "id": "52d0ec5a",
   "metadata": {},
   "source": [
    "**b)** Create a fitted vs. residuals plot for this model."
   ]
  },
  {
   "cell_type": "code",
   "execution_count": 7,
   "id": "51ce0136",
   "metadata": {},
   "outputs": [],
   "source": [
    "y_predict = model.predict(df_hospital[['Age', 'EdYears', 'Blood', 'race_number']])\n",
    "\n",
    "residuals = df_hospital['Days'] - y_predict"
   ]
  },
  {
   "cell_type": "code",
   "execution_count": 11,
   "id": "c2ea22c4",
   "metadata": {},
   "outputs": [
    {
     "data": {
      "image/png": "[encoded data removed]",
      "text/plain": [
       "<Figure size 1000x600 with 1 Axes>"
      ]
     },
     "metadata": {},
     "output_type": "display_data"
    }
   ],
   "source": [
    "plt.figure(figsize=(10, 6))\n",
    "plt.scatter(y_predict, residuals)\n",
    "plt.axhline(y=0, color='red', linestyle='--')\n",
    "plt.xlabel('Fitted (Predicted) values')\n",
    "plt.ylabel('Residuals')\n",
    "plt.title('Fitted values vs. Residuals')\n",
    "plt.show()"
   ]
  },
  {
   "cell_type": "markdown",
   "id": "d2e06c47",
   "metadata": {},
   "source": [
    "**c)** Generate an appropriate QQ plot for this model."
   ]
  },
  {
   "cell_type": "code",
   "execution_count": 13,
   "id": "920c8260",
   "metadata": {},
   "outputs": [
    {
     "data": {
      "image/png": "[encoded data removed]",
      "text/plain": [
       "<Figure size 640x480 with 1 Axes>"
      ]
     },
     "metadata": {},
     "output_type": "display_data"
    }
   ],
   "source": [
    "import statsmodels.api as sm\n",
    "\n",
    "sm.qqplot(residuals, line='s')\n",
    "plt.title('QQplot of residuals')\n",
    "plt.show()"
   ]
  },
  {
   "cell_type": "markdown",
   "id": "c544888d",
   "metadata": {},
   "source": [
    "## 3. Displaying the Linear Model [0.5 points]\n",
    "\n",
    "Display a summary of the linear model that you fit in Question 2."
   ]
  },
  {
   "cell_type": "code",
   "execution_count": 14,
   "id": "669f1552",
   "metadata": {},
   "outputs": [
    {
     "data": {
      "text/html": [
       "<table class=\"simpletable\">\n",
       "<caption>OLS Regression Results</caption>\n",
       "<tr>\n",
       "  <th>Dep. Variable:</th>          <td>Days</td>       <th>  R-squared:         </th> <td>   0.025</td>\n",
       "</tr>\n",
       "<tr>\n",
       "  <th>Model:</th>                   <td>OLS</td>       <th>  Adj. R-squared:    </th> <td>   0.015</td>\n",
       "</tr>\n",
       "<tr>\n",
       "  <th>Method:</th>             <td>Least Squares</td>  <th>  F-statistic:       </th> <td>   2.454</td>\n",
       "</tr>\n",
       "<tr>\n",
       "  <th>Date:</th>             <td>Thu, 03 Apr 2025</td> <th>  Prob (F-statistic):</th>  <td>0.0327</td> \n",
       "</tr>\n",
       "<tr>\n",
       "  <th>Time:</th>                 <td>16:29:06</td>     <th>  Log-Likelihood:    </th> <td> -2245.2</td>\n",
       "</tr>\n",
       "<tr>\n",
       "  <th>No. Observations:</th>      <td>   493</td>      <th>  AIC:               </th> <td>   4502.</td>\n",
       "</tr>\n",
       "<tr>\n",
       "  <th>Df Residuals:</th>          <td>   487</td>      <th>  BIC:               </th> <td>   4528.</td>\n",
       "</tr>\n",
       "<tr>\n",
       "  <th>Df Model:</th>              <td>     5</td>      <th>                     </th>     <td> </td>   \n",
       "</tr>\n",
       "<tr>\n",
       "  <th>Covariance Type:</th>      <td>nonrobust</td>    <th>                     </th>     <td> </td>   \n",
       "</tr>\n",
       "</table>\n",
       "<table class=\"simpletable\">\n",
       "<tr>\n",
       "           <td></td>              <th>coef</th>     <th>std err</th>      <th>t</th>      <th>P>|t|</th>  <th>[0.025</th>    <th>0.975]</th>  \n",
       "</tr>\n",
       "<tr>\n",
       "  <th>Intercept</th>           <td>   18.4304</td> <td>    8.940</td> <td>    2.062</td> <td> 0.040</td> <td>    0.865</td> <td>   35.996</td>\n",
       "</tr>\n",
       "<tr>\n",
       "  <th>Age</th>                 <td>   -0.1221</td> <td>    0.067</td> <td>   -1.817</td> <td> 0.070</td> <td>   -0.254</td> <td>    0.010</td>\n",
       "</tr>\n",
       "<tr>\n",
       "  <th>EdYears</th>             <td>   -0.0306</td> <td>    0.615</td> <td>   -0.050</td> <td> 0.960</td> <td>   -1.239</td> <td>    1.178</td>\n",
       "</tr>\n",
       "<tr>\n",
       "  <th>Blood</th>               <td>    0.3754</td> <td>    0.132</td> <td>    2.844</td> <td> 0.005</td> <td>    0.116</td> <td>    0.635</td>\n",
       "</tr>\n",
       "<tr>\n",
       "  <th>race_number</th>         <td>    3.1126</td> <td>    8.323</td> <td>    0.374</td> <td> 0.709</td> <td>  -13.241</td> <td>   19.466</td>\n",
       "</tr>\n",
       "<tr>\n",
       "  <th>race_number:EdYears</th> <td>-3.989e-05</td> <td>    0.691</td> <td>-5.77e-05</td> <td> 1.000</td> <td>   -1.358</td> <td>    1.358</td>\n",
       "</tr>\n",
       "</table>\n",
       "<table class=\"simpletable\">\n",
       "<tr>\n",
       "  <th>Omnibus:</th>       <td>507.119</td> <th>  Durbin-Watson:     </th> <td>   2.033</td> \n",
       "</tr>\n",
       "<tr>\n",
       "  <th>Prob(Omnibus):</th> <td> 0.000</td>  <th>  Jarque-Bera (JB):  </th> <td>20010.929</td>\n",
       "</tr>\n",
       "<tr>\n",
       "  <th>Skew:</th>          <td> 4.681</td>  <th>  Prob(JB):          </th> <td>    0.00</td> \n",
       "</tr>\n",
       "<tr>\n",
       "  <th>Kurtosis:</th>      <td>32.775</td>  <th>  Cond. No.          </th> <td>    728.</td> \n",
       "</tr>\n",
       "</table><br/><br/>Notes:<br/>[1] Standard Errors assume that the covariance matrix of the errors is correctly specified."
      ],
      "text/latex": [
       "\\begin{center}\n",
       "\\begin{tabular}{lclc}\n",
       "\\toprule\n",
       "\\textbf{Dep. Variable:}       &       Days       & \\textbf{  R-squared:         } &     0.025   \\\\\n",
       "\\textbf{Model:}               &       OLS        & \\textbf{  Adj. R-squared:    } &     0.015   \\\\\n",
       "\\textbf{Method:}              &  Least Squares   & \\textbf{  F-statistic:       } &     2.454   \\\\\n",
       "\\textbf{Date:}                & Thu, 03 Apr 2025 & \\textbf{  Prob (F-statistic):} &   0.0327    \\\\\n",
       "\\textbf{Time:}                &     16:29:06     & \\textbf{  Log-Likelihood:    } &   -2245.2   \\\\\n",
       "\\textbf{No. Observations:}    &         493      & \\textbf{  AIC:               } &     4502.   \\\\\n",
       "\\textbf{Df Residuals:}        &         487      & \\textbf{  BIC:               } &     4528.   \\\\\n",
       "\\textbf{Df Model:}            &           5      & \\textbf{                     } &             \\\\\n",
       "\\textbf{Covariance Type:}     &    nonrobust     & \\textbf{                     } &             \\\\\n",
       "\\bottomrule\n",
       "\\end{tabular}\n",
       "\\begin{tabular}{lcccccc}\n",
       "                              & \\textbf{coef} & \\textbf{std err} & \\textbf{t} & \\textbf{P$> |$t$|$} & \\textbf{[0.025} & \\textbf{0.975]}  \\\\\n",
       "\\midrule\n",
       "\\textbf{Intercept}            &      18.4304  &        8.940     &     2.062  &         0.040        &        0.865    &       35.996     \\\\\n",
       "\\textbf{Age}                  &      -0.1221  &        0.067     &    -1.817  &         0.070        &       -0.254    &        0.010     \\\\\n",
       "\\textbf{EdYears}              &      -0.0306  &        0.615     &    -0.050  &         0.960        &       -1.239    &        1.178     \\\\\n",
       "\\textbf{Blood}                &       0.3754  &        0.132     &     2.844  &         0.005        &        0.116    &        0.635     \\\\\n",
       "\\textbf{race\\_number}         &       3.1126  &        8.323     &     0.374  &         0.709        &      -13.241    &       19.466     \\\\\n",
       "\\textbf{race\\_number:EdYears} &   -3.989e-05  &        0.691     & -5.77e-05  &         1.000        &       -1.358    &        1.358     \\\\\n",
       "\\bottomrule\n",
       "\\end{tabular}\n",
       "\\begin{tabular}{lclc}\n",
       "\\textbf{Omnibus:}       & 507.119 & \\textbf{  Durbin-Watson:     } &     2.033  \\\\\n",
       "\\textbf{Prob(Omnibus):} &   0.000 & \\textbf{  Jarque-Bera (JB):  } & 20010.929  \\\\\n",
       "\\textbf{Skew:}          &   4.681 & \\textbf{  Prob(JB):          } &      0.00  \\\\\n",
       "\\textbf{Kurtosis:}      &  32.775 & \\textbf{  Cond. No.          } &      728.  \\\\\n",
       "\\bottomrule\n",
       "\\end{tabular}\n",
       "%\\caption{OLS Regression Results}\n",
       "\\end{center}\n",
       "\n",
       "Notes: \\newline\n",
       " [1] Standard Errors assume that the covariance matrix of the errors is correctly specified."
      ],
      "text/plain": [
       "<class 'statsmodels.iolib.summary.Summary'>\n",
       "\"\"\"\n",
       "                            OLS Regression Results                            \n",
       "==============================================================================\n",
       "Dep. Variable:                   Days   R-squared:                       0.025\n",
       "Model:                            OLS   Adj. R-squared:                  0.015\n",
       "Method:                 Least Squares   F-statistic:                     2.454\n",
       "Date:                Thu, 03 Apr 2025   Prob (F-statistic):             0.0327\n",
       "Time:                        16:29:06   Log-Likelihood:                -2245.2\n",
       "No. Observations:                 493   AIC:                             4502.\n",
       "Df Residuals:                     487   BIC:                             4528.\n",
       "Df Model:                           5                                         \n",
       "Covariance Type:            nonrobust                                         \n",
       "=======================================================================================\n",
       "                          coef    std err          t      P>|t|      [0.025      0.975]\n",
       "---------------------------------------------------------------------------------------\n",
       "Intercept              18.4304      8.940      2.062      0.040       0.865      35.996\n",
       "Age                    -0.1221      0.067     -1.817      0.070      -0.254       0.010\n",
       "EdYears                -0.0306      0.615     -0.050      0.960      -1.239       1.178\n",
       "Blood                   0.3754      0.132      2.844      0.005       0.116       0.635\n",
       "race_number             3.1126      8.323      0.374      0.709     -13.241      19.466\n",
       "race_number:EdYears -3.989e-05      0.691  -5.77e-05      1.000      -1.358       1.358\n",
       "==============================================================================\n",
       "Omnibus:                      507.119   Durbin-Watson:                   2.033\n",
       "Prob(Omnibus):                  0.000   Jarque-Bera (JB):            20010.929\n",
       "Skew:                           4.681   Prob(JB):                         0.00\n",
       "Kurtosis:                      32.775   Cond. No.                         728.\n",
       "==============================================================================\n",
       "\n",
       "Notes:\n",
       "[1] Standard Errors assume that the covariance matrix of the errors is correctly specified.\n",
       "\"\"\""
      ]
     },
     "execution_count": 14,
     "metadata": {},
     "output_type": "execute_result"
    }
   ],
   "source": [
    "model.summary()"
   ]
  },
  {
   "cell_type": "code",
   "execution_count": 17,
   "id": "9a9e7504",
   "metadata": {},
   "outputs": [
    {
     "name": "stdout",
     "output_type": "stream",
     "text": [
      "18.26923158367696\n"
     ]
    }
   ],
   "source": [
    "from sklearn.metrics import mean_squared_error\n",
    "\n",
    "y_pred = model.predict(df_test[['Age', 'EdYears', 'Blood', 'race_number']])\n",
    "\n",
    "rmse = mean_squared_error(df_test['Days'], y_pred, squared=False)\n",
    "print(rmse)"
   ]
  },
  {
   "cell_type": "markdown",
   "id": "fba8e988",
   "metadata": {},
   "source": [
    "## 4. A Second Model [1 point]\n",
    "\n",
    "For this last question, we will respond to the second research question for this assignment, which is: \"Can we learn about the relationship between level of care required and variables including the age, sex, and comorbidity of the patient?\"\n",
    "\n",
    "Fit a logistic model to the training data predicting the level of care required from the age, sex, and comorbidities of the patient."
   ]
  },
  {
   "cell_type": "code",
   "execution_count": 19,
   "id": "8d2b7470",
   "metadata": {},
   "outputs": [],
   "source": [
    "df_train['Care'] = df_train['Care'].replace({'low': 0, 'high': 1})\n",
    "df_train['Care'] = df_train['Care'].astype(int)"
   ]
  },
  {
   "cell_type": "code",
   "execution_count": 20,
   "id": "e480430f",
   "metadata": {},
   "outputs": [
    {
     "name": "stdout",
     "output_type": "stream",
     "text": [
      "Optimization terminated successfully.\n",
      "         Current function value: 0.645326\n",
      "         Iterations 5\n"
     ]
    }
   ],
   "source": [
    "import statsmodels.formula.api as smf\n",
    "\n",
    "logit_model = smf.logit('Care ~ Age + Sex + Comorbidity', data=df_train).fit()\n"
   ]
  },
  {
   "cell_type": "code",
   "execution_count": 21,
   "id": "1d9a5184",
   "metadata": {},
   "outputs": [
    {
     "data": {
      "text/html": [
       "<table class=\"simpletable\">\n",
       "<caption>Logit Regression Results</caption>\n",
       "<tr>\n",
       "  <th>Dep. Variable:</th>         <td>Care</td>       <th>  No. Observations:  </th>  <td>   493</td>  \n",
       "</tr>\n",
       "<tr>\n",
       "  <th>Model:</th>                 <td>Logit</td>      <th>  Df Residuals:      </th>  <td>   489</td>  \n",
       "</tr>\n",
       "<tr>\n",
       "  <th>Method:</th>                 <td>MLE</td>       <th>  Df Model:          </th>  <td>     3</td>  \n",
       "</tr>\n",
       "<tr>\n",
       "  <th>Date:</th>            <td>Thu, 03 Apr 2025</td> <th>  Pseudo R-squ.:     </th>  <td>0.06697</td> \n",
       "</tr>\n",
       "<tr>\n",
       "  <th>Time:</th>                <td>16:31:23</td>     <th>  Log-Likelihood:    </th> <td> -318.15</td> \n",
       "</tr>\n",
       "<tr>\n",
       "  <th>converged:</th>             <td>True</td>       <th>  LL-Null:           </th> <td> -340.98</td> \n",
       "</tr>\n",
       "<tr>\n",
       "  <th>Covariance Type:</th>     <td>nonrobust</td>    <th>  LLR p-value:       </th> <td>6.658e-10</td>\n",
       "</tr>\n",
       "</table>\n",
       "<table class=\"simpletable\">\n",
       "<tr>\n",
       "           <td></td>             <th>coef</th>     <th>std err</th>      <th>z</th>      <th>P>|z|</th>  <th>[0.025</th>    <th>0.975]</th>  \n",
       "</tr>\n",
       "<tr>\n",
       "  <th>Intercept</th>          <td>    2.8076</td> <td>    0.515</td> <td>    5.449</td> <td> 0.000</td> <td>    1.798</td> <td>    3.817</td>\n",
       "</tr>\n",
       "<tr>\n",
       "  <th>Sex[T.male]</th>        <td>   -0.2900</td> <td>    0.190</td> <td>   -1.525</td> <td> 0.127</td> <td>   -0.663</td> <td>    0.083</td>\n",
       "</tr>\n",
       "<tr>\n",
       "  <th>Comorbidity[T.yes]</th> <td>   -1.6464</td> <td>    0.354</td> <td>   -4.656</td> <td> 0.000</td> <td>   -2.340</td> <td>   -0.953</td>\n",
       "</tr>\n",
       "<tr>\n",
       "  <th>Age</th>                <td>   -0.0208</td> <td>    0.006</td> <td>   -3.421</td> <td> 0.001</td> <td>   -0.033</td> <td>   -0.009</td>\n",
       "</tr>\n",
       "</table>"
      ],
      "text/latex": [
       "\\begin{center}\n",
       "\\begin{tabular}{lclc}\n",
       "\\toprule\n",
       "\\textbf{Dep. Variable:}     &       Care       & \\textbf{  No. Observations:  } &      493    \\\\\n",
       "\\textbf{Model:}             &      Logit       & \\textbf{  Df Residuals:      } &      489    \\\\\n",
       "\\textbf{Method:}            &       MLE        & \\textbf{  Df Model:          } &        3    \\\\\n",
       "\\textbf{Date:}              & Thu, 03 Apr 2025 & \\textbf{  Pseudo R-squ.:     } &  0.06697    \\\\\n",
       "\\textbf{Time:}              &     16:31:23     & \\textbf{  Log-Likelihood:    } &   -318.15   \\\\\n",
       "\\textbf{converged:}         &       True       & \\textbf{  LL-Null:           } &   -340.98   \\\\\n",
       "\\textbf{Covariance Type:}   &    nonrobust     & \\textbf{  LLR p-value:       } & 6.658e-10   \\\\\n",
       "\\bottomrule\n",
       "\\end{tabular}\n",
       "\\begin{tabular}{lcccccc}\n",
       "                            & \\textbf{coef} & \\textbf{std err} & \\textbf{z} & \\textbf{P$> |$z$|$} & \\textbf{[0.025} & \\textbf{0.975]}  \\\\\n",
       "\\midrule\n",
       "\\textbf{Intercept}          &       2.8076  &        0.515     &     5.449  &         0.000        &        1.798    &        3.817     \\\\\n",
       "\\textbf{Sex[T.male]}        &      -0.2900  &        0.190     &    -1.525  &         0.127        &       -0.663    &        0.083     \\\\\n",
       "\\textbf{Comorbidity[T.yes]} &      -1.6464  &        0.354     &    -4.656  &         0.000        &       -2.340    &       -0.953     \\\\\n",
       "\\textbf{Age}                &      -0.0208  &        0.006     &    -3.421  &         0.001        &       -0.033    &       -0.009     \\\\\n",
       "\\bottomrule\n",
       "\\end{tabular}\n",
       "%\\caption{Logit Regression Results}\n",
       "\\end{center}"
      ],
      "text/plain": [
       "<class 'statsmodels.iolib.summary.Summary'>\n",
       "\"\"\"\n",
       "                           Logit Regression Results                           \n",
       "==============================================================================\n",
       "Dep. Variable:                   Care   No. Observations:                  493\n",
       "Model:                          Logit   Df Residuals:                      489\n",
       "Method:                           MLE   Df Model:                            3\n",
       "Date:                Thu, 03 Apr 2025   Pseudo R-squ.:                 0.06697\n",
       "Time:                        16:31:23   Log-Likelihood:                -318.15\n",
       "converged:                       True   LL-Null:                       -340.98\n",
       "Covariance Type:            nonrobust   LLR p-value:                 6.658e-10\n",
       "======================================================================================\n",
       "                         coef    std err          z      P>|z|      [0.025      0.975]\n",
       "--------------------------------------------------------------------------------------\n",
       "Intercept              2.8076      0.515      5.449      0.000       1.798       3.817\n",
       "Sex[T.male]           -0.2900      0.190     -1.525      0.127      -0.663       0.083\n",
       "Comorbidity[T.yes]    -1.6464      0.354     -4.656      0.000      -2.340      -0.953\n",
       "Age                   -0.0208      0.006     -3.421      0.001      -0.033      -0.009\n",
       "======================================================================================\n",
       "\"\"\""
      ]
     },
     "execution_count": 21,
     "metadata": {},
     "output_type": "execute_result"
    }
   ],
   "source": [
    "logit_model.summary()"
   ]
  },
  {
   "cell_type": "code",
   "execution_count": 23,
   "id": "7453a539",
   "metadata": {},
   "outputs": [
    {
     "name": "stdout",
     "output_type": "stream",
     "text": [
      "8.179246242702249\n"
     ]
    }
   ],
   "source": [
    "import numpy as np\n",
    "\n",
    "intercept = 2.8076\n",
    "sex_male = 1           \n",
    "comorbidity_yes = 0    \n",
    "age = 20\n",
    "\n",
    "\n",
    "log_odds = intercept - 0.2900 * sex_male - 1.6464 * comorbidity_yes - 0.0208 * age\n",
    "\n",
    "\n",
    "odds = np.exp(log_odds)\n",
    "print(odds)"
   ]
  },
  {
   "cell_type": "code",
   "execution_count": 24,
   "id": "44925aac",
   "metadata": {},
   "outputs": [
    {
     "name": "stdout",
     "output_type": "stream",
     "text": [
      "0.6689854546729282\n"
     ]
    }
   ],
   "source": [
    "intercept = 2.8076\n",
    "sex_male = 0           \n",
    "comorbidity_yes = 1     \n",
    "age = 22\n",
    "\n",
    "log_odds2 = intercept - 0.2900 * sex_male - 1.6464 * comorbidity_yes - 0.0208 * age\n",
    "\n",
    "prob = 1 / (1 + np.exp(-log_odds2))\n",
    "print(prob)\n"
   ]
  },
  {
   "cell_type": "markdown",
   "id": "f02327ec",
   "metadata": {},
   "source": [
    "Remember to keep all your cells and hit the save icon above periodically to checkpoint (save) your results on your local computer. Once you are satisified with your results restart the kernel and run all (Kernel -> Restart & Run All). **Make sure nothing has changed**. Checkpoint and exit (File -> Save and Checkpoint + File -> Close and Halt). Follow the instructions on the Homework 8 Canvas Assignment to submit your notebook to GitHub."
   ]
  }
 ],
 "metadata": {
  "kernelspec": {
   "display_name": "base",
   "language": "python",
   "name": "python3"
  },
  "language_info": {
   "codemirror_mode": {
    "name": "ipython",
    "version": 3
   },
   "file_extension": ".py",
   "mimetype": "text/x-python",
   "name": "python",
   "nbconvert_exporter": "python",
   "pygments_lexer": "ipython3",
   "version": "3.11.5"
  }
 },
 "nbformat": 4,
 "nbformat_minor": 5
}

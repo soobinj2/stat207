{
 "cells": [
  {
   "cell_type": "markdown",
   "id": "e746da0e",
   "metadata": {},
   "source": [
    "# STAT 207 Homework 5 [25 points]\n",
    "\n",
    "## Inference Procedures"
   ]
  },
  {
   "cell_type": "markdown",
   "id": "6fef820a",
   "metadata": {},
   "source": [
    "Due: Thursday, February 27, end of day (11:59 pm CT)\n",
    "\n",
    "Late submissions accepted until Friday, February 28 at noon\n",
    "\n",
    "<hr>"
   ]
  },
  {
   "cell_type": "markdown",
   "id": "c4d94493",
   "metadata": {},
   "source": [
    "## Imports \n",
    "\n",
    "Run the following code cell to import the necessary packages into the file.  You may import additional packages, as needed for this assignment."
   ]
  },
  {
   "cell_type": "code",
   "execution_count": null,
   "id": "25c92b96",
   "metadata": {},
   "outputs": [],
   "source": [
    "import pandas as pd\n",
    "import matplotlib.pyplot as plt\n",
    "import seaborn as sns; sns.set()\n",
    "import statsmodels.formula.api as smf"
   ]
  },
  {
   "cell_type": "markdown",
   "id": "ac088395",
   "metadata": {},
   "source": [
    "## Case Study: Colleges and Universities\n",
    "\n",
    "We will use a random sample of post-secondary education facilities (colleges & universities) from the United States, including Puerto Rico & other US territories.  The **colleges.csv** file contains a random sample of 135 post-secondary education facilities from the US.  This data originally were obtained from: https://www.kaggle.com/yamqwe/colleges-and-universitiese\n",
    "although the specific data is no longer available through this link.\n",
    "\n",
    "We will focus on a few variables in particular:\n",
    "\n",
    "- the categorization of the school (`NAICS_DESC`)\n",
    "- the total number of students enrolled (`TOT_ENROLL`)\n",
    "\n",
    "## 1. Read and prepare the data [1 point] \n",
    "\n",
    "**a)** You should read in the data from the **colleges.csv** file."
   ]
  },
  {
   "cell_type": "code",
   "execution_count": null,
   "id": "bf1ee6e5",
   "metadata": {},
   "outputs": [],
   "source": []
  },
  {
   "cell_type": "markdown",
   "id": "3c61964c",
   "metadata": {},
   "source": [
    "**b)** We are interested in making statements about junior colleges, colleges, universities, and professional schools.  Update our data so that this can be accomplished.  That is, be sure that all other types of post-secondary schools are removed from the data."
   ]
  },
  {
   "cell_type": "code",
   "execution_count": null,
   "id": "39e62c30",
   "metadata": {},
   "outputs": [],
   "source": []
  },
  {
   "cell_type": "markdown",
   "id": "8e50fad7",
   "metadata": {},
   "source": [
    "**c)** Explore the values recorded for the `TOT_ENROLL` variable, and perform any data cleaning that needs to take place.\n",
    "\n",
    "**Hint:** Consider possible values for the `TOT_ENROLL` variable in particular, and remove any colleges or universities that do not have possible, logical values recorded."
   ]
  },
  {
   "cell_type": "code",
   "execution_count": null,
   "id": "ce2ff169",
   "metadata": {},
   "outputs": [],
   "source": []
  },
  {
   "cell_type": "code",
   "execution_count": null,
   "id": "c06234de",
   "metadata": {},
   "outputs": [],
   "source": []
  },
  {
   "cell_type": "markdown",
   "id": "12aa3594",
   "metadata": {},
   "source": [
    "**Data Cleaning Hint:** I had 86 observations left after my data cleaning was performed.  "
   ]
  },
  {
   "cell_type": "markdown",
   "id": "3456bad5",
   "metadata": {},
   "source": [
    "## 2. Typical enrollment? [1.5 points]\n",
    "\n",
    "Although the University of Illinois is a large university with a large enrollment, there are also many smaller colleges in the state, including Parkland College with a total enrollment of 6,014.  \n",
    "\n",
    "Since we know that there are many more smaller colleges than large universities, we'd like to test if the median college enrollment in the United States is smaller than the enrollment of Parkland College (6,014).  \n",
    "\n",
    "We'd like to perform a hypothesis test using a 10% significance level based on our sample of colleges and universities."
   ]
  },
  {
   "cell_type": "markdown",
   "id": "4255ddd7",
   "metadata": {},
   "source": [
    "**a)** Update our data to reflect the null hypothesis."
   ]
  },
  {
   "cell_type": "code",
   "execution_count": null,
   "id": "61c8cf5a",
   "metadata": {},
   "outputs": [],
   "source": []
  },
  {
   "cell_type": "markdown",
   "id": "d981c91b",
   "metadata": {},
   "source": [
    "**b)** We will use our simulation-based procedures that we have developed so far this semester.\n",
    "\n",
    "While we only have our one sample available, we will use it as a stand in for the population.  From our sample, gather a random sample with replacement of the same size as our original sample data.  We will then repeat this process to generate many random samples.  For each of our random samples, calculate and record our statistic of interest.  We will repeat this process 5000 times, and use the 5000 observations of our statistic of interest as a sampling distribution."
   ]
  },
  {
   "cell_type": "code",
   "execution_count": null,
   "id": "c98ad1b1",
   "metadata": {},
   "outputs": [],
   "source": []
  },
  {
   "cell_type": "markdown",
   "id": "2810214b",
   "metadata": {},
   "source": [
    "## Case Study: Kitchen Prep Time\n",
    "\n",
    "The `food_prep.csv` file contains information about how much time a sample of American adults spent preparing food and drink (in minutes) in the last 24 hours.  The data has already been cleaned, so you don't need to worry about cleaning the data before analyzing it.\n",
    "\n",
    "## 3. A Confidence Interval [1 point]\n",
    "\n",
    "Read in the `food_prep.csv` file.  Then, generate a sampling distribution for the **median** time spent preparing food and drink by all American adults.  Finally, find the 95% confidence interval using your sampling distribution."
   ]
  },
  {
   "cell_type": "code",
   "execution_count": null,
   "id": "b9ff6b2e",
   "metadata": {},
   "outputs": [],
   "source": []
  },
  {
   "cell_type": "code",
   "execution_count": null,
   "id": "1af8e554",
   "metadata": {},
   "outputs": [],
   "source": []
  },
  {
   "cell_type": "markdown",
   "id": "86696e42",
   "metadata": {},
   "source": [
    "## 4. Student Midterm Survey [1 point]\n",
    "\n",
    "Complete the student midterm survey on Canvas to earn the last point for Homework 5."
   ]
  },
  {
   "cell_type": "markdown",
   "id": "f02327ec",
   "metadata": {},
   "source": [
    "Remember to keep all your cells and hit the save icon above periodically to checkpoint (save) your results on your local computer. Once you are satisified with your results restart the kernel and run all (Kernel -> Restart & Run All). **Make sure nothing has changed**. Checkpoint and exit (File -> Save and Checkpoint + File -> Close and Halt). Follow the instructions on the Homework 5 Canvas Assignment to submit your notebook to GitHub."
   ]
  }
 ],
 "metadata": {
  "kernelspec": {
   "display_name": "Python 3 (ipykernel)",
   "language": "python",
   "name": "python3"
  },
  "language_info": {
   "codemirror_mode": {
    "name": "ipython",
    "version": 3
   },
   "file_extension": ".py",
   "mimetype": "text/x-python",
   "name": "python",
   "nbconvert_exporter": "python",
   "pygments_lexer": "ipython3",
   "version": "3.8.11"
  }
 },
 "nbformat": 4,
 "nbformat_minor": 5
}

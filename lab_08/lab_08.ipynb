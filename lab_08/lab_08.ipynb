{
 "cells": [
  {
   "cell_type": "markdown",
   "metadata": {},
   "source": [
    "# STAT 207 Group Lab Assignment 8 - [10 total points]\n",
    "\n",
    "## Confidence Interval Properties"
   ]
  },
  {
   "cell_type": "markdown",
   "metadata": {},
   "source": [
    "<hr>"
   ]
  },
  {
   "cell_type": "markdown",
   "metadata": {},
   "source": [
    "## <u>Lab Grading</u>:\n",
    "\n",
    "Should we grade your submission?  If not, write the netID of the submission to be graded.  (Note: We will only grade one assignment per group, and we'll pick the first one that says we should grade that submission.  We will assign the same grade to all team members.)\n",
    "\n",
    "*For example*, you might respond: **grade this submission** or **my submission is under netID jdeeke**"
   ]
  },
  {
   "cell_type": "markdown",
   "metadata": {},
   "source": [
    "grade this submission"
   ]
  },
  {
   "cell_type": "markdown",
   "metadata": {},
   "source": [
    "If you said **my submission is under netID** above, we will not read any more of your lab submission.\n",
    "\n",
    "If you said **grade this submission** above, who worked with you on this submission?  Write both their **names** and **netIDs**.  \n",
    "\n",
    "Also, discuss and record your favorite Pokemon, for those who play Pokemon."
   ]
  },
  {
   "cell_type": "markdown",
   "metadata": {},
   "source": [
    "Joonwoo Ha (ha47)"
   ]
  },
  {
   "cell_type": "markdown",
   "metadata": {},
   "source": [
    "<hr>\n",
    "\n",
    "## <u>Purpose</u>:\n",
    "You should work in groups of 2-3 on this report (not working in groups without permission will result in a point deduction). The purpose of this group lab assignment is to explore properties of confidence intervals.\n",
    "<hr>"
   ]
  },
  {
   "cell_type": "markdown",
   "metadata": {},
   "source": [
    "## <u>Assignment Instructions</u>:\n"
   ]
  },
  {
   "cell_type": "markdown",
   "metadata": {},
   "source": [
    "### Group Roles\n",
    "\n",
    "Suggested and specified roles are provided below: \n",
    "\n",
    "#### Groups of 2\n",
    "\n",
    "* **Driver**: This student will type the report.  While typing the report, you may be the one who is selecting the functions to apply to the data.\n",
    "* **Navigator**: This student will guide the process of answering the question.  Specific ways to help may include: outlining the general steps needed to solve a question (providing the overview), locating examples within the course notes, and reviewing each line of code as it is typed.\n",
    "\n",
    "#### Groups of 3\n",
    "\n",
    "* **Driver**: This student will type the report.  They may also be the one to select the functions to apply to the data.\n",
    "* **Navigator**: This student will guide the process of answering the question.  They may select the general approach to answering the question and/or a few steps to be completed along the way. \n",
    "* **Communicator**: This student will review the report (as it is typed) to ensure that it is clear and concise.  This student may also locate relevant examples within the course notes that may help complete the assignment.\n",
    "\n",
    "<hr>\n",
    "\n",
    "## 0. [0.5 pts] Imports"
   ]
  },
  {
   "cell_type": "code",
   "execution_count": 1,
   "metadata": {},
   "outputs": [],
   "source": [
    "import numpy as np\n",
    "import pandas as pd"
   ]
  },
  {
   "cell_type": "markdown",
   "metadata": {},
   "source": [
    "<hr>\n",
    "\n",
    "## <u>Case Study</u>: Pokemon Confidence Intervals\n",
    "\n",
    "We previously explored the Pokemon dataset in Lab 5.  Recall that this dataset contains information about all current Pokemon, including those recently released in Generation 9 (2023).  \n",
    "\n",
    "The variables in the data include:\n",
    "\n",
    "- **Height**: height (m)\n",
    "- **Weight**: weight (kg)\n",
    "- **Type1**: the primary type of the Pokemon\n",
    "- **Ability1**: the primary ability of the Pokemon\n",
    "- **Ability_Hidden**: the hidden ability of the Pokemon, if one is present\n",
    "- **Get_Rate**: the rate at which the Pokemon can be captured (higher = easier to capture)\n",
    "- **HP**: the hit point, which is how much damage a Pokemon can sustain before fainting\n",
    "- **Attack**: the damage a Pokemon can inflict with a physical move\n",
    "- **Defense**: the damage a Pokemon receives when hit with a physical move\n",
    "- **SP_Attack**: the damage a Pokemon can inflict with a special move\n",
    "- **SP_Defense**: the damage a Pokemon receives when hit with a special move\n",
    "- **Speed**: speed, which determines the order in which Pokemon can move\n",
    "- **Total**: the sum of each of the base statistics (HP, Attack, Defense, SP_Attack, SP_Defense, and Speed).\n",
    "\n",
    "There are other variables in the data, which you are allowed to use if you understand their provided values.  More information about this dataset can be found at https://www.kaggle.com/datasets/takamasakato/pokemon-all-status-data.\n",
    "\n",
    "We'll also use a second dataset, `deeke.csv`, which has information about the 104 Pokemon that my family has collected.\n",
    "\n",
    "## 1. [1.5 pt] Population Information\n",
    "\n",
    "**a)** Read in the population data."
   ]
  },
  {
   "cell_type": "code",
   "execution_count": 7,
   "metadata": {},
   "outputs": [
    {
     "data": {
      "text/html": [
       "<div>\n",
       "<style scoped>\n",
       "    .dataframe tbody tr th:only-of-type {\n",
       "        vertical-align: middle;\n",
       "    }\n",
       "\n",
       "    .dataframe tbody tr th {\n",
       "        vertical-align: top;\n",
       "    }\n",
       "\n",
       "    .dataframe thead th {\n",
       "        text-align: right;\n",
       "    }\n",
       "</style>\n",
       "<table border=\"1\" class=\"dataframe\">\n",
       "  <thead>\n",
       "    <tr style=\"text-align: right;\">\n",
       "      <th></th>\n",
       "      <th>No</th>\n",
       "      <th>Branch_Code</th>\n",
       "      <th>Original_Name</th>\n",
       "      <th>Name</th>\n",
       "      <th>Generation</th>\n",
       "      <th>Height</th>\n",
       "      <th>Weight</th>\n",
       "      <th>Type1</th>\n",
       "      <th>Type2</th>\n",
       "      <th>Ability1</th>\n",
       "      <th>...</th>\n",
       "      <th>SP_Attack</th>\n",
       "      <th>SP_Defense</th>\n",
       "      <th>Speed</th>\n",
       "      <th>Total</th>\n",
       "      <th>E_HP</th>\n",
       "      <th>E_Attack</th>\n",
       "      <th>E_Defense</th>\n",
       "      <th>E_SP_Attack</th>\n",
       "      <th>E_SP_Defense</th>\n",
       "      <th>E_Speed</th>\n",
       "    </tr>\n",
       "  </thead>\n",
       "  <tbody>\n",
       "    <tr>\n",
       "      <th>0</th>\n",
       "      <td>1</td>\n",
       "      <td>1_0</td>\n",
       "      <td>Bulbasaur</td>\n",
       "      <td>Bulbasaur</td>\n",
       "      <td>1</td>\n",
       "      <td>0.7</td>\n",
       "      <td>6.9</td>\n",
       "      <td>Grass</td>\n",
       "      <td>Poison</td>\n",
       "      <td>Overgrow</td>\n",
       "      <td>...</td>\n",
       "      <td>65</td>\n",
       "      <td>65</td>\n",
       "      <td>45</td>\n",
       "      <td>318</td>\n",
       "      <td>0</td>\n",
       "      <td>0</td>\n",
       "      <td>0</td>\n",
       "      <td>1</td>\n",
       "      <td>0</td>\n",
       "      <td>0</td>\n",
       "    </tr>\n",
       "    <tr>\n",
       "      <th>1</th>\n",
       "      <td>2</td>\n",
       "      <td>2_0</td>\n",
       "      <td>Ivysaur</td>\n",
       "      <td>Ivysaur</td>\n",
       "      <td>1</td>\n",
       "      <td>1.0</td>\n",
       "      <td>13.0</td>\n",
       "      <td>Grass</td>\n",
       "      <td>Poison</td>\n",
       "      <td>Overgrow</td>\n",
       "      <td>...</td>\n",
       "      <td>80</td>\n",
       "      <td>80</td>\n",
       "      <td>60</td>\n",
       "      <td>405</td>\n",
       "      <td>0</td>\n",
       "      <td>0</td>\n",
       "      <td>0</td>\n",
       "      <td>1</td>\n",
       "      <td>1</td>\n",
       "      <td>0</td>\n",
       "    </tr>\n",
       "    <tr>\n",
       "      <th>2</th>\n",
       "      <td>3</td>\n",
       "      <td>3_0</td>\n",
       "      <td>Venusaur</td>\n",
       "      <td>Venusaur</td>\n",
       "      <td>1</td>\n",
       "      <td>2.0</td>\n",
       "      <td>100.0</td>\n",
       "      <td>Grass</td>\n",
       "      <td>Poison</td>\n",
       "      <td>Overgrow</td>\n",
       "      <td>...</td>\n",
       "      <td>100</td>\n",
       "      <td>100</td>\n",
       "      <td>80</td>\n",
       "      <td>525</td>\n",
       "      <td>0</td>\n",
       "      <td>0</td>\n",
       "      <td>0</td>\n",
       "      <td>2</td>\n",
       "      <td>1</td>\n",
       "      <td>0</td>\n",
       "    </tr>\n",
       "    <tr>\n",
       "      <th>3</th>\n",
       "      <td>3</td>\n",
       "      <td>3_1</td>\n",
       "      <td>Venusaur</td>\n",
       "      <td>Mega Venusaur</td>\n",
       "      <td>1</td>\n",
       "      <td>2.4</td>\n",
       "      <td>155.5</td>\n",
       "      <td>Grass</td>\n",
       "      <td>Poison</td>\n",
       "      <td>Thick Fat</td>\n",
       "      <td>...</td>\n",
       "      <td>122</td>\n",
       "      <td>120</td>\n",
       "      <td>80</td>\n",
       "      <td>625</td>\n",
       "      <td>0</td>\n",
       "      <td>0</td>\n",
       "      <td>0</td>\n",
       "      <td>2</td>\n",
       "      <td>1</td>\n",
       "      <td>0</td>\n",
       "    </tr>\n",
       "    <tr>\n",
       "      <th>4</th>\n",
       "      <td>4</td>\n",
       "      <td>4_0</td>\n",
       "      <td>Charmander</td>\n",
       "      <td>Charmander</td>\n",
       "      <td>1</td>\n",
       "      <td>0.6</td>\n",
       "      <td>8.5</td>\n",
       "      <td>Fire</td>\n",
       "      <td>NaN</td>\n",
       "      <td>Blaze</td>\n",
       "      <td>...</td>\n",
       "      <td>60</td>\n",
       "      <td>50</td>\n",
       "      <td>65</td>\n",
       "      <td>309</td>\n",
       "      <td>0</td>\n",
       "      <td>0</td>\n",
       "      <td>0</td>\n",
       "      <td>0</td>\n",
       "      <td>0</td>\n",
       "      <td>1</td>\n",
       "    </tr>\n",
       "    <tr>\n",
       "      <th>...</th>\n",
       "      <td>...</td>\n",
       "      <td>...</td>\n",
       "      <td>...</td>\n",
       "      <td>...</td>\n",
       "      <td>...</td>\n",
       "      <td>...</td>\n",
       "      <td>...</td>\n",
       "      <td>...</td>\n",
       "      <td>...</td>\n",
       "      <td>...</td>\n",
       "      <td>...</td>\n",
       "      <td>...</td>\n",
       "      <td>...</td>\n",
       "      <td>...</td>\n",
       "      <td>...</td>\n",
       "      <td>...</td>\n",
       "      <td>...</td>\n",
       "      <td>...</td>\n",
       "      <td>...</td>\n",
       "      <td>...</td>\n",
       "      <td>...</td>\n",
       "    </tr>\n",
       "    <tr>\n",
       "      <th>1198</th>\n",
       "      <td>1006</td>\n",
       "      <td>1006_0</td>\n",
       "      <td>Iron Valiant</td>\n",
       "      <td>Iron Valiant</td>\n",
       "      <td>9</td>\n",
       "      <td>1.4</td>\n",
       "      <td>35.0</td>\n",
       "      <td>Fairy</td>\n",
       "      <td>Fighting</td>\n",
       "      <td>Quark Drive</td>\n",
       "      <td>...</td>\n",
       "      <td>120</td>\n",
       "      <td>60</td>\n",
       "      <td>116</td>\n",
       "      <td>590</td>\n",
       "      <td>0</td>\n",
       "      <td>3</td>\n",
       "      <td>0</td>\n",
       "      <td>0</td>\n",
       "      <td>0</td>\n",
       "      <td>0</td>\n",
       "    </tr>\n",
       "    <tr>\n",
       "      <th>1199</th>\n",
       "      <td>1007</td>\n",
       "      <td>1007_0</td>\n",
       "      <td>Koraidon</td>\n",
       "      <td>Koraidon</td>\n",
       "      <td>9</td>\n",
       "      <td>2.5</td>\n",
       "      <td>303.0</td>\n",
       "      <td>Fighting</td>\n",
       "      <td>Dragon</td>\n",
       "      <td>Orichalcum Pulse</td>\n",
       "      <td>...</td>\n",
       "      <td>85</td>\n",
       "      <td>100</td>\n",
       "      <td>135</td>\n",
       "      <td>670</td>\n",
       "      <td>0</td>\n",
       "      <td>3</td>\n",
       "      <td>0</td>\n",
       "      <td>0</td>\n",
       "      <td>0</td>\n",
       "      <td>0</td>\n",
       "    </tr>\n",
       "    <tr>\n",
       "      <th>1200</th>\n",
       "      <td>1008</td>\n",
       "      <td>1008_0</td>\n",
       "      <td>Miraidon</td>\n",
       "      <td>Miraidon</td>\n",
       "      <td>9</td>\n",
       "      <td>3.5</td>\n",
       "      <td>240.0</td>\n",
       "      <td>Electric</td>\n",
       "      <td>Dragon</td>\n",
       "      <td>Hadron Engine</td>\n",
       "      <td>...</td>\n",
       "      <td>135</td>\n",
       "      <td>115</td>\n",
       "      <td>135</td>\n",
       "      <td>670</td>\n",
       "      <td>0</td>\n",
       "      <td>0</td>\n",
       "      <td>0</td>\n",
       "      <td>3</td>\n",
       "      <td>0</td>\n",
       "      <td>0</td>\n",
       "    </tr>\n",
       "    <tr>\n",
       "      <th>1201</th>\n",
       "      <td>1009</td>\n",
       "      <td>1009_0</td>\n",
       "      <td>Walking Wake</td>\n",
       "      <td>Walking Wake</td>\n",
       "      <td>9</td>\n",
       "      <td>3.5</td>\n",
       "      <td>280.0</td>\n",
       "      <td>Water</td>\n",
       "      <td>Dragon</td>\n",
       "      <td>Protosynthesis</td>\n",
       "      <td>...</td>\n",
       "      <td>125</td>\n",
       "      <td>83</td>\n",
       "      <td>109</td>\n",
       "      <td>590</td>\n",
       "      <td>0</td>\n",
       "      <td>0</td>\n",
       "      <td>0</td>\n",
       "      <td>3</td>\n",
       "      <td>0</td>\n",
       "      <td>0</td>\n",
       "    </tr>\n",
       "    <tr>\n",
       "      <th>1202</th>\n",
       "      <td>1010</td>\n",
       "      <td>1010_0</td>\n",
       "      <td>Iron Leaves</td>\n",
       "      <td>Iron Leaves</td>\n",
       "      <td>9</td>\n",
       "      <td>1.5</td>\n",
       "      <td>125.0</td>\n",
       "      <td>Grass</td>\n",
       "      <td>Psychic</td>\n",
       "      <td>Quark Drive</td>\n",
       "      <td>...</td>\n",
       "      <td>70</td>\n",
       "      <td>108</td>\n",
       "      <td>104</td>\n",
       "      <td>590</td>\n",
       "      <td>0</td>\n",
       "      <td>3</td>\n",
       "      <td>0</td>\n",
       "      <td>0</td>\n",
       "      <td>0</td>\n",
       "      <td>0</td>\n",
       "    </tr>\n",
       "  </tbody>\n",
       "</table>\n",
       "<p>1203 rows × 38 columns</p>\n",
       "</div>"
      ],
      "text/plain": [
       "        No Branch_Code Original_Name           Name  Generation  Height  \\\n",
       "0        1         1_0     Bulbasaur      Bulbasaur           1     0.7   \n",
       "1        2         2_0       Ivysaur        Ivysaur           1     1.0   \n",
       "2        3         3_0      Venusaur       Venusaur           1     2.0   \n",
       "3        3         3_1      Venusaur  Mega Venusaur           1     2.4   \n",
       "4        4         4_0    Charmander     Charmander           1     0.6   \n",
       "...    ...         ...           ...            ...         ...     ...   \n",
       "1198  1006      1006_0  Iron Valiant   Iron Valiant           9     1.4   \n",
       "1199  1007      1007_0      Koraidon       Koraidon           9     2.5   \n",
       "1200  1008      1008_0      Miraidon       Miraidon           9     3.5   \n",
       "1201  1009      1009_0  Walking Wake   Walking Wake           9     3.5   \n",
       "1202  1010      1010_0   Iron Leaves    Iron Leaves           9     1.5   \n",
       "\n",
       "      Weight     Type1     Type2          Ability1  ... SP_Attack SP_Defense  \\\n",
       "0        6.9     Grass    Poison          Overgrow  ...        65         65   \n",
       "1       13.0     Grass    Poison          Overgrow  ...        80         80   \n",
       "2      100.0     Grass    Poison          Overgrow  ...       100        100   \n",
       "3      155.5     Grass    Poison         Thick Fat  ...       122        120   \n",
       "4        8.5      Fire       NaN             Blaze  ...        60         50   \n",
       "...      ...       ...       ...               ...  ...       ...        ...   \n",
       "1198    35.0     Fairy  Fighting       Quark Drive  ...       120         60   \n",
       "1199   303.0  Fighting    Dragon  Orichalcum Pulse  ...        85        100   \n",
       "1200   240.0  Electric    Dragon     Hadron Engine  ...       135        115   \n",
       "1201   280.0     Water    Dragon    Protosynthesis  ...       125         83   \n",
       "1202   125.0     Grass   Psychic       Quark Drive  ...        70        108   \n",
       "\n",
       "     Speed  Total  E_HP  E_Attack  E_Defense E_SP_Attack E_SP_Defense  E_Speed  \n",
       "0       45    318     0         0          0           1            0        0  \n",
       "1       60    405     0         0          0           1            1        0  \n",
       "2       80    525     0         0          0           2            1        0  \n",
       "3       80    625     0         0          0           2            1        0  \n",
       "4       65    309     0         0          0           0            0        1  \n",
       "...    ...    ...   ...       ...        ...         ...          ...      ...  \n",
       "1198   116    590     0         3          0           0            0        0  \n",
       "1199   135    670     0         3          0           0            0        0  \n",
       "1200   135    670     0         0          0           3            0        0  \n",
       "1201   109    590     0         0          0           3            0        0  \n",
       "1202   104    590     0         3          0           0            0        0  \n",
       "\n",
       "[1203 rows x 38 columns]"
      ]
     },
     "execution_count": 7,
     "metadata": {},
     "output_type": "execute_result"
    }
   ],
   "source": [
    "df = pd.read_csv(\"Pokedex_Ver9.csv\")\n",
    "df2 = pd.read_csv(\"deeke.csv\")\n",
    "df"
   ]
  },
  {
   "cell_type": "markdown",
   "metadata": {},
   "source": [
    "**b)** Pick a variable and a reasonable characteristic for that variable to explore for this lab.  \n",
    "\n",
    "For the population of all Pokemon, calculate your characteristic for your variable of interest.  This is your parameter of interest for this lab.\n"
   ]
  },
  {
   "cell_type": "code",
   "execution_count": 6,
   "metadata": {},
   "outputs": [
    {
     "data": {
      "text/plain": [
       "count    1203.000000\n",
       "mean        1.370158\n",
       "std         3.163398\n",
       "min         0.100000\n",
       "25%         0.600000\n",
       "50%         1.000000\n",
       "75%         1.600000\n",
       "max       100.000000\n",
       "Name: Height, dtype: float64"
      ]
     },
     "execution_count": 6,
     "metadata": {},
     "output_type": "execute_result"
    }
   ],
   "source": [
    "df['Height'].describe()"
   ]
  },
  {
   "cell_type": "markdown",
   "metadata": {},
   "source": [
    "**c)** Define your parameter of interest.  That is, report the value and what it means in a sentence."
   ]
  },
  {
   "cell_type": "markdown",
   "metadata": {},
   "source": [
    "The parameter of interest in this analysis is the mean height of all Pokemon, 1.37 meters. This value represents the average height of Pokemon in the dataset. The standard deviation of 3.16 shows  that there is a high variance in height, meaning that some Pokemon are significantly taller or shorter than the average. The median height of 1.0 meters means that half of the Pokemon in the dataset are shorter than or equal to 1.0 meters, while the other half are taller."
   ]
  },
  {
   "cell_type": "markdown",
   "metadata": {},
   "source": [
    "## 2. [4 pts] Creating a Confidence Interval\n",
    "\n",
    "While we technically have the population of all Pokemon (and therefore can-and have-calculated our true parameter of interest), we will pretend that you only have the information available to my family about Pokemon.  To do so, you will use my family's Pokemon data to generate a confidence interval for your parameter of interest that you selected in **1b**.  By having the population, you can then \"check\" our confidence interval to see how well it performs. \n",
    "\n",
    "**a)** Provide your best estimate for the population parameter based on my family's data."
   ]
  },
  {
   "cell_type": "code",
   "execution_count": null,
   "metadata": {},
   "outputs": [
    {
     "name": "stdout",
     "output_type": "stream",
     "text": [
      "Best estimate for population parameter: 0.9971153846153846\n"
     ]
    }
   ],
   "source": [
    "estimate = df2[\"Height\"].mean()\n",
    "print(\"Best estimate for population parameter:\", estimate)"
   ]
  },
  {
   "cell_type": "markdown",
   "metadata": {},
   "source": [
    "**b)** Using my sample of size 104, simulate an estimated sampling distribution for your characteristic of interest from **1b**."
   ]
  },
  {
   "cell_type": "code",
   "execution_count": 9,
   "metadata": {},
   "outputs": [
    {
     "name": "stdout",
     "output_type": "stream",
     "text": [
      "Mean of sampling distribution: 0.9939201923076924\n",
      "Standard deviation of sampling distribution: 0.07556624674419418\n"
     ]
    }
   ],
   "source": [
    "sample_size = 104\n",
    "num_simulations = 1000\n",
    "sample_means = [df2[\"Height\"].sample(sample_size, replace=True).mean() for _ in range(num_simulations)]\n",
    "\n",
    "print(\"Mean of sampling distribution:\", np.mean(sample_means))\n",
    "print(\"Standard deviation of sampling distribution:\", np.std(sample_means))\n"
   ]
  },
  {
   "cell_type": "markdown",
   "metadata": {},
   "source": [
    "**c)** From your simulated sampling distribution, calculate an 85% confidence interval for your parameter of interest."
   ]
  },
  {
   "cell_type": "code",
   "execution_count": 10,
   "metadata": {},
   "outputs": [
    {
     "name": "stdout",
     "output_type": "stream",
     "text": [
      "85% Confidence Interval: (0.8894230769230769, 1.1068028846153846)\n"
     ]
    }
   ],
   "source": [
    "lower_bound = np.percentile(sample_means, 7.5)\n",
    "upper_bound = np.percentile(sample_means, 92.5)\n",
    "\n",
    "print(\"85% Confidence Interval:\", (lower_bound, upper_bound))\n"
   ]
  },
  {
   "cell_type": "markdown",
   "metadata": {},
   "source": [
    "**d)** For the first time in this assignment, we will recognize that we do have access to our population data and therefore can access the parameter of interest.\n",
    "\n",
    "Is your confidence interval \"good\"?  That is, does your confidence interval capture the value for the true parameter of interest?\n",
    "\n",
    "**For full credit, find the answer to this question using code & logical statements in one line of code**."
   ]
  },
  {
   "cell_type": "code",
   "execution_count": 11,
   "metadata": {},
   "outputs": [
    {
     "name": "stdout",
     "output_type": "stream",
     "text": [
      "Is the confidence interval good? False\n"
     ]
    }
   ],
   "source": [
    "print(\"Is the confidence interval good?\", lower_bound <= df[\"Height\"].mean() <= upper_bound)"
   ]
  },
  {
   "cell_type": "markdown",
   "metadata": {},
   "source": [
    "The fact that the answer to this code is false tells us that the confidence interval does not include the population mean. It is possible that the data we used (deeke.csv) are not well represented in the population."
   ]
  },
  {
   "cell_type": "markdown",
   "metadata": {},
   "source": [
    "## 3. [3 pt] Creating Repeated Confidence Intervals\n",
    "\n",
    "In Question 2, we generated a confidence interval based on my family's data.  My family has captured 104 Pokemon, but what about other Pokemon players who have also captured 104 Pokemon?  What would their intervals look like?\n",
    "\n",
    "We'd like to learn more about the behavior of confidence intervals in general, so we'd like to observe what happens when we have different samples of Pokemon throughout this question.\n",
    "\n",
    "For this question, do the following:\n",
    "\n",
    "- Generate 1000 random samples (each of size 104 without replacement) from the population of all Pokemon\n",
    "- Calculate the 85% confidence interval for each sample\n",
    "- Record whether the confidence interval contains the population parameter\n",
    "\n",
    "Be sure to record whether the confidence interval contains the population parameter.  You may also record other information, although this is not required.\n",
    "\n",
    "*Hint 1: Using two `for` loops, where one occurs inside the other will likely help you with this process.*\n",
    "\n",
    "*Hint 2: As you approach this process, you may want to look back on the code you used in <b>Q2b - 2d</b>*.\n",
    "\n",
    "*Hint 3: If you find that you are stuck, try first to complete the steps described above for a single random sample.  Then, extend the process 1000 times using a `for` loop.*"
   ]
  },
  {
   "cell_type": "code",
   "execution_count": 15,
   "metadata": {},
   "outputs": [
    {
     "name": "stdout",
     "output_type": "stream",
     "text": [
      "Out of 1000 samples, 732 confidence intervals contained the true mean.\n"
     ]
    }
   ],
   "source": [
    "true_mean = df[\"Height\"].mean()\n",
    "\n",
    "num_samples = 1000\n",
    "sample_size = 104\n",
    "num_bootstrap = 1000\n",
    "\n",
    "count_true_mean = 0\n",
    "\n",
    "confidence_intervals = []\n",
    "\n",
    "for i in range(num_samples):\n",
    "    sample = df[\"Height\"].sample(sample_size, replace=False)\n",
    "    sample_means = []\n",
    "    for j in range(num_bootstrap):\n",
    "        resample = sample.sample(sample_size, replace=True)\n",
    "        sample_means.append(resample.mean())\n",
    "\n",
    "    lower_bound = np.percentile(sample_means, 7.5)\n",
    "    upper_bound = np.percentile(sample_means, 92.5)\n",
    "\n",
    "    contains_true_mean = lower_bound <= true_mean <= upper_bound\n",
    "    if contains_true_mean:\n",
    "        count_true_mean += 1\n",
    "    confidence_intervals.append((lower_bound, upper_bound, contains_true_mean))\n",
    "\n",
    "print(f\"Out of {num_samples} samples, {count_true_mean} confidence intervals contained the true mean.\")\n"
   ]
  },
  {
   "cell_type": "markdown",
   "metadata": {},
   "source": [
    "## 4. [1 pt] Calculating the Proportion of Confidence Intervals Containing Our Parameter\n",
    "\n",
    "**a)** From the output of the 1000 random samples, calculate the proportion of confidence intervals that contain our parameter."
   ]
  },
  {
   "cell_type": "code",
   "execution_count": 16,
   "metadata": {},
   "outputs": [
    {
     "name": "stdout",
     "output_type": "stream",
     "text": [
      "Proportion of confidence intervals containing the true mean: 0.732\n"
     ]
    }
   ],
   "source": [
    "proportion_true_mean = count_true_mean / num_samples\n",
    "\n",
    "print(\"Proportion of confidence intervals containing the true mean:\", proportion_true_mean)\n"
   ]
  },
  {
   "cell_type": "markdown",
   "metadata": {},
   "source": [
    "**b)** Does the proportion that you calculated in part **a** match with the anticipated behavior of confidence intervals?  Briefly explain."
   ]
  },
  {
   "cell_type": "markdown",
   "metadata": {},
   "source": [
    "The calculated proportion of confidence intervals that contain the true mean is 73.2%, which is lower than the expected 85%. This suggests that our confidence intervals are not having the population parameter as often as anticipated. Some variation is expected due to random sampling, but the lower proportion may indicate sampling variability or narrower confidence intervals."
   ]
  }
 ],
 "metadata": {
  "kernelspec": {
   "display_name": "base",
   "language": "python",
   "name": "python3"
  },
  "language_info": {
   "codemirror_mode": {
    "name": "ipython",
    "version": 3
   },
   "file_extension": ".py",
   "mimetype": "text/x-python",
   "name": "python",
   "nbconvert_exporter": "python",
   "pygments_lexer": "ipython3",
   "version": "3.11.5"
  }
 },
 "nbformat": 4,
 "nbformat_minor": 2
}

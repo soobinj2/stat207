{
 "cells": [
  {
   "cell_type": "markdown",
   "metadata": {},
   "source": [
    "# STAT 207 Group Lab Assignment 8 - [10 total points]\n",
    "\n",
    "## Confidence Interval Properties"
   ]
  },
  {
   "cell_type": "markdown",
   "metadata": {},
   "source": [
    "<hr>"
   ]
  },
  {
   "cell_type": "markdown",
   "metadata": {},
   "source": [
    "## <u>Lab Grading</u>:\n",
    "\n",
    "Should we grade your submission?  If not, write the netID of the submission to be graded.  (Note: We will only grade one assignment per group, and we'll pick the first one that says we should grade that submission.  We will assign the same grade to all team members.)\n",
    "\n",
    "*For example*, you might respond: **grade this submission** or **my submission is under netID jdeeke**"
   ]
  },
  {
   "cell_type": "markdown",
   "metadata": {},
   "source": []
  },
  {
   "cell_type": "markdown",
   "metadata": {},
   "source": [
    "If you said **my submission is under netID** above, we will not read any more of your lab submission.\n",
    "\n",
    "If you said **grade this submission** above, who worked with you on this submission?  Write both their **names** and **netIDs**.  \n",
    "\n",
    "Also, discuss and record your favorite Pokemon, for those who play Pokemon."
   ]
  },
  {
   "cell_type": "markdown",
   "metadata": {},
   "source": []
  },
  {
   "cell_type": "markdown",
   "metadata": {},
   "source": [
    "<hr>\n",
    "\n",
    "## <u>Purpose</u>:\n",
    "You should work in groups of 2-3 on this report (not working in groups without permission will result in a point deduction). The purpose of this group lab assignment is to explore properties of confidence intervals.\n",
    "<hr>"
   ]
  },
  {
   "cell_type": "markdown",
   "metadata": {},
   "source": [
    "## <u>Assignment Instructions</u>:\n"
   ]
  },
  {
   "cell_type": "markdown",
   "metadata": {},
   "source": [
    "### Group Roles\n",
    "\n",
    "Suggested and specified roles are provided below: \n",
    "\n",
    "#### Groups of 2\n",
    "\n",
    "* **Driver**: This student will type the report.  While typing the report, you may be the one who is selecting the functions to apply to the data.\n",
    "* **Navigator**: This student will guide the process of answering the question.  Specific ways to help may include: outlining the general steps needed to solve a question (providing the overview), locating examples within the course notes, and reviewing each line of code as it is typed.\n",
    "\n",
    "#### Groups of 3\n",
    "\n",
    "* **Driver**: This student will type the report.  They may also be the one to select the functions to apply to the data.\n",
    "* **Navigator**: This student will guide the process of answering the question.  They may select the general approach to answering the question and/or a few steps to be completed along the way. \n",
    "* **Communicator**: This student will review the report (as it is typed) to ensure that it is clear and concise.  This student may also locate relevant examples within the course notes that may help complete the assignment.\n",
    "\n",
    "<hr>\n",
    "\n",
    "## 0. [0.5 pts] Imports"
   ]
  },
  {
   "cell_type": "code",
   "execution_count": null,
   "metadata": {},
   "outputs": [],
   "source": []
  },
  {
   "cell_type": "markdown",
   "metadata": {},
   "source": [
    "<hr>\n",
    "\n",
    "## <u>Case Study</u>: Pokemon Confidence Intervals\n",
    "\n",
    "We previously explored the Pokemon dataset in Lab 5.  Recall that this dataset contains information about all current Pokemon, including those recently released in Generation 9 (2023).  \n",
    "\n",
    "The variables in the data include:\n",
    "\n",
    "- **Height**: height (m)\n",
    "- **Weight**: weight (kg)\n",
    "- **Type1**: the primary type of the Pokemon\n",
    "- **Ability1**: the primary ability of the Pokemon\n",
    "- **Ability_Hidden**: the hidden ability of the Pokemon, if one is present\n",
    "- **Get_Rate**: the rate at which the Pokemon can be captured (higher = easier to capture)\n",
    "- **HP**: the hit point, which is how much damage a Pokemon can sustain before fainting\n",
    "- **Attack**: the damage a Pokemon can inflict with a physical move\n",
    "- **Defense**: the damage a Pokemon receives when hit with a physical move\n",
    "- **SP_Attack**: the damage a Pokemon can inflict with a special move\n",
    "- **SP_Defense**: the damage a Pokemon receives when hit with a special move\n",
    "- **Speed**: speed, which determines the order in which Pokemon can move\n",
    "- **Total**: the sum of each of the base statistics (HP, Attack, Defense, SP_Attack, SP_Defense, and Speed).\n",
    "\n",
    "There are other variables in the data, which you are allowed to use if you understand their provided values.  More information about this dataset can be found at https://www.kaggle.com/datasets/takamasakato/pokemon-all-status-data.\n",
    "\n",
    "We'll also use a second dataset, `deeke.csv`, which has information about the 104 Pokemon that my family has collected.\n",
    "\n",
    "## 1. [1.5 pt] Population Information\n",
    "\n",
    "**a)** Read in the population data."
   ]
  },
  {
   "cell_type": "code",
   "execution_count": null,
   "metadata": {},
   "outputs": [],
   "source": []
  },
  {
   "cell_type": "markdown",
   "metadata": {},
   "source": [
    "**b)** Pick a variable and a reasonable characteristic for that variable to explore for this lab.  \n",
    "\n",
    "For the population of all Pokemon, calculate your characteristic for your variable of interest.  This is your parameter of interest for this lab.\n"
   ]
  },
  {
   "cell_type": "code",
   "execution_count": null,
   "metadata": {},
   "outputs": [],
   "source": []
  },
  {
   "cell_type": "markdown",
   "metadata": {},
   "source": [
    "**c)** Define your parameter of interest.  That is, report the value and what it means in a sentence."
   ]
  },
  {
   "cell_type": "markdown",
   "metadata": {},
   "source": []
  },
  {
   "cell_type": "markdown",
   "metadata": {},
   "source": [
    "## 2. [4 pts] Creating a Confidence Interval\n",
    "\n",
    "While we technically have the population of all Pokemon (and therefore can-and have-calculated our true parameter of interest), we will pretend that you only have the information available to my family about Pokemon.  To do so, you will use my family's Pokemon data to generate a confidence interval for your parameter of interest that you selected in **1b**.  By having the population, you can then \"check\" our confidence interval to see how well it performs. \n",
    "\n",
    "**a)** Provide your best estimate for the population parameter based on my family's data."
   ]
  },
  {
   "cell_type": "code",
   "execution_count": null,
   "metadata": {},
   "outputs": [],
   "source": []
  },
  {
   "cell_type": "markdown",
   "metadata": {},
   "source": [
    "**b)** Using my sample of size 104, simulate an estimated sampling distribution for your characteristic of interest from **1b**."
   ]
  },
  {
   "cell_type": "code",
   "execution_count": null,
   "metadata": {},
   "outputs": [],
   "source": []
  },
  {
   "cell_type": "markdown",
   "metadata": {},
   "source": [
    "**c)** From your simulated sampling distribution, calculate an 85% confidence interval for your parameter of interest."
   ]
  },
  {
   "cell_type": "code",
   "execution_count": null,
   "metadata": {},
   "outputs": [],
   "source": []
  },
  {
   "cell_type": "markdown",
   "metadata": {},
   "source": [
    "**d)** For the first time in this assignment, we will recognize that we do have access to our population data and therefore can access the parameter of interest.\n",
    "\n",
    "Is your confidence interval \"good\"?  That is, does your confidence interval capture the value for the true parameter of interest?\n",
    "\n",
    "**For full credit, find the answer to this question using code & logical statements in one line of code**."
   ]
  },
  {
   "cell_type": "code",
   "execution_count": null,
   "metadata": {},
   "outputs": [],
   "source": []
  },
  {
   "cell_type": "markdown",
   "metadata": {},
   "source": []
  },
  {
   "cell_type": "markdown",
   "metadata": {},
   "source": [
    "## 3. [3 pt] Creating Repeated Confidence Intervals\n",
    "\n",
    "In Question 2, we generated a confidence interval based on my family's data.  My family has captured 104 Pokemon, but what about other Pokemon players who have also captured 104 Pokemon?  What would their intervals look like?\n",
    "\n",
    "We'd like to learn more about the behavior of confidence intervals in general, so we'd like to observe what happens when we have different samples of Pokemon throughout this question.\n",
    "\n",
    "For this question, do the following:\n",
    "\n",
    "- Generate 1000 random samples (each of size 104 without replacement) from the population of all Pokemon\n",
    "- Calculate the 85% confidence interval for each sample\n",
    "- Record whether the confidence interval contains the population parameter\n",
    "\n",
    "Be sure to record whether the confidence interval contains the population parameter.  You may also record other information, although this is not required.\n",
    "\n",
    "*Hint 1: Using two `for` loops, where one occurs inside the other will likely help you with this process.*\n",
    "\n",
    "*Hint 2: As you approach this process, you may want to look back on the code you used in <b>Q2b - 2d</b>*.\n",
    "\n",
    "*Hint 3: If you find that you are stuck, try first to complete the steps described above for a single random sample.  Then, extend the process 1000 times using a `for` loop.*"
   ]
  },
  {
   "cell_type": "code",
   "execution_count": null,
   "metadata": {},
   "outputs": [],
   "source": []
  },
  {
   "cell_type": "code",
   "execution_count": null,
   "metadata": {},
   "outputs": [],
   "source": []
  },
  {
   "cell_type": "code",
   "execution_count": null,
   "metadata": {},
   "outputs": [],
   "source": []
  },
  {
   "cell_type": "code",
   "execution_count": null,
   "metadata": {},
   "outputs": [],
   "source": []
  },
  {
   "cell_type": "markdown",
   "metadata": {},
   "source": [
    "## 4. [1 pt] Calculating the Proportion of Confidence Intervals Containing Our Parameter\n",
    "\n",
    "**a)** From the output of the 1000 random samples, calculate the proportion of confidence intervals that contain our parameter."
   ]
  },
  {
   "cell_type": "code",
   "execution_count": null,
   "metadata": {},
   "outputs": [],
   "source": []
  },
  {
   "cell_type": "markdown",
   "metadata": {},
   "source": [
    "**b)** Does the proportion that you calculated in part **a** match with the anticipated behavior of confidence intervals?  Briefly explain."
   ]
  },
  {
   "cell_type": "markdown",
   "metadata": {},
   "source": []
  }
 ],
 "metadata": {
  "kernelspec": {
   "display_name": "Python 3 (ipykernel)",
   "language": "python",
   "name": "python3"
  },
  "language_info": {
   "codemirror_mode": {
    "name": "ipython",
    "version": 3
   },
   "file_extension": ".py",
   "mimetype": "text/x-python",
   "name": "python",
   "nbconvert_exporter": "python",
   "pygments_lexer": "ipython3",
   "version": "3.8.11"
  }
 },
 "nbformat": 4,
 "nbformat_minor": 2
}

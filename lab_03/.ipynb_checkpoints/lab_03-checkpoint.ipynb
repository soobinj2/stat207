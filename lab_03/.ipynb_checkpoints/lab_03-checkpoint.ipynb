{
 "cells": [
  {
   "cell_type": "markdown",
   "metadata": {},
   "source": [
    "# STAT 207 Group Lab Assignment 3 - [10 total points]\n",
    "\n",
    "## Manipulating and Combining Data to Answer Questions"
   ]
  },
  {
   "cell_type": "markdown",
   "metadata": {},
   "source": [
    "<hr>"
   ]
  },
  {
   "cell_type": "markdown",
   "metadata": {},
   "source": [
    "## <u>Lab Grading</u>:\n",
    "\n",
    "Should we grade your submission?  If not, write the netID of the submission to be graded.  (Note: We will only grade one assignment per group, and we'll pick the first one that says we should grade that submission.  We will assign the same grade to all team members.)\n",
    "\n",
    "*For example*, you might respond: **grade this submission** or **my submission is under netID jdeeke**"
   ]
  },
  {
   "cell_type": "markdown",
   "metadata": {},
   "source": [
    "**my submission is under netID ha47**"
   ]
  },
  {
   "cell_type": "markdown",
   "metadata": {},
   "source": [
    "If you said **my submission is under netID** above, we will not read any more of your lab submission.\n",
    "\n",
    "If you said **grade this submission** above, who worked with you on this submission?  Write both their **names** and **netIDs**.  Also, record how long each of you thinks that you could play a favorite game in one sitting."
   ]
  },
  {
   "cell_type": "markdown",
   "metadata": {},
   "source": []
  },
  {
   "cell_type": "markdown",
   "metadata": {},
   "source": [
    "## <u>Purpose</u>:\n",
    "You should work in groups of 2-3 on this report (not working in groups without permission will result in a point deduction). The purpose of this group lab assignment is to adjust data to be able to answer questions and provide insights from the data.\n",
    "<hr>"
   ]
  },
  {
   "cell_type": "markdown",
   "metadata": {},
   "source": [
    "## <u>Assignment Instructions</u>:\n",
    "\n",
    "### Group Roles\n",
    "\n",
    "Suggested and specified roles are provided below: \n",
    "\n",
    "#### Groups of 2\n",
    "\n",
    "* **Driver**: This student will type the report.  While typing the report, you may be the one who is selecting the functions to apply to the data.\n",
    "* **Navigator**: This student will guide the process of answering the question.  Specific ways to help may include: outlining the general steps needed to solve a question (providing the overview), locating examples within the course notes, and reviewing each line of code as it is typed.\n",
    "\n",
    "#### Groups of 3\n",
    "\n",
    "* **Driver**: This student will type the report.  They may also be the one to select the functions to apply to the data.\n",
    "* **Navigator**: This student will guide the process of answering the question.  They may select the general approach to answering the question and/or a few steps to be completed along the way. \n",
    "* **Communicator**: This student will review the report (as it is typed) to ensure that it is clear and concise.  This student may also locate relevant examples within the course notes that may help complete the assignment.\n",
    "\n",
    "<hr>\n",
    "\n",
    "### Imports"
   ]
  },
  {
   "cell_type": "code",
   "execution_count": 3,
   "metadata": {},
   "outputs": [],
   "source": [
    "#Run this\n",
    "import pandas as pd                    # imports pandas and calls the imported version 'pd'\n",
    "import matplotlib.pyplot as plt        # imports the package and calls it 'plt'\n",
    "import seaborn as sns                  # imports the seaborn package with the imported name 'sns'\n",
    "sns.set()  "
   ]
  },
  {
   "cell_type": "markdown",
   "metadata": {},
   "source": [
    "## Steam Data\n",
    "\n",
    "Steam is the world's most popular PC Gaming hub. They have a massive catalog of games, with everything from AAA blockbusters to small indie titles.  You are a team of data scientists working for Steam, and you are responsible for completing analysis for a report that will go to the executives of Valve (the parent company for Steam). \n",
    "\n",
    "Unfortunately, the data were collected with a less than optimal structure.  The dataset is comprised of transactions within the Steam platform for a random sample of 500 steam users along with their purchase and game play behaviors.  It has the following columns:\n",
    "* user_id,\n",
    "* game_name,\n",
    "* activity:\n",
    "    - purchase: indicating that the user has *purchased* the corresponding game\n",
    "    - play: indicating that the user has *played* the corresponding game (for at least some amount of time.) \n",
    "* hours_played_if_play:\n",
    "    - if the row corresponds to a 'play' activity, this number represents the number of hours the user has played the game\n",
    "    - if the row corresponds to a 'purchase' activity, this number is always a 1 (and means nothing... it's a placeholder).\n",
    "\n",
    "Note that for each user-game combo, there will either be one row (if the game has only been purchased but not played) or two rows (if the game has been both purchased and played).\n",
    "\n",
    "**The executives have tasked you with identifying the games that are played the most to help them with an upcoming advertising campaign.**\n",
    "\n",
    "### 1. [0.5 point] Reading in the Data\n",
    "\n",
    "Read in the steam_sample.csv file into a dataframe, being sure to read in missing data correctly.  Drop the observations with missing values.  *Hint:* you can return to Lab 2 Questions 1 & 2, where you performed these steps.\n",
    "\n",
    "Also, separate the data into a purchase and a play data frame, for the purchase rows and the play rows, respectively (Question 4 of Lab 2)."
   ]
  },
  {
   "cell_type": "code",
   "execution_count": 5,
   "metadata": {},
   "outputs": [],
   "source": [
    "df = pd.read_csv(\"steam_sample.csv\")"
   ]
  },
  {
   "cell_type": "code",
   "execution_count": 17,
   "metadata": {},
   "outputs": [],
   "source": [
    "df['hours_played_if_play'] = df['hours_played_if_play'].replace([\"unknown\", \"\", \" \"], pd.NA)\n",
    "\n",
    "df_cleaned = df.dropna(subset=['hours_played_if_play'])"
   ]
  },
  {
   "cell_type": "code",
   "execution_count": 143,
   "metadata": {},
   "outputs": [
    {
     "name": "stderr",
     "output_type": "stream",
     "text": [
      "/var/folders/sk/z_0pn_9x6l10hpn8467x_wzc0000gn/T/ipykernel_31784/4276325877.py:1: SettingWithCopyWarning: \n",
      "A value is trying to be set on a copy of a slice from a DataFrame.\n",
      "Try using .loc[row_indexer,col_indexer] = value instead\n",
      "\n",
      "See the caveats in the documentation: https://pandas.pydata.org/pandas-docs/stable/user_guide/indexing.html#returning-a-view-versus-a-copy\n",
      "  df_cleaned[\"hours_played_if_play\"]= df_cleaned[\"hours_played_if_play\"].astype(float)\n"
     ]
    }
   ],
   "source": [
    "df_cleaned[\"hours_played_if_play\"]= df_cleaned[\"hours_played_if_play\"].astype(float)"
   ]
  },
  {
   "cell_type": "code",
   "execution_count": 37,
   "metadata": {},
   "outputs": [
    {
     "data": {
      "text/plain": [
       "user_id                   int64\n",
       "game_name                object\n",
       "activity                 object\n",
       "hours_played_if_play    float64\n",
       "dtype: object"
      ]
     },
     "execution_count": 37,
     "metadata": {},
     "output_type": "execute_result"
    }
   ],
   "source": [
    "df_cleaned.dtypes"
   ]
  },
  {
   "cell_type": "code",
   "execution_count": 45,
   "metadata": {},
   "outputs": [
    {
     "data": {
      "text/html": [
       "<div>\n",
       "<style scoped>\n",
       "    .dataframe tbody tr th:only-of-type {\n",
       "        vertical-align: middle;\n",
       "    }\n",
       "\n",
       "    .dataframe tbody tr th {\n",
       "        vertical-align: top;\n",
       "    }\n",
       "\n",
       "    .dataframe thead th {\n",
       "        text-align: right;\n",
       "    }\n",
       "</style>\n",
       "<table border=\"1\" class=\"dataframe\">\n",
       "  <thead>\n",
       "    <tr style=\"text-align: right;\">\n",
       "      <th></th>\n",
       "      <th>user_id</th>\n",
       "      <th>game_name</th>\n",
       "      <th>activity</th>\n",
       "      <th>hours_played_if_play</th>\n",
       "    </tr>\n",
       "  </thead>\n",
       "  <tbody>\n",
       "    <tr>\n",
       "      <th>0</th>\n",
       "      <td>308653033</td>\n",
       "      <td>Unturned</td>\n",
       "      <td>purchase</td>\n",
       "      <td>1.0</td>\n",
       "    </tr>\n",
       "    <tr>\n",
       "      <th>2</th>\n",
       "      <td>308653033</td>\n",
       "      <td>theHunter</td>\n",
       "      <td>purchase</td>\n",
       "      <td>1.0</td>\n",
       "    </tr>\n",
       "    <tr>\n",
       "      <th>3</th>\n",
       "      <td>144004384</td>\n",
       "      <td>Dota 2</td>\n",
       "      <td>purchase</td>\n",
       "      <td>1.0</td>\n",
       "    </tr>\n",
       "    <tr>\n",
       "      <th>5</th>\n",
       "      <td>54103616</td>\n",
       "      <td>Counter-Strike Global Offensive</td>\n",
       "      <td>purchase</td>\n",
       "      <td>1.0</td>\n",
       "    </tr>\n",
       "    <tr>\n",
       "      <th>7</th>\n",
       "      <td>54103616</td>\n",
       "      <td>Counter-Strike</td>\n",
       "      <td>purchase</td>\n",
       "      <td>1.0</td>\n",
       "    </tr>\n",
       "    <tr>\n",
       "      <th>...</th>\n",
       "      <td>...</td>\n",
       "      <td>...</td>\n",
       "      <td>...</td>\n",
       "      <td>...</td>\n",
       "    </tr>\n",
       "    <tr>\n",
       "      <th>7800</th>\n",
       "      <td>99096740</td>\n",
       "      <td>SimCity 4 Deluxe</td>\n",
       "      <td>purchase</td>\n",
       "      <td>1.0</td>\n",
       "    </tr>\n",
       "    <tr>\n",
       "      <th>7802</th>\n",
       "      <td>99096740</td>\n",
       "      <td>BioShock Infinite Burial at Sea - Episode 2</td>\n",
       "      <td>purchase</td>\n",
       "      <td>1.0</td>\n",
       "    </tr>\n",
       "    <tr>\n",
       "      <th>7803</th>\n",
       "      <td>99096740</td>\n",
       "      <td>The Elder Scrolls V Skyrim - Dawnguard</td>\n",
       "      <td>purchase</td>\n",
       "      <td>1.0</td>\n",
       "    </tr>\n",
       "    <tr>\n",
       "      <th>7804</th>\n",
       "      <td>99096740</td>\n",
       "      <td>The Elder Scrolls V Skyrim - Dragonborn</td>\n",
       "      <td>purchase</td>\n",
       "      <td>1.0</td>\n",
       "    </tr>\n",
       "    <tr>\n",
       "      <th>7805</th>\n",
       "      <td>99096740</td>\n",
       "      <td>The Elder Scrolls V Skyrim - Hearthfire</td>\n",
       "      <td>purchase</td>\n",
       "      <td>1.0</td>\n",
       "    </tr>\n",
       "  </tbody>\n",
       "</table>\n",
       "<p>4928 rows × 4 columns</p>\n",
       "</div>"
      ],
      "text/plain": [
       "        user_id                                    game_name  activity  \\\n",
       "0     308653033                                     Unturned  purchase   \n",
       "2     308653033                                    theHunter  purchase   \n",
       "3     144004384                                       Dota 2  purchase   \n",
       "5      54103616              Counter-Strike Global Offensive  purchase   \n",
       "7      54103616                               Counter-Strike  purchase   \n",
       "...         ...                                          ...       ...   \n",
       "7800   99096740                             SimCity 4 Deluxe  purchase   \n",
       "7802   99096740  BioShock Infinite Burial at Sea - Episode 2  purchase   \n",
       "7803   99096740       The Elder Scrolls V Skyrim - Dawnguard  purchase   \n",
       "7804   99096740      The Elder Scrolls V Skyrim - Dragonborn  purchase   \n",
       "7805   99096740      The Elder Scrolls V Skyrim - Hearthfire  purchase   \n",
       "\n",
       "      hours_played_if_play  \n",
       "0                      1.0  \n",
       "2                      1.0  \n",
       "3                      1.0  \n",
       "5                      1.0  \n",
       "7                      1.0  \n",
       "...                    ...  \n",
       "7800                   1.0  \n",
       "7802                   1.0  \n",
       "7803                   1.0  \n",
       "7804                   1.0  \n",
       "7805                   1.0  \n",
       "\n",
       "[4928 rows x 4 columns]"
      ]
     },
     "execution_count": 45,
     "metadata": {},
     "output_type": "execute_result"
    }
   ],
   "source": [
    "# purchase dataframe\n",
    "df_purchase = df_cleaned[df_cleaned['activity'] == 'purchase']\n",
    "df_purchase"
   ]
  },
  {
   "cell_type": "code",
   "execution_count": 47,
   "metadata": {},
   "outputs": [
    {
     "data": {
      "text/html": [
       "<div>\n",
       "<style scoped>\n",
       "    .dataframe tbody tr th:only-of-type {\n",
       "        vertical-align: middle;\n",
       "    }\n",
       "\n",
       "    .dataframe tbody tr th {\n",
       "        vertical-align: top;\n",
       "    }\n",
       "\n",
       "    .dataframe thead th {\n",
       "        text-align: right;\n",
       "    }\n",
       "</style>\n",
       "<table border=\"1\" class=\"dataframe\">\n",
       "  <thead>\n",
       "    <tr style=\"text-align: right;\">\n",
       "      <th></th>\n",
       "      <th>user_id</th>\n",
       "      <th>game_name</th>\n",
       "      <th>activity</th>\n",
       "      <th>hours_played_if_play</th>\n",
       "    </tr>\n",
       "  </thead>\n",
       "  <tbody>\n",
       "    <tr>\n",
       "      <th>1</th>\n",
       "      <td>308653033</td>\n",
       "      <td>Unturned</td>\n",
       "      <td>play</td>\n",
       "      <td>0.6</td>\n",
       "    </tr>\n",
       "    <tr>\n",
       "      <th>4</th>\n",
       "      <td>144004384</td>\n",
       "      <td>Dota 2</td>\n",
       "      <td>play</td>\n",
       "      <td>22.0</td>\n",
       "    </tr>\n",
       "    <tr>\n",
       "      <th>6</th>\n",
       "      <td>54103616</td>\n",
       "      <td>Counter-Strike Global Offensive</td>\n",
       "      <td>play</td>\n",
       "      <td>1028.0</td>\n",
       "    </tr>\n",
       "    <tr>\n",
       "      <th>8</th>\n",
       "      <td>54103616</td>\n",
       "      <td>Counter-Strike</td>\n",
       "      <td>play</td>\n",
       "      <td>1008.0</td>\n",
       "    </tr>\n",
       "    <tr>\n",
       "      <th>10</th>\n",
       "      <td>54103616</td>\n",
       "      <td>Left 4 Dead</td>\n",
       "      <td>play</td>\n",
       "      <td>148.0</td>\n",
       "    </tr>\n",
       "    <tr>\n",
       "      <th>...</th>\n",
       "      <td>...</td>\n",
       "      <td>...</td>\n",
       "      <td>...</td>\n",
       "      <td>...</td>\n",
       "    </tr>\n",
       "    <tr>\n",
       "      <th>7793</th>\n",
       "      <td>99096740</td>\n",
       "      <td>Crysis</td>\n",
       "      <td>play</td>\n",
       "      <td>5.3</td>\n",
       "    </tr>\n",
       "    <tr>\n",
       "      <th>7795</th>\n",
       "      <td>99096740</td>\n",
       "      <td>Assassin's Creed II</td>\n",
       "      <td>play</td>\n",
       "      <td>2.7</td>\n",
       "    </tr>\n",
       "    <tr>\n",
       "      <th>7797</th>\n",
       "      <td>99096740</td>\n",
       "      <td>Hitman Blood Money</td>\n",
       "      <td>play</td>\n",
       "      <td>1.3</td>\n",
       "    </tr>\n",
       "    <tr>\n",
       "      <th>7799</th>\n",
       "      <td>99096740</td>\n",
       "      <td>The Binding of Isaac Rebirth</td>\n",
       "      <td>play</td>\n",
       "      <td>0.7</td>\n",
       "    </tr>\n",
       "    <tr>\n",
       "      <th>7801</th>\n",
       "      <td>99096740</td>\n",
       "      <td>SimCity 4 Deluxe</td>\n",
       "      <td>play</td>\n",
       "      <td>0.2</td>\n",
       "    </tr>\n",
       "  </tbody>\n",
       "</table>\n",
       "<p>2872 rows × 4 columns</p>\n",
       "</div>"
      ],
      "text/plain": [
       "        user_id                        game_name activity  \\\n",
       "1     308653033                         Unturned     play   \n",
       "4     144004384                           Dota 2     play   \n",
       "6      54103616  Counter-Strike Global Offensive     play   \n",
       "8      54103616                   Counter-Strike     play   \n",
       "10     54103616                      Left 4 Dead     play   \n",
       "...         ...                              ...      ...   \n",
       "7793   99096740                           Crysis     play   \n",
       "7795   99096740              Assassin's Creed II     play   \n",
       "7797   99096740               Hitman Blood Money     play   \n",
       "7799   99096740     The Binding of Isaac Rebirth     play   \n",
       "7801   99096740                 SimCity 4 Deluxe     play   \n",
       "\n",
       "      hours_played_if_play  \n",
       "1                      0.6  \n",
       "4                     22.0  \n",
       "6                   1028.0  \n",
       "8                   1008.0  \n",
       "10                   148.0  \n",
       "...                    ...  \n",
       "7793                   5.3  \n",
       "7795                   2.7  \n",
       "7797                   1.3  \n",
       "7799                   0.7  \n",
       "7801                   0.2  \n",
       "\n",
       "[2872 rows x 4 columns]"
      ]
     },
     "execution_count": 47,
     "metadata": {},
     "output_type": "execute_result"
    }
   ],
   "source": [
    "# play dataframe\n",
    "df_play = df_cleaned[df_cleaned['activity'] == 'play']\n",
    "df_play"
   ]
  },
  {
   "cell_type": "markdown",
   "metadata": {},
   "source": [
    "### 2. [3 points] Games as the Unit of Observation\n",
    "\n",
    "In Lab 2, we calculated the proportion of purchased games that were played.  In Questions 2 and 3, we're going to explore this proportion for each game separately, to determine if we can identify games that are must-play games.\n",
    "\n",
    "In Question 2, we will adjust the unit of observation in our data to the game and then calculate measures for each unit of observation.  In Question 3, we will then combine different measures for each of those games to answer our question of interest."
   ]
  },
  {
   "cell_type": "markdown",
   "metadata": {},
   "source": [
    "**a)** First, create a data frame with two variables: the game and the number of users that purchased each game.  Make sure that you clean your data frame so that it is easy to use."
   ]
  },
  {
   "cell_type": "code",
   "execution_count": 53,
   "metadata": {},
   "outputs": [
    {
     "data": {
      "text/html": [
       "<div>\n",
       "<style scoped>\n",
       "    .dataframe tbody tr th:only-of-type {\n",
       "        vertical-align: middle;\n",
       "    }\n",
       "\n",
       "    .dataframe tbody tr th {\n",
       "        vertical-align: top;\n",
       "    }\n",
       "\n",
       "    .dataframe thead th {\n",
       "        text-align: right;\n",
       "    }\n",
       "</style>\n",
       "<table border=\"1\" class=\"dataframe\">\n",
       "  <thead>\n",
       "    <tr style=\"text-align: right;\">\n",
       "      <th></th>\n",
       "      <th>game_name</th>\n",
       "      <th>num_users_purchased</th>\n",
       "    </tr>\n",
       "  </thead>\n",
       "  <tbody>\n",
       "    <tr>\n",
       "      <th>0</th>\n",
       "      <td>1... 2... 3... KICK IT! (Drop That Beat Like a...</td>\n",
       "      <td>1</td>\n",
       "    </tr>\n",
       "    <tr>\n",
       "      <th>1</th>\n",
       "      <td>18 Wheels of Steel American Long Haul</td>\n",
       "      <td>1</td>\n",
       "    </tr>\n",
       "    <tr>\n",
       "      <th>2</th>\n",
       "      <td>1954 Alcatraz</td>\n",
       "      <td>1</td>\n",
       "    </tr>\n",
       "    <tr>\n",
       "      <th>3</th>\n",
       "      <td>3DMark</td>\n",
       "      <td>1</td>\n",
       "    </tr>\n",
       "    <tr>\n",
       "      <th>4</th>\n",
       "      <td>60 Seconds!</td>\n",
       "      <td>1</td>\n",
       "    </tr>\n",
       "    <tr>\n",
       "      <th>...</th>\n",
       "      <td>...</td>\n",
       "      <td>...</td>\n",
       "    </tr>\n",
       "    <tr>\n",
       "      <th>1440</th>\n",
       "      <td>oO</td>\n",
       "      <td>1</td>\n",
       "    </tr>\n",
       "    <tr>\n",
       "      <th>1441</th>\n",
       "      <td>resident evil 4 / biohazard 4</td>\n",
       "      <td>1</td>\n",
       "    </tr>\n",
       "    <tr>\n",
       "      <th>1442</th>\n",
       "      <td>sZone-Online</td>\n",
       "      <td>5</td>\n",
       "    </tr>\n",
       "    <tr>\n",
       "      <th>1443</th>\n",
       "      <td>the static speaks my name</td>\n",
       "      <td>1</td>\n",
       "    </tr>\n",
       "    <tr>\n",
       "      <th>1444</th>\n",
       "      <td>theHunter</td>\n",
       "      <td>9</td>\n",
       "    </tr>\n",
       "  </tbody>\n",
       "</table>\n",
       "<p>1445 rows × 2 columns</p>\n",
       "</div>"
      ],
      "text/plain": [
       "                                              game_name  num_users_purchased\n",
       "0     1... 2... 3... KICK IT! (Drop That Beat Like a...                    1\n",
       "1                 18 Wheels of Steel American Long Haul                    1\n",
       "2                                         1954 Alcatraz                    1\n",
       "3                                                3DMark                    1\n",
       "4                                           60 Seconds!                    1\n",
       "...                                                 ...                  ...\n",
       "1440                                                 oO                    1\n",
       "1441                      resident evil 4 / biohazard 4                    1\n",
       "1442                                       sZone-Online                    5\n",
       "1443                          the static speaks my name                    1\n",
       "1444                                          theHunter                    9\n",
       "\n",
       "[1445 rows x 2 columns]"
      ]
     },
     "execution_count": 53,
     "metadata": {},
     "output_type": "execute_result"
    }
   ],
   "source": [
    "df_game_purchase = df_purchase.groupby('game_name')['user_id'].nunique().reset_index()\n",
    "df_game_purchase.rename(columns={'user_id': 'num_users_purchased'}, inplace=True)\n",
    "df_game_purchase"
   ]
  },
  {
   "cell_type": "markdown",
   "metadata": {},
   "source": [
    "**b)** From the data frame in **part a**, determine the number of distinct games that were purchased by the 500 random users.  Each game should be counted only once, regardless of how many users have purchased the game.  You will use this number later to check that all games are in your final data."
   ]
  },
  {
   "cell_type": "code",
   "execution_count": 55,
   "metadata": {},
   "outputs": [
    {
     "name": "stdout",
     "output_type": "stream",
     "text": [
      "Number of distinct games purchased: 1445\n"
     ]
    }
   ],
   "source": [
    "num_distinct_games = df_game_purchase.groupby('game_name').size().shape[0]\n",
    "print(\"Number of distinct games purchased:\", num_distinct_games)"
   ]
  },
  {
   "cell_type": "markdown",
   "metadata": {},
   "source": [
    "**c)** Then, create a data frame that calculates the number of users that played each game.  Again, make sure that you clean your data frame."
   ]
  },
  {
   "cell_type": "code",
   "execution_count": 59,
   "metadata": {},
   "outputs": [
    {
     "data": {
      "text/html": [
       "<div>\n",
       "<style scoped>\n",
       "    .dataframe tbody tr th:only-of-type {\n",
       "        vertical-align: middle;\n",
       "    }\n",
       "\n",
       "    .dataframe tbody tr th {\n",
       "        vertical-align: top;\n",
       "    }\n",
       "\n",
       "    .dataframe thead th {\n",
       "        text-align: right;\n",
       "    }\n",
       "</style>\n",
       "<table border=\"1\" class=\"dataframe\">\n",
       "  <thead>\n",
       "    <tr style=\"text-align: right;\">\n",
       "      <th></th>\n",
       "      <th>game_name</th>\n",
       "      <th>num_users_played</th>\n",
       "    </tr>\n",
       "  </thead>\n",
       "  <tbody>\n",
       "    <tr>\n",
       "      <th>0</th>\n",
       "      <td>1... 2... 3... KICK IT! (Drop That Beat Like a...</td>\n",
       "      <td>1</td>\n",
       "    </tr>\n",
       "    <tr>\n",
       "      <th>1</th>\n",
       "      <td>18 Wheels of Steel American Long Haul</td>\n",
       "      <td>1</td>\n",
       "    </tr>\n",
       "    <tr>\n",
       "      <th>2</th>\n",
       "      <td>3DMark</td>\n",
       "      <td>1</td>\n",
       "    </tr>\n",
       "    <tr>\n",
       "      <th>3</th>\n",
       "      <td>60 Seconds!</td>\n",
       "      <td>1</td>\n",
       "    </tr>\n",
       "    <tr>\n",
       "      <th>4</th>\n",
       "      <td>7 Days to Die</td>\n",
       "      <td>5</td>\n",
       "    </tr>\n",
       "    <tr>\n",
       "      <th>...</th>\n",
       "      <td>...</td>\n",
       "      <td>...</td>\n",
       "    </tr>\n",
       "    <tr>\n",
       "      <th>915</th>\n",
       "      <td>Zombies Monsters Robots</td>\n",
       "      <td>1</td>\n",
       "    </tr>\n",
       "    <tr>\n",
       "      <th>916</th>\n",
       "      <td>hocus</td>\n",
       "      <td>1</td>\n",
       "    </tr>\n",
       "    <tr>\n",
       "      <th>917</th>\n",
       "      <td>oO</td>\n",
       "      <td>1</td>\n",
       "    </tr>\n",
       "    <tr>\n",
       "      <th>918</th>\n",
       "      <td>sZone-Online</td>\n",
       "      <td>4</td>\n",
       "    </tr>\n",
       "    <tr>\n",
       "      <th>919</th>\n",
       "      <td>theHunter</td>\n",
       "      <td>6</td>\n",
       "    </tr>\n",
       "  </tbody>\n",
       "</table>\n",
       "<p>920 rows × 2 columns</p>\n",
       "</div>"
      ],
      "text/plain": [
       "                                             game_name  num_users_played\n",
       "0    1... 2... 3... KICK IT! (Drop That Beat Like a...                 1\n",
       "1                18 Wheels of Steel American Long Haul                 1\n",
       "2                                               3DMark                 1\n",
       "3                                          60 Seconds!                 1\n",
       "4                                        7 Days to Die                 5\n",
       "..                                                 ...               ...\n",
       "915                            Zombies Monsters Robots                 1\n",
       "916                                              hocus                 1\n",
       "917                                                 oO                 1\n",
       "918                                       sZone-Online                 4\n",
       "919                                          theHunter                 6\n",
       "\n",
       "[920 rows x 2 columns]"
      ]
     },
     "execution_count": 59,
     "metadata": {},
     "output_type": "execute_result"
    }
   ],
   "source": [
    "df_game_play = df_play.groupby('game_name')['user_id'].nunique().reset_index()\n",
    "\n",
    "df_game_play.rename(columns={'user_id': 'num_users_played'}, inplace=True)\n",
    "\n",
    "df_game_play"
   ]
  },
  {
   "cell_type": "markdown",
   "metadata": {},
   "source": [
    "**d)** From the data frame in **part c**, determine the number of distinct games that were played by the 500 random users.  Again, each game should be counted only once, regardless of how many users have purchased the game.  \n",
    "\n",
    "Does this number match the games calculated in **part b**?  Do these numbers seem plausible?"
   ]
  },
  {
   "cell_type": "code",
   "execution_count": 68,
   "metadata": {},
   "outputs": [
    {
     "data": {
      "text/plain": [
       "1445"
      ]
     },
     "execution_count": 68,
     "metadata": {},
     "output_type": "execute_result"
    }
   ],
   "source": [
    "num_games_purchased = len(set(df_game_purchase['game_name']))\n",
    "num_games_purchased"
   ]
  },
  {
   "cell_type": "markdown",
   "metadata": {},
   "source": [
    "Yes, this number match the games calculated in part b, so I can say these numbers seem plausible"
   ]
  },
  {
   "cell_type": "markdown",
   "metadata": {},
   "source": [
    "### 3. [3.5 points] What is the Purchase to Play Conversion for Steam Games?\n",
    "\n",
    "Now that we have our two variables of interest calculated, we can combine the measures and answer how many games are must-play games.\n",
    "\n",
    "**a)** Merge your data frames from **parts a and c**, being sure that you retain any observation that appears in at least one of the two data frames.  *Hint*: Look up the pandas merge function, looking at the `how` parameter (input) in particular.  Try a few options for the `how` parameter.  Check the dimensions of the resulting data frame to see if you achieve the desired results."
   ]
  },
  {
   "cell_type": "code",
   "execution_count": 79,
   "metadata": {},
   "outputs": [
    {
     "data": {
      "text/html": [
       "<div>\n",
       "<style scoped>\n",
       "    .dataframe tbody tr th:only-of-type {\n",
       "        vertical-align: middle;\n",
       "    }\n",
       "\n",
       "    .dataframe tbody tr th {\n",
       "        vertical-align: top;\n",
       "    }\n",
       "\n",
       "    .dataframe thead th {\n",
       "        text-align: right;\n",
       "    }\n",
       "</style>\n",
       "<table border=\"1\" class=\"dataframe\">\n",
       "  <thead>\n",
       "    <tr style=\"text-align: right;\">\n",
       "      <th></th>\n",
       "      <th>game_name</th>\n",
       "      <th>num_users_purchased</th>\n",
       "      <th>num_users_played</th>\n",
       "    </tr>\n",
       "  </thead>\n",
       "  <tbody>\n",
       "    <tr>\n",
       "      <th>0</th>\n",
       "      <td>1... 2... 3... KICK IT! (Drop That Beat Like a...</td>\n",
       "      <td>1</td>\n",
       "      <td>1</td>\n",
       "    </tr>\n",
       "    <tr>\n",
       "      <th>1</th>\n",
       "      <td>18 Wheels of Steel American Long Haul</td>\n",
       "      <td>1</td>\n",
       "      <td>1</td>\n",
       "    </tr>\n",
       "    <tr>\n",
       "      <th>2</th>\n",
       "      <td>3DMark</td>\n",
       "      <td>1</td>\n",
       "      <td>1</td>\n",
       "    </tr>\n",
       "    <tr>\n",
       "      <th>3</th>\n",
       "      <td>60 Seconds!</td>\n",
       "      <td>1</td>\n",
       "      <td>1</td>\n",
       "    </tr>\n",
       "    <tr>\n",
       "      <th>4</th>\n",
       "      <td>7 Days to Die</td>\n",
       "      <td>5</td>\n",
       "      <td>5</td>\n",
       "    </tr>\n",
       "    <tr>\n",
       "      <th>...</th>\n",
       "      <td>...</td>\n",
       "      <td>...</td>\n",
       "      <td>...</td>\n",
       "    </tr>\n",
       "    <tr>\n",
       "      <th>915</th>\n",
       "      <td>Zombies Monsters Robots</td>\n",
       "      <td>1</td>\n",
       "      <td>1</td>\n",
       "    </tr>\n",
       "    <tr>\n",
       "      <th>916</th>\n",
       "      <td>hocus</td>\n",
       "      <td>1</td>\n",
       "      <td>1</td>\n",
       "    </tr>\n",
       "    <tr>\n",
       "      <th>917</th>\n",
       "      <td>oO</td>\n",
       "      <td>1</td>\n",
       "      <td>1</td>\n",
       "    </tr>\n",
       "    <tr>\n",
       "      <th>918</th>\n",
       "      <td>sZone-Online</td>\n",
       "      <td>5</td>\n",
       "      <td>4</td>\n",
       "    </tr>\n",
       "    <tr>\n",
       "      <th>919</th>\n",
       "      <td>theHunter</td>\n",
       "      <td>9</td>\n",
       "      <td>6</td>\n",
       "    </tr>\n",
       "  </tbody>\n",
       "</table>\n",
       "<p>920 rows × 3 columns</p>\n",
       "</div>"
      ],
      "text/plain": [
       "                                             game_name  num_users_purchased  \\\n",
       "0    1... 2... 3... KICK IT! (Drop That Beat Like a...                    1   \n",
       "1                18 Wheels of Steel American Long Haul                    1   \n",
       "2                                               3DMark                    1   \n",
       "3                                          60 Seconds!                    1   \n",
       "4                                        7 Days to Die                    5   \n",
       "..                                                 ...                  ...   \n",
       "915                            Zombies Monsters Robots                    1   \n",
       "916                                              hocus                    1   \n",
       "917                                                 oO                    1   \n",
       "918                                       sZone-Online                    5   \n",
       "919                                          theHunter                    9   \n",
       "\n",
       "     num_users_played  \n",
       "0                   1  \n",
       "1                   1  \n",
       "2                   1  \n",
       "3                   1  \n",
       "4                   5  \n",
       "..                ...  \n",
       "915                 1  \n",
       "916                 1  \n",
       "917                 1  \n",
       "918                 4  \n",
       "919                 6  \n",
       "\n",
       "[920 rows x 3 columns]"
      ]
     },
     "execution_count": 79,
     "metadata": {},
     "output_type": "execute_result"
    }
   ],
   "source": [
    "df_merged = pd.merge(df_game_purchase, df_game_play, on=\"game_name\", how=\"inner\")\n",
    "\n",
    "df_merged"
   ]
  },
  {
   "cell_type": "markdown",
   "metadata": {},
   "source": [
    "**b)** Calculate a new variable in the data for the number of users who have played that game divided by the number of users who have purchased the game (once for each distinct game).  "
   ]
  },
  {
   "cell_type": "code",
   "execution_count": 81,
   "metadata": {},
   "outputs": [
    {
     "data": {
      "text/html": [
       "<div>\n",
       "<style scoped>\n",
       "    .dataframe tbody tr th:only-of-type {\n",
       "        vertical-align: middle;\n",
       "    }\n",
       "\n",
       "    .dataframe tbody tr th {\n",
       "        vertical-align: top;\n",
       "    }\n",
       "\n",
       "    .dataframe thead th {\n",
       "        text-align: right;\n",
       "    }\n",
       "</style>\n",
       "<table border=\"1\" class=\"dataframe\">\n",
       "  <thead>\n",
       "    <tr style=\"text-align: right;\">\n",
       "      <th></th>\n",
       "      <th>game_name</th>\n",
       "      <th>num_users_purchased</th>\n",
       "      <th>num_users_played</th>\n",
       "      <th>shared_numbers</th>\n",
       "    </tr>\n",
       "  </thead>\n",
       "  <tbody>\n",
       "    <tr>\n",
       "      <th>0</th>\n",
       "      <td>1... 2... 3... KICK IT! (Drop That Beat Like a...</td>\n",
       "      <td>1</td>\n",
       "      <td>1</td>\n",
       "      <td>1.000000</td>\n",
       "    </tr>\n",
       "    <tr>\n",
       "      <th>1</th>\n",
       "      <td>18 Wheels of Steel American Long Haul</td>\n",
       "      <td>1</td>\n",
       "      <td>1</td>\n",
       "      <td>1.000000</td>\n",
       "    </tr>\n",
       "    <tr>\n",
       "      <th>2</th>\n",
       "      <td>3DMark</td>\n",
       "      <td>1</td>\n",
       "      <td>1</td>\n",
       "      <td>1.000000</td>\n",
       "    </tr>\n",
       "    <tr>\n",
       "      <th>3</th>\n",
       "      <td>60 Seconds!</td>\n",
       "      <td>1</td>\n",
       "      <td>1</td>\n",
       "      <td>1.000000</td>\n",
       "    </tr>\n",
       "    <tr>\n",
       "      <th>4</th>\n",
       "      <td>7 Days to Die</td>\n",
       "      <td>5</td>\n",
       "      <td>5</td>\n",
       "      <td>1.000000</td>\n",
       "    </tr>\n",
       "    <tr>\n",
       "      <th>...</th>\n",
       "      <td>...</td>\n",
       "      <td>...</td>\n",
       "      <td>...</td>\n",
       "      <td>...</td>\n",
       "    </tr>\n",
       "    <tr>\n",
       "      <th>915</th>\n",
       "      <td>Zombies Monsters Robots</td>\n",
       "      <td>1</td>\n",
       "      <td>1</td>\n",
       "      <td>1.000000</td>\n",
       "    </tr>\n",
       "    <tr>\n",
       "      <th>916</th>\n",
       "      <td>hocus</td>\n",
       "      <td>1</td>\n",
       "      <td>1</td>\n",
       "      <td>1.000000</td>\n",
       "    </tr>\n",
       "    <tr>\n",
       "      <th>917</th>\n",
       "      <td>oO</td>\n",
       "      <td>1</td>\n",
       "      <td>1</td>\n",
       "      <td>1.000000</td>\n",
       "    </tr>\n",
       "    <tr>\n",
       "      <th>918</th>\n",
       "      <td>sZone-Online</td>\n",
       "      <td>5</td>\n",
       "      <td>4</td>\n",
       "      <td>0.800000</td>\n",
       "    </tr>\n",
       "    <tr>\n",
       "      <th>919</th>\n",
       "      <td>theHunter</td>\n",
       "      <td>9</td>\n",
       "      <td>6</td>\n",
       "      <td>0.666667</td>\n",
       "    </tr>\n",
       "  </tbody>\n",
       "</table>\n",
       "<p>920 rows × 4 columns</p>\n",
       "</div>"
      ],
      "text/plain": [
       "                                             game_name  num_users_purchased  \\\n",
       "0    1... 2... 3... KICK IT! (Drop That Beat Like a...                    1   \n",
       "1                18 Wheels of Steel American Long Haul                    1   \n",
       "2                                               3DMark                    1   \n",
       "3                                          60 Seconds!                    1   \n",
       "4                                        7 Days to Die                    5   \n",
       "..                                                 ...                  ...   \n",
       "915                            Zombies Monsters Robots                    1   \n",
       "916                                              hocus                    1   \n",
       "917                                                 oO                    1   \n",
       "918                                       sZone-Online                    5   \n",
       "919                                          theHunter                    9   \n",
       "\n",
       "     num_users_played  shared_numbers  \n",
       "0                   1        1.000000  \n",
       "1                   1        1.000000  \n",
       "2                   1        1.000000  \n",
       "3                   1        1.000000  \n",
       "4                   5        1.000000  \n",
       "..                ...             ...  \n",
       "915                 1        1.000000  \n",
       "916                 1        1.000000  \n",
       "917                 1        1.000000  \n",
       "918                 4        0.800000  \n",
       "919                 6        0.666667  \n",
       "\n",
       "[920 rows x 4 columns]"
      ]
     },
     "execution_count": 81,
     "metadata": {},
     "output_type": "execute_result"
    }
   ],
   "source": [
    "df_merged['shared_numbers'] = df_merged['num_users_played'] / df_merged['num_users_purchased']\n",
    "\n",
    "df_merged"
   ]
  },
  {
   "cell_type": "markdown",
   "metadata": {},
   "source": [
    "**c)** What proportion of games in the data have a purchase to play conversion rate of 1 (that is every user who purchases the game also plays the game), or are must-play games?"
   ]
  },
  {
   "cell_type": "code",
   "execution_count": 116,
   "metadata": {},
   "outputs": [
    {
     "data": {
      "text/plain": [
       "0.5652173913043478"
      ]
     },
     "execution_count": 116,
     "metadata": {},
     "output_type": "execute_result"
    }
   ],
   "source": [
    "must_play_games = (df_merged['shared_numbers'] == 1.0).sum()\n",
    "\n",
    "\n",
    "proportion = (must_play_games/920)\n",
    "proportion"
   ]
  },
  {
   "cell_type": "markdown",
   "metadata": {},
   "source": [
    "Proportion would be **0.56**"
   ]
  },
  {
   "cell_type": "markdown",
   "metadata": {},
   "source": [
    "### 4. [3 points] How Much Are Games Played?\n",
    "\n",
    "In Questions 2 and 3, we used the purchase to play conversion to define must-play games.  Now, we will consider a different approach at defining which games are played the most: how long each game is played.  In other words, we might be looking to represent how captivating a game is after it is opened by recording how long a user plays the game.\n",
    "\n",
    "**a)** Create a variable for the median time spent playing a game, using a game as the unit of observation.  Prepare and clean it appropriately."
   ]
  },
  {
   "cell_type": "code",
   "execution_count": 121,
   "metadata": {},
   "outputs": [
    {
     "data": {
      "text/html": [
       "<div>\n",
       "<style scoped>\n",
       "    .dataframe tbody tr th:only-of-type {\n",
       "        vertical-align: middle;\n",
       "    }\n",
       "\n",
       "    .dataframe tbody tr th {\n",
       "        vertical-align: top;\n",
       "    }\n",
       "\n",
       "    .dataframe thead th {\n",
       "        text-align: right;\n",
       "    }\n",
       "</style>\n",
       "<table border=\"1\" class=\"dataframe\">\n",
       "  <thead>\n",
       "    <tr style=\"text-align: right;\">\n",
       "      <th></th>\n",
       "      <th>game_name</th>\n",
       "      <th>median_play_time</th>\n",
       "    </tr>\n",
       "  </thead>\n",
       "  <tbody>\n",
       "    <tr>\n",
       "      <th>0</th>\n",
       "      <td>1... 2... 3... KICK IT! (Drop That Beat Like a...</td>\n",
       "      <td>0.2</td>\n",
       "    </tr>\n",
       "    <tr>\n",
       "      <th>1</th>\n",
       "      <td>18 Wheels of Steel American Long Haul</td>\n",
       "      <td>5.8</td>\n",
       "    </tr>\n",
       "    <tr>\n",
       "      <th>2</th>\n",
       "      <td>3DMark</td>\n",
       "      <td>1.3</td>\n",
       "    </tr>\n",
       "    <tr>\n",
       "      <th>3</th>\n",
       "      <td>60 Seconds!</td>\n",
       "      <td>1.6</td>\n",
       "    </tr>\n",
       "    <tr>\n",
       "      <th>4</th>\n",
       "      <td>7 Days to Die</td>\n",
       "      <td>27.0</td>\n",
       "    </tr>\n",
       "    <tr>\n",
       "      <th>...</th>\n",
       "      <td>...</td>\n",
       "      <td>...</td>\n",
       "    </tr>\n",
       "    <tr>\n",
       "      <th>915</th>\n",
       "      <td>Zombies Monsters Robots</td>\n",
       "      <td>19.0</td>\n",
       "    </tr>\n",
       "    <tr>\n",
       "      <th>916</th>\n",
       "      <td>hocus</td>\n",
       "      <td>0.1</td>\n",
       "    </tr>\n",
       "    <tr>\n",
       "      <th>917</th>\n",
       "      <td>oO</td>\n",
       "      <td>0.2</td>\n",
       "    </tr>\n",
       "    <tr>\n",
       "      <th>918</th>\n",
       "      <td>sZone-Online</td>\n",
       "      <td>0.8</td>\n",
       "    </tr>\n",
       "    <tr>\n",
       "      <th>919</th>\n",
       "      <td>theHunter</td>\n",
       "      <td>0.9</td>\n",
       "    </tr>\n",
       "  </tbody>\n",
       "</table>\n",
       "<p>920 rows × 2 columns</p>\n",
       "</div>"
      ],
      "text/plain": [
       "                                             game_name  median_play_time\n",
       "0    1... 2... 3... KICK IT! (Drop That Beat Like a...               0.2\n",
       "1                18 Wheels of Steel American Long Haul               5.8\n",
       "2                                               3DMark               1.3\n",
       "3                                          60 Seconds!               1.6\n",
       "4                                        7 Days to Die              27.0\n",
       "..                                                 ...               ...\n",
       "915                            Zombies Monsters Robots              19.0\n",
       "916                                              hocus               0.1\n",
       "917                                                 oO               0.2\n",
       "918                                       sZone-Online               0.8\n",
       "919                                          theHunter               0.9\n",
       "\n",
       "[920 rows x 2 columns]"
      ]
     },
     "execution_count": 121,
     "metadata": {},
     "output_type": "execute_result"
    }
   ],
   "source": [
    "df_play_time = df_cleaned[df_cleaned['activity'] == 'play']\n",
    "\n",
    "df_median_playtime = df_play_time.groupby('game_name')['hours_played_if_play'].median().reset_index()\n",
    "\n",
    "df_median_playtime.rename(columns={'hours_played_if_play': 'median_play_time'}, inplace=True)\n",
    "\n",
    "df_median_playtime"
   ]
  },
  {
   "cell_type": "markdown",
   "metadata": {},
   "source": [
    "**b)** Summarize the values for this variable, either with a visualization or numerical summaries.  There are multiple appropriate approaches that you could use."
   ]
  },
  {
   "cell_type": "code",
   "execution_count": 147,
   "metadata": {},
   "outputs": [
    {
     "name": "stdout",
     "output_type": "stream",
     "text": [
      "count     920.000000\n",
      "mean       20.132663\n",
      "std        83.707083\n",
      "min         0.100000\n",
      "25%         0.900000\n",
      "50%         3.700000\n",
      "75%        11.812500\n",
      "max      1295.000000\n",
      "Name: median_play_time, dtype: float64\n"
     ]
    }
   ],
   "source": [
    "# Summary to show as statistics data\n",
    "summary_stats = df_median_playtime['median_play_time'].describe()\n",
    "print(summary_stats)"
   ]
  },
  {
   "cell_type": "markdown",
   "metadata": {},
   "source": [
    "**c)** If the executives are looking for a threshold for especially captivating games (games where users typically play the game for an especially long period of time), what cutoff would you suggest?  You may be able to answer this question from part **b**, and you can also perform any additional analyses that you'd like."
   ]
  },
  {
   "cell_type": "code",
   "execution_count": 145,
   "metadata": {},
   "outputs": [
    {
     "name": "stdout",
     "output_type": "stream",
     "text": [
      "Suggested data (Top 10% of games): 31.00 hours\n"
     ]
    }
   ],
   "source": [
    "top_10 = df_median_playtime['median_play_time'].quantile(0.90)\n",
    "\n",
    "print(f\"Suggested data (Top 10% of games): {top_10:.2f} hours\")"
   ]
  },
  {
   "cell_type": "markdown",
   "metadata": {},
   "source": [
    "Through this data analysis, I can see the top 10% playtime of the game would be **31 hours**. So, I would say collect the game data which has median playtime playtime is near as 31 hours, and analyze the game's characteristics. This would be helpful to the executives who looking for a threshold for captivating games."
   ]
  }
 ],
 "metadata": {
  "kernelspec": {
   "display_name": "Python [conda env:base] *",
   "language": "python",
   "name": "conda-base-py"
  },
  "language_info": {
   "codemirror_mode": {
    "name": "ipython",
    "version": 3
   },
   "file_extension": ".py",
   "mimetype": "text/x-python",
   "name": "python",
   "nbconvert_exporter": "python",
   "pygments_lexer": "ipython3",
   "version": "3.11.5"
  }
 },
 "nbformat": 4,
 "nbformat_minor": 4
}
